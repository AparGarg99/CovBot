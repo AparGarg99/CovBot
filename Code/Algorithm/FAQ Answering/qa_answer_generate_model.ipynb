{
  "cells": [
    {
      "cell_type": "markdown",
      "metadata": {
        "id": "FFPfq7QAHUsv"
      },
      "source": [
        "# 1. Load dataframe"
      ]
    },
    {
      "cell_type": "code",
      "execution_count": null,
      "metadata": {
        "id": "B7-uGeQgHUsv"
      },
      "outputs": [],
      "source": [
        "\"\"\"\n",
        "Libraries\n",
        "\"\"\"\n",
        "\n",
        "!pip install rank_bm25 -q\n",
        "\n",
        "import numpy as np\n",
        "import pandas as pd \n",
        "from pathlib import Path, PurePath\n",
        "\n",
        "import nltk\n",
        "from nltk.corpus import stopwords\n",
        "import re\n",
        "import string\n",
        "import torch\n",
        "\n",
        "from rank_bm25 import BM25Okapi # Search engine"
      ]
    },
    {
      "cell_type": "code",
      "execution_count": null,
      "metadata": {
        "id": "Av6x-EjYHUsx"
      },
      "outputs": [],
      "source": [
        "\"\"\"\n",
        "Load metadata df\n",
        "\"\"\"\n",
        "\n",
        "# input_dir = PurePath('/content/input/CORD-19-research-challenge')\n",
        "metadata_path = '/content/drive/MyDrive/plp-qa-data/metadata.csv'\n",
        "metadata_df = pd.read_csv(metadata_path, low_memory=False)\n",
        "metadata_df = metadata_df.dropna(subset=['abstract', 'title']) \\\n",
        "                            .reset_index(drop=True)"
      ]
    },
    {
      "cell_type": "code",
      "execution_count": null,
      "metadata": {
        "colab": {
          "base_uri": "https://localhost:8080/"
        },
        "id": "kbTq8pKBJX2O",
        "outputId": "1d095582-efa7-44ce-e5a5-29d203681dd2"
      },
      "outputs": [
        {
          "name": "stdout",
          "output_type": "stream",
          "text": [
            "Mounted at /content/drive\n"
          ]
        }
      ],
      "source": [
        "from google.colab import drive\n",
        "drive.mount('/content/drive')"
      ]
    },
    {
      "cell_type": "markdown",
      "metadata": {
        "id": "2plABT30HUsy"
      },
      "source": [
        "# 4. Covid Search Engine\n",
        "\n",
        "a python class `CovidSearchEngine`. It has two main methods, the `__init__` and `search(question)`. The `__init__` method is called only once when the class is initialized. \n",
        "It stores and index the dataframe passed as an argument. Once the indexing is complete, we can search similar papers simply by invoking `search(question)`. \n",
        "(this is using bm25)\n",
        "\n",
        "The snippet of code below shows how it works:\n",
        "\n",
        "\n",
        "```python\n",
        "    metadata_df = pd.read_csv()\n",
        "    metadata_df = clean(metadata_df)\n",
        "    cse = CovidSearchEngine(metadata_df) # Covid Search Engine\n",
        "    cse.search(\"what is coronavirus?\")\n",
        "```"
      ]
    },
    {
      "cell_type": "code",
      "execution_count": null,
      "metadata": {
        "colab": {
          "base_uri": "https://localhost:8080/"
        },
        "id": "K9n75YMbKVWy",
        "outputId": "ac406265-b6c2-4bd2-ad19-526cdefef35c"
      },
      "outputs": [
        {
          "name": "stdout",
          "output_type": "stream",
          "text": [
            "[nltk_data] Downloading package stopwords to /root/nltk_data...\n",
            "[nltk_data]   Unzipping corpora/stopwords.zip.\n",
            "[nltk_data] Downloading package punkt to /root/nltk_data...\n",
            "[nltk_data]   Unzipping tokenizers/punkt.zip.\n"
          ]
        },
        {
          "data": {
            "text/plain": [
              "True"
            ]
          },
          "execution_count": 4,
          "metadata": {},
          "output_type": "execute_result"
        }
      ],
      "source": [
        "import nltk\n",
        "nltk.download('stopwords')\n",
        "nltk.download('punkt')"
      ]
    },
    {
      "cell_type": "code",
      "execution_count": null,
      "metadata": {
        "id": "mXz3UDk1HUs1"
      },
      "outputs": [],
      "source": [
        "from rank_bm25 import BM25Okapi\n",
        "\n",
        "english_stopwords = list(set(stopwords.words('english')))\n",
        "\n",
        "class CovidSearchEngine:\n",
        "    \"\"\"\n",
        "    Simple CovidSearchEngine.\n",
        "    \"\"\"\n",
        "    \n",
        "    def remove_special_character(self, text):\n",
        "        #Remove special characters from text string\n",
        "        return text.translate(str.maketrans('', '', string.punctuation))\n",
        "\n",
        "    def tokenize(self, text):\n",
        "        # tokenize text\n",
        "        words = nltk.word_tokenize(text)\n",
        "        return list(set([word for word in words \n",
        "                         if len(word) > 1\n",
        "                         and not word in english_stopwords\n",
        "                         and not word.isnumeric() \n",
        "                        ])\n",
        "                   )\n",
        "    \n",
        "    def preprocess(self, text):\n",
        "        # Clean and tokenize text input\n",
        "        return self.tokenize(self.remove_special_character(text.lower()))\n",
        "\n",
        "\n",
        "    def __init__(self, corpus: pd.DataFrame):\n",
        "        self.corpus = corpus\n",
        "        self.columns = corpus.columns\n",
        "        \n",
        "        raw_search_str = self.corpus.abstract.fillna('') + ' ' \\\n",
        "                            + self.corpus.title.fillna('')\n",
        "        \n",
        "        self.index = raw_search_str.apply(self.preprocess).to_frame()\n",
        "        self.index.columns = ['terms']\n",
        "        self.index.index = self.corpus.index\n",
        "        self.bm25 = BM25Okapi(self.index.terms.tolist())\n",
        "    \n",
        "    def search(self, query, num):\n",
        "        \"\"\"\n",
        "        Return top `num` results that better match the query\n",
        "        \"\"\"\n",
        "        # obtain scores\n",
        "        search_terms = self.preprocess(query) \n",
        "        doc_scores = self.bm25.get_scores(search_terms)\n",
        "        \n",
        "        # sort by scores\n",
        "        ind = np.argsort(doc_scores)[::-1][:num] \n",
        "        \n",
        "        # select top results and returns\n",
        "        results = self.corpus.iloc[ind][self.columns]\n",
        "        results['score'] = doc_scores[ind]\n",
        "        results = results[results.score > 0]\n",
        "        return results.reset_index()"
      ]
    },
    {
      "cell_type": "code",
      "execution_count": null,
      "metadata": {
        "id": "ZXNl6bkNHUs3"
      },
      "outputs": [],
      "source": [
        "cse = CovidSearchEngine(metadata_df)"
      ]
    },
    {
      "cell_type": "code",
      "execution_count": null,
      "metadata": {
        "colab": {
          "base_uri": "https://localhost:8080/"
        },
        "id": "9wHsAUEdSmib",
        "outputId": "1af295d7-fc54-4814-a992-d4665e549966"
      },
      "outputs": [
        {
          "name": "stdout",
          "output_type": "stream",
          "text": [
            "Collecting transformers\n",
            "  Downloading transformers-4.17.0-py3-none-any.whl (3.8 MB)\n",
            "\u001b[K     |████████████████████████████████| 3.8 MB 4.2 MB/s \n",
            "\u001b[?25hCollecting tokenizers!=0.11.3,>=0.11.1\n",
            "  Downloading tokenizers-0.11.6-cp37-cp37m-manylinux_2_12_x86_64.manylinux2010_x86_64.whl (6.5 MB)\n",
            "\u001b[K     |████████████████████████████████| 6.5 MB 51.1 MB/s \n",
            "\u001b[?25hRequirement already satisfied: filelock in /usr/local/lib/python3.7/dist-packages (from transformers) (3.6.0)\n",
            "Requirement already satisfied: numpy>=1.17 in /usr/local/lib/python3.7/dist-packages (from transformers) (1.21.5)\n",
            "Requirement already satisfied: requests in /usr/local/lib/python3.7/dist-packages (from transformers) (2.23.0)\n",
            "Requirement already satisfied: packaging>=20.0 in /usr/local/lib/python3.7/dist-packages (from transformers) (21.3)\n",
            "Collecting huggingface-hub<1.0,>=0.1.0\n",
            "  Downloading huggingface_hub-0.5.0-py3-none-any.whl (77 kB)\n",
            "\u001b[K     |████████████████████████████████| 77 kB 8.9 MB/s \n",
            "\u001b[?25hCollecting pyyaml>=5.1\n",
            "  Downloading PyYAML-6.0-cp37-cp37m-manylinux_2_5_x86_64.manylinux1_x86_64.manylinux_2_12_x86_64.manylinux2010_x86_64.whl (596 kB)\n",
            "\u001b[K     |████████████████████████████████| 596 kB 57.2 MB/s \n",
            "\u001b[?25hRequirement already satisfied: regex!=2019.12.17 in /usr/local/lib/python3.7/dist-packages (from transformers) (2019.12.20)\n",
            "Collecting sacremoses\n",
            "  Downloading sacremoses-0.0.49-py3-none-any.whl (895 kB)\n",
            "\u001b[K     |████████████████████████████████| 895 kB 81.0 MB/s \n",
            "\u001b[?25hRequirement already satisfied: tqdm>=4.27 in /usr/local/lib/python3.7/dist-packages (from transformers) (4.63.0)\n",
            "Requirement already satisfied: importlib-metadata in /usr/local/lib/python3.7/dist-packages (from transformers) (4.11.3)\n",
            "Requirement already satisfied: typing-extensions>=3.7.4.3 in /usr/local/lib/python3.7/dist-packages (from huggingface-hub<1.0,>=0.1.0->transformers) (3.10.0.2)\n",
            "Requirement already satisfied: pyparsing!=3.0.5,>=2.0.2 in /usr/local/lib/python3.7/dist-packages (from packaging>=20.0->transformers) (3.0.7)\n",
            "Requirement already satisfied: zipp>=0.5 in /usr/local/lib/python3.7/dist-packages (from importlib-metadata->transformers) (3.7.0)\n",
            "Requirement already satisfied: idna<3,>=2.5 in /usr/local/lib/python3.7/dist-packages (from requests->transformers) (2.10)\n",
            "Requirement already satisfied: certifi>=2017.4.17 in /usr/local/lib/python3.7/dist-packages (from requests->transformers) (2021.10.8)\n",
            "Requirement already satisfied: urllib3!=1.25.0,!=1.25.1,<1.26,>=1.21.1 in /usr/local/lib/python3.7/dist-packages (from requests->transformers) (1.24.3)\n",
            "Requirement already satisfied: chardet<4,>=3.0.2 in /usr/local/lib/python3.7/dist-packages (from requests->transformers) (3.0.4)\n",
            "Requirement already satisfied: six in /usr/local/lib/python3.7/dist-packages (from sacremoses->transformers) (1.15.0)\n",
            "Requirement already satisfied: click in /usr/local/lib/python3.7/dist-packages (from sacremoses->transformers) (7.1.2)\n",
            "Requirement already satisfied: joblib in /usr/local/lib/python3.7/dist-packages (from sacremoses->transformers) (1.1.0)\n",
            "Installing collected packages: pyyaml, tokenizers, sacremoses, huggingface-hub, transformers\n",
            "  Attempting uninstall: pyyaml\n",
            "    Found existing installation: PyYAML 3.13\n",
            "    Uninstalling PyYAML-3.13:\n",
            "      Successfully uninstalled PyYAML-3.13\n",
            "Successfully installed huggingface-hub-0.5.0 pyyaml-6.0 sacremoses-0.0.49 tokenizers-0.11.6 transformers-4.17.0\n"
          ]
        }
      ],
      "source": [
        "!pip install transformers"
      ]
    },
    {
      "cell_type": "markdown",
      "metadata": {
        "id": "8663Yr6OHUs3"
      },
      "source": [
        "# 5. Question-Answering model\n",
        "\n",
        "As mentioned in the introduction part, we make use of a pre-trained question answering model. The first step consists of installing the dependencies and downloading the models."
      ]
    },
    {
      "cell_type": "code",
      "execution_count": null,
      "metadata": {
        "colab": {
          "base_uri": "https://localhost:8080/",
          "height": 162,
          "referenced_widgets": [
            "c1d827adebbe4e92a2f757360b0a14d8",
            "8ae0508ae9e4437f91a9f38ecfb81bef",
            "b481615a87a6480183f5af1cafce79de",
            "e46c973aae4649c5bf0f90ce94a757c3",
            "40118b758a994425b5643bc96abc128e",
            "f66b0dfdc46c4af2a90b4b1584ff80bb",
            "2f08fbe2fad24686a59d2a4cd2e80960",
            "1e3895993b464628b6522be2ae373f56",
            "34769cd44c584cd8abddb354e4941e2c",
            "06ffefd6f1ee4067888388d94f619f9a",
            "19dc1918bbb8492fa357ba67406fb4e2",
            "3f8e2250a9964331910c0051b483a912",
            "f3dbe210304947e886c000a0c5c8dda5",
            "c6c285e1a649475baa4e0a8683c9dcb0",
            "9aa86fd8c9bb42ec97479be23f4cdd21",
            "8821d23ef94a47f588b14ea8fc3b3891",
            "30c0126a6fc44a39829a336422eb8d18",
            "a4d2a21354434ae5b65d1b4ad9499ea8",
            "574ae7eb9e67484ab62bb9c0c4b26e86",
            "9784058cf7944173afe321a5649d8428",
            "ea1b81dbe5b644c1880aa1c5da3602cb",
            "1140af538d684c0d8220eff1a8550dbf",
            "bfe69132481f4b5e81a7585328584d00",
            "4cd851ade51b4c46854630fbb14fbac6",
            "2df19a05b04b4030a9bc3061e23876fa",
            "03f50849f75240baa6f8f1f3edee0c73",
            "61db853c97504a72a66de57a8f47a3b6",
            "5e039f3825be46e0b000d5c7d4e0f1eb",
            "a9a720b45c514259a7b8903aec94c81e",
            "b23c27999bf64cc7997106d36610417f",
            "7fffe9377ff74ea68bea07f6a1dd9cb7",
            "a46ea64558fc4449b04086f647970e7c",
            "b2155fbce8494bf6be5c7dbf2d1d67a9",
            "d151fc9ce9b44716b38fd7257e00b07f",
            "9e16d98b2ad146a39b2ceaa6f921bde2",
            "4892d09892d44f3ca40af03871a9ca84",
            "6ab27ebfd14942c2a4c32cd1317dabde",
            "6d316a3a5a574701957f84e6517683fd",
            "67161fbccda84937bd61fa6429fe5365",
            "2504766c87ed4d498bd837a72adc7dc5",
            "a9ccfeaecbfc4fbf830d9313ae12a565",
            "f6aec6a136fc468b936a07e928250125",
            "3b977d5b0379463fbfae420f354ae986",
            "963553d6821247b29985819a402941b0"
          ]
        },
        "id": "vy1X6idUHUs4",
        "outputId": "c62b19d8-1ffb-4839-a99a-8c1e26ebdad8"
      },
      "outputs": [
        {
          "data": {
            "application/vnd.jupyter.widget-view+json": {
              "model_id": "c1d827adebbe4e92a2f757360b0a14d8",
              "version_major": 2,
              "version_minor": 0
            },
            "text/plain": [
              "Downloading:   0%|          | 0.00/443 [00:00<?, ?B/s]"
            ]
          },
          "metadata": {},
          "output_type": "display_data"
        },
        {
          "data": {
            "application/vnd.jupyter.widget-view+json": {
              "model_id": "3f8e2250a9964331910c0051b483a912",
              "version_major": 2,
              "version_minor": 0
            },
            "text/plain": [
              "Downloading:   0%|          | 0.00/1.25G [00:00<?, ?B/s]"
            ]
          },
          "metadata": {},
          "output_type": "display_data"
        },
        {
          "data": {
            "application/vnd.jupyter.widget-view+json": {
              "model_id": "bfe69132481f4b5e81a7585328584d00",
              "version_major": 2,
              "version_minor": 0
            },
            "text/plain": [
              "Downloading:   0%|          | 0.00/226k [00:00<?, ?B/s]"
            ]
          },
          "metadata": {},
          "output_type": "display_data"
        },
        {
          "data": {
            "application/vnd.jupyter.widget-view+json": {
              "model_id": "d151fc9ce9b44716b38fd7257e00b07f",
              "version_major": 2,
              "version_minor": 0
            },
            "text/plain": [
              "Downloading:   0%|          | 0.00/28.0 [00:00<?, ?B/s]"
            ]
          },
          "metadata": {},
          "output_type": "display_data"
        },
        {
          "name": "stdout",
          "output_type": "stream",
          "text": [
            "\n"
          ]
        }
      ],
      "source": [
        "\"\"\"\n",
        "Download pre-trained QA model\n",
        "\"\"\"\n",
        "\n",
        "import torch\n",
        "from transformers import BertTokenizer\n",
        "from transformers import BertForQuestionAnswering\n",
        "\n",
        "torch_device = 'cuda' if torch.cuda.is_available() else 'cpu'\n",
        "\n",
        "BERT_SQUAD = 'bert-large-uncased-whole-word-masking-finetuned-squad'\n",
        "\n",
        "model = BertForQuestionAnswering.from_pretrained(BERT_SQUAD)\n",
        "tokenizer = BertTokenizer.from_pretrained(BERT_SQUAD)\n",
        "\n",
        "model = model.to(torch_device)\n",
        "model.eval()\n",
        "\n",
        "print()"
      ]
    },
    {
      "cell_type": "markdown",
      "metadata": {
        "id": "3KuaPttSHUs5"
      },
      "source": [
        "Now, we define a function `answer_question(question, context)` that given a paper abstract and a question, it returns the span of text that better represent the question.\n",
        "\n",
        "For instance, given as `question` _\"what is coronavirus?\"_ and as `context` _\"Coronavirus disease (COVID-19) is an infectious disease caused by a newly discovered coronavirus\"_ we expect to obtain as `answer` _\"infectious disease\"_.\n"
      ]
    },
    {
      "cell_type": "code",
      "execution_count": null,
      "metadata": {
        "id": "Vrc5VXyeHUs5"
      },
      "outputs": [],
      "source": [
        "def answer_question(question, context):\n",
        "    # anser question given question and context\n",
        "    encoded_dict = tokenizer.encode_plus(\n",
        "                        question, context,\n",
        "                        add_special_tokens = True,\n",
        "                        max_length = 256,\n",
        "                        pad_to_max_length = True,\n",
        "                        return_tensors = 'pt'\n",
        "                   )\n",
        "    \n",
        "    input_ids = encoded_dict['input_ids'].to(torch_device)\n",
        "    token_type_ids = encoded_dict['token_type_ids'].to(torch_device)\n",
        "    \n",
        "    start_scores, end_scores = model(input_ids, token_type_ids=token_type_ids,return_dict=False)\n",
        "\n",
        "    all_tokens = tokenizer.convert_ids_to_tokens(input_ids[0])\n",
        "    start_index = torch.argmax(start_scores)\n",
        "    end_index = torch.argmax(end_scores)\n",
        "    \n",
        "    answer = tokenizer.convert_tokens_to_string(all_tokens[start_index:end_index+1])\n",
        "    answer = answer.replace('[CLS]', '')\n",
        "    return answer"
      ]
    },
    {
      "cell_type": "markdown",
      "metadata": {
        "id": "OmmjkW1uHUs6"
      },
      "source": [
        "# 6. Tasks and questions\n",
        "\n",
        "In this section, we store in a `dict` object a list of `tasks` and their `questions`. In the next parts, we will ask our model to answers them all.  "
      ]
    },
    {
      "cell_type": "code",
      "execution_count": null,
      "metadata": {
        "id": "59BvR9JDHUs6"
      },
      "outputs": [],
      "source": [
        "# adapted from https://www.kaggle.com/dirktheeng/anserini-bert-squad-for-semantic-corpus-search\n",
        "\n",
        "covid_kaggle_questions = {\n",
        "\"data\":[\n",
        "          {\n",
        "              \"task\": \"What is known about transmission, incubation, and environmental stability?\",\n",
        "              \"questions\": [\n",
        "                  \"Is the virus transmitted by aerisol, droplets, food, close contact, fecal matter, or water?\",\n",
        "                  \"How long is the incubation period for the virus?\",\n",
        "                  \"Can the virus be transmitted asymptomatically or during the incubation period?\",\n",
        "                  \"How does weather, heat, and humidity affect the tramsmission of 2019-nCoV?\",\n",
        "                  \"How long can the 2019-nCoV virus remain viable on common surfaces?\"\n",
        "              ]\n",
        "          },\n",
        "          {\n",
        "              \"task\": \"What do we know about COVID-19 risk factors?\",\n",
        "              \"questions\": [\n",
        "                  \"What risk factors contribute to the severity of 2019-nCoV?\",\n",
        "                  \"How does hypertension affect patients?\",\n",
        "                  \"How does heart disease affect patients?\",\n",
        "                  \"How does copd affect patients?\",\n",
        "                  \"How does smoking affect patients?\",\n",
        "                  \"How does pregnancy affect patients?\",\n",
        "                  \"What is the fatality rate of 2019-nCoV?\",\n",
        "                  \"What public health policies prevent or control the spread of 2019-nCoV?\",\n",
        "                  \"Which individuals are considered at higher risk of developing severe COVID-19 disease?\"\n",
        "              ]\n",
        "          },\n",
        "          {\n",
        "              \"task\": \"What do we know about virus genetics, origin, and evolution?\",\n",
        "              \"questions\": [\n",
        "                  \"Can animals transmit 2019-nCoV?\",\n",
        "                  \"What animal did 2019-nCoV come from?\",\n",
        "                  \"What real-time genomic tracking tools exist?\",\n",
        "                  \"What geographic variations are there in the genome of 2019-nCoV?\",\n",
        "                  \"What effors are being done in asia to prevent further outbreaks?\"\n",
        "              ]\n",
        "          },\n",
        "          {\n",
        "              \"task\": \"What do we know about vaccines and therapeutics?\",\n",
        "              \"questions\": [\n",
        "                  \"What drugs or therapies are being investigated?\",\n",
        "                  \"Are anti-inflammatory drugs recommended?\",\n",
        "                  \"Will the results of serology testing done overseas be accepted in Singapore?\",\n",
        "                  \"What is the dosage used for booster vaccination?\",\n",
        "                  \"What vaccines do the world now have?\",\n",
        "              ]\n",
        "          },\n",
        "          {\n",
        "              \"task\": \"What do we know about non-pharmaceutical interventions?\",\n",
        "              \"questions\": [\n",
        "                  \"Which non-pharmaceutical interventions limit tramsission?\",\n",
        "                  \"What are most important barriers to compliance?\"\n",
        "              ]\n",
        "          },\n",
        "          {\n",
        "              \"task\": \"What has been published about medical care?\",\n",
        "              \"questions\": [\n",
        "                  \"How does extracorporeal membrane oxygenation affect 2019-nCoV patients?\",\n",
        "                  \"What telemedicine and cybercare methods are most effective?\",\n",
        "                  \"How is artificial intelligence being used in real time health delivery?\",\n",
        "                  \"What adjunctive or supportive methods can help patients?\"\n",
        "              ]\n",
        "          },\n",
        "          {\n",
        "              \"task\": \"What do we know about diagnostics and surveillance?\",\n",
        "              \"questions\": [\n",
        "                  \"What diagnostic tests (tools) exist or are being developed to detect 2019-nCoV?\"\n",
        "              ]\n",
        "          },\n",
        "          {\n",
        "              \"task\": \"Other interesting questions\",\n",
        "              \"questions\": [\n",
        "                  \"What is the immune system response to 2019-nCoV?\",\n",
        "                  \"Can personal protective equipment prevent the transmission of 2019-nCoV?\",\n",
        "                  \"Can 2019-nCoV infect patients a second time?\"\n",
        "              ]\n",
        "          },\n",
        "          {\n",
        "              \"task\": \"What should we do when infected in singapore?\",\n",
        "              \"questions\": [\n",
        "                  \"What should I do If I'm unwell?\",\n",
        "                  \"I am well but I have tested positive for COVID-19. What should I do?\",\n",
        "                  \"What should I do if I feel unwell during my self-isolation?\",\n",
        "                  \"If I have been issued an MC to recover at home, can I go out and buy food?\",\n",
        "                  \"Can I isolate with my household member who is also positive?\",\n",
        "              ]\n",
        "          }\n",
        "   ]\n",
        "}"
      ]
    },
    {
      "cell_type": "markdown",
      "metadata": {
        "id": "GfN4KNFQHUs7"
      },
      "source": [
        "# 7. Compute answers\n",
        "\n",
        "Next, we define the function `get_results(question)`. \n",
        "\n",
        "Given a question, `get_results(question)` returns a _JSON_ object with the following format:\n",
        "\n",
        "```json\n",
        "{ \n",
        "    \"question\": \"What is coronavirus?\"\n",
        "    \"results\": [\n",
        "        {\n",
        "            \"context\": \"Coronavirus disease (COVID-19) is an infectious disease ...\",\n",
        "            \"answer\": \"infectious disease\",\n",
        "            \"start_index\": 37,\n",
        "            \"end_index\": 55\n",
        "        },\n",
        "        ...\n",
        "    ]\n",
        "}\n",
        "```\n",
        "\n",
        "Where `start_index` and `end_index` point at the start and end character of the answer in the question. This two values will be useful later to highlight the answer in the context.\n",
        "\n",
        "The helper functions `get_all_context`, `get_all_answers` and `create_output_results` are here make the code more readable."
      ]
    },
    {
      "cell_type": "code",
      "execution_count": null,
      "metadata": {
        "id": "vs33PkGeHUs7"
      },
      "outputs": [],
      "source": [
        "NUM_CONTEXT_FOR_EACH_QUESTION = 10\n",
        "\n",
        "\n",
        "def get_all_context(query, num_results):\n",
        "    # Return ^num_results' papers that better match the query\n",
        "    \n",
        "    papers_df = cse.search(query, num_results)\n",
        "    return papers_df['abstract'].str.replace(\"Abstract\", \"\").tolist()\n",
        "# 这里改写·我们的搜索函数\n",
        "# 可以使用ti-idf 或者是bert来进行\n",
        "# 参考的代码使用的是rank_bm25\n",
        "\n",
        "def get_all_answers(question, all_contexts):\n",
        "    # Ask the same question to all contexts (all papers)\n",
        "    \n",
        "    all_answers = []\n",
        "    \n",
        "    for context in all_contexts:\n",
        "        all_answers.append(answer_question(question, context))\n",
        "    return all_answers\n",
        "\n",
        "\n",
        "def create_output_results(question, \n",
        "                          all_contexts, \n",
        "                          all_answers, \n",
        "                          summary_answer='', \n",
        "                          summary_context=''):\n",
        "    # Return results in json format\n",
        "    \n",
        "    def find_start_end_index_substring(context, answer):   \n",
        "        search_re = re.search(re.escape(answer.lower()), context.lower())\n",
        "        if search_re:\n",
        "            return search_re.start(), search_re.end()\n",
        "        else:\n",
        "            return 0, len(context)\n",
        "        \n",
        "    output = {}\n",
        "    output['question'] = question\n",
        "    output['summary_answer'] = summary_answer\n",
        "    output['summary_context'] = summary_context\n",
        "    results = []\n",
        "    for c, a in zip(all_contexts, all_answers):\n",
        "\n",
        "        span = {}\n",
        "        span['context'] = c\n",
        "        span['answer'] = a\n",
        "        span['start_index'], span['end_index'] = find_start_end_index_substring(c,a)\n",
        "\n",
        "        results.append(span)\n",
        "    \n",
        "    output['results'] = results\n",
        "        \n",
        "    return output\n",
        "\n",
        "    \n",
        "def get_results(question, \n",
        "                summarize=False, \n",
        "                num_results=NUM_CONTEXT_FOR_EACH_QUESTION,\n",
        "                verbose=True):\n",
        "    # Get results\n",
        "\n",
        "    all_contexts = get_all_context(question, num_results)\n",
        "    \n",
        "    all_answers = get_all_answers(question, all_contexts)\n",
        "    \n",
        "    if summarize:\n",
        "        # NotImplementedYet\n",
        "        summary_answer = get_summary(all_answers)\n",
        "        summary_context = get_summary(all_contexts)\n",
        "    \n",
        "    return create_output_results(question, \n",
        "                                 all_contexts, \n",
        "                                 all_answers)"
      ]
    },
    {
      "cell_type": "markdown",
      "metadata": {
        "id": "3WMj1AvUHUs8"
      },
      "source": [
        "We now **iterate** over all **tasks** and all **questions** and store the results into `all_tasks`:"
      ]
    },
    {
      "cell_type": "code",
      "execution_count": null,
      "metadata": {
        "colab": {
          "base_uri": "https://localhost:8080/"
        },
        "id": "X2oRwsyWHUs8",
        "outputId": "646223fb-7270-4f4f-d527-8752ca76e719"
      },
      "outputs": [
        {
          "name": "stdout",
          "output_type": "stream",
          "text": [
            "Answering questions to task 1. ...\n"
          ]
        },
        {
          "name": "stderr",
          "output_type": "stream",
          "text": [
            "Truncation was not explicitly activated but `max_length` is provided a specific value, please use `truncation=True` to explicitly truncate examples to max length. Defaulting to 'longest_first' truncation strategy. If you encode pairs of sequences (GLUE-style) with the tokenizer you can select this strategy more precisely by providing a specific strategy to `truncation`.\n",
            "/usr/local/lib/python3.7/dist-packages/transformers/tokenization_utils_base.py:2277: FutureWarning: The `pad_to_max_length` argument is deprecated and will be removed in a future version, use `padding=True` or `padding='longest'` to pad to the longest sequence in the batch, or use `padding='max_length'` to pad to a max length. In this case, you can give a specific length with `max_length` (e.g. `max_length=45`) or leave max_length to None to pad to the maximal input size of the model (e.g. 512 for Bert).\n",
            "  FutureWarning,\n",
            "Be aware, overflowing tokens are not returned for the setting you have chosen, i.e. sequence pairs with the 'longest_first' truncation strategy. So the returned list will always be empty even if some tokens have been removed.\n",
            "Be aware, overflowing tokens are not returned for the setting you have chosen, i.e. sequence pairs with the 'longest_first' truncation strategy. So the returned list will always be empty even if some tokens have been removed.\n",
            "Be aware, overflowing tokens are not returned for the setting you have chosen, i.e. sequence pairs with the 'longest_first' truncation strategy. So the returned list will always be empty even if some tokens have been removed.\n",
            "Be aware, overflowing tokens are not returned for the setting you have chosen, i.e. sequence pairs with the 'longest_first' truncation strategy. So the returned list will always be empty even if some tokens have been removed.\n",
            "Be aware, overflowing tokens are not returned for the setting you have chosen, i.e. sequence pairs with the 'longest_first' truncation strategy. So the returned list will always be empty even if some tokens have been removed.\n",
            "Be aware, overflowing tokens are not returned for the setting you have chosen, i.e. sequence pairs with the 'longest_first' truncation strategy. So the returned list will always be empty even if some tokens have been removed.\n",
            "Be aware, overflowing tokens are not returned for the setting you have chosen, i.e. sequence pairs with the 'longest_first' truncation strategy. So the returned list will always be empty even if some tokens have been removed.\n",
            "Be aware, overflowing tokens are not returned for the setting you have chosen, i.e. sequence pairs with the 'longest_first' truncation strategy. So the returned list will always be empty even if some tokens have been removed.\n",
            "Be aware, overflowing tokens are not returned for the setting you have chosen, i.e. sequence pairs with the 'longest_first' truncation strategy. So the returned list will always be empty even if some tokens have been removed.\n",
            "Be aware, overflowing tokens are not returned for the setting you have chosen, i.e. sequence pairs with the 'longest_first' truncation strategy. So the returned list will always be empty even if some tokens have been removed.\n",
            "Be aware, overflowing tokens are not returned for the setting you have chosen, i.e. sequence pairs with the 'longest_first' truncation strategy. So the returned list will always be empty even if some tokens have been removed.\n"
          ]
        },
        {
          "name": "stdout",
          "output_type": "stream",
          "text": [
            "Answering questions to task 2. ...\n"
          ]
        },
        {
          "name": "stderr",
          "output_type": "stream",
          "text": [
            "Be aware, overflowing tokens are not returned for the setting you have chosen, i.e. sequence pairs with the 'longest_first' truncation strategy. So the returned list will always be empty even if some tokens have been removed.\n",
            "Be aware, overflowing tokens are not returned for the setting you have chosen, i.e. sequence pairs with the 'longest_first' truncation strategy. So the returned list will always be empty even if some tokens have been removed.\n",
            "Be aware, overflowing tokens are not returned for the setting you have chosen, i.e. sequence pairs with the 'longest_first' truncation strategy. So the returned list will always be empty even if some tokens have been removed.\n",
            "Be aware, overflowing tokens are not returned for the setting you have chosen, i.e. sequence pairs with the 'longest_first' truncation strategy. So the returned list will always be empty even if some tokens have been removed.\n",
            "Be aware, overflowing tokens are not returned for the setting you have chosen, i.e. sequence pairs with the 'longest_first' truncation strategy. So the returned list will always be empty even if some tokens have been removed.\n",
            "Be aware, overflowing tokens are not returned for the setting you have chosen, i.e. sequence pairs with the 'longest_first' truncation strategy. So the returned list will always be empty even if some tokens have been removed.\n",
            "Be aware, overflowing tokens are not returned for the setting you have chosen, i.e. sequence pairs with the 'longest_first' truncation strategy. So the returned list will always be empty even if some tokens have been removed.\n",
            "Be aware, overflowing tokens are not returned for the setting you have chosen, i.e. sequence pairs with the 'longest_first' truncation strategy. So the returned list will always be empty even if some tokens have been removed.\n",
            "Be aware, overflowing tokens are not returned for the setting you have chosen, i.e. sequence pairs with the 'longest_first' truncation strategy. So the returned list will always be empty even if some tokens have been removed.\n",
            "Be aware, overflowing tokens are not returned for the setting you have chosen, i.e. sequence pairs with the 'longest_first' truncation strategy. So the returned list will always be empty even if some tokens have been removed.\n",
            "Be aware, overflowing tokens are not returned for the setting you have chosen, i.e. sequence pairs with the 'longest_first' truncation strategy. So the returned list will always be empty even if some tokens have been removed.\n",
            "Be aware, overflowing tokens are not returned for the setting you have chosen, i.e. sequence pairs with the 'longest_first' truncation strategy. So the returned list will always be empty even if some tokens have been removed.\n",
            "Be aware, overflowing tokens are not returned for the setting you have chosen, i.e. sequence pairs with the 'longest_first' truncation strategy. So the returned list will always be empty even if some tokens have been removed.\n",
            "Be aware, overflowing tokens are not returned for the setting you have chosen, i.e. sequence pairs with the 'longest_first' truncation strategy. So the returned list will always be empty even if some tokens have been removed.\n",
            "Be aware, overflowing tokens are not returned for the setting you have chosen, i.e. sequence pairs with the 'longest_first' truncation strategy. So the returned list will always be empty even if some tokens have been removed.\n"
          ]
        },
        {
          "name": "stdout",
          "output_type": "stream",
          "text": [
            "Answering questions to task 3. ...\n"
          ]
        },
        {
          "name": "stderr",
          "output_type": "stream",
          "text": [
            "Be aware, overflowing tokens are not returned for the setting you have chosen, i.e. sequence pairs with the 'longest_first' truncation strategy. So the returned list will always be empty even if some tokens have been removed.\n",
            "Be aware, overflowing tokens are not returned for the setting you have chosen, i.e. sequence pairs with the 'longest_first' truncation strategy. So the returned list will always be empty even if some tokens have been removed.\n",
            "Be aware, overflowing tokens are not returned for the setting you have chosen, i.e. sequence pairs with the 'longest_first' truncation strategy. So the returned list will always be empty even if some tokens have been removed.\n",
            "Be aware, overflowing tokens are not returned for the setting you have chosen, i.e. sequence pairs with the 'longest_first' truncation strategy. So the returned list will always be empty even if some tokens have been removed.\n",
            "Be aware, overflowing tokens are not returned for the setting you have chosen, i.e. sequence pairs with the 'longest_first' truncation strategy. So the returned list will always be empty even if some tokens have been removed.\n",
            "Be aware, overflowing tokens are not returned for the setting you have chosen, i.e. sequence pairs with the 'longest_first' truncation strategy. So the returned list will always be empty even if some tokens have been removed.\n",
            "Be aware, overflowing tokens are not returned for the setting you have chosen, i.e. sequence pairs with the 'longest_first' truncation strategy. So the returned list will always be empty even if some tokens have been removed.\n",
            "Be aware, overflowing tokens are not returned for the setting you have chosen, i.e. sequence pairs with the 'longest_first' truncation strategy. So the returned list will always be empty even if some tokens have been removed.\n",
            "Be aware, overflowing tokens are not returned for the setting you have chosen, i.e. sequence pairs with the 'longest_first' truncation strategy. So the returned list will always be empty even if some tokens have been removed.\n",
            "Be aware, overflowing tokens are not returned for the setting you have chosen, i.e. sequence pairs with the 'longest_first' truncation strategy. So the returned list will always be empty even if some tokens have been removed.\n",
            "Be aware, overflowing tokens are not returned for the setting you have chosen, i.e. sequence pairs with the 'longest_first' truncation strategy. So the returned list will always be empty even if some tokens have been removed.\n",
            "Be aware, overflowing tokens are not returned for the setting you have chosen, i.e. sequence pairs with the 'longest_first' truncation strategy. So the returned list will always be empty even if some tokens have been removed.\n"
          ]
        },
        {
          "name": "stdout",
          "output_type": "stream",
          "text": [
            "Answering questions to task 4. ...\n"
          ]
        },
        {
          "name": "stderr",
          "output_type": "stream",
          "text": [
            "Be aware, overflowing tokens are not returned for the setting you have chosen, i.e. sequence pairs with the 'longest_first' truncation strategy. So the returned list will always be empty even if some tokens have been removed.\n",
            "Be aware, overflowing tokens are not returned for the setting you have chosen, i.e. sequence pairs with the 'longest_first' truncation strategy. So the returned list will always be empty even if some tokens have been removed.\n",
            "Be aware, overflowing tokens are not returned for the setting you have chosen, i.e. sequence pairs with the 'longest_first' truncation strategy. So the returned list will always be empty even if some tokens have been removed.\n",
            "Be aware, overflowing tokens are not returned for the setting you have chosen, i.e. sequence pairs with the 'longest_first' truncation strategy. So the returned list will always be empty even if some tokens have been removed.\n",
            "Be aware, overflowing tokens are not returned for the setting you have chosen, i.e. sequence pairs with the 'longest_first' truncation strategy. So the returned list will always be empty even if some tokens have been removed.\n",
            "Be aware, overflowing tokens are not returned for the setting you have chosen, i.e. sequence pairs with the 'longest_first' truncation strategy. So the returned list will always be empty even if some tokens have been removed.\n",
            "Be aware, overflowing tokens are not returned for the setting you have chosen, i.e. sequence pairs with the 'longest_first' truncation strategy. So the returned list will always be empty even if some tokens have been removed.\n",
            "Be aware, overflowing tokens are not returned for the setting you have chosen, i.e. sequence pairs with the 'longest_first' truncation strategy. So the returned list will always be empty even if some tokens have been removed.\n",
            "Be aware, overflowing tokens are not returned for the setting you have chosen, i.e. sequence pairs with the 'longest_first' truncation strategy. So the returned list will always be empty even if some tokens have been removed.\n",
            "Be aware, overflowing tokens are not returned for the setting you have chosen, i.e. sequence pairs with the 'longest_first' truncation strategy. So the returned list will always be empty even if some tokens have been removed.\n",
            "Be aware, overflowing tokens are not returned for the setting you have chosen, i.e. sequence pairs with the 'longest_first' truncation strategy. So the returned list will always be empty even if some tokens have been removed.\n",
            "Be aware, overflowing tokens are not returned for the setting you have chosen, i.e. sequence pairs with the 'longest_first' truncation strategy. So the returned list will always be empty even if some tokens have been removed.\n",
            "Be aware, overflowing tokens are not returned for the setting you have chosen, i.e. sequence pairs with the 'longest_first' truncation strategy. So the returned list will always be empty even if some tokens have been removed.\n",
            "Be aware, overflowing tokens are not returned for the setting you have chosen, i.e. sequence pairs with the 'longest_first' truncation strategy. So the returned list will always be empty even if some tokens have been removed.\n",
            "Be aware, overflowing tokens are not returned for the setting you have chosen, i.e. sequence pairs with the 'longest_first' truncation strategy. So the returned list will always be empty even if some tokens have been removed.\n"
          ]
        },
        {
          "name": "stdout",
          "output_type": "stream",
          "text": [
            "Answering questions to task 5. ...\n"
          ]
        },
        {
          "name": "stderr",
          "output_type": "stream",
          "text": [
            "Be aware, overflowing tokens are not returned for the setting you have chosen, i.e. sequence pairs with the 'longest_first' truncation strategy. So the returned list will always be empty even if some tokens have been removed.\n",
            "Be aware, overflowing tokens are not returned for the setting you have chosen, i.e. sequence pairs with the 'longest_first' truncation strategy. So the returned list will always be empty even if some tokens have been removed.\n",
            "Be aware, overflowing tokens are not returned for the setting you have chosen, i.e. sequence pairs with the 'longest_first' truncation strategy. So the returned list will always be empty even if some tokens have been removed.\n"
          ]
        },
        {
          "name": "stdout",
          "output_type": "stream",
          "text": [
            "Answering questions to task 6. ...\n"
          ]
        },
        {
          "name": "stderr",
          "output_type": "stream",
          "text": [
            "Be aware, overflowing tokens are not returned for the setting you have chosen, i.e. sequence pairs with the 'longest_first' truncation strategy. So the returned list will always be empty even if some tokens have been removed.\n",
            "Be aware, overflowing tokens are not returned for the setting you have chosen, i.e. sequence pairs with the 'longest_first' truncation strategy. So the returned list will always be empty even if some tokens have been removed.\n",
            "Be aware, overflowing tokens are not returned for the setting you have chosen, i.e. sequence pairs with the 'longest_first' truncation strategy. So the returned list will always be empty even if some tokens have been removed.\n",
            "Be aware, overflowing tokens are not returned for the setting you have chosen, i.e. sequence pairs with the 'longest_first' truncation strategy. So the returned list will always be empty even if some tokens have been removed.\n",
            "Be aware, overflowing tokens are not returned for the setting you have chosen, i.e. sequence pairs with the 'longest_first' truncation strategy. So the returned list will always be empty even if some tokens have been removed.\n"
          ]
        },
        {
          "name": "stdout",
          "output_type": "stream",
          "text": [
            "Answering questions to task 7. ...\n"
          ]
        },
        {
          "name": "stderr",
          "output_type": "stream",
          "text": [
            "Be aware, overflowing tokens are not returned for the setting you have chosen, i.e. sequence pairs with the 'longest_first' truncation strategy. So the returned list will always be empty even if some tokens have been removed.\n",
            "Be aware, overflowing tokens are not returned for the setting you have chosen, i.e. sequence pairs with the 'longest_first' truncation strategy. So the returned list will always be empty even if some tokens have been removed.\n",
            "Be aware, overflowing tokens are not returned for the setting you have chosen, i.e. sequence pairs with the 'longest_first' truncation strategy. So the returned list will always be empty even if some tokens have been removed.\n"
          ]
        },
        {
          "name": "stdout",
          "output_type": "stream",
          "text": [
            "Answering questions to task 8. ...\n"
          ]
        },
        {
          "name": "stderr",
          "output_type": "stream",
          "text": [
            "Be aware, overflowing tokens are not returned for the setting you have chosen, i.e. sequence pairs with the 'longest_first' truncation strategy. So the returned list will always be empty even if some tokens have been removed.\n",
            "Be aware, overflowing tokens are not returned for the setting you have chosen, i.e. sequence pairs with the 'longest_first' truncation strategy. So the returned list will always be empty even if some tokens have been removed.\n"
          ]
        },
        {
          "name": "stdout",
          "output_type": "stream",
          "text": [
            "Answering questions to task 9. ...\n"
          ]
        },
        {
          "name": "stderr",
          "output_type": "stream",
          "text": [
            "Be aware, overflowing tokens are not returned for the setting you have chosen, i.e. sequence pairs with the 'longest_first' truncation strategy. So the returned list will always be empty even if some tokens have been removed.\n",
            "Be aware, overflowing tokens are not returned for the setting you have chosen, i.e. sequence pairs with the 'longest_first' truncation strategy. So the returned list will always be empty even if some tokens have been removed.\n",
            "Be aware, overflowing tokens are not returned for the setting you have chosen, i.e. sequence pairs with the 'longest_first' truncation strategy. So the returned list will always be empty even if some tokens have been removed.\n",
            "Be aware, overflowing tokens are not returned for the setting you have chosen, i.e. sequence pairs with the 'longest_first' truncation strategy. So the returned list will always be empty even if some tokens have been removed.\n",
            "Be aware, overflowing tokens are not returned for the setting you have chosen, i.e. sequence pairs with the 'longest_first' truncation strategy. So the returned list will always be empty even if some tokens have been removed.\n",
            "Be aware, overflowing tokens are not returned for the setting you have chosen, i.e. sequence pairs with the 'longest_first' truncation strategy. So the returned list will always be empty even if some tokens have been removed.\n",
            "Be aware, overflowing tokens are not returned for the setting you have chosen, i.e. sequence pairs with the 'longest_first' truncation strategy. So the returned list will always be empty even if some tokens have been removed.\n",
            "Be aware, overflowing tokens are not returned for the setting you have chosen, i.e. sequence pairs with the 'longest_first' truncation strategy. So the returned list will always be empty even if some tokens have been removed.\n",
            "Be aware, overflowing tokens are not returned for the setting you have chosen, i.e. sequence pairs with the 'longest_first' truncation strategy. So the returned list will always be empty even if some tokens have been removed.\n",
            "Be aware, overflowing tokens are not returned for the setting you have chosen, i.e. sequence pairs with the 'longest_first' truncation strategy. So the returned list will always be empty even if some tokens have been removed.\n",
            "Be aware, overflowing tokens are not returned for the setting you have chosen, i.e. sequence pairs with the 'longest_first' truncation strategy. So the returned list will always be empty even if some tokens have been removed.\n",
            "Be aware, overflowing tokens are not returned for the setting you have chosen, i.e. sequence pairs with the 'longest_first' truncation strategy. So the returned list will always be empty even if some tokens have been removed.\n",
            "Be aware, overflowing tokens are not returned for the setting you have chosen, i.e. sequence pairs with the 'longest_first' truncation strategy. So the returned list will always be empty even if some tokens have been removed.\n",
            "Be aware, overflowing tokens are not returned for the setting you have chosen, i.e. sequence pairs with the 'longest_first' truncation strategy. So the returned list will always be empty even if some tokens have been removed.\n",
            "Be aware, overflowing tokens are not returned for the setting you have chosen, i.e. sequence pairs with the 'longest_first' truncation strategy. So the returned list will always be empty even if some tokens have been removed.\n",
            "Be aware, overflowing tokens are not returned for the setting you have chosen, i.e. sequence pairs with the 'longest_first' truncation strategy. So the returned list will always be empty even if some tokens have been removed.\n",
            "Be aware, overflowing tokens are not returned for the setting you have chosen, i.e. sequence pairs with the 'longest_first' truncation strategy. So the returned list will always be empty even if some tokens have been removed.\n"
          ]
        }
      ],
      "source": [
        "all_tasks = []\n",
        "\n",
        "for i, t in enumerate(covid_kaggle_questions['data']):\n",
        "    print(\"Answering questions to task {}. ...\".format(i+1))\n",
        "    answers_to_question = []\n",
        "    for q in t['questions']:\n",
        "            answers_to_question.append(get_results(q, verbose=False))\n",
        "    task = {}\n",
        "    task['task'] = t['task']\n",
        "    task['questions'] = answers_to_question\n",
        "    \n",
        "    all_tasks.append(task)\n",
        "\n",
        "all_answers = {}\n",
        "all_answers['data'] = all_tasks"
      ]
    },
    {
      "cell_type": "markdown",
      "metadata": {
        "id": "kMRB_PbwHUs9"
      },
      "source": [
        "# 8. Show results\n",
        "\n",
        "In the first place, we specify an helper function, `dh()` (dh stands for _display html_) to visualize `html` tags in a proper way. "
      ]
    },
    {
      "cell_type": "code",
      "execution_count": null,
      "metadata": {
        "id": "JVW3HohIHUs9"
      },
      "outputs": [],
      "source": [
        "from IPython.display import display, Markdown, Latex, HTML\n",
        "\n",
        "def layout_style():\n",
        "    style = \"\"\"\n",
        "        div {\n",
        "            color: black;\n",
        "        }\n",
        "        .single_answer {\n",
        "            border-left: 3px solid #dc7b15;\n",
        "            padding-left: 10px;\n",
        "            font-family: Arial;\n",
        "            font-size: 16px;\n",
        "            color: #777777;\n",
        "            margin-left: 5px;\n",
        "\n",
        "        }\n",
        "        .answer{\n",
        "            color: #dc7b15;\n",
        "        }\n",
        "        .question_title {\n",
        "            color: grey;\n",
        "            display: block;\n",
        "            text-transform: none;\n",
        "        }      \n",
        "        div.output_scroll { \n",
        "            height: auto; \n",
        "        }\n",
        "    \"\"\"\n",
        "    return \"<style>\" + style + \"</style>\"\n",
        "\n",
        "def dm(x): display(Markdown(x))\n",
        "def dh(x): display(HTML(layout_style() + x))"
      ]
    },
    {
      "cell_type": "markdown",
      "metadata": {
        "id": "QTGMi9bzHUs-"
      },
      "source": [
        "Subsequentely, \n",
        "we refer to some display functions \n",
        "\n",
        "The name of the functions are self-explanatory: `display_single_context`, `display_question_title`, `display_all_contexts`, `display_task_title` and `display_single_task`."
      ]
    },
    {
      "cell_type": "code",
      "execution_count": null,
      "metadata": {
        "id": "6lkoGcN3HUs-"
      },
      "outputs": [],
      "source": [
        "def display_single_context(context, start_index, end_index):\n",
        "    \n",
        "    before_answer = context[:start_index]\n",
        "    answer = context[start_index:end_index]\n",
        "    after_answer = context[end_index:]\n",
        "\n",
        "    content = before_answer + \"<span class='answer'>\" + answer + \"</span>\" + after_answer\n",
        "\n",
        "    return dh(\"\"\"<div class=\"single_answer\">{}</div>\"\"\".format(content))\n",
        "\n",
        "def display_question_title(question):\n",
        "    return dh(\"<h2 class='question_title'>{}</h2>\".format(question.capitalize()))\n",
        "\n",
        "\n",
        "def display_all_contexts(index, question):\n",
        "    \n",
        "    def answer_not_found(context, start_index, end_index):\n",
        "        return (start_index == 0 and len(context) == end_index) or (start_index == 0 and end_index == 0)\n",
        "\n",
        "    display_question_title(str(index + 1) + \". \" + question['question'].capitalize())\n",
        "    \n",
        "    # display context\n",
        "    for i in question['results']:\n",
        "        if answer_not_found(i['context'], i['start_index'], i['end_index']):\n",
        "            continue # skip not found questions\n",
        "        display_single_context(i['context'], i['start_index'], i['end_index'])\n",
        "\n",
        "def display_task_title(index, task):\n",
        "    task_title = \"Task \" + str(index) + \": \" + task\n",
        "    return dh(\"<h1 class='task_title'>{}</h1>\".format(task_title))\n",
        "\n",
        "def display_single_task(index, task):\n",
        "    \n",
        "    display_task_title(index, task['task'])\n",
        "    \n",
        "    for i, question in enumerate(task['questions']):\n",
        "        display_all_contexts(i, question)"
      ]
    },
    {
      "cell_type": "markdown",
      "metadata": {
        "id": "kDsbK78eHUs_"
      },
      "source": [
        "Now, we can invoke the function `display_single_task` for all eight tasks and visualize what does the model generated as answers. As you can notice, some of the answers are more relevant and to-the-point than others. In the next update, I will describe better the findings and try to improve further the results. If you notice something relevant in the spans of answers, let me know in the comment box!  "
      ]
    },
    {
      "cell_type": "code",
      "execution_count": null,
      "metadata": {
        "colab": {
          "base_uri": "https://localhost:8080/",
          "height": 1000
        },
        "id": "-CStJR6WHUs_",
        "outputId": "55907abe-62b5-453e-e7ea-872af72b90e3"
      },
      "outputs": [
        {
          "data": {
            "text/html": [
              "<style>\n",
              "        div {\n",
              "            color: black;\n",
              "        }\n",
              "        .single_answer {\n",
              "            border-left: 3px solid #dc7b15;\n",
              "            padding-left: 10px;\n",
              "            font-family: Arial;\n",
              "            font-size: 16px;\n",
              "            color: #777777;\n",
              "            margin-left: 5px;\n",
              "\n",
              "        }\n",
              "        .answer{\n",
              "            color: #dc7b15;\n",
              "        }\n",
              "        .question_title {\n",
              "            color: grey;\n",
              "            display: block;\n",
              "            text-transform: none;\n",
              "        }      \n",
              "        div.output_scroll { \n",
              "            height: auto; \n",
              "        }\n",
              "    </style><h1 class='task_title'>Task 1: What is known about transmission, incubation, and environmental stability?</h1>"
            ],
            "text/plain": [
              "<IPython.core.display.HTML object>"
            ]
          },
          "metadata": {},
          "output_type": "display_data"
        },
        {
          "data": {
            "text/html": [
              "<style>\n",
              "        div {\n",
              "            color: black;\n",
              "        }\n",
              "        .single_answer {\n",
              "            border-left: 3px solid #dc7b15;\n",
              "            padding-left: 10px;\n",
              "            font-family: Arial;\n",
              "            font-size: 16px;\n",
              "            color: #777777;\n",
              "            margin-left: 5px;\n",
              "\n",
              "        }\n",
              "        .answer{\n",
              "            color: #dc7b15;\n",
              "        }\n",
              "        .question_title {\n",
              "            color: grey;\n",
              "            display: block;\n",
              "            text-transform: none;\n",
              "        }      \n",
              "        div.output_scroll { \n",
              "            height: auto; \n",
              "        }\n",
              "    </style><h2 class='question_title'>1. is the virus transmitted by aerisol, droplets, food, close contact, fecal matter, or water?</h2>"
            ],
            "text/plain": [
              "<IPython.core.display.HTML object>"
            ]
          },
          "metadata": {},
          "output_type": "display_data"
        },
        {
          "data": {
            "text/html": [
              "<style>\n",
              "        div {\n",
              "            color: black;\n",
              "        }\n",
              "        .single_answer {\n",
              "            border-left: 3px solid #dc7b15;\n",
              "            padding-left: 10px;\n",
              "            font-family: Arial;\n",
              "            font-size: 16px;\n",
              "            color: #777777;\n",
              "            margin-left: 5px;\n",
              "\n",
              "        }\n",
              "        .answer{\n",
              "            color: #dc7b15;\n",
              "        }\n",
              "        .question_title {\n",
              "            color: grey;\n",
              "            display: block;\n",
              "            text-transform: none;\n",
              "        }      \n",
              "        div.output_scroll { \n",
              "            height: auto; \n",
              "        }\n",
              "    </style><div class=\"single_answer\">It is a widely accepted view that COVID 19 is either transmitted via <span class='answer'>surface contamination</span> or via close contact of an un-infected person with an infected person. Surface contamination usually happens when infected water droplets from exhalation/sneeze/cough of COVID sick person settle on nearby surfaces. To curb this, social distancing and good hand hygiene advise is advocated by World health Organization (WHO). We argue that COVID 19 coronovirus can also be airborne in a puff cloud loaded with infected droplets generated by COVID sick person. An elementary calculation shows that a $5~\\mu m$ respiratory infected droplet can remain suspended for about 9.0 minutes and a $2~\\mu m$ droplet can remain suspended for about an hour! And social distancing advise of 3 feet by WHO and 6 feet by CDC (Centers for Disease Control and Prevention) may not be sufficient in some circumstances as discussed in the text.</div>"
            ],
            "text/plain": [
              "<IPython.core.display.HTML object>"
            ]
          },
          "metadata": {},
          "output_type": "display_data"
        },
        {
          "data": {
            "text/html": [
              "<style>\n",
              "        div {\n",
              "            color: black;\n",
              "        }\n",
              "        .single_answer {\n",
              "            border-left: 3px solid #dc7b15;\n",
              "            padding-left: 10px;\n",
              "            font-family: Arial;\n",
              "            font-size: 16px;\n",
              "            color: #777777;\n",
              "            margin-left: 5px;\n",
              "\n",
              "        }\n",
              "        .answer{\n",
              "            color: #dc7b15;\n",
              "        }\n",
              "        .question_title {\n",
              "            color: grey;\n",
              "            display: block;\n",
              "            text-transform: none;\n",
              "        }      \n",
              "        div.output_scroll { \n",
              "            height: auto; \n",
              "        }\n",
              "    </style><div class=\"single_answer\">This review considers evidence for infectious severe acute respiratory syndrome coronavirus 2 (SARS-CoV-2) presence and COVID-19 infection and illness resulting from exposure to environmental fecal wastes and waters. There is no documented evidence that (1) infectious, replication-capable SARS-CoV-2 is present in environmental fecal wastes, wastewater or water, and (2) well-documented epidemiological evidence of COVID-19 infection, illness or death has never been reported for these exposure media. COVID-19 is transmitted <span class='answer'>mainly by direct personal contact and respiratory secretions as airborne droplets and aerosols</span>, and less so by respiratory-secreted fomites via contact (touch) exposures. While SARS-CoV-2 often infects the gastrointestinal tract of infected people, its presence as infectious, replication-capable virus in environmental fecal wastes and waters has never been documented. There is only rare and unquantified evidence of infectious, replication-capable SARS-CoV-2 in recently shed feces of COVID-19 hospital patients. The human infectivity dose-response relationship of SARS-CoV-2 is unknown, thereby making it impossible to estimate evidence-based quantitative health effects assessments by quantitative microbial risk assessment methods requiring both known exposure assessment and health effects assessment data. The World Health Organization, Water Environment Federation, US Centers for Disease Control and Prevention and others do not consider environmental fecal wastes and waters as sources of exposure to infectious SARS-CoV-2 causing COVID-19 infection and illness.</div>"
            ],
            "text/plain": [
              "<IPython.core.display.HTML object>"
            ]
          },
          "metadata": {},
          "output_type": "display_data"
        },
        {
          "data": {
            "text/html": [
              "<style>\n",
              "        div {\n",
              "            color: black;\n",
              "        }\n",
              "        .single_answer {\n",
              "            border-left: 3px solid #dc7b15;\n",
              "            padding-left: 10px;\n",
              "            font-family: Arial;\n",
              "            font-size: 16px;\n",
              "            color: #777777;\n",
              "            margin-left: 5px;\n",
              "\n",
              "        }\n",
              "        .answer{\n",
              "            color: #dc7b15;\n",
              "        }\n",
              "        .question_title {\n",
              "            color: grey;\n",
              "            display: block;\n",
              "            text-transform: none;\n",
              "        }      \n",
              "        div.output_scroll { \n",
              "            height: auto; \n",
              "        }\n",
              "    </style><h2 class='question_title'>2. how long is the incubation period for the virus?</h2>"
            ],
            "text/plain": [
              "<IPython.core.display.HTML object>"
            ]
          },
          "metadata": {},
          "output_type": "display_data"
        },
        {
          "data": {
            "text/html": [
              "<style>\n",
              "        div {\n",
              "            color: black;\n",
              "        }\n",
              "        .single_answer {\n",
              "            border-left: 3px solid #dc7b15;\n",
              "            padding-left: 10px;\n",
              "            font-family: Arial;\n",
              "            font-size: 16px;\n",
              "            color: #777777;\n",
              "            margin-left: 5px;\n",
              "\n",
              "        }\n",
              "        .answer{\n",
              "            color: #dc7b15;\n",
              "        }\n",
              "        .question_title {\n",
              "            color: grey;\n",
              "            display: block;\n",
              "            text-transform: none;\n",
              "        }      \n",
              "        div.output_scroll { \n",
              "            height: auto; \n",
              "        }\n",
              "    </style><div class=\"single_answer\">Severe acute respiratory syndrome coronavirus 2 (SARS-CoV-2) is a novel coronavirus causing acute respiratory tract infection in humans. The virus has the characteristics of rapid transmission, <span class='answer'>long</span> incubation period and strong pathogenicity, and has spread all over the world. Therefore, it is of great significance to select appropriate animal models for antiviral drug development and therapeutic effect evaluation. Here, we review and compare the current animal models of SARS-CoV-2.</div>"
            ],
            "text/plain": [
              "<IPython.core.display.HTML object>"
            ]
          },
          "metadata": {},
          "output_type": "display_data"
        },
        {
          "data": {
            "text/html": [
              "<style>\n",
              "        div {\n",
              "            color: black;\n",
              "        }\n",
              "        .single_answer {\n",
              "            border-left: 3px solid #dc7b15;\n",
              "            padding-left: 10px;\n",
              "            font-family: Arial;\n",
              "            font-size: 16px;\n",
              "            color: #777777;\n",
              "            margin-left: 5px;\n",
              "\n",
              "        }\n",
              "        .answer{\n",
              "            color: #dc7b15;\n",
              "        }\n",
              "        .question_title {\n",
              "            color: grey;\n",
              "            display: block;\n",
              "            text-transform: none;\n",
              "        }      \n",
              "        div.output_scroll { \n",
              "            height: auto; \n",
              "        }\n",
              "    </style><div class=\"single_answer\">A model of the spread of viruses in selected city and in a network of cities is considered, taking into account the delay caused by the <span class='answer'>long</span> incubation period of the virus. The effect of delay effects is shown in comparison with pandemics without such delay. A temporary asymmetry of the spread of infection has been identified, which means that the time for a pandemic to develop significantly exceeds the time for its completion. Model calculations of the spread of viruses in a network of interconnected large and small cities were carried out, and dynamics features were revealed in comparison with the spread of viruses in a single city, including the possibility of reinfection of megalopolis.</div>"
            ],
            "text/plain": [
              "<IPython.core.display.HTML object>"
            ]
          },
          "metadata": {},
          "output_type": "display_data"
        },
        {
          "data": {
            "text/html": [
              "<style>\n",
              "        div {\n",
              "            color: black;\n",
              "        }\n",
              "        .single_answer {\n",
              "            border-left: 3px solid #dc7b15;\n",
              "            padding-left: 10px;\n",
              "            font-family: Arial;\n",
              "            font-size: 16px;\n",
              "            color: #777777;\n",
              "            margin-left: 5px;\n",
              "\n",
              "        }\n",
              "        .answer{\n",
              "            color: #dc7b15;\n",
              "        }\n",
              "        .question_title {\n",
              "            color: grey;\n",
              "            display: block;\n",
              "            text-transform: none;\n",
              "        }      \n",
              "        div.output_scroll { \n",
              "            height: auto; \n",
              "        }\n",
              "    </style><div class=\"single_answer\">Coronavirus disease 2019 (COVID-19) caused a large-scale infection in China at the end of 2019 The virus, named severe acute respiratory syndrome coronavirus 2 (SARS-CoV-2), has the characteristics of strong transmission capacity, diverse clinical manifestations, <span class='answer'>long</span> incubation period, strong infection in incubation period, etc With the increase of the number of cases and the continuous improvement of clinical data, we found that patients with COVID-19 have myocardial injury besides typical respiratory system manifestations According to published data, we summarized the clinical manifestations of myocardial injury in COVID-19 patients, and discussed the probable injury mechanism, treatment methods and future research directions</div>"
            ],
            "text/plain": [
              "<IPython.core.display.HTML object>"
            ]
          },
          "metadata": {},
          "output_type": "display_data"
        },
        {
          "data": {
            "text/html": [
              "<style>\n",
              "        div {\n",
              "            color: black;\n",
              "        }\n",
              "        .single_answer {\n",
              "            border-left: 3px solid #dc7b15;\n",
              "            padding-left: 10px;\n",
              "            font-family: Arial;\n",
              "            font-size: 16px;\n",
              "            color: #777777;\n",
              "            margin-left: 5px;\n",
              "\n",
              "        }\n",
              "        .answer{\n",
              "            color: #dc7b15;\n",
              "        }\n",
              "        .question_title {\n",
              "            color: grey;\n",
              "            display: block;\n",
              "            text-transform: none;\n",
              "        }      \n",
              "        div.output_scroll { \n",
              "            height: auto; \n",
              "        }\n",
              "    </style><div class=\"single_answer\">Coronavirus disease 2019 (COVID-19) caused a large-scale infection in China at the end of 2019. The virus, named severe acute respiratory syndrome coronavirus 2 (SARS-CoV-2), has the characteristics of strong transmission capacity, diverse clinical manifestations, <span class='answer'>long</span> incubation period, strong infection in incubation period, etc. With the increase of the number of cases and the continuous improvement of clinical data, we found that patients with COVID-19 have myocardial injury besides typical respiratory system manifestations. According to published data, we summarized the clinical manifestations of myocardial injury in COVID-19 patients, and discussed the probable injury mechanism, treatment methods and future research directions.</div>"
            ],
            "text/plain": [
              "<IPython.core.display.HTML object>"
            ]
          },
          "metadata": {},
          "output_type": "display_data"
        },
        {
          "data": {
            "text/html": [
              "<style>\n",
              "        div {\n",
              "            color: black;\n",
              "        }\n",
              "        .single_answer {\n",
              "            border-left: 3px solid #dc7b15;\n",
              "            padding-left: 10px;\n",
              "            font-family: Arial;\n",
              "            font-size: 16px;\n",
              "            color: #777777;\n",
              "            margin-left: 5px;\n",
              "\n",
              "        }\n",
              "        .answer{\n",
              "            color: #dc7b15;\n",
              "        }\n",
              "        .question_title {\n",
              "            color: grey;\n",
              "            display: block;\n",
              "            text-transform: none;\n",
              "        }      \n",
              "        div.output_scroll { \n",
              "            height: auto; \n",
              "        }\n",
              "    </style><div class=\"single_answer\">Viruses are non-living organisms that annually cause many problems for human societies. The spread of some of the most dangerous viruses causing acute pneumonia, including novel Corona virus has led to the largest death toll in the world. With a <span class='answer'>long</span> incubation period, Corona virus causes many problems for the immune system. Studies have shown that antioxidant enzymes play an important role in reducing infection and boosting the immune system. The immune system of people with chronic infections is often weak. Specific immunity is one of the most important responses to the virus. The present study therefore investigates association of Coronavirus pathogenicity with the level of antioxidants and immune system.</div>"
            ],
            "text/plain": [
              "<IPython.core.display.HTML object>"
            ]
          },
          "metadata": {},
          "output_type": "display_data"
        },
        {
          "data": {
            "text/html": [
              "<style>\n",
              "        div {\n",
              "            color: black;\n",
              "        }\n",
              "        .single_answer {\n",
              "            border-left: 3px solid #dc7b15;\n",
              "            padding-left: 10px;\n",
              "            font-family: Arial;\n",
              "            font-size: 16px;\n",
              "            color: #777777;\n",
              "            margin-left: 5px;\n",
              "\n",
              "        }\n",
              "        .answer{\n",
              "            color: #dc7b15;\n",
              "        }\n",
              "        .question_title {\n",
              "            color: grey;\n",
              "            display: block;\n",
              "            text-transform: none;\n",
              "        }      \n",
              "        div.output_scroll { \n",
              "            height: auto; \n",
              "        }\n",
              "    </style><div class=\"single_answer\">Viruses are non-living organisms that annually cause many problems for human societies The spread of some of the most dangerous viruses causing acute pneumonia, including novel Corona virus has led to the largest death toll in the world With a <span class='answer'>long incubation period</span>, Corona virus causes many problems for the immune system Studies have shown that antioxidant enzymes play an important role in reducing infection and boosting the immune system The immune system of people with chronic infections is often weak Specific immunity is one of the most important responses to the virus The present study therefore investigates association of Coronavirus pathogenicity with the level of antioxidants and immune system</div>"
            ],
            "text/plain": [
              "<IPython.core.display.HTML object>"
            ]
          },
          "metadata": {},
          "output_type": "display_data"
        },
        {
          "data": {
            "text/html": [
              "<style>\n",
              "        div {\n",
              "            color: black;\n",
              "        }\n",
              "        .single_answer {\n",
              "            border-left: 3px solid #dc7b15;\n",
              "            padding-left: 10px;\n",
              "            font-family: Arial;\n",
              "            font-size: 16px;\n",
              "            color: #777777;\n",
              "            margin-left: 5px;\n",
              "\n",
              "        }\n",
              "        .answer{\n",
              "            color: #dc7b15;\n",
              "        }\n",
              "        .question_title {\n",
              "            color: grey;\n",
              "            display: block;\n",
              "            text-transform: none;\n",
              "        }      \n",
              "        div.output_scroll { \n",
              "            height: auto; \n",
              "        }\n",
              "    </style><div class=\"single_answer\">Corona virus disease 2019 (COVID-2019) is an acute respiratory tract infectious disease caused by infection with 2019 novel coronavirus(2019-nCoV), which is mainly characterized with pulmonary inflammatory lesions, strong infectivity and <span class='answer'>long</span> incubation period. At present, the gold standard for diagnosis of COVID-2019 is positive nucleic acid test result. However, nucleic acid test Results: of some patients are false negative, and the number of patients need to be screened is so large. For asymptomatic patients and the large number of patients needed to be screened, imaging examinations are particularly important. The main points of CT and ultrasonic examination in auxiliary diagnosis of COVID-2019, the advantages of ultrasonic examination and protective specifications were reviewed in this article.</div>"
            ],
            "text/plain": [
              "<IPython.core.display.HTML object>"
            ]
          },
          "metadata": {},
          "output_type": "display_data"
        },
        {
          "data": {
            "text/html": [
              "<style>\n",
              "        div {\n",
              "            color: black;\n",
              "        }\n",
              "        .single_answer {\n",
              "            border-left: 3px solid #dc7b15;\n",
              "            padding-left: 10px;\n",
              "            font-family: Arial;\n",
              "            font-size: 16px;\n",
              "            color: #777777;\n",
              "            margin-left: 5px;\n",
              "\n",
              "        }\n",
              "        .answer{\n",
              "            color: #dc7b15;\n",
              "        }\n",
              "        .question_title {\n",
              "            color: grey;\n",
              "            display: block;\n",
              "            text-transform: none;\n",
              "        }      \n",
              "        div.output_scroll { \n",
              "            height: auto; \n",
              "        }\n",
              "    </style><div class=\"single_answer\">From a large medical center in Wuhan, the epicenter of the 2019 novel coronavirus disease (COVID-19), we report clinical features and prognosis for three women diagnosed with COVID-19 after gynecologic oncology surgery and hospitalized in January 2020. The incidence of COVID-19 was 0.77% (3 of 389) of total hospitalizations and 1.59% (3 of 189) of patients undergoing surgeries in the ward. The infection of severe acute respiratory syndrome coronavirus 2 may be related to the older age, comorbidities, malignant tumor, and surgery in gynecologic hospitalizations. By February 20, 2020, only two of the three patients had met the clinical discharge criteria. Given the <span class='answer'>long and uncertain</span> incubation period of COVID-19, screening for the virus infection should be carried out for all patients, both preoperatively and postoperatively. Postponement of scheduled gynecologic surgery for patients in the epidemic area should be considered.</div>"
            ],
            "text/plain": [
              "<IPython.core.display.HTML object>"
            ]
          },
          "metadata": {},
          "output_type": "display_data"
        },
        {
          "data": {
            "text/html": [
              "<style>\n",
              "        div {\n",
              "            color: black;\n",
              "        }\n",
              "        .single_answer {\n",
              "            border-left: 3px solid #dc7b15;\n",
              "            padding-left: 10px;\n",
              "            font-family: Arial;\n",
              "            font-size: 16px;\n",
              "            color: #777777;\n",
              "            margin-left: 5px;\n",
              "\n",
              "        }\n",
              "        .answer{\n",
              "            color: #dc7b15;\n",
              "        }\n",
              "        .question_title {\n",
              "            color: grey;\n",
              "            display: block;\n",
              "            text-transform: none;\n",
              "        }      \n",
              "        div.output_scroll { \n",
              "            height: auto; \n",
              "        }\n",
              "    </style><div class=\"single_answer\">From a large medical center in Wuhan, the epicenter of the 2019 novel coronavirus disease (COVID‐19), we report clinical features and prognosis for three women diagnosed with COVID‐19 after gynecologic oncology surgery and hospitalized in January 2020. The incidence of COVID‐19 was 0.77% (3 of 389) of total hospitalizations and 1.59% (3 of 189) of patients undergoing surgeries in the ward. The infection of severe acute respiratory syndrome coronavirus 2 may be related to the older age, comorbidities, malignant tumor, and surgery in gynecologic hospitalizations. By February 20, 2020, only two of the three patients had met the clinical discharge criteria. Given the <span class='answer'>long and uncertain</span> incubation period of COVID‐19, screening for the virus infection should be carried out for all patients, both preoperatively and postoperatively. Postponement of scheduled gynecologic surgery for patients in the epidemic area should be considered.</div>"
            ],
            "text/plain": [
              "<IPython.core.display.HTML object>"
            ]
          },
          "metadata": {},
          "output_type": "display_data"
        },
        {
          "data": {
            "text/html": [
              "<style>\n",
              "        div {\n",
              "            color: black;\n",
              "        }\n",
              "        .single_answer {\n",
              "            border-left: 3px solid #dc7b15;\n",
              "            padding-left: 10px;\n",
              "            font-family: Arial;\n",
              "            font-size: 16px;\n",
              "            color: #777777;\n",
              "            margin-left: 5px;\n",
              "\n",
              "        }\n",
              "        .answer{\n",
              "            color: #dc7b15;\n",
              "        }\n",
              "        .question_title {\n",
              "            color: grey;\n",
              "            display: block;\n",
              "            text-transform: none;\n",
              "        }      \n",
              "        div.output_scroll { \n",
              "            height: auto; \n",
              "        }\n",
              "    </style><div class=\"single_answer\">In the case of large-scale transmission of Novel Coronavirus pneumonia through air and contact and a <span class='answer'>long</span> incubation period, it is particularly important to control the further spread of potential infections By designing a big data analysis platform for individual positioning information, this paper confirms suspected cases, isolated cases and confirmed cases, which is conducive to the prevention and control of the epidemic and improves the work efficiency © 2020 ACM</div>"
            ],
            "text/plain": [
              "<IPython.core.display.HTML object>"
            ]
          },
          "metadata": {},
          "output_type": "display_data"
        },
        {
          "data": {
            "text/html": [
              "<style>\n",
              "        div {\n",
              "            color: black;\n",
              "        }\n",
              "        .single_answer {\n",
              "            border-left: 3px solid #dc7b15;\n",
              "            padding-left: 10px;\n",
              "            font-family: Arial;\n",
              "            font-size: 16px;\n",
              "            color: #777777;\n",
              "            margin-left: 5px;\n",
              "\n",
              "        }\n",
              "        .answer{\n",
              "            color: #dc7b15;\n",
              "        }\n",
              "        .question_title {\n",
              "            color: grey;\n",
              "            display: block;\n",
              "            text-transform: none;\n",
              "        }      \n",
              "        div.output_scroll { \n",
              "            height: auto; \n",
              "        }\n",
              "    </style><h2 class='question_title'>3. can the virus be transmitted asymptomatically or during the incubation period?</h2>"
            ],
            "text/plain": [
              "<IPython.core.display.HTML object>"
            ]
          },
          "metadata": {},
          "output_type": "display_data"
        },
        {
          "data": {
            "text/html": [
              "<style>\n",
              "        div {\n",
              "            color: black;\n",
              "        }\n",
              "        .single_answer {\n",
              "            border-left: 3px solid #dc7b15;\n",
              "            padding-left: 10px;\n",
              "            font-family: Arial;\n",
              "            font-size: 16px;\n",
              "            color: #777777;\n",
              "            margin-left: 5px;\n",
              "\n",
              "        }\n",
              "        .answer{\n",
              "            color: #dc7b15;\n",
              "        }\n",
              "        .question_title {\n",
              "            color: grey;\n",
              "            display: block;\n",
              "            text-transform: none;\n",
              "        }      \n",
              "        div.output_scroll { \n",
              "            height: auto; \n",
              "        }\n",
              "    </style><div class=\"single_answer\">The severe acute respiratory syndrome coronavirus (SARS-CoV-2), an enveloped virus, is the causative agent of the disease known as COVID-19 (Coronavirus Disease 2019). <span class='answer'>The virus is transmitted via the droplet and contact route</span>1and there is a higher risk of virus transmission when aerosol generating procedures are performed. The median incubation period for COVID-19 is approximately 5 days2with symptoms appearing 2-14 days post exposure.</div>"
            ],
            "text/plain": [
              "<IPython.core.display.HTML object>"
            ]
          },
          "metadata": {},
          "output_type": "display_data"
        },
        {
          "data": {
            "text/html": [
              "<style>\n",
              "        div {\n",
              "            color: black;\n",
              "        }\n",
              "        .single_answer {\n",
              "            border-left: 3px solid #dc7b15;\n",
              "            padding-left: 10px;\n",
              "            font-family: Arial;\n",
              "            font-size: 16px;\n",
              "            color: #777777;\n",
              "            margin-left: 5px;\n",
              "\n",
              "        }\n",
              "        .answer{\n",
              "            color: #dc7b15;\n",
              "        }\n",
              "        .question_title {\n",
              "            color: grey;\n",
              "            display: block;\n",
              "            text-transform: none;\n",
              "        }      \n",
              "        div.output_scroll { \n",
              "            height: auto; \n",
              "        }\n",
              "    </style><div class=\"single_answer\">The severe acute respiratory syndrome coronavirus (SARS-CoV-2), an enveloped virus, is the causative agent of the disease known as COVID-19 (Coronavirus Disease 2019). <span class='answer'>The virus is transmitted via the droplet and contact route</span>1and there is a higher risk of virus transmission when aerosol generating procedures are performed. The median incubation period for COVID-19 is approximately 5 days2with symptoms appearing 2-14 days post exposure.</div>"
            ],
            "text/plain": [
              "<IPython.core.display.HTML object>"
            ]
          },
          "metadata": {},
          "output_type": "display_data"
        },
        {
          "data": {
            "text/html": [
              "<style>\n",
              "        div {\n",
              "            color: black;\n",
              "        }\n",
              "        .single_answer {\n",
              "            border-left: 3px solid #dc7b15;\n",
              "            padding-left: 10px;\n",
              "            font-family: Arial;\n",
              "            font-size: 16px;\n",
              "            color: #777777;\n",
              "            margin-left: 5px;\n",
              "\n",
              "        }\n",
              "        .answer{\n",
              "            color: #dc7b15;\n",
              "        }\n",
              "        .question_title {\n",
              "            color: grey;\n",
              "            display: block;\n",
              "            text-transform: none;\n",
              "        }      \n",
              "        div.output_scroll { \n",
              "            height: auto; \n",
              "        }\n",
              "    </style><div class=\"single_answer\">There is a new public health crisis threatening the world with the emergence and spread of 2019 novel corona virus (2019-nCoV) or the severe acute respiratory syndrome corona virus 2 (SARS-CoV-2) The virus originated in bats and was transmitted to humans through yet unknown intermediary animals in Wuhan, Hubei province, China in December 2019 There have been around 96,000 reported cases of corona virus disease 2019 (COVID-2019) and 3300 reported deaths to date (05/03/2020) The disease is transmitted by <span class='answer'>inhalation or contact with infected droplets</span> and the incubation period ranges from 2 to 14 d</div>"
            ],
            "text/plain": [
              "<IPython.core.display.HTML object>"
            ]
          },
          "metadata": {},
          "output_type": "display_data"
        },
        {
          "data": {
            "text/html": [
              "<style>\n",
              "        div {\n",
              "            color: black;\n",
              "        }\n",
              "        .single_answer {\n",
              "            border-left: 3px solid #dc7b15;\n",
              "            padding-left: 10px;\n",
              "            font-family: Arial;\n",
              "            font-size: 16px;\n",
              "            color: #777777;\n",
              "            margin-left: 5px;\n",
              "\n",
              "        }\n",
              "        .answer{\n",
              "            color: #dc7b15;\n",
              "        }\n",
              "        .question_title {\n",
              "            color: grey;\n",
              "            display: block;\n",
              "            text-transform: none;\n",
              "        }      \n",
              "        div.output_scroll { \n",
              "            height: auto; \n",
              "        }\n",
              "    </style><div class=\"single_answer\">Measles is an acute respiratory infectious disease caused by measles virus. Clinically, it is characterized by fever, rhinorrhea, conjunctival congestion, respiratory catarrh symptoms, oral mucosa spots, and red skin maculopapules. The patients with acute measles are the only source of its infection, who are infectious from the final 1–2 days of the <span class='answer'>incubation period</span> to the day 5 after skin rash. Measles is commonly transmitted via respiratory droplets, with occurrence all year round but more commonly in winters and springs. Measles is the most common infectious disease in children, with strong infectivity. In recent years, the cases of measles in adults are increasing. Elimination of measles has been listed as the next objective of WHO after elimination of poliomyelitis.</div>"
            ],
            "text/plain": [
              "<IPython.core.display.HTML object>"
            ]
          },
          "metadata": {},
          "output_type": "display_data"
        },
        {
          "data": {
            "text/html": [
              "<style>\n",
              "        div {\n",
              "            color: black;\n",
              "        }\n",
              "        .single_answer {\n",
              "            border-left: 3px solid #dc7b15;\n",
              "            padding-left: 10px;\n",
              "            font-family: Arial;\n",
              "            font-size: 16px;\n",
              "            color: #777777;\n",
              "            margin-left: 5px;\n",
              "\n",
              "        }\n",
              "        .answer{\n",
              "            color: #dc7b15;\n",
              "        }\n",
              "        .question_title {\n",
              "            color: grey;\n",
              "            display: block;\n",
              "            text-transform: none;\n",
              "        }      \n",
              "        div.output_scroll { \n",
              "            height: auto; \n",
              "        }\n",
              "    </style><div class=\"single_answer\">Introduction: Respiratory syncytial virus (RSV) and influenza virus infections are a significant healthcare risk for immunocompromised patients. In addition to community onset, nosocomial acquisition and transmission may also occur. Detection of <span class='answer'>asymptomatic</span> shedders (e.g., patients in the incubation period or immunosuppressed long term shedders) facilitates control of nosocomial transmission. Methods: To strengthen the existing infection control concept, a PCR-based screening for RSV and influenza virus was implemented for all patients lacking respiratory symptoms (asymptomatic patients) who were hospitalized on an adult and a pediatric hemato-oncological ward. Laboratory results of this screening were analyzed retrospectively. Results: 665 respiratory specimens were obtained for screening from 251 patients (26% were 18 years and younger) from December 2016 to April 2017. In 23 patients without respiratory symptoms, either influenza virus or RSV infection was found, resulting in a detection rate of about 9%. In 6 patients, the infection was presumably detected during the incubation period, because an increase of viral load was observed in subsequent specimens. Positive screening results facilitated timely implementation of adequate infection control precautions. Nosocomial clusters of RSV or influenza were not detected during the screening period on the two wards. Conclusion: The seasonal screening program expanded our existing infection control concept in terms of patients lacking respiratory symptoms who shed influenza virus or RSV. It enabled us to identify 23 RSV or influenza infections in patients lacking respiratory symptoms in a 4-month period and thus to rapidly take isolation precautions.</div>"
            ],
            "text/plain": [
              "<IPython.core.display.HTML object>"
            ]
          },
          "metadata": {},
          "output_type": "display_data"
        },
        {
          "data": {
            "text/html": [
              "<style>\n",
              "        div {\n",
              "            color: black;\n",
              "        }\n",
              "        .single_answer {\n",
              "            border-left: 3px solid #dc7b15;\n",
              "            padding-left: 10px;\n",
              "            font-family: Arial;\n",
              "            font-size: 16px;\n",
              "            color: #777777;\n",
              "            margin-left: 5px;\n",
              "\n",
              "        }\n",
              "        .answer{\n",
              "            color: #dc7b15;\n",
              "        }\n",
              "        .question_title {\n",
              "            color: grey;\n",
              "            display: block;\n",
              "            text-transform: none;\n",
              "        }      \n",
              "        div.output_scroll { \n",
              "            height: auto; \n",
              "        }\n",
              "    </style><div class=\"single_answer\">What is known about this topic?Patients with coronavirus disease 2019 (COVID-19) infection can be categorized by severity: asymptomatic infection, mild illness, moderate illness, severe illness, and critical illness The rate of transmission to a specific group of contacts (the secondary attack rate) may be 3–25 times lower from people who are <span class='answer'>asymptomatically</span> infected than from those with symptoms The incubation period is 2–14 days What is added by this report?An individual with asymptomatic infection shed live virus that started a 42-case outbreak in Shunyi District of Beijing in December 2020 The individual had been quarantined for 14 days in a designated quarantine hotel in Fuzhou after entering China from Indonesia During quarantine, he had 5 negative throat swab tests and 2 negative IgM serum tests The investigation team determined that the incubation periods of 31 confirmed cases ranged from 2 to 23 days What are the implications for public health practice?The frequency of nucleic acid testing should be increased for international entrants and people who are close contacts of confirmed COVID-19 cases The investigation team recommend expanding sample types for nucleic acid testing to include anal swabs and residential environmental sampling;serum antibody testing can be used as a reference indicator Parallel testing by two institutions at key points in time, such as the end of isolation, should be implemented</div>"
            ],
            "text/plain": [
              "<IPython.core.display.HTML object>"
            ]
          },
          "metadata": {},
          "output_type": "display_data"
        },
        {
          "data": {
            "text/html": [
              "<style>\n",
              "        div {\n",
              "            color: black;\n",
              "        }\n",
              "        .single_answer {\n",
              "            border-left: 3px solid #dc7b15;\n",
              "            padding-left: 10px;\n",
              "            font-family: Arial;\n",
              "            font-size: 16px;\n",
              "            color: #777777;\n",
              "            margin-left: 5px;\n",
              "\n",
              "        }\n",
              "        .answer{\n",
              "            color: #dc7b15;\n",
              "        }\n",
              "        .question_title {\n",
              "            color: grey;\n",
              "            display: block;\n",
              "            text-transform: none;\n",
              "        }      \n",
              "        div.output_scroll { \n",
              "            height: auto; \n",
              "        }\n",
              "    </style><div class=\"single_answer\">SUMMARY: What is known about this topic? Patients with coronavirus disease 2019 (COVID-19) infection can be categorized by severity: asymptomatic infection, mild illness, moderate illness, severe illness, and critical illness. The rate of transmission to a specific group of contacts (the secondary attack rate) may be 3–25 times lower from people who are <span class='answer'>asymptomatically</span> infected than from those with symptoms. The incubation period is 2–14 days. What is added by this report? An individual with asymptomatic infection shed live virus that started a 42-case outbreak in Shunyi District of Beijing in December 2020. The individual had been quarantined for 14 days in a designated quarantine hotel in Fuzhou after entering China from Indonesia. During quarantine, he had 5 negative throat swab tests and 2 negative IgM serum tests. The investigation team determined that the incubation periods of 31 confirmed cases ranged from 2 to 23 days. What are the implications for public health practice? The frequency of nucleic acid testing should be increased for international entrants and people who are close contacts of confirmed COVID-19 cases. The investigation team recommend expanding sample types for nucleic acid testing to include anal swabs and residential environmental sampling; serum antibody testing can be used as a reference indicator. Parallel testing by two institutions at key points in time, such as the end of isolation, should be implemented.</div>"
            ],
            "text/plain": [
              "<IPython.core.display.HTML object>"
            ]
          },
          "metadata": {},
          "output_type": "display_data"
        },
        {
          "data": {
            "text/html": [
              "<style>\n",
              "        div {\n",
              "            color: black;\n",
              "        }\n",
              "        .single_answer {\n",
              "            border-left: 3px solid #dc7b15;\n",
              "            padding-left: 10px;\n",
              "            font-family: Arial;\n",
              "            font-size: 16px;\n",
              "            color: #777777;\n",
              "            margin-left: 5px;\n",
              "\n",
              "        }\n",
              "        .answer{\n",
              "            color: #dc7b15;\n",
              "        }\n",
              "        .question_title {\n",
              "            color: grey;\n",
              "            display: block;\n",
              "            text-transform: none;\n",
              "        }      \n",
              "        div.output_scroll { \n",
              "            height: auto; \n",
              "        }\n",
              "    </style><div class=\"single_answer\">The newly emerged novel coronavirus (COVID-19) is highly contagious, large enveloped, single-stranded, nonsegmented, positive-sense RNA viruse that belong to coronaviridae family and genus Beta coronavirus The viruses of coronaviridae family are further divided into two subfamilies;Middle East respiratory syndrome coronavirus and severe acute respiratory syndrome coronavirus COVID-19 show close similarities to SARS-CoV due to phylogenetic relationship and genome structure Word Health Organisation has designated the current pandemic of SARS-CoV-2 infection as COVID-19 The virus shows high infectivity and mainly transmitted in the form of droplets with an <span class='answer'>incubation period</span> of about 4-5 days The onset of symptoms in patients is usually within 11-12 days Here, Rao and Gupta discuss the immunology of COVID-19</div>"
            ],
            "text/plain": [
              "<IPython.core.display.HTML object>"
            ]
          },
          "metadata": {},
          "output_type": "display_data"
        },
        {
          "data": {
            "text/html": [
              "<style>\n",
              "        div {\n",
              "            color: black;\n",
              "        }\n",
              "        .single_answer {\n",
              "            border-left: 3px solid #dc7b15;\n",
              "            padding-left: 10px;\n",
              "            font-family: Arial;\n",
              "            font-size: 16px;\n",
              "            color: #777777;\n",
              "            margin-left: 5px;\n",
              "\n",
              "        }\n",
              "        .answer{\n",
              "            color: #dc7b15;\n",
              "        }\n",
              "        .question_title {\n",
              "            color: grey;\n",
              "            display: block;\n",
              "            text-transform: none;\n",
              "        }      \n",
              "        div.output_scroll { \n",
              "            height: auto; \n",
              "        }\n",
              "    </style><div class=\"single_answer\">Live animal markets (LAMs) are an essential source of food and trade in Latin American countries; however, they can also serve as ‘hotbeds' for the emergence and potential spillover of avian influenza viruses (AIV). Despite extensive knowledge of AIV in Asian LAMs, little is known about the prevalence South American LAMs. To fill this gap in knowledge, active surveillance was carried out at the major LAM in Medellin, Colombia between February and September 2015. During this period, overall prevalence in the market was 2.67% and a North American origin H11N2 AIV most similar to a virus isolated from Chilean shorebirds <span class='answer'>asymptomatically</span> spread through multiple bird species in the market resulting in 17.0% positivity at peak of infection. Phenotypically, the H11 viruses displayed no known molecular markers associated with increased virulence in birds or mammals, had α2,3-sialic acid binding preference, and caused minimal replication in vitro and little morbidity in vivo. However, the Colombian H11N2 virus replicated and transmitted effectively in chickens explaining the spread throughout the market. Genetic similarity to H11 viruses isolated from North and South American shorebirds suggest that the LAM occurrence may have resulted from a wild bird to domestic poultry spillover event. The ability to spread in domestic poultry as well as potential for human infection by H11 viruses highlight the need for enhanced AIV surveillance in South America in both avian species and humans.</div>"
            ],
            "text/plain": [
              "<IPython.core.display.HTML object>"
            ]
          },
          "metadata": {},
          "output_type": "display_data"
        },
        {
          "data": {
            "text/html": [
              "<style>\n",
              "        div {\n",
              "            color: black;\n",
              "        }\n",
              "        .single_answer {\n",
              "            border-left: 3px solid #dc7b15;\n",
              "            padding-left: 10px;\n",
              "            font-family: Arial;\n",
              "            font-size: 16px;\n",
              "            color: #777777;\n",
              "            margin-left: 5px;\n",
              "\n",
              "        }\n",
              "        .answer{\n",
              "            color: #dc7b15;\n",
              "        }\n",
              "        .question_title {\n",
              "            color: grey;\n",
              "            display: block;\n",
              "            text-transform: none;\n",
              "        }      \n",
              "        div.output_scroll { \n",
              "            height: auto; \n",
              "        }\n",
              "    </style><h2 class='question_title'>4. how does weather, heat, and humidity affect the tramsmission of 2019-ncov?</h2>"
            ],
            "text/plain": [
              "<IPython.core.display.HTML object>"
            ]
          },
          "metadata": {},
          "output_type": "display_data"
        },
        {
          "data": {
            "text/html": [
              "<style>\n",
              "        div {\n",
              "            color: black;\n",
              "        }\n",
              "        .single_answer {\n",
              "            border-left: 3px solid #dc7b15;\n",
              "            padding-left: 10px;\n",
              "            font-family: Arial;\n",
              "            font-size: 16px;\n",
              "            color: #777777;\n",
              "            margin-left: 5px;\n",
              "\n",
              "        }\n",
              "        .answer{\n",
              "            color: #dc7b15;\n",
              "        }\n",
              "        .question_title {\n",
              "            color: grey;\n",
              "            display: block;\n",
              "            text-transform: none;\n",
              "        }      \n",
              "        div.output_scroll { \n",
              "            height: auto; \n",
              "        }\n",
              "    </style><div class=\"single_answer\">A fast-computational 3D model comprising fluid dynamics with heat transfer, mass transfer and diffusion of diluted species has been adapted and employed to evaluate dispersion of aerosol particles in various environments Effects of convection flow, atmospheric diffusivity and humidity on evolution and <span class='answer'>travel distances of exhaled aerosol clouds by an infected person</span> are modelled The modelling clearly demonstrates how aerosol particle dispersion is influenced by weather and geometry of the environment The results obtained demonstrate that aerosol particles of sizes from 10 mu m to 100 mu m that potentially can carry SARS-CoV-2 (COVID-19) viruses travel over 30 m in some atmospheric conditions Modelling of the evolution of aerosol clouds generated by coughing and sneezing enables us to evaluate the deposition dose of aerosol particles in healthy individuals In realistic weather scenarios viruses can be deposited in the respiratory tract of a healthy individual at up to 200 virus copies in several minutes A metric based on aerosol particle (volume) size distribution and the ICRP lung deposition model is suggested</div>"
            ],
            "text/plain": [
              "<IPython.core.display.HTML object>"
            ]
          },
          "metadata": {},
          "output_type": "display_data"
        },
        {
          "data": {
            "text/html": [
              "<style>\n",
              "        div {\n",
              "            color: black;\n",
              "        }\n",
              "        .single_answer {\n",
              "            border-left: 3px solid #dc7b15;\n",
              "            padding-left: 10px;\n",
              "            font-family: Arial;\n",
              "            font-size: 16px;\n",
              "            color: #777777;\n",
              "            margin-left: 5px;\n",
              "\n",
              "        }\n",
              "        .answer{\n",
              "            color: #dc7b15;\n",
              "        }\n",
              "        .question_title {\n",
              "            color: grey;\n",
              "            display: block;\n",
              "            text-transform: none;\n",
              "        }      \n",
              "        div.output_scroll { \n",
              "            height: auto; \n",
              "        }\n",
              "    </style><div class=\"single_answer\">A fast-computational 3D model comprising fluid dynamics with heat transfer, mass transfer and diffusion of diluted species has been adapted and employed to evaluate dispersion of aerosol particles in various environments Effects of convection flow, atmospheric diffusivity and humidity on evolution and <span class='answer'>travel distances of exhaled aerosol clouds by an infected person</span> are modelled The modelling clearly demonstrates how aerosol particle dispersion is influenced by weather and geometry of the environment The results obtained demonstrate that aerosol particles of sizes from 10 mu m to 100 mu m that potentially can carry SARS-CoV-2 (COVID-19) viruses travel over 30 m in some atmospheric conditions Modelling of the evolution of aerosol clouds generated by coughing and sneezing enables us to evaluate the deposition dose of aerosol particles in healthy individuals In realistic weather scenarios viruses can be deposited in the respiratory tract of a healthy individual at up to 200 virus copies in several minutes A metric based on aerosol particle (volume) size distribution and the ICRP lung deposition model is suggested</div>"
            ],
            "text/plain": [
              "<IPython.core.display.HTML object>"
            ]
          },
          "metadata": {},
          "output_type": "display_data"
        },
        {
          "data": {
            "text/html": [
              "<style>\n",
              "        div {\n",
              "            color: black;\n",
              "        }\n",
              "        .single_answer {\n",
              "            border-left: 3px solid #dc7b15;\n",
              "            padding-left: 10px;\n",
              "            font-family: Arial;\n",
              "            font-size: 16px;\n",
              "            color: #777777;\n",
              "            margin-left: 5px;\n",
              "\n",
              "        }\n",
              "        .answer{\n",
              "            color: #dc7b15;\n",
              "        }\n",
              "        .question_title {\n",
              "            color: grey;\n",
              "            display: block;\n",
              "            text-transform: none;\n",
              "        }      \n",
              "        div.output_scroll { \n",
              "            height: auto; \n",
              "        }\n",
              "    </style><div class=\"single_answer\">Big Data occupies an important place in the prediction of diseases that happen due to climate change. In each aspect of human life, the weather plays a major role. It directly affects human society or human life. Because of an extreme weather condition creates various diseases among humans. Such as Vector-borne diseases (Malaria, dengue and chikungunya fever), Water-borne diseases (Cholera, Typhoid), Air-borne diseases (Chicken Pox, influenza and small Pox) and Food-borne diseases (Diarrhoea and Salmonella) etc. This survey presents an overview for a climate variable such as extreme temperature, precipitation, humidity and how <span class='answer'>unexpected climate conditions can affect the disease and living organism</span>.</div>"
            ],
            "text/plain": [
              "<IPython.core.display.HTML object>"
            ]
          },
          "metadata": {},
          "output_type": "display_data"
        },
        {
          "data": {
            "text/html": [
              "<style>\n",
              "        div {\n",
              "            color: black;\n",
              "        }\n",
              "        .single_answer {\n",
              "            border-left: 3px solid #dc7b15;\n",
              "            padding-left: 10px;\n",
              "            font-family: Arial;\n",
              "            font-size: 16px;\n",
              "            color: #777777;\n",
              "            margin-left: 5px;\n",
              "\n",
              "        }\n",
              "        .answer{\n",
              "            color: #dc7b15;\n",
              "        }\n",
              "        .question_title {\n",
              "            color: grey;\n",
              "            display: block;\n",
              "            text-transform: none;\n",
              "        }      \n",
              "        div.output_scroll { \n",
              "            height: auto; \n",
              "        }\n",
              "    </style><div class=\"single_answer\">Big Data occupies an important place in the prediction of diseases that happen due to climate change. In each aspect of human life, the weather plays a major role. It directly affects human society or human life. Because of an extreme weather condition creates various diseases among humans. Such as Vector-borne diseases (Malaria, dengue and chikungunya fever), Water-borne diseases (Cholera, Typhoid), Air-borne diseases (Chicken Pox, influenza and small Pox) and Food-borne diseases (Diarrhoea and Salmonella) etc. This survey presents an overview for a climate variable such as extreme temperature, precipitation, humidity and how <span class='answer'>unexpected climate conditions can affect the disease and living organism</span>.</div>"
            ],
            "text/plain": [
              "<IPython.core.display.HTML object>"
            ]
          },
          "metadata": {},
          "output_type": "display_data"
        },
        {
          "data": {
            "text/html": [
              "<style>\n",
              "        div {\n",
              "            color: black;\n",
              "        }\n",
              "        .single_answer {\n",
              "            border-left: 3px solid #dc7b15;\n",
              "            padding-left: 10px;\n",
              "            font-family: Arial;\n",
              "            font-size: 16px;\n",
              "            color: #777777;\n",
              "            margin-left: 5px;\n",
              "\n",
              "        }\n",
              "        .answer{\n",
              "            color: #dc7b15;\n",
              "        }\n",
              "        .question_title {\n",
              "            color: grey;\n",
              "            display: block;\n",
              "            text-transform: none;\n",
              "        }      \n",
              "        div.output_scroll { \n",
              "            height: auto; \n",
              "        }\n",
              "    </style><div class=\"single_answer\">Beyond the contact and respiratory transmission of the COVID-19 virus, it has recently been reported in the literature that humidity, temperature, and air pollution may be effective in spreading the virus However, taking the measurements regionally suspects the accuracy or validity of the data In this research, climate values (temperature, humidity, number of sunny days, wind intensity) of 81 provinces in Turkey were collected in March 2020 Also, the population, population density of the provinces, and average air pollution data were taken The findings of the study showed that population density and wind were effective in spreading the virus and both factors explained for 94% of the variance in virus spreading Air temperature, humidity, the number of sunny days, and air pollution <span class='answer'>did not affect the number of cases</span> Besides, population density mediated the effect of wind speed (9%) on the number of COVID-19 cases The finding that COVID-19 virus, invisible in the air, spreads more in windy weather indicates that the virus in the air is one threatening factor for humans with the wind speed that increases air circulation</div>"
            ],
            "text/plain": [
              "<IPython.core.display.HTML object>"
            ]
          },
          "metadata": {},
          "output_type": "display_data"
        },
        {
          "data": {
            "text/html": [
              "<style>\n",
              "        div {\n",
              "            color: black;\n",
              "        }\n",
              "        .single_answer {\n",
              "            border-left: 3px solid #dc7b15;\n",
              "            padding-left: 10px;\n",
              "            font-family: Arial;\n",
              "            font-size: 16px;\n",
              "            color: #777777;\n",
              "            margin-left: 5px;\n",
              "\n",
              "        }\n",
              "        .answer{\n",
              "            color: #dc7b15;\n",
              "        }\n",
              "        .question_title {\n",
              "            color: grey;\n",
              "            display: block;\n",
              "            text-transform: none;\n",
              "        }      \n",
              "        div.output_scroll { \n",
              "            height: auto; \n",
              "        }\n",
              "    </style><div class=\"single_answer\"> Beyond the contact and respiratory transmission of the COVID-19 virus, it has recently been reported in the literature that humidity, temperature, and air pollution may be effective in spreading the virus. However, taking the measurements regionally suspects the accuracy or validity of the data. In this research, climate values (temperature, humidity, number of sunny days, wind intensity) of 81 provinces in Turkey were collected in March 2020. Also, the population, population density of the provinces, and average air pollution data were taken. The findings of the study showed that population density and wind were effective in spreading the virus and both factors explained for 94% of the variance in virus spreading. Air temperature, humidity, the number of sunny days, and air pollution <span class='answer'>did not affect the number of cases</span>. Besides, population density mediated the effect of wind speed (9%) on the number of COVID-19 cases. The finding that COVID-19 virus, invisible in the air, spreads more in windy weather indicates that the virus in the air is one threatening factor for humans with the wind speed that increases air circulation.</div>"
            ],
            "text/plain": [
              "<IPython.core.display.HTML object>"
            ]
          },
          "metadata": {},
          "output_type": "display_data"
        },
        {
          "data": {
            "text/html": [
              "<style>\n",
              "        div {\n",
              "            color: black;\n",
              "        }\n",
              "        .single_answer {\n",
              "            border-left: 3px solid #dc7b15;\n",
              "            padding-left: 10px;\n",
              "            font-family: Arial;\n",
              "            font-size: 16px;\n",
              "            color: #777777;\n",
              "            margin-left: 5px;\n",
              "\n",
              "        }\n",
              "        .answer{\n",
              "            color: #dc7b15;\n",
              "        }\n",
              "        .question_title {\n",
              "            color: grey;\n",
              "            display: block;\n",
              "            text-transform: none;\n",
              "        }      \n",
              "        div.output_scroll { \n",
              "            height: auto; \n",
              "        }\n",
              "    </style><div class=\"single_answer\">The evident seasonality of influenza suggests a significant role for weather and climate as one of several determinants of viral respiratory disease (VRD), including social determinants which play a major role in shaping these phenomena. Based on the current mechanistic understanding of how VRDs are transmitted by small droplets, we identify an environmental variable, Air Drying Capacity (ADC), as an atmospheric state-variable with significant and direct relevance to the transmission of VRD. <span class='answer'>ADC dictates the evolution and fate of droplets</span> under given temperature and humidity conditions. The definition of this variable is rooted in the Maxwell theory of droplet evolution via coupled heat and mass transfer between droplets and the surrounding environment. We present the climatology of ADC, and compare its observed distribution in space and time to the observed prevalence of influenza and COVID-19 from extensive global data sets. Globally, large ADC values appear to significantly constrain the observed transmission and spread of VRD, consistent with the significant coherency of the observed seasonal cycles of ADC and influenza. Our results introduce a new environmental determinant, rooted in the mechanism of VRD transmission, with potential implications for explaining seasonality of influenza, and for describing how environmental conditions may impact to some degree the evolution of similar VRDs, such as COVID-19.</div>"
            ],
            "text/plain": [
              "<IPython.core.display.HTML object>"
            ]
          },
          "metadata": {},
          "output_type": "display_data"
        },
        {
          "data": {
            "text/html": [
              "<style>\n",
              "        div {\n",
              "            color: black;\n",
              "        }\n",
              "        .single_answer {\n",
              "            border-left: 3px solid #dc7b15;\n",
              "            padding-left: 10px;\n",
              "            font-family: Arial;\n",
              "            font-size: 16px;\n",
              "            color: #777777;\n",
              "            margin-left: 5px;\n",
              "\n",
              "        }\n",
              "        .answer{\n",
              "            color: #dc7b15;\n",
              "        }\n",
              "        .question_title {\n",
              "            color: grey;\n",
              "            display: block;\n",
              "            text-transform: none;\n",
              "        }      \n",
              "        div.output_scroll { \n",
              "            height: auto; \n",
              "        }\n",
              "    </style><h2 class='question_title'>5. how long can the 2019-ncov virus remain viable on common surfaces?</h2>"
            ],
            "text/plain": [
              "<IPython.core.display.HTML object>"
            ]
          },
          "metadata": {},
          "output_type": "display_data"
        },
        {
          "data": {
            "text/html": [
              "<style>\n",
              "        div {\n",
              "            color: black;\n",
              "        }\n",
              "        .single_answer {\n",
              "            border-left: 3px solid #dc7b15;\n",
              "            padding-left: 10px;\n",
              "            font-family: Arial;\n",
              "            font-size: 16px;\n",
              "            color: #777777;\n",
              "            margin-left: 5px;\n",
              "\n",
              "        }\n",
              "        .answer{\n",
              "            color: #dc7b15;\n",
              "        }\n",
              "        .question_title {\n",
              "            color: grey;\n",
              "            display: block;\n",
              "            text-transform: none;\n",
              "        }      \n",
              "        div.output_scroll { \n",
              "            height: auto; \n",
              "        }\n",
              "    </style><div class=\"single_answer\">Until an effective vaccine against SARS-CoV-2 is available on a widespread scale, the control of the COVID-19 pandemic is reliant upon effective pandemic control measures. The ability of SARS-CoV-2 to remain viable on surfaces and in aerosols, means <span class='answer'>indirect contact transmission can occur</span> and so there is an opportunity to reduce transmission using effective disinfectants in public and communal spaces. Virusend (TX-10), a novel disinfectant, has been developed as a highly effective disinfectant against a range of microbial agents. Here we investigate the ability of Virusend (TX-10) to inactivation SARS-CoV-2. Using surface and solution inactivation assays, we show that Virusend (TX-10) is able to reduce SARS-CoV-2 viral titre by 4log10 PFU/mL within 1 minute of contact. Ensuring disinfectants are highly effective against SARS-CoV-2 is important in eliminating environmental sources of the virus to control the COVID-19 pandemic.</div>"
            ],
            "text/plain": [
              "<IPython.core.display.HTML object>"
            ]
          },
          "metadata": {},
          "output_type": "display_data"
        },
        {
          "data": {
            "text/html": [
              "<style>\n",
              "        div {\n",
              "            color: black;\n",
              "        }\n",
              "        .single_answer {\n",
              "            border-left: 3px solid #dc7b15;\n",
              "            padding-left: 10px;\n",
              "            font-family: Arial;\n",
              "            font-size: 16px;\n",
              "            color: #777777;\n",
              "            margin-left: 5px;\n",
              "\n",
              "        }\n",
              "        .answer{\n",
              "            color: #dc7b15;\n",
              "        }\n",
              "        .question_title {\n",
              "            color: grey;\n",
              "            display: block;\n",
              "            text-transform: none;\n",
              "        }      \n",
              "        div.output_scroll { \n",
              "            height: auto; \n",
              "        }\n",
              "    </style><div class=\"single_answer\">Until an effective vaccine against SARS-CoV-2 is available on a widespread scale, the control of the COVID-19 pandemic is reliant upon effective pandemic control measures. The ability of SARS-CoV-2 to remain viable on surfaces and in aerosols, means <span class='answer'>indirect contact transmission can occur</span> and so there is an opportunity to reduce transmission using effective disinfectants in public and communal spaces. Virusend (TX-10), a novel disinfectant, has been developed as a highly effective disinfectant against a range of microbial agents. Here we investigate the ability of Virusend (TX-10) to inactivation SARS-CoV-2. Using surface and solution inactivation assays, we show that Virusend (TX-10) is able to reduce SARS-CoV-2 viral titre by 4log 10 PFU/mL within 1 minute of contact. Ensuring disinfectants are highly effective against SARS-CoV-2 is important in eliminating environmental sources of the virus to control the COVID-19 pandemic.</div>"
            ],
            "text/plain": [
              "<IPython.core.display.HTML object>"
            ]
          },
          "metadata": {},
          "output_type": "display_data"
        },
        {
          "data": {
            "text/html": [
              "<style>\n",
              "        div {\n",
              "            color: black;\n",
              "        }\n",
              "        .single_answer {\n",
              "            border-left: 3px solid #dc7b15;\n",
              "            padding-left: 10px;\n",
              "            font-family: Arial;\n",
              "            font-size: 16px;\n",
              "            color: #777777;\n",
              "            margin-left: 5px;\n",
              "\n",
              "        }\n",
              "        .answer{\n",
              "            color: #dc7b15;\n",
              "        }\n",
              "        .question_title {\n",
              "            color: grey;\n",
              "            display: block;\n",
              "            text-transform: none;\n",
              "        }      \n",
              "        div.output_scroll { \n",
              "            height: auto; \n",
              "        }\n",
              "    </style><div class=\"single_answer\">Until an effective vaccine against SARS-CoV-2 is available on a widespread scale, the control of the COVID-19 pandemic is reliant upon effective pandemic control measures. The ability of SARS-CoV-2 to remain viable on surfaces and in aerosols, means <span class='answer'>indirect contact transmission can occur</span> and there is an opportunity to reduce transmission using effective disinfectants in public and communal spaces. Virusend (TX-10), a novel disinfectant, has been developed as a highly effective disinfectant against a range of microbial agents. Here we investigate the ability of Virusend to inactivate SARS-CoV-2. Using surface and solution inactivation assays, we show that Virusend is able to reduce SARS-CoV-2 viral titre by 4 log(10) p.f.u. ml(−1) within 1 min of contact. Ensuring disinfectants are highly effective against SARS-CoV-2 is important in eliminating environmental sources of the virus to control the COVID-19 pandemic.</div>"
            ],
            "text/plain": [
              "<IPython.core.display.HTML object>"
            ]
          },
          "metadata": {},
          "output_type": "display_data"
        },
        {
          "data": {
            "text/html": [
              "<style>\n",
              "        div {\n",
              "            color: black;\n",
              "        }\n",
              "        .single_answer {\n",
              "            border-left: 3px solid #dc7b15;\n",
              "            padding-left: 10px;\n",
              "            font-family: Arial;\n",
              "            font-size: 16px;\n",
              "            color: #777777;\n",
              "            margin-left: 5px;\n",
              "\n",
              "        }\n",
              "        .answer{\n",
              "            color: #dc7b15;\n",
              "        }\n",
              "        .question_title {\n",
              "            color: grey;\n",
              "            display: block;\n",
              "            text-transform: none;\n",
              "        }      \n",
              "        div.output_scroll { \n",
              "            height: auto; \n",
              "        }\n",
              "    </style><div class=\"single_answer\">Until an effective vaccine against SARS-CoV-2 is available on a widespread scale, the control of the COVID-19 pandemic is reliant upon effective pandemic control measures. The ability of SARS-CoV-2 to remain viable on surfaces and in aerosols, means <span class='answer'>indirect contact transmission can occur</span> and there is an opportunity to reduce transmission using effective disinfectants in public and communal spaces. Virusend (TX-10), a novel disinfectant, has been developed as a highly effective disinfectant against a range of microbial agents. Here we investigate the ability of Virusend to inactivate SARS-CoV-2. Using surface and solution inactivation assays, we show that Virusend is able to reduce SARS-CoV-2 viral titre by 4 log10 p.f.u. ml-1 within 1 min of contact. Ensuring disinfectants are highly effective against SARS-CoV-2 is important in eliminating environmental sources of the virus to control the COVID-19 pandemic.</div>"
            ],
            "text/plain": [
              "<IPython.core.display.HTML object>"
            ]
          },
          "metadata": {},
          "output_type": "display_data"
        },
        {
          "data": {
            "text/html": [
              "<style>\n",
              "        div {\n",
              "            color: black;\n",
              "        }\n",
              "        .single_answer {\n",
              "            border-left: 3px solid #dc7b15;\n",
              "            padding-left: 10px;\n",
              "            font-family: Arial;\n",
              "            font-size: 16px;\n",
              "            color: #777777;\n",
              "            margin-left: 5px;\n",
              "\n",
              "        }\n",
              "        .answer{\n",
              "            color: #dc7b15;\n",
              "        }\n",
              "        .question_title {\n",
              "            color: grey;\n",
              "            display: block;\n",
              "            text-transform: none;\n",
              "        }      \n",
              "        div.output_scroll { \n",
              "            height: auto; \n",
              "        }\n",
              "    </style><div class=\"single_answer\">The SARS-CoV-2 virus has created havoc in the world by causing the COVID-19 pandemic (1) The affected patients exhibit fever, cough, and apnea Hospitalization is often due to progressive respiratory distress, which, in a proportion of patients, had led to fatalities (2) The geriatric population is at a higher risk, because of their reduced immunity and the presence of comorbid conditions like diabetes mellitus, hypertension, and cardiovascular diseases Health authorities have advocated social distancing as a method to contain the spread of this contagious disease A landmark study has shown that the SARS-CoV-2 virus can remain viable on various surfaces like cardboard, stainless steel, plastic, and copper for a <span class='answer'>long duration</span> The research conducted by van Doremalen et al (3) has created an aerosolized environment using SARS-CoV-2 (105 25 50% tissue-culture infectious dose [TCID50] per milliliter) in a Goldberg drum using a 3 jet collision nebulizer and has exposed various materials such as cardboard, paper, stainless steel, plastic, and copper to the virus The SARS-Cov-2 virus was found to be viable in aerosol for only 3 hours, although its presence on material surfaces lasted significantly longer, especially in stainless steel and plastic surfaces, wherein the virus was detected for up to 72 hours (3)</div>"
            ],
            "text/plain": [
              "<IPython.core.display.HTML object>"
            ]
          },
          "metadata": {},
          "output_type": "display_data"
        },
        {
          "data": {
            "text/html": [
              "<style>\n",
              "        div {\n",
              "            color: black;\n",
              "        }\n",
              "        .single_answer {\n",
              "            border-left: 3px solid #dc7b15;\n",
              "            padding-left: 10px;\n",
              "            font-family: Arial;\n",
              "            font-size: 16px;\n",
              "            color: #777777;\n",
              "            margin-left: 5px;\n",
              "\n",
              "        }\n",
              "        .answer{\n",
              "            color: #dc7b15;\n",
              "        }\n",
              "        .question_title {\n",
              "            color: grey;\n",
              "            display: block;\n",
              "            text-transform: none;\n",
              "        }      \n",
              "        div.output_scroll { \n",
              "            height: auto; \n",
              "        }\n",
              "    </style><div class=\"single_answer\">The SARS-CoV-2 virus has created havoc in the world by causing the COVID-19 pandemic.1 The affected patients exhibit fever, cough, and apnea. Hospitalization is often due to progressive respiratory distress, which, in a proportion of patients, had led to fatalities.2 The geriatric population is at a higher risk, because of their reduced immunity and the presence of comorbid conditions like diabetes mellitus, hypertension, and cardiovascular diseases. Health authorities have advocated social distancing as a method to contain the spread of this contagious disease. A landmark study has shown that the SARS-CoV-2 virus can remain viable on various surfaces like cardboard, stainless steel, plastic, and copper for a <span class='answer'>long duration</span>. The research conducted by van Doremalen et al.3 has created an aerosolized environment using SARS-CoV-2 (105.25 50% tissue-culture infectious dose [TCID50] per milliliter) in a Goldberg drum using a 3 jet collision nebulizer and has exposed various materials such as cardboard, paper, stainless steel, plastic, and copper to the virus. The SARS-Cov-2 virus was found to be viable in aerosol for only 3 hours, although its presence on material surfaces lasted significantly longer, especially in stainless steel and plastic surfaces, wherein the virus was detected for up to 72 hours.3.</div>"
            ],
            "text/plain": [
              "<IPython.core.display.HTML object>"
            ]
          },
          "metadata": {},
          "output_type": "display_data"
        },
        {
          "data": {
            "text/html": [
              "<style>\n",
              "        div {\n",
              "            color: black;\n",
              "        }\n",
              "        .single_answer {\n",
              "            border-left: 3px solid #dc7b15;\n",
              "            padding-left: 10px;\n",
              "            font-family: Arial;\n",
              "            font-size: 16px;\n",
              "            color: #777777;\n",
              "            margin-left: 5px;\n",
              "\n",
              "        }\n",
              "        .answer{\n",
              "            color: #dc7b15;\n",
              "        }\n",
              "        .question_title {\n",
              "            color: grey;\n",
              "            display: block;\n",
              "            text-transform: none;\n",
              "        }      \n",
              "        div.output_scroll { \n",
              "            height: auto; \n",
              "        }\n",
              "    </style><div class=\"single_answer\">At room temperature, SARS-CoV-2 was stable on environmental surfaces and remained viable up to <span class='answer'>7 days</span> on smooth surfaces. This virus could survive for several hours in feces and 3-4 days in urine.</div>"
            ],
            "text/plain": [
              "<IPython.core.display.HTML object>"
            ]
          },
          "metadata": {},
          "output_type": "display_data"
        },
        {
          "data": {
            "text/html": [
              "<style>\n",
              "        div {\n",
              "            color: black;\n",
              "        }\n",
              "        .single_answer {\n",
              "            border-left: 3px solid #dc7b15;\n",
              "            padding-left: 10px;\n",
              "            font-family: Arial;\n",
              "            font-size: 16px;\n",
              "            color: #777777;\n",
              "            margin-left: 5px;\n",
              "\n",
              "        }\n",
              "        .answer{\n",
              "            color: #dc7b15;\n",
              "        }\n",
              "        .question_title {\n",
              "            color: grey;\n",
              "            display: block;\n",
              "            text-transform: none;\n",
              "        }      \n",
              "        div.output_scroll { \n",
              "            height: auto; \n",
              "        }\n",
              "    </style><div class=\"single_answer\">We evaluated the stability of Ebola virus on surfaces and in fluids under simulated environmental conditions for the climate of West Africa and for climate-controlled hospitals. This virus remains viable for a <span class='answer'>longer duration</span> on surfaces in hospital conditions than in African conditions and in liquid than in dried blood.</div>"
            ],
            "text/plain": [
              "<IPython.core.display.HTML object>"
            ]
          },
          "metadata": {},
          "output_type": "display_data"
        },
        {
          "data": {
            "text/html": [
              "<style>\n",
              "        div {\n",
              "            color: black;\n",
              "        }\n",
              "        .single_answer {\n",
              "            border-left: 3px solid #dc7b15;\n",
              "            padding-left: 10px;\n",
              "            font-family: Arial;\n",
              "            font-size: 16px;\n",
              "            color: #777777;\n",
              "            margin-left: 5px;\n",
              "\n",
              "        }\n",
              "        .answer{\n",
              "            color: #dc7b15;\n",
              "        }\n",
              "        .question_title {\n",
              "            color: grey;\n",
              "            display: block;\n",
              "            text-transform: none;\n",
              "        }      \n",
              "        div.output_scroll { \n",
              "            height: auto; \n",
              "        }\n",
              "    </style><div class=\"single_answer\">SARS-CoV-2 survives and remains viable on surfaces for <span class='answer'>several days</span> under different environments as reported in recent studies. However, it is unclear how the viruses survive for such a long time and why their survivability varies across different surfaces. To address these questions, we conduct systematic experiments investigating the evaporation of droplets produced by a nebulizer and human-exhaled gas on surfaces. We found that these droplets do not disappear with evaporation, but instead shrink to a size of a few micrometers (referred to as residues), persist for more than 24 hours, and are highly durable against changes of environmental conditions. The characteristics of these residues change significantly across surface types. Specifically, surfaces with high thermal conductivity like copper do not leave any resolvable residues, while stainless steel, plastic, and glass surfaces form residues from a varying fraction of all deposited droplets at 40% relative humidity. Lowering humidity level suppresses the formation of residues while increasing humidity level enhances it. Our results suggest that these microscale residues can potentially insulate the virus against environmental changes, allowing them to survive inhospitable environments and remain infectious for prolonged durations after deposition. Our findings can also be extended to other viruses transmitted through respiratory droplets (e.g., SARS-CoV, flu viruses, etc.), and can thus lead to practical guidelines for disinfecting surfaces and other prevention measures (e.g., humidity control) for limiting viral transmission.</div>"
            ],
            "text/plain": [
              "<IPython.core.display.HTML object>"
            ]
          },
          "metadata": {},
          "output_type": "display_data"
        },
        {
          "data": {
            "text/html": [
              "<style>\n",
              "        div {\n",
              "            color: black;\n",
              "        }\n",
              "        .single_answer {\n",
              "            border-left: 3px solid #dc7b15;\n",
              "            padding-left: 10px;\n",
              "            font-family: Arial;\n",
              "            font-size: 16px;\n",
              "            color: #777777;\n",
              "            margin-left: 5px;\n",
              "\n",
              "        }\n",
              "        .answer{\n",
              "            color: #dc7b15;\n",
              "        }\n",
              "        .question_title {\n",
              "            color: grey;\n",
              "            display: block;\n",
              "            text-transform: none;\n",
              "        }      \n",
              "        div.output_scroll { \n",
              "            height: auto; \n",
              "        }\n",
              "    </style><div class=\"single_answer\">The WHO has declared COVID-19 illness a global health concern which is caused by 2019-nCoV, causing severe respiratory tract infections in humans. Transmissibility among individual to individual have been reported through droplets and probably also via contaminated surfaces and hands.Human coronaviruses can persist on inanimate surfaces such as plastic, glass, fibers and metals up to <span class='answer'>nine days</span>. 2019-nCoV remains infectious in air for 3 h and on inanimate surfaces such as cardboard, copper, plastic and steel up to 24, 4, 72 and 48 h respectively. Disinfectant activity of various biocidal agents against coronaviruses like ethanol (62–71%), sodium hypochlorite (0.1%) and hydrogen peroxide (0.5%) can be regarded effective against 2019-nCoV as well. As no vaccine and antiviral therapies have been discovered for 2019-nCoV, prevention of further spread will viable option to control the ongoing and future outbreaks.</div>"
            ],
            "text/plain": [
              "<IPython.core.display.HTML object>"
            ]
          },
          "metadata": {},
          "output_type": "display_data"
        }
      ],
      "source": [
        "task = 1\n",
        "display_single_task(task, all_tasks[task-1])"
      ]
    },
    {
      "cell_type": "code",
      "execution_count": null,
      "metadata": {
        "colab": {
          "base_uri": "https://localhost:8080/",
          "height": 1000
        },
        "id": "guLs5SfMHUtA",
        "outputId": "e31e507a-090a-4cee-a1f9-818e6ea4fd2c"
      },
      "outputs": [
        {
          "data": {
            "text/html": [
              "<style>\n",
              "        div {\n",
              "            color: black;\n",
              "        }\n",
              "        .single_answer {\n",
              "            border-left: 3px solid #dc7b15;\n",
              "            padding-left: 10px;\n",
              "            font-family: Arial;\n",
              "            font-size: 16px;\n",
              "            color: #777777;\n",
              "            margin-left: 5px;\n",
              "\n",
              "        }\n",
              "        .answer{\n",
              "            color: #dc7b15;\n",
              "        }\n",
              "        .question_title {\n",
              "            color: grey;\n",
              "            display: block;\n",
              "            text-transform: none;\n",
              "        }      \n",
              "        div.output_scroll { \n",
              "            height: auto; \n",
              "        }\n",
              "    </style><h1 class='task_title'>Task 2: What do we know about COVID-19 risk factors?</h1>"
            ],
            "text/plain": [
              "<IPython.core.display.HTML object>"
            ]
          },
          "metadata": {},
          "output_type": "display_data"
        },
        {
          "data": {
            "text/html": [
              "<style>\n",
              "        div {\n",
              "            color: black;\n",
              "        }\n",
              "        .single_answer {\n",
              "            border-left: 3px solid #dc7b15;\n",
              "            padding-left: 10px;\n",
              "            font-family: Arial;\n",
              "            font-size: 16px;\n",
              "            color: #777777;\n",
              "            margin-left: 5px;\n",
              "\n",
              "        }\n",
              "        .answer{\n",
              "            color: #dc7b15;\n",
              "        }\n",
              "        .question_title {\n",
              "            color: grey;\n",
              "            display: block;\n",
              "            text-transform: none;\n",
              "        }      \n",
              "        div.output_scroll { \n",
              "            height: auto; \n",
              "        }\n",
              "    </style><h2 class='question_title'>1. what risk factors contribute to the severity of 2019-ncov?</h2>"
            ],
            "text/plain": [
              "<IPython.core.display.HTML object>"
            ]
          },
          "metadata": {},
          "output_type": "display_data"
        },
        {
          "data": {
            "text/html": [
              "<style>\n",
              "        div {\n",
              "            color: black;\n",
              "        }\n",
              "        .single_answer {\n",
              "            border-left: 3px solid #dc7b15;\n",
              "            padding-left: 10px;\n",
              "            font-family: Arial;\n",
              "            font-size: 16px;\n",
              "            color: #777777;\n",
              "            margin-left: 5px;\n",
              "\n",
              "        }\n",
              "        .answer{\n",
              "            color: #dc7b15;\n",
              "        }\n",
              "        .question_title {\n",
              "            color: grey;\n",
              "            display: block;\n",
              "            text-transform: none;\n",
              "        }      \n",
              "        div.output_scroll { \n",
              "            height: auto; \n",
              "        }\n",
              "    </style><div class=\"single_answer\">Respiratory infections are associated with wheezing illnesses in all ages and may also impact the development and severity of asthma. Respiratory tract infections caused by viruses, Chlamydophila or Mycoplasma have been hypothesized to have significant roles in the pathogenesis of asthma. Progress is being made toward establishing the mechanisms by which these agents can cause acute wheezing and impact the pathophysiology of asthma. <span class='answer'>Host factors</span> probably contribute to the risk of asthma inception and exacerbation, and these contributions may also vary with respect to early- versus adult-onset disease. This review discusses these various associations as they pertain to the development and exacerbation of asthma.</div>"
            ],
            "text/plain": [
              "<IPython.core.display.HTML object>"
            ]
          },
          "metadata": {},
          "output_type": "display_data"
        },
        {
          "data": {
            "text/html": [
              "<style>\n",
              "        div {\n",
              "            color: black;\n",
              "        }\n",
              "        .single_answer {\n",
              "            border-left: 3px solid #dc7b15;\n",
              "            padding-left: 10px;\n",
              "            font-family: Arial;\n",
              "            font-size: 16px;\n",
              "            color: #777777;\n",
              "            margin-left: 5px;\n",
              "\n",
              "        }\n",
              "        .answer{\n",
              "            color: #dc7b15;\n",
              "        }\n",
              "        .question_title {\n",
              "            color: grey;\n",
              "            display: block;\n",
              "            text-transform: none;\n",
              "        }      \n",
              "        div.output_scroll { \n",
              "            height: auto; \n",
              "        }\n",
              "    </style><div class=\"single_answer\">Since the emergence of the first cases in Wuhan, China, the novel coronavirus (2019-nCoV) infection has been quickly spreading out to other provinces and neighboring countries. Estimation of the basic reproduction number by means of mathematical modeling can be helpful for determining the potential and severity of an outbreak and providing critical information for identifying the type of disease <span class='answer'>interventions and intensity</span>. A deterministic compartmental model was devised based on the clinical progression of the disease, epidemiological status of the individuals, and intervention measures. The estimations based on likelihood and model analysis show that the control reproduction number may be as high as 6.47 (95% CI 5.71–7.23). Sensitivity analyses show that interventions, such as intensive contact tracing followed by quarantine and isolation, can effectively reduce the control reproduction number and transmission risk, with the effect of travel restriction adopted by Wuhan on 2019-nCoV infection in Beijing being almost equivalent to increasing quarantine by a 100 thousand baseline value. It is essential to assess how the expensive, resource-intensive measures implemented by the Chinese authorities can contribute to the prevention and control of the 2019-nCoV infection, and how long they should be maintained. Under the most restrictive measures, the outbreak is expected to peak within two weeks (since 23 January 2020) with a significant low peak value. With travel restriction (no imported exposed individuals to Beijing), the number of infected individuals in seven days will decrease by 91.14% in Beijing, compared with the scenario of no travel restriction.</div>"
            ],
            "text/plain": [
              "<IPython.core.display.HTML object>"
            ]
          },
          "metadata": {},
          "output_type": "display_data"
        },
        {
          "data": {
            "text/html": [
              "<style>\n",
              "        div {\n",
              "            color: black;\n",
              "        }\n",
              "        .single_answer {\n",
              "            border-left: 3px solid #dc7b15;\n",
              "            padding-left: 10px;\n",
              "            font-family: Arial;\n",
              "            font-size: 16px;\n",
              "            color: #777777;\n",
              "            margin-left: 5px;\n",
              "\n",
              "        }\n",
              "        .answer{\n",
              "            color: #dc7b15;\n",
              "        }\n",
              "        .question_title {\n",
              "            color: grey;\n",
              "            display: block;\n",
              "            text-transform: none;\n",
              "        }      \n",
              "        div.output_scroll { \n",
              "            height: auto; \n",
              "        }\n",
              "    </style><div class=\"single_answer\">Both SARS-CoV-2 infections and vaccines induce robust immune responses Current data suggested that high neutralizing antibody titers with sustained Th1 responses might correlate with protection against viral transmission and disease development and severity In addition, <span class='answer'>genetic and innate immune factors</span>, including higher levels of type I interferons, as well as the induction of trained immunity and local mucosal immunity also contribute to lower risk of infection and amelioration of disease severity The identification of immune correlates of protection will facilitate the development of effective vaccines and therapeutics strategies</div>"
            ],
            "text/plain": [
              "<IPython.core.display.HTML object>"
            ]
          },
          "metadata": {},
          "output_type": "display_data"
        },
        {
          "data": {
            "text/html": [
              "<style>\n",
              "        div {\n",
              "            color: black;\n",
              "        }\n",
              "        .single_answer {\n",
              "            border-left: 3px solid #dc7b15;\n",
              "            padding-left: 10px;\n",
              "            font-family: Arial;\n",
              "            font-size: 16px;\n",
              "            color: #777777;\n",
              "            margin-left: 5px;\n",
              "\n",
              "        }\n",
              "        .answer{\n",
              "            color: #dc7b15;\n",
              "        }\n",
              "        .question_title {\n",
              "            color: grey;\n",
              "            display: block;\n",
              "            text-transform: none;\n",
              "        }      \n",
              "        div.output_scroll { \n",
              "            height: auto; \n",
              "        }\n",
              "    </style><div class=\"single_answer\">Both SARS-CoV-2 infections and vaccines induce robust immune responses. Current data suggested that high neutralizing antibody titers with sustained Th1 responses might correlate with protection against viral transmission and disease development and severity. In addition, <span class='answer'>genetic and innate immune factors</span>, including higher levels of type I interferons, as well as the induction of trained immunity and local mucosal immunity also contribute to lower risk of infection and amelioration of disease severity. The identification of immune correlates of protection will facilitate the development of effective vaccines and therapeutics strategies.</div>"
            ],
            "text/plain": [
              "<IPython.core.display.HTML object>"
            ]
          },
          "metadata": {},
          "output_type": "display_data"
        },
        {
          "data": {
            "text/html": [
              "<style>\n",
              "        div {\n",
              "            color: black;\n",
              "        }\n",
              "        .single_answer {\n",
              "            border-left: 3px solid #dc7b15;\n",
              "            padding-left: 10px;\n",
              "            font-family: Arial;\n",
              "            font-size: 16px;\n",
              "            color: #777777;\n",
              "            margin-left: 5px;\n",
              "\n",
              "        }\n",
              "        .answer{\n",
              "            color: #dc7b15;\n",
              "        }\n",
              "        .question_title {\n",
              "            color: grey;\n",
              "            display: block;\n",
              "            text-transform: none;\n",
              "        }      \n",
              "        div.output_scroll { \n",
              "            height: auto; \n",
              "        }\n",
              "    </style><h2 class='question_title'>2. how does hypertension affect patients?</h2>"
            ],
            "text/plain": [
              "<IPython.core.display.HTML object>"
            ]
          },
          "metadata": {},
          "output_type": "display_data"
        },
        {
          "data": {
            "text/html": [
              "<style>\n",
              "        div {\n",
              "            color: black;\n",
              "        }\n",
              "        .single_answer {\n",
              "            border-left: 3px solid #dc7b15;\n",
              "            padding-left: 10px;\n",
              "            font-family: Arial;\n",
              "            font-size: 16px;\n",
              "            color: #777777;\n",
              "            margin-left: 5px;\n",
              "\n",
              "        }\n",
              "        .answer{\n",
              "            color: #dc7b15;\n",
              "        }\n",
              "        .question_title {\n",
              "            color: grey;\n",
              "            display: block;\n",
              "            text-transform: none;\n",
              "        }      \n",
              "        div.output_scroll { \n",
              "            height: auto; \n",
              "        }\n",
              "    </style><div class=\"single_answer\">Atherosclerotic renal artery stenosis (ARAS) is the most common cause of renal artery stenosis in the adult population. ARAS may result in progressive renal impairment, renovascular hypertension, and/or cardiac disturbance syndromes. Because medical therapy does not affect the progressive nature of this disease process, more aggressive treatments are needed to definitively treat ARAS. When performed correctly, renal artery stenting has been shown to <span class='answer'>stabilize or improve renal function</span> and/or renovascular hypertension in 65-70% of carefully selected patients with ARAS. Therefore, percutaneous renal artery stenting should be considered the primary treatment for patients with symptomatic ARAS.</div>"
            ],
            "text/plain": [
              "<IPython.core.display.HTML object>"
            ]
          },
          "metadata": {},
          "output_type": "display_data"
        },
        {
          "data": {
            "text/html": [
              "<style>\n",
              "        div {\n",
              "            color: black;\n",
              "        }\n",
              "        .single_answer {\n",
              "            border-left: 3px solid #dc7b15;\n",
              "            padding-left: 10px;\n",
              "            font-family: Arial;\n",
              "            font-size: 16px;\n",
              "            color: #777777;\n",
              "            margin-left: 5px;\n",
              "\n",
              "        }\n",
              "        .answer{\n",
              "            color: #dc7b15;\n",
              "        }\n",
              "        .question_title {\n",
              "            color: grey;\n",
              "            display: block;\n",
              "            text-transform: none;\n",
              "        }      \n",
              "        div.output_scroll { \n",
              "            height: auto; \n",
              "        }\n",
              "    </style><div class=\"single_answer\">Whilst COVID-19 infection generally run a mild course in up to 80% of those affected, a number of pre-existing co-morbidities determine the severity of infection and the outcome in an individual patient. The most important of these co-morbidities that have consistently emerged in studies from across the globe, are the patients age and sex. Other important co-morbidities that <span class='answer'>adversely affect outcomes</span> include pre-existing diabetes, obesity, hypertension, chronic lung disease and malignancy. This comprehensive review discusses the impact of these co-morbidities and the role of laboratory predictors of poor patient outcomes.</div>"
            ],
            "text/plain": [
              "<IPython.core.display.HTML object>"
            ]
          },
          "metadata": {},
          "output_type": "display_data"
        },
        {
          "data": {
            "text/html": [
              "<style>\n",
              "        div {\n",
              "            color: black;\n",
              "        }\n",
              "        .single_answer {\n",
              "            border-left: 3px solid #dc7b15;\n",
              "            padding-left: 10px;\n",
              "            font-family: Arial;\n",
              "            font-size: 16px;\n",
              "            color: #777777;\n",
              "            margin-left: 5px;\n",
              "\n",
              "        }\n",
              "        .answer{\n",
              "            color: #dc7b15;\n",
              "        }\n",
              "        .question_title {\n",
              "            color: grey;\n",
              "            display: block;\n",
              "            text-transform: none;\n",
              "        }      \n",
              "        div.output_scroll { \n",
              "            height: auto; \n",
              "        }\n",
              "    </style><div class=\"single_answer\">Whilst COVID-19 infection generally run a mild course in up to 80% of those affected, a number of pre-existing co-morbidities determine the severity of infection and the outcome in an individual patient. The most important of these co-morbidities that have consistently emerged in studies from across the globe, are the patients age and sex. Other important co-morbidities that <span class='answer'>adversely affect outcomes</span> include pre-existing diabetes, obesity, hypertension, chronic lung disease and malignancy. This comprehensive review discusses the impact of these co-morbidities and the role of laboratory predictors of poor patient outcomes.</div>"
            ],
            "text/plain": [
              "<IPython.core.display.HTML object>"
            ]
          },
          "metadata": {},
          "output_type": "display_data"
        },
        {
          "data": {
            "text/html": [
              "<style>\n",
              "        div {\n",
              "            color: black;\n",
              "        }\n",
              "        .single_answer {\n",
              "            border-left: 3px solid #dc7b15;\n",
              "            padding-left: 10px;\n",
              "            font-family: Arial;\n",
              "            font-size: 16px;\n",
              "            color: #777777;\n",
              "            margin-left: 5px;\n",
              "\n",
              "        }\n",
              "        .answer{\n",
              "            color: #dc7b15;\n",
              "        }\n",
              "        .question_title {\n",
              "            color: grey;\n",
              "            display: block;\n",
              "            text-transform: none;\n",
              "        }      \n",
              "        div.output_scroll { \n",
              "            height: auto; \n",
              "        }\n",
              "    </style><div class=\"single_answer\">The management of hypertensive disease of pregnancy presents an ongoing challenge after patients are discharged from delivery hospitalizations. Preeclampsia and other forms of postpartum hypertension increase the risk for severe maternal morbidity and mortality in the postpartum period, and both hypertension and its associated adverse events <span class='answer'>disproportionately affect black women</span>. With its ability to transcend barriers to health care access, telemedicine can facilitate high-quality postpartum care delivery for preeclampsia management and thereby reduce racial disparities in obstetric care and outcomes. Here we discuss racial disparities in preeclampsia and the challenge of providing equitable postpartum preeclampsia care. We then describe the utility of novel telemedicine platforms and their application to combat these disparities in preeclampsia care.</div>"
            ],
            "text/plain": [
              "<IPython.core.display.HTML object>"
            ]
          },
          "metadata": {},
          "output_type": "display_data"
        },
        {
          "data": {
            "text/html": [
              "<style>\n",
              "        div {\n",
              "            color: black;\n",
              "        }\n",
              "        .single_answer {\n",
              "            border-left: 3px solid #dc7b15;\n",
              "            padding-left: 10px;\n",
              "            font-family: Arial;\n",
              "            font-size: 16px;\n",
              "            color: #777777;\n",
              "            margin-left: 5px;\n",
              "\n",
              "        }\n",
              "        .answer{\n",
              "            color: #dc7b15;\n",
              "        }\n",
              "        .question_title {\n",
              "            color: grey;\n",
              "            display: block;\n",
              "            text-transform: none;\n",
              "        }      \n",
              "        div.output_scroll { \n",
              "            height: auto; \n",
              "        }\n",
              "    </style><div class=\"single_answer\">The management of hypertensive disease of pregnancy presents an ongoing challenge after patients are discharged from delivery hospitalizations. Preeclampsia and other forms of postpartum hypertension increase the risk for severe maternal morbidity and mortality in the postpartum period, and both hypertension and its associated adverse events <span class='answer'>disproportionately affect black women</span>. With its ability to transcend barriers to health care access, telemedicine can facilitate high-quality postpartum care delivery for preeclampsia management and thereby reduce racial disparities in obstetric care and outcomes. Here we discuss racial disparities in preeclampsia and the challenge of providing equitable postpartum preeclampsia care. We then describe the utility of novel telemedicine platforms and their application to combat these disparities in preeclampsia care.</div>"
            ],
            "text/plain": [
              "<IPython.core.display.HTML object>"
            ]
          },
          "metadata": {},
          "output_type": "display_data"
        },
        {
          "data": {
            "text/html": [
              "<style>\n",
              "        div {\n",
              "            color: black;\n",
              "        }\n",
              "        .single_answer {\n",
              "            border-left: 3px solid #dc7b15;\n",
              "            padding-left: 10px;\n",
              "            font-family: Arial;\n",
              "            font-size: 16px;\n",
              "            color: #777777;\n",
              "            margin-left: 5px;\n",
              "\n",
              "        }\n",
              "        .answer{\n",
              "            color: #dc7b15;\n",
              "        }\n",
              "        .question_title {\n",
              "            color: grey;\n",
              "            display: block;\n",
              "            text-transform: none;\n",
              "        }      \n",
              "        div.output_scroll { \n",
              "            height: auto; \n",
              "        }\n",
              "    </style><div class=\"single_answer\">Periodontal disease (PD) comprises a group of diseases involving inflammatory aspects of the host and dysbiotic events that affect periodontal tissues and could have systemic implications. Diverse factors and <span class='answer'>comorbidities have been closely associated with PD</span> such as diabetes, obesity, aging, hypertension, and so on; although, underlying mechanisms or causal associations have not been established completely. Interestingly, these same factors have been widely associated with progression or severe coronavirus disease 2019 (COVID-19), an illness caused by coronavirus SARS-CoV-2. Since inflammatory and dysbiotic factors as well as comorbidities affect systemic health, it is possible that periodontal status indicates the risk of complication of COVID-19. However, assessment of oral health history including periodontal status in COVID-19 patients has not been reported. Knowing PD is associated with severe COVID-19 could help identify risk groups and establish pertinent recommendations.</div>"
            ],
            "text/plain": [
              "<IPython.core.display.HTML object>"
            ]
          },
          "metadata": {},
          "output_type": "display_data"
        },
        {
          "data": {
            "text/html": [
              "<style>\n",
              "        div {\n",
              "            color: black;\n",
              "        }\n",
              "        .single_answer {\n",
              "            border-left: 3px solid #dc7b15;\n",
              "            padding-left: 10px;\n",
              "            font-family: Arial;\n",
              "            font-size: 16px;\n",
              "            color: #777777;\n",
              "            margin-left: 5px;\n",
              "\n",
              "        }\n",
              "        .answer{\n",
              "            color: #dc7b15;\n",
              "        }\n",
              "        .question_title {\n",
              "            color: grey;\n",
              "            display: block;\n",
              "            text-transform: none;\n",
              "        }      \n",
              "        div.output_scroll { \n",
              "            height: auto; \n",
              "        }\n",
              "    </style><h2 class='question_title'>3. how does heart disease affect patients?</h2>"
            ],
            "text/plain": [
              "<IPython.core.display.HTML object>"
            ]
          },
          "metadata": {},
          "output_type": "display_data"
        },
        {
          "data": {
            "text/html": [
              "<style>\n",
              "        div {\n",
              "            color: black;\n",
              "        }\n",
              "        .single_answer {\n",
              "            border-left: 3px solid #dc7b15;\n",
              "            padding-left: 10px;\n",
              "            font-family: Arial;\n",
              "            font-size: 16px;\n",
              "            color: #777777;\n",
              "            margin-left: 5px;\n",
              "\n",
              "        }\n",
              "        .answer{\n",
              "            color: #dc7b15;\n",
              "        }\n",
              "        .question_title {\n",
              "            color: grey;\n",
              "            display: block;\n",
              "            text-transform: none;\n",
              "        }      \n",
              "        div.output_scroll { \n",
              "            height: auto; \n",
              "        }\n",
              "    </style><div class=\"single_answer\">This chapter reviews the cardiovascular anatomy, the effects of medications on the cardiovascular system, and current guidelines. <span class='answer'>Patients in the perioperative period often receive agents that affect hemodynamic variables</span> such as heart rhythm and rate, blood pressure, or cardiac output.</div>"
            ],
            "text/plain": [
              "<IPython.core.display.HTML object>"
            ]
          },
          "metadata": {},
          "output_type": "display_data"
        },
        {
          "data": {
            "text/html": [
              "<style>\n",
              "        div {\n",
              "            color: black;\n",
              "        }\n",
              "        .single_answer {\n",
              "            border-left: 3px solid #dc7b15;\n",
              "            padding-left: 10px;\n",
              "            font-family: Arial;\n",
              "            font-size: 16px;\n",
              "            color: #777777;\n",
              "            margin-left: 5px;\n",
              "\n",
              "        }\n",
              "        .answer{\n",
              "            color: #dc7b15;\n",
              "        }\n",
              "        .question_title {\n",
              "            color: grey;\n",
              "            display: block;\n",
              "            text-transform: none;\n",
              "        }      \n",
              "        div.output_scroll { \n",
              "            height: auto; \n",
              "        }\n",
              "    </style><div class=\"single_answer\">The Food and Drug Administration (FDA) is advising health care practitioners that lamotrigine (Lamictal), used in managing seizures and bipolar disorder, may increase the risk of serious and potentially lethal arrythmias.The risk is greater if the patient has underlying cardiac disease or is <span class='answer'>taking medications that affect heart conduction</span>.The FDA is requiring in vitro studies of other sodium channel blockers to determine if this risk is a class effect or unique to lamotrigine.</div>"
            ],
            "text/plain": [
              "<IPython.core.display.HTML object>"
            ]
          },
          "metadata": {},
          "output_type": "display_data"
        },
        {
          "data": {
            "text/html": [
              "<style>\n",
              "        div {\n",
              "            color: black;\n",
              "        }\n",
              "        .single_answer {\n",
              "            border-left: 3px solid #dc7b15;\n",
              "            padding-left: 10px;\n",
              "            font-family: Arial;\n",
              "            font-size: 16px;\n",
              "            color: #777777;\n",
              "            margin-left: 5px;\n",
              "\n",
              "        }\n",
              "        .answer{\n",
              "            color: #dc7b15;\n",
              "        }\n",
              "        .question_title {\n",
              "            color: grey;\n",
              "            display: block;\n",
              "            text-transform: none;\n",
              "        }      \n",
              "        div.output_scroll { \n",
              "            height: auto; \n",
              "        }\n",
              "    </style><div class=\"single_answer\">The coronavirus disease of 2019 (COVID-19) has posed a major challenge for providers and patients. A large number of patients with atrial fibrillation, venous thromboembolism, or valvular heart disease are <span class='answer'>chronically anticoagulated with vitamin K antagonists</span> and rely on frequent follow ups at anticoagulation clinics for management of their anticoagulation therapy. The need for isolation during COVID-19 pandemic can potentially limit access to health care including anticoagulation clinics and directly affect the care of patients on chronic anticoagulation. Therefore, we created a drive-through clinic to bridge the gap of continuation of care and preservation of social distancing precautions. In this manuscript, we report the steps in implementing such initiative which can be applied to other clinics during a pandemic.</div>"
            ],
            "text/plain": [
              "<IPython.core.display.HTML object>"
            ]
          },
          "metadata": {},
          "output_type": "display_data"
        },
        {
          "data": {
            "text/html": [
              "<style>\n",
              "        div {\n",
              "            color: black;\n",
              "        }\n",
              "        .single_answer {\n",
              "            border-left: 3px solid #dc7b15;\n",
              "            padding-left: 10px;\n",
              "            font-family: Arial;\n",
              "            font-size: 16px;\n",
              "            color: #777777;\n",
              "            margin-left: 5px;\n",
              "\n",
              "        }\n",
              "        .answer{\n",
              "            color: #dc7b15;\n",
              "        }\n",
              "        .question_title {\n",
              "            color: grey;\n",
              "            display: block;\n",
              "            text-transform: none;\n",
              "        }      \n",
              "        div.output_scroll { \n",
              "            height: auto; \n",
              "        }\n",
              "    </style><div class=\"single_answer\">The coronavirus disease of 2019 (COVID-19) has posed a major challenge for providers and patients. A large number of patients with atrial fibrillation, venous thromboembolism, or valvular heart disease are <span class='answer'>chronically anticoagulated with vitamin K antagonists</span> and rely on frequent follow ups at anticoagulation clinics for management of their anticoagulation therapy. The need for isolation during COVID-19 pandemic can potentially limit access to health care including anticoagulation clinics and directly affect the care of patients on chronic anticoagulation. Therefore, we created a drive-through clinic to bridge the gap of continuation of care and preservation of social distancing precautions. In this manuscript, we report the steps in implementing such initiative which can be applied to other clinics during a pandemic.</div>"
            ],
            "text/plain": [
              "<IPython.core.display.HTML object>"
            ]
          },
          "metadata": {},
          "output_type": "display_data"
        },
        {
          "data": {
            "text/html": [
              "<style>\n",
              "        div {\n",
              "            color: black;\n",
              "        }\n",
              "        .single_answer {\n",
              "            border-left: 3px solid #dc7b15;\n",
              "            padding-left: 10px;\n",
              "            font-family: Arial;\n",
              "            font-size: 16px;\n",
              "            color: #777777;\n",
              "            margin-left: 5px;\n",
              "\n",
              "        }\n",
              "        .answer{\n",
              "            color: #dc7b15;\n",
              "        }\n",
              "        .question_title {\n",
              "            color: grey;\n",
              "            display: block;\n",
              "            text-transform: none;\n",
              "        }      \n",
              "        div.output_scroll { \n",
              "            height: auto; \n",
              "        }\n",
              "    </style><div class=\"single_answer\">SARS‐CoV‐2, the cause of the COVID‐19 pandemic has significantly impacted cardiovascular healthcare. Patients with pre‐existing cardiovascular disease are at <span class='answer'>higher risk of morbidity and mortality</span>. The virus may affect the heart directly and indirectly with clinical syndromes of acute myocardial injury, myocarditis, acute coronary syndromes, heart failure, arrhythmias, and venous thromboembolism. Some therapeutics under investigation for COVID‐19 may also have adverse cardiac effects. The involvement of the RAAS system in viral entry makes it pertinent to consider the effects of medications that modulate the system. Comprehensive knowledge of peculiar cardiovascular manifestations of COVID‐19 and the role of RAAS in the prognosis of COVID‐19 disease is needed for optimal patient management.</div>"
            ],
            "text/plain": [
              "<IPython.core.display.HTML object>"
            ]
          },
          "metadata": {},
          "output_type": "display_data"
        },
        {
          "data": {
            "text/html": [
              "<style>\n",
              "        div {\n",
              "            color: black;\n",
              "        }\n",
              "        .single_answer {\n",
              "            border-left: 3px solid #dc7b15;\n",
              "            padding-left: 10px;\n",
              "            font-family: Arial;\n",
              "            font-size: 16px;\n",
              "            color: #777777;\n",
              "            margin-left: 5px;\n",
              "\n",
              "        }\n",
              "        .answer{\n",
              "            color: #dc7b15;\n",
              "        }\n",
              "        .question_title {\n",
              "            color: grey;\n",
              "            display: block;\n",
              "            text-transform: none;\n",
              "        }      \n",
              "        div.output_scroll { \n",
              "            height: auto; \n",
              "        }\n",
              "    </style><h2 class='question_title'>4. how does copd affect patients?</h2>"
            ],
            "text/plain": [
              "<IPython.core.display.HTML object>"
            ]
          },
          "metadata": {},
          "output_type": "display_data"
        },
        {
          "data": {
            "text/html": [
              "<style>\n",
              "        div {\n",
              "            color: black;\n",
              "        }\n",
              "        .single_answer {\n",
              "            border-left: 3px solid #dc7b15;\n",
              "            padding-left: 10px;\n",
              "            font-family: Arial;\n",
              "            font-size: 16px;\n",
              "            color: #777777;\n",
              "            margin-left: 5px;\n",
              "\n",
              "        }\n",
              "        .answer{\n",
              "            color: #dc7b15;\n",
              "        }\n",
              "        .question_title {\n",
              "            color: grey;\n",
              "            display: block;\n",
              "            text-transform: none;\n",
              "        }      \n",
              "        div.output_scroll { \n",
              "            height: auto; \n",
              "        }\n",
              "    </style><div class=\"single_answer\">Chronic lung diseases, such as chronic obstructive pulmonary disease (COPD), asthma, cystic fibrosis (CF) and interstitial lung diseases (ILD), affect many individuals worldwide. <span class='answer'>Patients with these chronic lung diseases are susceptible to respiratory lung infections</span> and some of these viral infections can contribute to disease pathogenesis. This review highlights the associations of lung infections and the respective chronic lung diseases and how infection in the different lung diseases affects disease exacerbation and progression.</div>"
            ],
            "text/plain": [
              "<IPython.core.display.HTML object>"
            ]
          },
          "metadata": {},
          "output_type": "display_data"
        },
        {
          "data": {
            "text/html": [
              "<style>\n",
              "        div {\n",
              "            color: black;\n",
              "        }\n",
              "        .single_answer {\n",
              "            border-left: 3px solid #dc7b15;\n",
              "            padding-left: 10px;\n",
              "            font-family: Arial;\n",
              "            font-size: 16px;\n",
              "            color: #777777;\n",
              "            margin-left: 5px;\n",
              "\n",
              "        }\n",
              "        .answer{\n",
              "            color: #dc7b15;\n",
              "        }\n",
              "        .question_title {\n",
              "            color: grey;\n",
              "            display: block;\n",
              "            text-transform: none;\n",
              "        }      \n",
              "        div.output_scroll { \n",
              "            height: auto; \n",
              "        }\n",
              "    </style><div class=\"single_answer\">The importance of vaccinations for COPD patients has been previously described. However, there is still a gap between guideline recommendations and the implementation of preventive care delivery for these patients. Specially, the rise of SARS-CoV-2 pandemic has made the significance of vaccination adherence more critical to address. Our study showed that referral to pulmonary clinic is associated with increased odds of receiving influenza (OR = 1.97, [95% CI 1.07, 3.65]) and pneumococcal vaccinations (PCV13 OR = 3.55, [1.47, 8.54]; PPSV23 OR = 4.92, [1.51, 16.02]). These data suggest that partnerships between primary care physicians and pulmonologists can potentially improve the <span class='answer'>vaccination rates</span> for patients with COPD.</div>"
            ],
            "text/plain": [
              "<IPython.core.display.HTML object>"
            ]
          },
          "metadata": {},
          "output_type": "display_data"
        },
        {
          "data": {
            "text/html": [
              "<style>\n",
              "        div {\n",
              "            color: black;\n",
              "        }\n",
              "        .single_answer {\n",
              "            border-left: 3px solid #dc7b15;\n",
              "            padding-left: 10px;\n",
              "            font-family: Arial;\n",
              "            font-size: 16px;\n",
              "            color: #777777;\n",
              "            margin-left: 5px;\n",
              "\n",
              "        }\n",
              "        .answer{\n",
              "            color: #dc7b15;\n",
              "        }\n",
              "        .question_title {\n",
              "            color: grey;\n",
              "            display: block;\n",
              "            text-transform: none;\n",
              "        }      \n",
              "        div.output_scroll { \n",
              "            height: auto; \n",
              "        }\n",
              "    </style><div class=\"single_answer\">The importance of vaccinations for COPD patients has been previously described. However, there is still a gap between guideline recommendations and the implementation of preventive care delivery for these patients. Specially, the rise of SARS-CoV-2 pandemic has made the significance of vaccination adherence more critical to address. Our study showed that referral to pulmonary clinic is associated with increased odds of receiving influenza (OR = 1.97, [95% CI 1.07, 3.65]) and pneumococcal vaccinations (PCV13 OR = 3.55, [1.47, 8.54]; PPSV23 OR = 4.92, [1.51, 16.02]). These data suggest that partnerships between primary care physicians and pulmonologists can potentially improve the <span class='answer'>vaccination rates</span> for patients with COPD.</div>"
            ],
            "text/plain": [
              "<IPython.core.display.HTML object>"
            ]
          },
          "metadata": {},
          "output_type": "display_data"
        },
        {
          "data": {
            "text/html": [
              "<style>\n",
              "        div {\n",
              "            color: black;\n",
              "        }\n",
              "        .single_answer {\n",
              "            border-left: 3px solid #dc7b15;\n",
              "            padding-left: 10px;\n",
              "            font-family: Arial;\n",
              "            font-size: 16px;\n",
              "            color: #777777;\n",
              "            margin-left: 5px;\n",
              "\n",
              "        }\n",
              "        .answer{\n",
              "            color: #dc7b15;\n",
              "        }\n",
              "        .question_title {\n",
              "            color: grey;\n",
              "            display: block;\n",
              "            text-transform: none;\n",
              "        }      \n",
              "        div.output_scroll { \n",
              "            height: auto; \n",
              "        }\n",
              "    </style><div class=\"single_answer\">Coronavirus disease 2019, a respiratory tract infection that has evolved into a pandemic, is expected to affect patients with underlying respiratory disease in a <span class='answer'>greater number and greater severity</span> than patients with other underlying disorders. Whether this is true is an interesting question. However, the challenge both for the doctors and patients is to keep the respiratory disease in remission and prevent any exacerbations. Proper recommendations have been proposed for a wide range of respiratory disorders including chronic obstructive pulmonary disease (COPD), asthma and interstitial lung diseases, regarding the continuation or not of the treatment during this period and ways to maintain stability.</div>"
            ],
            "text/plain": [
              "<IPython.core.display.HTML object>"
            ]
          },
          "metadata": {},
          "output_type": "display_data"
        },
        {
          "data": {
            "text/html": [
              "<style>\n",
              "        div {\n",
              "            color: black;\n",
              "        }\n",
              "        .single_answer {\n",
              "            border-left: 3px solid #dc7b15;\n",
              "            padding-left: 10px;\n",
              "            font-family: Arial;\n",
              "            font-size: 16px;\n",
              "            color: #777777;\n",
              "            margin-left: 5px;\n",
              "\n",
              "        }\n",
              "        .answer{\n",
              "            color: #dc7b15;\n",
              "        }\n",
              "        .question_title {\n",
              "            color: grey;\n",
              "            display: block;\n",
              "            text-transform: none;\n",
              "        }      \n",
              "        div.output_scroll { \n",
              "            height: auto; \n",
              "        }\n",
              "    </style><div class=\"single_answer\">Coronavirus disease 2019, a respiratory tract infection that has evolved into a pandemic, is expected to affect patients with underlying respiratory disease in a <span class='answer'>greater number and greater severity</span> than patients with other underlying disorders. Whether this is true is an interesting question. However, the challenge both for the doctors and patients is to keep the respiratory disease in remission and prevent any exacerbations. Proper recommendations have been proposed for a wide range of respiratory disorders including chronic obstructive pulmonary disease (COPD), asthma and interstitial lung diseases, regarding the continuation or not of the treatment during this period and ways to maintain stability.</div>"
            ],
            "text/plain": [
              "<IPython.core.display.HTML object>"
            ]
          },
          "metadata": {},
          "output_type": "display_data"
        },
        {
          "data": {
            "text/html": [
              "<style>\n",
              "        div {\n",
              "            color: black;\n",
              "        }\n",
              "        .single_answer {\n",
              "            border-left: 3px solid #dc7b15;\n",
              "            padding-left: 10px;\n",
              "            font-family: Arial;\n",
              "            font-size: 16px;\n",
              "            color: #777777;\n",
              "            margin-left: 5px;\n",
              "\n",
              "        }\n",
              "        .answer{\n",
              "            color: #dc7b15;\n",
              "        }\n",
              "        .question_title {\n",
              "            color: grey;\n",
              "            display: block;\n",
              "            text-transform: none;\n",
              "        }      \n",
              "        div.output_scroll { \n",
              "            height: auto; \n",
              "        }\n",
              "    </style><h2 class='question_title'>5. how does smoking affect patients?</h2>"
            ],
            "text/plain": [
              "<IPython.core.display.HTML object>"
            ]
          },
          "metadata": {},
          "output_type": "display_data"
        },
        {
          "data": {
            "text/html": [
              "<style>\n",
              "        div {\n",
              "            color: black;\n",
              "        }\n",
              "        .single_answer {\n",
              "            border-left: 3px solid #dc7b15;\n",
              "            padding-left: 10px;\n",
              "            font-family: Arial;\n",
              "            font-size: 16px;\n",
              "            color: #777777;\n",
              "            margin-left: 5px;\n",
              "\n",
              "        }\n",
              "        .answer{\n",
              "            color: #dc7b15;\n",
              "        }\n",
              "        .question_title {\n",
              "            color: grey;\n",
              "            display: block;\n",
              "            text-transform: none;\n",
              "        }      \n",
              "        div.output_scroll { \n",
              "            height: auto; \n",
              "        }\n",
              "    </style><div class=\"single_answer\">Background: Our goal was to assess the demographics, risk factors, and hospital admission and length of stay (LOS) among patients with acute COVID-19 and to identify whether age, smoking status, race, risk factors, and sex significantly affect the <span class='answer'>severity of illness according to hospitalization or admission to the intensive care unit</span> (ICU). Severity was defined as admission to the hospital or ICU. Methods: This retrospective cohort chart review included patients who received care from March 13 to August 17, 2020, at a single academic medical center. Age, COVID-19 risk factors, sex, race, smoking history, and hospital LOS were analyzed with hospital admission and ICU admission. Categorical variables were summarized. Results: The chart review assessed 1,697 adult patients with various degrees of severity of COVID-19 illness: 23 patients had been admitted to the hospital, and 7 had been admitted to the ICU. Older age and more COVID-19 risk factors, as defined by the Centers for Disease Control and Prevention, were significantly associated with hospital admissions, and longer LOS was statistically associated with ICU admission. Conclusions: Severe COVID-19 infection was associated with older age and more risk factors. Current smoking status, sex, and race were not significantly different between hospitalized patients with severe COVID-19 infection who were admitted to the ICU and those who were not admitted to the ICU.</div>"
            ],
            "text/plain": [
              "<IPython.core.display.HTML object>"
            ]
          },
          "metadata": {},
          "output_type": "display_data"
        },
        {
          "data": {
            "text/html": [
              "<style>\n",
              "        div {\n",
              "            color: black;\n",
              "        }\n",
              "        .single_answer {\n",
              "            border-left: 3px solid #dc7b15;\n",
              "            padding-left: 10px;\n",
              "            font-family: Arial;\n",
              "            font-size: 16px;\n",
              "            color: #777777;\n",
              "            margin-left: 5px;\n",
              "\n",
              "        }\n",
              "        .answer{\n",
              "            color: #dc7b15;\n",
              "        }\n",
              "        .question_title {\n",
              "            color: grey;\n",
              "            display: block;\n",
              "            text-transform: none;\n",
              "        }      \n",
              "        div.output_scroll { \n",
              "            height: auto; \n",
              "        }\n",
              "    </style><div class=\"single_answer\">SARS-CoV-2 enters into human airway epithelial cells via membrane fusion or endocytosis, and this process is dependent on ACE2, TMPRSS2, and cathepsin L. In this study, we examined the expression profiles of the three SARS-CoV-2 entry-related genes in primary human airway epithelial cells isolated from donors with different physiological and pathological backgrounds such as smoking, COPD, asthma, lung cancer, allergic rhinitis, cystic fibrosis, or viral infections. By reanalyzing 54 GEO datasets comprising transcriptomic data of 3428 samples, this study revealed that i) smoking is associated with an <span class='answer'>increased expression of ACE2 and TMPRSS2 and a decreased expression of cathepsin L</span>; ii) infection of rhinovirus as well as poly(I:C) stimulation leads to high expression of all three SARS-CoV-2 entry-related genes; iii) expression of ACE2 and cathepsin L in nasal epithelial cells are decreased in patients with asthma and allergic rhinitis. In conclusion, this study implicates that infection of respiratory viruses, cigarette smoking and allergic respiratory diseases might affect the susceptibility to and the development of COVID-19.</div>"
            ],
            "text/plain": [
              "<IPython.core.display.HTML object>"
            ]
          },
          "metadata": {},
          "output_type": "display_data"
        },
        {
          "data": {
            "text/html": [
              "<style>\n",
              "        div {\n",
              "            color: black;\n",
              "        }\n",
              "        .single_answer {\n",
              "            border-left: 3px solid #dc7b15;\n",
              "            padding-left: 10px;\n",
              "            font-family: Arial;\n",
              "            font-size: 16px;\n",
              "            color: #777777;\n",
              "            margin-left: 5px;\n",
              "\n",
              "        }\n",
              "        .answer{\n",
              "            color: #dc7b15;\n",
              "        }\n",
              "        .question_title {\n",
              "            color: grey;\n",
              "            display: block;\n",
              "            text-transform: none;\n",
              "        }      \n",
              "        div.output_scroll { \n",
              "            height: auto; \n",
              "        }\n",
              "    </style><div class=\"single_answer\">Background: We performed an observational Veterans Health Administration cohort analysis to assess how risk factors affect 30-day mortality in SARS-CoV-2-infected subjects relative to those uninfected. While the risk factors for coronavirus disease 2019 (COVID-19) have been extensively studied, these have been seldom compared with uninfected referents. Methods: We analyzed 341,166 White/Black male veterans tested for SARS-CoV-2 from March 1 to September 10, 2020. The relative risk of 30-day mortality was computed for age, race, ethnicity, BMI, smoking status, and alcohol use disorder in infected and uninfected subjects separately. The difference in relative risk was then evaluated between infected and uninfected subjects. All the analyses were performed considering clinical confounders. Results: In this cohort, 7% were SARS-CoV-2-positive. Age >60 and overweight/obesity were associated with a dose-related increased mortality risk among infected patients relative to those uninfected. In contrast, relative to never smoking, current smoking was associated with a <span class='answer'>decreased mortality among infected and an increased mortality in uninfected</span>, yielding a reduced mortality risk among infected relative to uninfected. Alcohol use disorder was also associated with decreased mortality risk in infected relative to the uninfected. Conclusions: Age, BMI, smoking, and alcohol use disorder affect 30-day mortality in SARS-CoV-2-infected subjects differently from uninfected referents. Advanced age and overweight/obesity were associated with increased mortality risk among infected men, while current smoking and alcohol use disorder were associated with lower mortality risk among infected men, when compared with those uninfected.</div>"
            ],
            "text/plain": [
              "<IPython.core.display.HTML object>"
            ]
          },
          "metadata": {},
          "output_type": "display_data"
        },
        {
          "data": {
            "text/html": [
              "<style>\n",
              "        div {\n",
              "            color: black;\n",
              "        }\n",
              "        .single_answer {\n",
              "            border-left: 3px solid #dc7b15;\n",
              "            padding-left: 10px;\n",
              "            font-family: Arial;\n",
              "            font-size: 16px;\n",
              "            color: #777777;\n",
              "            margin-left: 5px;\n",
              "\n",
              "        }\n",
              "        .answer{\n",
              "            color: #dc7b15;\n",
              "        }\n",
              "        .question_title {\n",
              "            color: grey;\n",
              "            display: block;\n",
              "            text-transform: none;\n",
              "        }      \n",
              "        div.output_scroll { \n",
              "            height: auto; \n",
              "        }\n",
              "    </style><h2 class='question_title'>6. how does pregnancy affect patients?</h2>"
            ],
            "text/plain": [
              "<IPython.core.display.HTML object>"
            ]
          },
          "metadata": {},
          "output_type": "display_data"
        },
        {
          "data": {
            "text/html": [
              "<style>\n",
              "        div {\n",
              "            color: black;\n",
              "        }\n",
              "        .single_answer {\n",
              "            border-left: 3px solid #dc7b15;\n",
              "            padding-left: 10px;\n",
              "            font-family: Arial;\n",
              "            font-size: 16px;\n",
              "            color: #777777;\n",
              "            margin-left: 5px;\n",
              "\n",
              "        }\n",
              "        .answer{\n",
              "            color: #dc7b15;\n",
              "        }\n",
              "        .question_title {\n",
              "            color: grey;\n",
              "            display: block;\n",
              "            text-transform: none;\n",
              "        }      \n",
              "        div.output_scroll { \n",
              "            height: auto; \n",
              "        }\n",
              "    </style><div class=\"single_answer\">In this chapter, we will discuss the infection history and epidemiology, the viral structure of COVID 19 or SARS-CoV-2, mode of transmission, virulence, and pathogenesis of disease, and we also discuss how it was started and its relation to other coronaviruses. Then we will mention the relation to pregnancy, how it can affect <span class='answer'>pregnant female</span>, sequelae on pregnancy course and labor, and effect on fetus and neonates.</div>"
            ],
            "text/plain": [
              "<IPython.core.display.HTML object>"
            ]
          },
          "metadata": {},
          "output_type": "display_data"
        },
        {
          "data": {
            "text/html": [
              "<style>\n",
              "        div {\n",
              "            color: black;\n",
              "        }\n",
              "        .single_answer {\n",
              "            border-left: 3px solid #dc7b15;\n",
              "            padding-left: 10px;\n",
              "            font-family: Arial;\n",
              "            font-size: 16px;\n",
              "            color: #777777;\n",
              "            margin-left: 5px;\n",
              "\n",
              "        }\n",
              "        .answer{\n",
              "            color: #dc7b15;\n",
              "        }\n",
              "        .question_title {\n",
              "            color: grey;\n",
              "            display: block;\n",
              "            text-transform: none;\n",
              "        }      \n",
              "        div.output_scroll { \n",
              "            height: auto; \n",
              "        }\n",
              "    </style><div class=\"single_answer\">As the COVID-19 pandemic continues to affect millions of people across continents, it follows that <span class='answer'>pregnancy and childbirth will also be affected</span>. Data are emerging on the consequences of the infection on mother and baby [1]. Many guidelines on pregnancy management during the pandemic have been released [2-6], but the actual journey to establishing an obstetric unit can be challenging. The present article describes the stepwise informed approach that was taken to rapidly establish a unit for suspected COVID-19 patients within existing resources, and the experience of delivering the first pregnant patient with confirmed COVID-19 in India.</div>"
            ],
            "text/plain": [
              "<IPython.core.display.HTML object>"
            ]
          },
          "metadata": {},
          "output_type": "display_data"
        },
        {
          "data": {
            "text/html": [
              "<style>\n",
              "        div {\n",
              "            color: black;\n",
              "        }\n",
              "        .single_answer {\n",
              "            border-left: 3px solid #dc7b15;\n",
              "            padding-left: 10px;\n",
              "            font-family: Arial;\n",
              "            font-size: 16px;\n",
              "            color: #777777;\n",
              "            margin-left: 5px;\n",
              "\n",
              "        }\n",
              "        .answer{\n",
              "            color: #dc7b15;\n",
              "        }\n",
              "        .question_title {\n",
              "            color: grey;\n",
              "            display: block;\n",
              "            text-transform: none;\n",
              "        }      \n",
              "        div.output_scroll { \n",
              "            height: auto; \n",
              "        }\n",
              "    </style><div class=\"single_answer\">As coronavirus disease 2019 (COVID-19) sweeps all over the world, Information about COVID-19 is evolving rapidly and interim guidance by multiple organisations is constantly being updated and expanded. Early with discovery of COVID 19, it was reported that pregnancy did affect the <span class='answer'>progress of the disease severity</span>. Recently, Centres for Disease Control and Prevention (CDC) reported that pregnancy is a risk factors for COVID-19 severity. The current case report is presenting a peripartum COVID-19 positive mortality case.</div>"
            ],
            "text/plain": [
              "<IPython.core.display.HTML object>"
            ]
          },
          "metadata": {},
          "output_type": "display_data"
        },
        {
          "data": {
            "text/html": [
              "<style>\n",
              "        div {\n",
              "            color: black;\n",
              "        }\n",
              "        .single_answer {\n",
              "            border-left: 3px solid #dc7b15;\n",
              "            padding-left: 10px;\n",
              "            font-family: Arial;\n",
              "            font-size: 16px;\n",
              "            color: #777777;\n",
              "            margin-left: 5px;\n",
              "\n",
              "        }\n",
              "        .answer{\n",
              "            color: #dc7b15;\n",
              "        }\n",
              "        .question_title {\n",
              "            color: grey;\n",
              "            display: block;\n",
              "            text-transform: none;\n",
              "        }      \n",
              "        div.output_scroll { \n",
              "            height: auto; \n",
              "        }\n",
              "    </style><div class=\"single_answer\">The management of hypertensive disease of pregnancy presents an ongoing challenge after <span class='answer'>patients are discharged from delivery hospitalizations</span>. Preeclampsia and other forms of postpartum hypertension increase the risk for severe maternal morbidity and mortality in the postpartum period, and both hypertension and its associated adverse events disproportionately affect black women. With its ability to transcend barriers to health care access, telemedicine can facilitate high-quality postpartum care delivery for preeclampsia management and thereby reduce racial disparities in obstetric care and outcomes. Here we discuss racial disparities in preeclampsia and the challenge of providing equitable postpartum preeclampsia care. We then describe the utility of novel telemedicine platforms and their application to combat these disparities in preeclampsia care.</div>"
            ],
            "text/plain": [
              "<IPython.core.display.HTML object>"
            ]
          },
          "metadata": {},
          "output_type": "display_data"
        },
        {
          "data": {
            "text/html": [
              "<style>\n",
              "        div {\n",
              "            color: black;\n",
              "        }\n",
              "        .single_answer {\n",
              "            border-left: 3px solid #dc7b15;\n",
              "            padding-left: 10px;\n",
              "            font-family: Arial;\n",
              "            font-size: 16px;\n",
              "            color: #777777;\n",
              "            margin-left: 5px;\n",
              "\n",
              "        }\n",
              "        .answer{\n",
              "            color: #dc7b15;\n",
              "        }\n",
              "        .question_title {\n",
              "            color: grey;\n",
              "            display: block;\n",
              "            text-transform: none;\n",
              "        }      \n",
              "        div.output_scroll { \n",
              "            height: auto; \n",
              "        }\n",
              "    </style><div class=\"single_answer\">The management of hypertensive disease of pregnancy presents an ongoing challenge after <span class='answer'>patients are discharged from delivery hospitalizations</span>. Preeclampsia and other forms of postpartum hypertension increase the risk for severe maternal morbidity and mortality in the postpartum period, and both hypertension and its associated adverse events disproportionately affect black women. With its ability to transcend barriers to health care access, telemedicine can facilitate high-quality postpartum care delivery for preeclampsia management and thereby reduce racial disparities in obstetric care and outcomes. Here we discuss racial disparities in preeclampsia and the challenge of providing equitable postpartum preeclampsia care. We then describe the utility of novel telemedicine platforms and their application to combat these disparities in preeclampsia care.</div>"
            ],
            "text/plain": [
              "<IPython.core.display.HTML object>"
            ]
          },
          "metadata": {},
          "output_type": "display_data"
        },
        {
          "data": {
            "text/html": [
              "<style>\n",
              "        div {\n",
              "            color: black;\n",
              "        }\n",
              "        .single_answer {\n",
              "            border-left: 3px solid #dc7b15;\n",
              "            padding-left: 10px;\n",
              "            font-family: Arial;\n",
              "            font-size: 16px;\n",
              "            color: #777777;\n",
              "            margin-left: 5px;\n",
              "\n",
              "        }\n",
              "        .answer{\n",
              "            color: #dc7b15;\n",
              "        }\n",
              "        .question_title {\n",
              "            color: grey;\n",
              "            display: block;\n",
              "            text-transform: none;\n",
              "        }      \n",
              "        div.output_scroll { \n",
              "            height: auto; \n",
              "        }\n",
              "    </style><div class=\"single_answer\">As new infectious diseases, such as West Nile virus, monkeypox, and severe acute respiratory syndrome (SARS) are recognized in the United States, there are critical questions about how these infectious diseases will affect pregnant women and their infants. In addition, the implications of bioterrorist attacks for exposed pregnant women need to be considered. In this article, the authors address the following questions for a number of infectious disease threats: (1) does pregnancy affect the <span class='answer'>clinical course</span> of these novel infectious diseases?, (2) what are the implications for prophylaxis and treatment of exposed or infected pregnant women?, and (3) are these novel infectious diseases transmitted during pregnancy, labor and delivery, or breastfeeding?</div>"
            ],
            "text/plain": [
              "<IPython.core.display.HTML object>"
            ]
          },
          "metadata": {},
          "output_type": "display_data"
        },
        {
          "data": {
            "text/html": [
              "<style>\n",
              "        div {\n",
              "            color: black;\n",
              "        }\n",
              "        .single_answer {\n",
              "            border-left: 3px solid #dc7b15;\n",
              "            padding-left: 10px;\n",
              "            font-family: Arial;\n",
              "            font-size: 16px;\n",
              "            color: #777777;\n",
              "            margin-left: 5px;\n",
              "\n",
              "        }\n",
              "        .answer{\n",
              "            color: #dc7b15;\n",
              "        }\n",
              "        .question_title {\n",
              "            color: grey;\n",
              "            display: block;\n",
              "            text-transform: none;\n",
              "        }      \n",
              "        div.output_scroll { \n",
              "            height: auto; \n",
              "        }\n",
              "    </style><h2 class='question_title'>7. what is the fatality rate of 2019-ncov?</h2>"
            ],
            "text/plain": [
              "<IPython.core.display.HTML object>"
            ]
          },
          "metadata": {},
          "output_type": "display_data"
        },
        {
          "data": {
            "text/html": [
              "<style>\n",
              "        div {\n",
              "            color: black;\n",
              "        }\n",
              "        .single_answer {\n",
              "            border-left: 3px solid #dc7b15;\n",
              "            padding-left: 10px;\n",
              "            font-family: Arial;\n",
              "            font-size: 16px;\n",
              "            color: #777777;\n",
              "            margin-left: 5px;\n",
              "\n",
              "        }\n",
              "        .answer{\n",
              "            color: #dc7b15;\n",
              "        }\n",
              "        .question_title {\n",
              "            color: grey;\n",
              "            display: block;\n",
              "            text-transform: none;\n",
              "        }      \n",
              "        div.output_scroll { \n",
              "            height: auto; \n",
              "        }\n",
              "    </style><div class=\"single_answer\">We estimate the effective reproduction number for 2019-nCoV based on the daily reported cases from China CDC. The results indicate that 2019-nCoV has a higher effective reproduction number than <span class='answer'>SARS</span> with a comparable fatality rate. Article Summary LineThis modeling study indicates that 2019-nCoV has a higher effective reproduction number than SARS with a comparable fatality rate.</div>"
            ],
            "text/plain": [
              "<IPython.core.display.HTML object>"
            ]
          },
          "metadata": {},
          "output_type": "display_data"
        },
        {
          "data": {
            "text/html": [
              "<style>\n",
              "        div {\n",
              "            color: black;\n",
              "        }\n",
              "        .single_answer {\n",
              "            border-left: 3px solid #dc7b15;\n",
              "            padding-left: 10px;\n",
              "            font-family: Arial;\n",
              "            font-size: 16px;\n",
              "            color: #777777;\n",
              "            margin-left: 5px;\n",
              "\n",
              "        }\n",
              "        .answer{\n",
              "            color: #dc7b15;\n",
              "        }\n",
              "        .question_title {\n",
              "            color: grey;\n",
              "            display: block;\n",
              "            text-transform: none;\n",
              "        }      \n",
              "        div.output_scroll { \n",
              "            height: auto; \n",
              "        }\n",
              "    </style><h2 class='question_title'>8. what public health policies prevent or control the spread of 2019-ncov?</h2>"
            ],
            "text/plain": [
              "<IPython.core.display.HTML object>"
            ]
          },
          "metadata": {},
          "output_type": "display_data"
        },
        {
          "data": {
            "text/html": [
              "<style>\n",
              "        div {\n",
              "            color: black;\n",
              "        }\n",
              "        .single_answer {\n",
              "            border-left: 3px solid #dc7b15;\n",
              "            padding-left: 10px;\n",
              "            font-family: Arial;\n",
              "            font-size: 16px;\n",
              "            color: #777777;\n",
              "            margin-left: 5px;\n",
              "\n",
              "        }\n",
              "        .answer{\n",
              "            color: #dc7b15;\n",
              "        }\n",
              "        .question_title {\n",
              "            color: grey;\n",
              "            display: block;\n",
              "            text-transform: none;\n",
              "        }      \n",
              "        div.output_scroll { \n",
              "            height: auto; \n",
              "        }\n",
              "    </style><div class=\"single_answer\">A novel coronavirus has caused thousands of human infections in China since December 2019, raising a global public health concern. Recent studies (Huang et al., Chan et al., and Zhou et al.) have provided timely insights into its origin and ability to spread among humans, informing <span class='answer'>infection prevention and control</span> practices.</div>"
            ],
            "text/plain": [
              "<IPython.core.display.HTML object>"
            ]
          },
          "metadata": {},
          "output_type": "display_data"
        },
        {
          "data": {
            "text/html": [
              "<style>\n",
              "        div {\n",
              "            color: black;\n",
              "        }\n",
              "        .single_answer {\n",
              "            border-left: 3px solid #dc7b15;\n",
              "            padding-left: 10px;\n",
              "            font-family: Arial;\n",
              "            font-size: 16px;\n",
              "            color: #777777;\n",
              "            margin-left: 5px;\n",
              "\n",
              "        }\n",
              "        .answer{\n",
              "            color: #dc7b15;\n",
              "        }\n",
              "        .question_title {\n",
              "            color: grey;\n",
              "            display: block;\n",
              "            text-transform: none;\n",
              "        }      \n",
              "        div.output_scroll { \n",
              "            height: auto; \n",
              "        }\n",
              "    </style><div class=\"single_answer\">Context: The emerging 2019-nCoV outbreak has involved almost all countries worldwide Although the timely dissemination of clear and accurate information on threats of the disease might cause panic, it is needed for rapid adoption and implementation of <span class='answer'>prevention and control measures</span> From the early stages of outbreaks, the behavioral responses and public risk perception should be carefully monitored for further policies and corrective measures Evidence Acquisition: In the current narrative review article, the psychological and behavioral responses are reviewed after an introduction to the risk perception and role of social and personal behavioral changes in the 2019-nCoV outbreak Additionally, the impact of public perception on mental health problems and containment of the outbreak is discussed Results: The consequences of the outbreak affect both infected and non-infected people in communities People may experience loneliness, fear of catching the disease, and loss of loved ones during the outbreak The timely understanding of the situation, implementation of urgent psychological interventions, and emotional supports are necessary to encourage people to fight this long-term outbreak and prevent subsequent mental health problems Conclusions: High self-control and public perception can mediate the associated psychological impacts of stressful conditions in outbreaks</div>"
            ],
            "text/plain": [
              "<IPython.core.display.HTML object>"
            ]
          },
          "metadata": {},
          "output_type": "display_data"
        },
        {
          "data": {
            "text/html": [
              "<style>\n",
              "        div {\n",
              "            color: black;\n",
              "        }\n",
              "        .single_answer {\n",
              "            border-left: 3px solid #dc7b15;\n",
              "            padding-left: 10px;\n",
              "            font-family: Arial;\n",
              "            font-size: 16px;\n",
              "            color: #777777;\n",
              "            margin-left: 5px;\n",
              "\n",
              "        }\n",
              "        .answer{\n",
              "            color: #dc7b15;\n",
              "        }\n",
              "        .question_title {\n",
              "            color: grey;\n",
              "            display: block;\n",
              "            text-transform: none;\n",
              "        }      \n",
              "        div.output_scroll { \n",
              "            height: auto; \n",
              "        }\n",
              "    </style><div class=\"single_answer\">Effectively controlling infectious diseases requires quantitative comparisons of quarantine, infection control precautions, case identification and isolation, and immunization interventions. We used contact network epidemiology to predict the effect of various control policies for a mildly contagious disease, such as severe acute respiratory syndrome, and a moderately contagious disease, such as smallpox. The success of an intervention depends on the transmissibility of the disease and the contact pattern between persons within a community. The model predicts that use of face masks and general vaccination will only moderately affect the spread of mildly contagious diseases. In contrast, <span class='answer'>quarantine and ring vaccination</span> can prevent the spread of a wide spectrum of diseases. Contact network epidemiology can provide valuable quantitative input to public health decisionmaking, even before a pathogen is well characterized.</div>"
            ],
            "text/plain": [
              "<IPython.core.display.HTML object>"
            ]
          },
          "metadata": {},
          "output_type": "display_data"
        },
        {
          "data": {
            "text/html": [
              "<style>\n",
              "        div {\n",
              "            color: black;\n",
              "        }\n",
              "        .single_answer {\n",
              "            border-left: 3px solid #dc7b15;\n",
              "            padding-left: 10px;\n",
              "            font-family: Arial;\n",
              "            font-size: 16px;\n",
              "            color: #777777;\n",
              "            margin-left: 5px;\n",
              "\n",
              "        }\n",
              "        .answer{\n",
              "            color: #dc7b15;\n",
              "        }\n",
              "        .question_title {\n",
              "            color: grey;\n",
              "            display: block;\n",
              "            text-transform: none;\n",
              "        }      \n",
              "        div.output_scroll { \n",
              "            height: auto; \n",
              "        }\n",
              "    </style><div class=\"single_answer\">On December 31, 2019, the World Health Organization was notified about a cluster of pneumonia of unknown aetiology in the city of Wuhan, China. Chinese authorities later identified a new coronavirus (2019-nCoV) as the causative agent of the outbreak. As of January 23, 2020, 655 cases have been confirmed in China and several other countries. Understanding the transmission characteristics and the potential for sustained human-to-human transmission of 2019-nCoV is critically important for coordinating current <span class='answer'>screening and containment strategies</span>, and determining whether the outbreak constitutes a public health emergency of international concern (PHEIC). We performed stochastic simulations of early outbreak trajectories that are consistent with the epidemiological findings to date. We found the basic reproduction number, R0, to be around 2.2 (90% high density interval 1.4—3.8), indicating the potential for sustained human-to-human transmission. Transmission characteristics appear to be of a similar magnitude to severe acute respiratory syndrome-related coronavirus (SARS-CoV) and the 1918 pandemic influenza. These findings underline the importance of heightened screening, surveillance and control efforts, particularly at airports and other travel hubs, in order to prevent further international spread of 2019-nCoV.</div>"
            ],
            "text/plain": [
              "<IPython.core.display.HTML object>"
            ]
          },
          "metadata": {},
          "output_type": "display_data"
        },
        {
          "data": {
            "text/html": [
              "<style>\n",
              "        div {\n",
              "            color: black;\n",
              "        }\n",
              "        .single_answer {\n",
              "            border-left: 3px solid #dc7b15;\n",
              "            padding-left: 10px;\n",
              "            font-family: Arial;\n",
              "            font-size: 16px;\n",
              "            color: #777777;\n",
              "            margin-left: 5px;\n",
              "\n",
              "        }\n",
              "        .answer{\n",
              "            color: #dc7b15;\n",
              "        }\n",
              "        .question_title {\n",
              "            color: grey;\n",
              "            display: block;\n",
              "            text-transform: none;\n",
              "        }      \n",
              "        div.output_scroll { \n",
              "            height: auto; \n",
              "        }\n",
              "    </style><div class=\"single_answer\">Scientific, timely and effective health communication is crucial for stabilizing public emotions and taking <span class='answer'>effective prevention and control actions</span> during the crisis of 2019-nCoV. This article uses Qualitative Comparative Analysis (QCA) and takes the health rumors list during the epidemic as a research sample to determine 6 specific explanatory condition variables and analyze the combination factors that affect the spread of high-health rumors in health. From the perspective of public opinion, including evolution mechanism, generation mechanism, and early warning mechanism, it aims to propose the perfection and solution of network public opinion governance mechanism under public health emergencies.</div>"
            ],
            "text/plain": [
              "<IPython.core.display.HTML object>"
            ]
          },
          "metadata": {},
          "output_type": "display_data"
        },
        {
          "data": {
            "text/html": [
              "<style>\n",
              "        div {\n",
              "            color: black;\n",
              "        }\n",
              "        .single_answer {\n",
              "            border-left: 3px solid #dc7b15;\n",
              "            padding-left: 10px;\n",
              "            font-family: Arial;\n",
              "            font-size: 16px;\n",
              "            color: #777777;\n",
              "            margin-left: 5px;\n",
              "\n",
              "        }\n",
              "        .answer{\n",
              "            color: #dc7b15;\n",
              "        }\n",
              "        .question_title {\n",
              "            color: grey;\n",
              "            display: block;\n",
              "            text-transform: none;\n",
              "        }      \n",
              "        div.output_scroll { \n",
              "            height: auto; \n",
              "        }\n",
              "    </style><div class=\"single_answer\">During an infectious disease outbreak, mathematical models and computational simulations are essential tools to characterize the epidemic dynamics and aid in design public health policies. Using these tools, we provide an overview of the possible scenarios for the COVID-19 pandemic in the phase of easing restrictions used to reopen the economy and society. To investigate the dynamics of this outbreak, we consider a deterministic compartmental model (SEIR model) with an additional parameter to simulate the restrictions. In general, as a consequence of easing restrictions, we obtain scenarios characterized by high spikes of infections indicating significant acceleration of the spreading disease. Finally, we show how such undesirable scenarios could be avoided by a control strategy of <span class='answer'>successive partial easing restrictions</span>, namely, we tailor a successive sequence of the additional parameter to prevent spikes in phases of low rate of transmissibility.</div>"
            ],
            "text/plain": [
              "<IPython.core.display.HTML object>"
            ]
          },
          "metadata": {},
          "output_type": "display_data"
        },
        {
          "data": {
            "text/html": [
              "<style>\n",
              "        div {\n",
              "            color: black;\n",
              "        }\n",
              "        .single_answer {\n",
              "            border-left: 3px solid #dc7b15;\n",
              "            padding-left: 10px;\n",
              "            font-family: Arial;\n",
              "            font-size: 16px;\n",
              "            color: #777777;\n",
              "            margin-left: 5px;\n",
              "\n",
              "        }\n",
              "        .answer{\n",
              "            color: #dc7b15;\n",
              "        }\n",
              "        .question_title {\n",
              "            color: grey;\n",
              "            display: block;\n",
              "            text-transform: none;\n",
              "        }      \n",
              "        div.output_scroll { \n",
              "            height: auto; \n",
              "        }\n",
              "    </style><h2 class='question_title'>9. which individuals are considered at higher risk of developing severe covid-19 disease?</h2>"
            ],
            "text/plain": [
              "<IPython.core.display.HTML object>"
            ]
          },
          "metadata": {},
          "output_type": "display_data"
        },
        {
          "data": {
            "text/html": [
              "<style>\n",
              "        div {\n",
              "            color: black;\n",
              "        }\n",
              "        .single_answer {\n",
              "            border-left: 3px solid #dc7b15;\n",
              "            padding-left: 10px;\n",
              "            font-family: Arial;\n",
              "            font-size: 16px;\n",
              "            color: #777777;\n",
              "            margin-left: 5px;\n",
              "\n",
              "        }\n",
              "        .answer{\n",
              "            color: #dc7b15;\n",
              "        }\n",
              "        .question_title {\n",
              "            color: grey;\n",
              "            display: block;\n",
              "            text-transform: none;\n",
              "        }      \n",
              "        div.output_scroll { \n",
              "            height: auto; \n",
              "        }\n",
              "    </style><div class=\"single_answer\">The novel coronavirus (CoV) pandemic is a serious threat for patients with cancer, who have an immunocompromised status and are considered at high risk of infections. Data on the novel CoV respiratory disease (coronavirus disease 2019 [COVID-19]) in patients with cancer are still limited. Unlike other common viruses, CoVs have not been shown to cause a more severe disease in <span class='answer'>immunocompromised subjects</span>. Along with direct viral pathogenicity, in some individuals, CoV infection triggers an uncontrolled aberrant inflammatory response, leading to lung tissue damage. In patients with cancer treated with immunotherapy (e.g. immune checkpoint inhibitors), COVID-19 may therefore represent a serious threat. After a thorough review of the literature on CoV pathogenesis and cancer, we selected several shared features to define which patients can be considered at higher risk of COVID-19. We combined these clinical and laboratory variables, with the aim of developing a score to weight the risk of COVID-19 in patients with cancer.</div>"
            ],
            "text/plain": [
              "<IPython.core.display.HTML object>"
            ]
          },
          "metadata": {},
          "output_type": "display_data"
        },
        {
          "data": {
            "text/html": [
              "<style>\n",
              "        div {\n",
              "            color: black;\n",
              "        }\n",
              "        .single_answer {\n",
              "            border-left: 3px solid #dc7b15;\n",
              "            padding-left: 10px;\n",
              "            font-family: Arial;\n",
              "            font-size: 16px;\n",
              "            color: #777777;\n",
              "            margin-left: 5px;\n",
              "\n",
              "        }\n",
              "        .answer{\n",
              "            color: #dc7b15;\n",
              "        }\n",
              "        .question_title {\n",
              "            color: grey;\n",
              "            display: block;\n",
              "            text-transform: none;\n",
              "        }      \n",
              "        div.output_scroll { \n",
              "            height: auto; \n",
              "        }\n",
              "    </style><div class=\"single_answer\">The novel coronavirus (CoV) pandemic is a serious threat for patients with cancer, who have an immunocompromised status and are considered at high risk of infections. Data on the novel CoV respiratory disease (coronavirus disease 2019 [COVID-19]) in patients with cancer are still limited. Unlike other common viruses, CoVs have not been shown to cause a more severe disease in <span class='answer'>immunocompromised subjects</span>. Along with direct viral pathogenicity, in some individuals, CoV infection triggers an uncontrolled aberrant inflammatory response, leading to lung tissue damage. In patients with cancer treated with immunotherapy (e.g. immune checkpoint inhibitors), COVID-19 may therefore represent a serious threat. After a thorough review of the literature on CoV pathogenesis and cancer, we selected several shared features to define which patients can be considered at higher risk of COVID-19. We combined these clinical and laboratory variables, with the aim of developing a score to weight the risk of COVID-19 in patients with cancer.</div>"
            ],
            "text/plain": [
              "<IPython.core.display.HTML object>"
            ]
          },
          "metadata": {},
          "output_type": "display_data"
        },
        {
          "data": {
            "text/html": [
              "<style>\n",
              "        div {\n",
              "            color: black;\n",
              "        }\n",
              "        .single_answer {\n",
              "            border-left: 3px solid #dc7b15;\n",
              "            padding-left: 10px;\n",
              "            font-family: Arial;\n",
              "            font-size: 16px;\n",
              "            color: #777777;\n",
              "            margin-left: 5px;\n",
              "\n",
              "        }\n",
              "        .answer{\n",
              "            color: #dc7b15;\n",
              "        }\n",
              "        .question_title {\n",
              "            color: grey;\n",
              "            display: block;\n",
              "            text-transform: none;\n",
              "        }      \n",
              "        div.output_scroll { \n",
              "            height: auto; \n",
              "        }\n",
              "    </style><div class=\"single_answer\">Coronavirus disease -19 (COVID-19) pandemic has extended from late 2019 and continues to this day. The degree of the disease is related to some factors, including age and comorbidities. Obesity is now more widely considered as a main factor of infection, mainly because it has been shown that individuals who are <span class='answer'>obese</span> have a more severe course of infection with COVID-19. This review study summarized the relationship between the risk of obesity and COVID-19 and detected a difference in reporting from the period of the first pandemic in China to more recent studies. Obesity is a risk factor for developing signs and symptoms of patients with COVID-19 and this review will benefit clinicians by recognizing the role of obesity when giving COVID-19 diagnosis, follow-up, and treatment programs.</div>"
            ],
            "text/plain": [
              "<IPython.core.display.HTML object>"
            ]
          },
          "metadata": {},
          "output_type": "display_data"
        },
        {
          "data": {
            "text/html": [
              "<style>\n",
              "        div {\n",
              "            color: black;\n",
              "        }\n",
              "        .single_answer {\n",
              "            border-left: 3px solid #dc7b15;\n",
              "            padding-left: 10px;\n",
              "            font-family: Arial;\n",
              "            font-size: 16px;\n",
              "            color: #777777;\n",
              "            margin-left: 5px;\n",
              "\n",
              "        }\n",
              "        .answer{\n",
              "            color: #dc7b15;\n",
              "        }\n",
              "        .question_title {\n",
              "            color: grey;\n",
              "            display: block;\n",
              "            text-transform: none;\n",
              "        }      \n",
              "        div.output_scroll { \n",
              "            height: auto; \n",
              "        }\n",
              "    </style><div class=\"single_answer\">Since the introduction of active vaccination against SARS-CoV-2 infection, there has been a debate about the risk of developing severe allergic or anaphylactic reactions among individuals with a history of allergy. Indeed, rare cases of severe allergic reactions have been reported in the United Kingdom and North America. By february 2021 a rate of 4,5 severe allergic reactions occurred among 1 million patients vaccinated with the mRNA-based COVID-19 vaccines, which is higher than the generally expected rate of severe allergic reactions to vaccinations of around <span class='answer'>1 in 1 million</span>.</div>"
            ],
            "text/plain": [
              "<IPython.core.display.HTML object>"
            ]
          },
          "metadata": {},
          "output_type": "display_data"
        },
        {
          "data": {
            "text/html": [
              "<style>\n",
              "        div {\n",
              "            color: black;\n",
              "        }\n",
              "        .single_answer {\n",
              "            border-left: 3px solid #dc7b15;\n",
              "            padding-left: 10px;\n",
              "            font-family: Arial;\n",
              "            font-size: 16px;\n",
              "            color: #777777;\n",
              "            margin-left: 5px;\n",
              "\n",
              "        }\n",
              "        .answer{\n",
              "            color: #dc7b15;\n",
              "        }\n",
              "        .question_title {\n",
              "            color: grey;\n",
              "            display: block;\n",
              "            text-transform: none;\n",
              "        }      \n",
              "        div.output_scroll { \n",
              "            height: auto; \n",
              "        }\n",
              "    </style><div class=\"single_answer\">Individuals who are <span class='answer'>overweight or suffering from obesity</span> are in a chronic state of low-grade inflammation, making them particularly susceptible to developing severe forms of respiratory failure. Studies conducted in past pandemics link obesity with worse health outcomes. This population is thus of particular concern within the context of the COVID-19 pandemic, considering the cessation of obesity management services. This systematic review highlights [1] the reciprocal link between the obesity and COVID-19 pandemics, [2] obesity as a risk factor for more severe disease in past pandemics, [3] potential mechanisms that make individual's suffering from obesity more susceptible to severe disease and higher viral load, and [4] the need to safely resume bariatric services as recommended by expert guidelines, in order to mitigate the health outcomes of an already vulnerable population.</div>"
            ],
            "text/plain": [
              "<IPython.core.display.HTML object>"
            ]
          },
          "metadata": {},
          "output_type": "display_data"
        },
        {
          "data": {
            "text/html": [
              "<style>\n",
              "        div {\n",
              "            color: black;\n",
              "        }\n",
              "        .single_answer {\n",
              "            border-left: 3px solid #dc7b15;\n",
              "            padding-left: 10px;\n",
              "            font-family: Arial;\n",
              "            font-size: 16px;\n",
              "            color: #777777;\n",
              "            margin-left: 5px;\n",
              "\n",
              "        }\n",
              "        .answer{\n",
              "            color: #dc7b15;\n",
              "        }\n",
              "        .question_title {\n",
              "            color: grey;\n",
              "            display: block;\n",
              "            text-transform: none;\n",
              "        }      \n",
              "        div.output_scroll { \n",
              "            height: auto; \n",
              "        }\n",
              "    </style><div class=\"single_answer\">The coronavirus infection is an evolving pandemic with high morbidity and mortality, especially in people with comorbidities. The case fatality rate (CFR) is 9.2% in the presence of diabetes, while it is 1.4% in those without any comorbidity. Diabetes is a prevalent disease globally; hence, healthcare professionals are highly concerned about severe acute respiratory syndrome coronavirus 2 (SARS-CoV-2) pandemic progression. Current evidence does not support higher incidence of coronavirus disease 2019 (COVID-19) in <span class='answer'>people with diabetes</span> (PWD). However, people with diabetes are considered high risk for developing complications. Optimal metabolic control is a challenging concept, especially in the presence of an acute and severe respiratory viral infection. In this consensus, we considered the challenging issues in management of patients with diabetes during the COVID-19 pandemic. The consensus covers various aspects of outpatient as well as inpatient care based on the current evidence.</div>"
            ],
            "text/plain": [
              "<IPython.core.display.HTML object>"
            ]
          },
          "metadata": {},
          "output_type": "display_data"
        },
        {
          "data": {
            "text/html": [
              "<style>\n",
              "        div {\n",
              "            color: black;\n",
              "        }\n",
              "        .single_answer {\n",
              "            border-left: 3px solid #dc7b15;\n",
              "            padding-left: 10px;\n",
              "            font-family: Arial;\n",
              "            font-size: 16px;\n",
              "            color: #777777;\n",
              "            margin-left: 5px;\n",
              "\n",
              "        }\n",
              "        .answer{\n",
              "            color: #dc7b15;\n",
              "        }\n",
              "        .question_title {\n",
              "            color: grey;\n",
              "            display: block;\n",
              "            text-transform: none;\n",
              "        }      \n",
              "        div.output_scroll { \n",
              "            height: auto; \n",
              "        }\n",
              "    </style><div class=\"single_answer\">The coronavirus infection is an evolving pandemic with high morbidity and mortality, especially in people with comorbidities. The case fatality rate (CFR) is 9.2% in the presence of diabetes, while it is 1.4% in those without any comorbidity. Diabetes is a prevalent disease globally; hence, healthcare professionals are highly concerned about severe acute respiratory syndrome coronavirus 2 (SARS-CoV-2) pandemic progression. Current evidence does not support higher incidence of coronavirus disease 2019 (COVID-19) in <span class='answer'>people with diabetes</span> (PWD). However, people with diabetes are considered high risk for developing complications. Optimal metabolic control is a challenging concept, especially in the presence of an acute and severe respiratory viral infection. In this consensus, we considered the challenging issues in management of patients with diabetes during the COVID-19 pandemic. The consensus covers various aspects of outpatient as well as inpatient care based on the current evidence.</div>"
            ],
            "text/plain": [
              "<IPython.core.display.HTML object>"
            ]
          },
          "metadata": {},
          "output_type": "display_data"
        }
      ],
      "source": [
        "task = 2\n",
        "display_single_task(task, all_tasks[task-1])"
      ]
    },
    {
      "cell_type": "code",
      "execution_count": null,
      "metadata": {
        "colab": {
          "base_uri": "https://localhost:8080/",
          "height": 1000
        },
        "id": "8_ACRxo4HUtA",
        "outputId": "6a07e706-92ad-45a9-8a0f-9d6cd0af204f"
      },
      "outputs": [
        {
          "data": {
            "text/html": [
              "<style>\n",
              "        div {\n",
              "            color: black;\n",
              "        }\n",
              "        .single_answer {\n",
              "            border-left: 3px solid #dc7b15;\n",
              "            padding-left: 10px;\n",
              "            font-family: Arial;\n",
              "            font-size: 16px;\n",
              "            color: #777777;\n",
              "            margin-left: 5px;\n",
              "\n",
              "        }\n",
              "        .answer{\n",
              "            color: #dc7b15;\n",
              "        }\n",
              "        .question_title {\n",
              "            color: grey;\n",
              "            display: block;\n",
              "            text-transform: none;\n",
              "        }      \n",
              "        div.output_scroll { \n",
              "            height: auto; \n",
              "        }\n",
              "    </style><h1 class='task_title'>Task 3: What do we know about virus genetics, origin, and evolution?</h1>"
            ],
            "text/plain": [
              "<IPython.core.display.HTML object>"
            ]
          },
          "metadata": {},
          "output_type": "display_data"
        },
        {
          "data": {
            "text/html": [
              "<style>\n",
              "        div {\n",
              "            color: black;\n",
              "        }\n",
              "        .single_answer {\n",
              "            border-left: 3px solid #dc7b15;\n",
              "            padding-left: 10px;\n",
              "            font-family: Arial;\n",
              "            font-size: 16px;\n",
              "            color: #777777;\n",
              "            margin-left: 5px;\n",
              "\n",
              "        }\n",
              "        .answer{\n",
              "            color: #dc7b15;\n",
              "        }\n",
              "        .question_title {\n",
              "            color: grey;\n",
              "            display: block;\n",
              "            text-transform: none;\n",
              "        }      \n",
              "        div.output_scroll { \n",
              "            height: auto; \n",
              "        }\n",
              "    </style><h2 class='question_title'>1. can animals transmit 2019-ncov?</h2>"
            ],
            "text/plain": [
              "<IPython.core.display.HTML object>"
            ]
          },
          "metadata": {},
          "output_type": "display_data"
        },
        {
          "data": {
            "text/html": [
              "<style>\n",
              "        div {\n",
              "            color: black;\n",
              "        }\n",
              "        .single_answer {\n",
              "            border-left: 3px solid #dc7b15;\n",
              "            padding-left: 10px;\n",
              "            font-family: Arial;\n",
              "            font-size: 16px;\n",
              "            color: #777777;\n",
              "            margin-left: 5px;\n",
              "\n",
              "        }\n",
              "        .answer{\n",
              "            color: #dc7b15;\n",
              "        }\n",
              "        .question_title {\n",
              "            color: grey;\n",
              "            display: block;\n",
              "            text-transform: none;\n",
              "        }      \n",
              "        div.output_scroll { \n",
              "            height: auto; \n",
              "        }\n",
              "    </style><div class=\"single_answer\">Red foxes (Vulpes vulpes) are the most widespread members of the order of Carnivora. Since they often live in (peri)urban areas, <span class='answer'>they are a potential reservoir of viruses that transmit from wildlife to humans or domestic animals</span>. Here we evaluated the fecal viral microbiome of 13 red foxes by random PCR in combination with next-generation sequencing. Various novel viruses, including a parvovirus, bocavirus, adeno-associated virus, hepevirus, astroviruses, and picobirnaviruses, were identified.</div>"
            ],
            "text/plain": [
              "<IPython.core.display.HTML object>"
            ]
          },
          "metadata": {},
          "output_type": "display_data"
        },
        {
          "data": {
            "text/html": [
              "<style>\n",
              "        div {\n",
              "            color: black;\n",
              "        }\n",
              "        .single_answer {\n",
              "            border-left: 3px solid #dc7b15;\n",
              "            padding-left: 10px;\n",
              "            font-family: Arial;\n",
              "            font-size: 16px;\n",
              "            color: #777777;\n",
              "            margin-left: 5px;\n",
              "\n",
              "        }\n",
              "        .answer{\n",
              "            color: #dc7b15;\n",
              "        }\n",
              "        .question_title {\n",
              "            color: grey;\n",
              "            display: block;\n",
              "            text-transform: none;\n",
              "        }      \n",
              "        div.output_scroll { \n",
              "            height: auto; \n",
              "        }\n",
              "    </style><div class=\"single_answer\">Detailed genomic and structure-based analysis of a new coronavirus, namely 2019-nCoV, showed that the new virus is a new type of bat coronavirus and is genetically fairly distant from the human SARS coronavirus. Structure analysis of the spike (S) protein of this new virus showed that its S protein only binds weakly to the ACE2 receptor on human cells whereas the human SARS coronavirus exhibits strongly affinity to the ACE receptor. These findings suggest that the new virus <span class='answer'>does not readily transmit between humans</span> and should theoretically not able to cause very serious human infection. These data are important to guide design of infection control policy and inform the public on the nature of threat imposed by 2019-nCov when results of direct laboratory tests on this virus are not expected to be available in the near future.</div>"
            ],
            "text/plain": [
              "<IPython.core.display.HTML object>"
            ]
          },
          "metadata": {},
          "output_type": "display_data"
        },
        {
          "data": {
            "text/html": [
              "<style>\n",
              "        div {\n",
              "            color: black;\n",
              "        }\n",
              "        .single_answer {\n",
              "            border-left: 3px solid #dc7b15;\n",
              "            padding-left: 10px;\n",
              "            font-family: Arial;\n",
              "            font-size: 16px;\n",
              "            color: #777777;\n",
              "            margin-left: 5px;\n",
              "\n",
              "        }\n",
              "        .answer{\n",
              "            color: #dc7b15;\n",
              "        }\n",
              "        .question_title {\n",
              "            color: grey;\n",
              "            display: block;\n",
              "            text-transform: none;\n",
              "        }      \n",
              "        div.output_scroll { \n",
              "            height: auto; \n",
              "        }\n",
              "    </style><div class=\"single_answer\">Since 2002, three zoonotic coronaviruses (CoV), SARS-CoV, MERS-CoV and SARS-CoV-2 have emerged in humans, establishing that emergence of coronaviruses from animal reservoirs represents a significant pandemic threat SARS-CoV and MERS-CoV led to smaller epidemics with very high case fatality rates while SARS-CoV-2 resulted in a global pandemic These zoonotic coronaviruses have their likely origins in bat species and <span class='answer'>they transmit to humans through intermediate hosts</span> Coronaviruses can occasionally jump between host species due to their high rate of recombination Pandemic preparedness requires surveillance in animals and occupationally exposed humans and prevention and treatment strategies that have broad activity against coronaviruses</div>"
            ],
            "text/plain": [
              "<IPython.core.display.HTML object>"
            ]
          },
          "metadata": {},
          "output_type": "display_data"
        },
        {
          "data": {
            "text/html": [
              "<style>\n",
              "        div {\n",
              "            color: black;\n",
              "        }\n",
              "        .single_answer {\n",
              "            border-left: 3px solid #dc7b15;\n",
              "            padding-left: 10px;\n",
              "            font-family: Arial;\n",
              "            font-size: 16px;\n",
              "            color: #777777;\n",
              "            margin-left: 5px;\n",
              "\n",
              "        }\n",
              "        .answer{\n",
              "            color: #dc7b15;\n",
              "        }\n",
              "        .question_title {\n",
              "            color: grey;\n",
              "            display: block;\n",
              "            text-transform: none;\n",
              "        }      \n",
              "        div.output_scroll { \n",
              "            height: auto; \n",
              "        }\n",
              "    </style><div class=\"single_answer\">Since 2002, three zoonotic coronaviruses (CoV), SARS-CoV, MERS-CoV and SARS-CoV-2 have emerged in humans, establishing that emergence of coronaviruses from animal reservoirs represents a significant pandemic threat. SARS-CoV and MERS-CoV led to smaller epidemics with very high case fatality rates while SARS-CoV-2 resulted in a global pandemic. These zoonotic coronaviruses have their likely origins in bat species and <span class='answer'>they transmit to humans through intermediate hosts</span>. Coronaviruses can occasionally jump between host species due to their high rate of recombination. Pandemic preparedness requires surveillance in animals and occupationally exposed humans and prevention and treatment strategies that have broad activity against coronaviruses.</div>"
            ],
            "text/plain": [
              "<IPython.core.display.HTML object>"
            ]
          },
          "metadata": {},
          "output_type": "display_data"
        },
        {
          "data": {
            "text/html": [
              "<style>\n",
              "        div {\n",
              "            color: black;\n",
              "        }\n",
              "        .single_answer {\n",
              "            border-left: 3px solid #dc7b15;\n",
              "            padding-left: 10px;\n",
              "            font-family: Arial;\n",
              "            font-size: 16px;\n",
              "            color: #777777;\n",
              "            margin-left: 5px;\n",
              "\n",
              "        }\n",
              "        .answer{\n",
              "            color: #dc7b15;\n",
              "        }\n",
              "        .question_title {\n",
              "            color: grey;\n",
              "            display: block;\n",
              "            text-transform: none;\n",
              "        }      \n",
              "        div.output_scroll { \n",
              "            height: auto; \n",
              "        }\n",
              "    </style><div class=\"single_answer\">Since 2002, three zoonotic coronaviruses (CoV), SARS-CoV, MERS-CoV and SARS-CoV-2 have emerged in humans, establishing that emergence of coronaviruses from animal reservoirs represents a significant pandemic threat SARS-CoV and MERS-CoV led to smaller epidemics with very high case fatality rates while SARS-CoV-2 resulted in a global pandemic These zoonotic coronaviruses have their likely origins in bat species and <span class='answer'>they transmit to humans through intermediate hosts</span> Coronaviruses can occasionally jump between host species due to their high rate of recombination Pandemic preparedness requires surveillance in animals and occupationally exposed humans and prevention and treatment strategies that have broad activity against coronaviruses</div>"
            ],
            "text/plain": [
              "<IPython.core.display.HTML object>"
            ]
          },
          "metadata": {},
          "output_type": "display_data"
        },
        {
          "data": {
            "text/html": [
              "<style>\n",
              "        div {\n",
              "            color: black;\n",
              "        }\n",
              "        .single_answer {\n",
              "            border-left: 3px solid #dc7b15;\n",
              "            padding-left: 10px;\n",
              "            font-family: Arial;\n",
              "            font-size: 16px;\n",
              "            color: #777777;\n",
              "            margin-left: 5px;\n",
              "\n",
              "        }\n",
              "        .answer{\n",
              "            color: #dc7b15;\n",
              "        }\n",
              "        .question_title {\n",
              "            color: grey;\n",
              "            display: block;\n",
              "            text-transform: none;\n",
              "        }      \n",
              "        div.output_scroll { \n",
              "            height: auto; \n",
              "        }\n",
              "    </style><div class=\"single_answer\">The reservoir of the coronavirus isolated from patients with severe acute respiratory syndrome (SARS)(1,2) is still unknown, but is suspected to have been a wild animal species. Here we show that ferrets (Mustela furo) and domestic cats (Felis domesticus) are susceptible to infection by SARS coronavirus (SCV) and that <span class='answer'>they can efficiently transmit the virus to previously uninfected animals that are housed with them</span>. The observation that these two distantly related carnivores can so easily be infected with the virus indicates that the reservoir for this pathogen may involve a range of animal species. SUPPLEMENTARY INFORMATION: The online version of this article (doi:10.1038/425915a) contains supplementary material, which is available to authorized users.</div>"
            ],
            "text/plain": [
              "<IPython.core.display.HTML object>"
            ]
          },
          "metadata": {},
          "output_type": "display_data"
        },
        {
          "data": {
            "text/html": [
              "<style>\n",
              "        div {\n",
              "            color: black;\n",
              "        }\n",
              "        .single_answer {\n",
              "            border-left: 3px solid #dc7b15;\n",
              "            padding-left: 10px;\n",
              "            font-family: Arial;\n",
              "            font-size: 16px;\n",
              "            color: #777777;\n",
              "            margin-left: 5px;\n",
              "\n",
              "        }\n",
              "        .answer{\n",
              "            color: #dc7b15;\n",
              "        }\n",
              "        .question_title {\n",
              "            color: grey;\n",
              "            display: block;\n",
              "            text-transform: none;\n",
              "        }      \n",
              "        div.output_scroll { \n",
              "            height: auto; \n",
              "        }\n",
              "    </style><div class=\"single_answer\">Middle East Respiratory Syndrome Coronavirus (MERS-CoV) is an emerging zoonotic coronavirus that circulates in dromedary camels and <span class='answer'>sporadically transmit into humans</span>, subsequently resulting in community and nosocomial cases. The viral infection in humans has a range of disease severity from asymptomatic to severe pneumonia and death, whereas the infection in camels is usually asymptomatic. There is no approved antiviral therapy or vaccine for MERS-CoV infections although there have been a number of therapeutic and vaccine candidates under development, for both humans and camels. To date, there has been limited research on the immune responses and pathogenesis of MERS-CoV in both humans and camels. Here, this chapter is focused on MERS-CoV specific immunity in different species with some details regarding the various animal models.</div>"
            ],
            "text/plain": [
              "<IPython.core.display.HTML object>"
            ]
          },
          "metadata": {},
          "output_type": "display_data"
        },
        {
          "data": {
            "text/html": [
              "<style>\n",
              "        div {\n",
              "            color: black;\n",
              "        }\n",
              "        .single_answer {\n",
              "            border-left: 3px solid #dc7b15;\n",
              "            padding-left: 10px;\n",
              "            font-family: Arial;\n",
              "            font-size: 16px;\n",
              "            color: #777777;\n",
              "            margin-left: 5px;\n",
              "\n",
              "        }\n",
              "        .answer{\n",
              "            color: #dc7b15;\n",
              "        }\n",
              "        .question_title {\n",
              "            color: grey;\n",
              "            display: block;\n",
              "            text-transform: none;\n",
              "        }      \n",
              "        div.output_scroll { \n",
              "            height: auto; \n",
              "        }\n",
              "    </style><h2 class='question_title'>2. what animal did 2019-ncov come from?</h2>"
            ],
            "text/plain": [
              "<IPython.core.display.HTML object>"
            ]
          },
          "metadata": {},
          "output_type": "display_data"
        },
        {
          "data": {
            "text/html": [
              "<style>\n",
              "        div {\n",
              "            color: black;\n",
              "        }\n",
              "        .single_answer {\n",
              "            border-left: 3px solid #dc7b15;\n",
              "            padding-left: 10px;\n",
              "            font-family: Arial;\n",
              "            font-size: 16px;\n",
              "            color: #777777;\n",
              "            margin-left: 5px;\n",
              "\n",
              "        }\n",
              "        .answer{\n",
              "            color: #dc7b15;\n",
              "        }\n",
              "        .question_title {\n",
              "            color: grey;\n",
              "            display: block;\n",
              "            text-transform: none;\n",
              "        }      \n",
              "        div.output_scroll { \n",
              "            height: auto; \n",
              "        }\n",
              "    </style><div class=\"single_answer\">In the 5th February 2020 issue of Journal of Medical Virology a paper was published by Giovannetti et al., entitled \"The first two cases of 2019-nCoV in Italy: where they come from?\"1 . In this paper a phylogenetic and evolutionary analysis was applied to the virus identified in the first two subjects diagnosed in Italy with 2019-nCoV infection, recently renamed SARS-CoV-22 , two <span class='answer'>Chinese</span> spouses arrived in Italy for tourism. The diagnosis was performed by the virology team under direction of Maria R. Capobianchi, at the National Institute of Infectious Diseases (INMI) in Rome, Italy, where the patients are currently hospitalized. This article is protected by copyright. All rights reserved.</div>"
            ],
            "text/plain": [
              "<IPython.core.display.HTML object>"
            ]
          },
          "metadata": {},
          "output_type": "display_data"
        },
        {
          "data": {
            "text/html": [
              "<style>\n",
              "        div {\n",
              "            color: black;\n",
              "        }\n",
              "        .single_answer {\n",
              "            border-left: 3px solid #dc7b15;\n",
              "            padding-left: 10px;\n",
              "            font-family: Arial;\n",
              "            font-size: 16px;\n",
              "            color: #777777;\n",
              "            margin-left: 5px;\n",
              "\n",
              "        }\n",
              "        .answer{\n",
              "            color: #dc7b15;\n",
              "        }\n",
              "        .question_title {\n",
              "            color: grey;\n",
              "            display: block;\n",
              "            text-transform: none;\n",
              "        }      \n",
              "        div.output_scroll { \n",
              "            height: auto; \n",
              "        }\n",
              "    </style><div class=\"single_answer\">In the 5th February 2020 issue of Journal of Medical Virology a paper was published by Giovannetti et al., entitled \"The first two cases of 2019-nCoV in Italy: where they come from?\"1 . In this paper a phylogenetic and evolutionary analysis was applied to the virus identified in the first two subjects diagnosed in Italy with 2019-nCoV infection, recently renamed SARS-CoV-22 , two <span class='answer'>Chinese</span> spouses arrived in Italy for tourism. The diagnosis was performed by the virology team under direction of Maria R. Capobianchi, at the National Institute of Infectious Diseases (INMI) in Rome, Italy, where the patients are currently hospitalized. This article is protected by copyright. All rights reserved.</div>"
            ],
            "text/plain": [
              "<IPython.core.display.HTML object>"
            ]
          },
          "metadata": {},
          "output_type": "display_data"
        },
        {
          "data": {
            "text/html": [
              "<style>\n",
              "        div {\n",
              "            color: black;\n",
              "        }\n",
              "        .single_answer {\n",
              "            border-left: 3px solid #dc7b15;\n",
              "            padding-left: 10px;\n",
              "            font-family: Arial;\n",
              "            font-size: 16px;\n",
              "            color: #777777;\n",
              "            margin-left: 5px;\n",
              "\n",
              "        }\n",
              "        .answer{\n",
              "            color: #dc7b15;\n",
              "        }\n",
              "        .question_title {\n",
              "            color: grey;\n",
              "            display: block;\n",
              "            text-transform: none;\n",
              "        }      \n",
              "        div.output_scroll { \n",
              "            height: auto; \n",
              "        }\n",
              "    </style><div class=\"single_answer\">Since December 2019, a total of 41 cases of pneumonia of unknown etiology have been confirmed in Wuhan city, Hubei Province, China. Wuhan city is a major transportation hub with a population of more than 11 million people. Most of the patients visited a local <span class='answer'>fish</span> and wild animal market last month. At a national press conference held today, Dr. Jianguo Xu, an academician of the Chinese Academy of Engineering, who led a scientific team announced that a new-type coronavirus, tentatively named by World Health Organization as the 2019-new coronavirus (2019-nCoV), had caused this outbreak (1).</div>"
            ],
            "text/plain": [
              "<IPython.core.display.HTML object>"
            ]
          },
          "metadata": {},
          "output_type": "display_data"
        },
        {
          "data": {
            "text/html": [
              "<style>\n",
              "        div {\n",
              "            color: black;\n",
              "        }\n",
              "        .single_answer {\n",
              "            border-left: 3px solid #dc7b15;\n",
              "            padding-left: 10px;\n",
              "            font-family: Arial;\n",
              "            font-size: 16px;\n",
              "            color: #777777;\n",
              "            margin-left: 5px;\n",
              "\n",
              "        }\n",
              "        .answer{\n",
              "            color: #dc7b15;\n",
              "        }\n",
              "        .question_title {\n",
              "            color: grey;\n",
              "            display: block;\n",
              "            text-transform: none;\n",
              "        }      \n",
              "        div.output_scroll { \n",
              "            height: auto; \n",
              "        }\n",
              "    </style><div class=\"single_answer\">A review Remdesivir is a phosphoramidate prodrug of an adenine derivative, an RNA-dependent Rna polymerases(RdRp) inhibitor Remdesivir has broad-spectrum activities against RNA viruses such as MERS and SARS virus in cell cultures and <span class='answer'>animal models</span> As a potential drug for the treatment of 2019 novel coronavirus(2019nCoV)infections, two phase III trials were initiated in early Feb this year to evaluate the efficacy and safety after i v administration in patients infected with 2019-nCoV This review will focus on the antiviral mechanism, in vitro antiviral activity, animal experiments, toxicol , pharmacokinetics, and clin studies of remdesivir to help clinician gain a better understanding to the agent</div>"
            ],
            "text/plain": [
              "<IPython.core.display.HTML object>"
            ]
          },
          "metadata": {},
          "output_type": "display_data"
        },
        {
          "data": {
            "text/html": [
              "<style>\n",
              "        div {\n",
              "            color: black;\n",
              "        }\n",
              "        .single_answer {\n",
              "            border-left: 3px solid #dc7b15;\n",
              "            padding-left: 10px;\n",
              "            font-family: Arial;\n",
              "            font-size: 16px;\n",
              "            color: #777777;\n",
              "            margin-left: 5px;\n",
              "\n",
              "        }\n",
              "        .answer{\n",
              "            color: #dc7b15;\n",
              "        }\n",
              "        .question_title {\n",
              "            color: grey;\n",
              "            display: block;\n",
              "            text-transform: none;\n",
              "        }      \n",
              "        div.output_scroll { \n",
              "            height: auto; \n",
              "        }\n",
              "    </style><h2 class='question_title'>3. what real-time genomic tracking tools exist?</h2>"
            ],
            "text/plain": [
              "<IPython.core.display.HTML object>"
            ]
          },
          "metadata": {},
          "output_type": "display_data"
        },
        {
          "data": {
            "text/html": [
              "<style>\n",
              "        div {\n",
              "            color: black;\n",
              "        }\n",
              "        .single_answer {\n",
              "            border-left: 3px solid #dc7b15;\n",
              "            padding-left: 10px;\n",
              "            font-family: Arial;\n",
              "            font-size: 16px;\n",
              "            color: #777777;\n",
              "            margin-left: 5px;\n",
              "\n",
              "        }\n",
              "        .answer{\n",
              "            color: #dc7b15;\n",
              "        }\n",
              "        .question_title {\n",
              "            color: grey;\n",
              "            display: block;\n",
              "            text-transform: none;\n",
              "        }      \n",
              "        div.output_scroll { \n",
              "            height: auto; \n",
              "        }\n",
              "    </style><div class=\"single_answer\">BACKGROUND: The Middle East Respiratory Syndrome-related Coronavirus (MERS-CoV) continues to exist in the Middle East sporadically. Thorough investigations of the evolution of human coronaviruses (HCoVs) are urgently required. In the current study, we studied amplified fragments of ORF1a/b, Spike (S) gene, ORF3/4a, and ORF4b of four human MERS-CoV strains for tracking the evolution of MERS-CoV over time. METHODS: RNA isolated from nasopharyngeal aspirate, sputum, and tracheal swabs/aspirates from hospitalized patients with suspected MERS-CoV infection were analyzed for amplification of nine variable genomic fragments. Sequence comparisons were done using different <span class='answer'>bioinformatics tools</span> available. RESULTS: Several mutations were identified in ORF1a/b, ORF3/4a and ORF4b, with the highest mutation rates in the S gene. Five codons; 4 in ORF1a and 1 in the S gene, were found to be under selective pressure. Characteristic amino acid changes, potentially hosted and year specific were defined across the S protein and in the receptor-binding domain Phylogenetic analysis using S gene sequence revealed clustering of MERS-CoV strains into three main clades, A, B and C with subdivision of with clade B into B1 to B4. CONCLUSIONS: In conclusion, MERS-CoV appears to continuously evolve. It is recommended that the molecular and pathobiological characteristics of future MERS-CoV strains should be analyzed on regular basis to prevent potential future outbreaks at early phases.</div>"
            ],
            "text/plain": [
              "<IPython.core.display.HTML object>"
            ]
          },
          "metadata": {},
          "output_type": "display_data"
        },
        {
          "data": {
            "text/html": [
              "<style>\n",
              "        div {\n",
              "            color: black;\n",
              "        }\n",
              "        .single_answer {\n",
              "            border-left: 3px solid #dc7b15;\n",
              "            padding-left: 10px;\n",
              "            font-family: Arial;\n",
              "            font-size: 16px;\n",
              "            color: #777777;\n",
              "            margin-left: 5px;\n",
              "\n",
              "        }\n",
              "        .answer{\n",
              "            color: #dc7b15;\n",
              "        }\n",
              "        .question_title {\n",
              "            color: grey;\n",
              "            display: block;\n",
              "            text-transform: none;\n",
              "        }      \n",
              "        div.output_scroll { \n",
              "            height: auto; \n",
              "        }\n",
              "    </style><div class=\"single_answer\">The COVID-19 pandemic has disrupted health systems the world over, resulting in the loss of many lives and destabilising economies <span class='answer'>Phylogenomic tracking</span> of the pandemic represents one of the ways to monitor its spread in real-time However, effective phylogenomic monitoring is dependent on the generation and analysis of rich genomic datasets In this study, we performed phylogenetic analysis on SARS-CoV-2 genome data for the African continent to illustrate the spread of the pandemic Africa's contribution to the SARS-CoV-2 genome data stands at just under 2% of the global total, with only seven countries currently represented on the NCBI virus database, and 16 countries on the GISAID database, as of 10 August 2020 A large portion of the data (79%) in NCBI is from Egypt, while sequence data from South Africa (48%) dominates the GISAID collection Although there exist a massive data gap in terms of geographic coverage and scale across both databases, the inferred phylogeny is consistent with Egypt having the first reported case of COVID-19 on the continent, with multiple independent infections in other parts of Africa However, we identify significant incongruences in the timing of sampling and placement of sequence on the inferred phylogeny We surmise that the source of incongruence is a probable discrepancy between sample collection and sequence generation, leading to phylogenetic placements that violate basic rule of molecular evolutionary progression Consequently, we propose the rapid processing of samples destined for sequencing as soon as they are collected, as Africa gradually increases its SARS-CoV-2 genomic footprint We also advocate for the release of SARS-CoV-2 genomic sequences to the public domain to facilitate quality research around the virus © 2020 IEEE</div>"
            ],
            "text/plain": [
              "<IPython.core.display.HTML object>"
            ]
          },
          "metadata": {},
          "output_type": "display_data"
        },
        {
          "data": {
            "text/html": [
              "<style>\n",
              "        div {\n",
              "            color: black;\n",
              "        }\n",
              "        .single_answer {\n",
              "            border-left: 3px solid #dc7b15;\n",
              "            padding-left: 10px;\n",
              "            font-family: Arial;\n",
              "            font-size: 16px;\n",
              "            color: #777777;\n",
              "            margin-left: 5px;\n",
              "\n",
              "        }\n",
              "        .answer{\n",
              "            color: #dc7b15;\n",
              "        }\n",
              "        .question_title {\n",
              "            color: grey;\n",
              "            display: block;\n",
              "            text-transform: none;\n",
              "        }      \n",
              "        div.output_scroll { \n",
              "            height: auto; \n",
              "        }\n",
              "    </style><h2 class='question_title'>4. what geographic variations are there in the genome of 2019-ncov?</h2>"
            ],
            "text/plain": [
              "<IPython.core.display.HTML object>"
            ]
          },
          "metadata": {},
          "output_type": "display_data"
        },
        {
          "data": {
            "text/html": [
              "<style>\n",
              "        div {\n",
              "            color: black;\n",
              "        }\n",
              "        .single_answer {\n",
              "            border-left: 3px solid #dc7b15;\n",
              "            padding-left: 10px;\n",
              "            font-family: Arial;\n",
              "            font-size: 16px;\n",
              "            color: #777777;\n",
              "            margin-left: 5px;\n",
              "\n",
              "        }\n",
              "        .answer{\n",
              "            color: #dc7b15;\n",
              "        }\n",
              "        .question_title {\n",
              "            color: grey;\n",
              "            display: block;\n",
              "            text-transform: none;\n",
              "        }      \n",
              "        div.output_scroll { \n",
              "            height: auto; \n",
              "        }\n",
              "    </style><div class=\"single_answer\">Severe acute respiratory syndrome coronavirus (SARS-CoV) was discovered as a novel pathogen in the 2002-2003 SARS epidemic. The emergence and disappearance of this pathogen have brought questions regarding its source and evolution. Within the genome sequences of 281 SARS-CoVs, severe acute respiratory syndrome coronavirus 2 (SARS-CoV-2), and SARS-related CoVs (SARSr-CoVs), a ~430 bp genomic region (from <span class='answer'>27 701 bp to 28 131 bp</span> in AY390556.1) with regular variations was investigated. This ~430 bp region overlaps with the ORF8 gene and is prone to deletions and nucleotide substitutions. Its complexity suggested the need for a new genotyping method for coronaviruses related to SARS-similar coronaviruses (SARS-CoV, SARSr-CoV, and SARS-CoV-2). Bat SARSr-CoV presented 3 genotypes, of which type 0 is only seen in bat SARSr-CoV, type I is present in SARS in the early phase, and type II is found in all SARS-CoV-2. This genotyping also shows potential usage in distinguishing the SARS-similar coronaviruses from different hosts and geographic areas. This genomic region has important implications for predicting the epidemic trend and studying the evolution of coronavirus.</div>"
            ],
            "text/plain": [
              "<IPython.core.display.HTML object>"
            ]
          },
          "metadata": {},
          "output_type": "display_data"
        },
        {
          "data": {
            "text/html": [
              "<style>\n",
              "        div {\n",
              "            color: black;\n",
              "        }\n",
              "        .single_answer {\n",
              "            border-left: 3px solid #dc7b15;\n",
              "            padding-left: 10px;\n",
              "            font-family: Arial;\n",
              "            font-size: 16px;\n",
              "            color: #777777;\n",
              "            margin-left: 5px;\n",
              "\n",
              "        }\n",
              "        .answer{\n",
              "            color: #dc7b15;\n",
              "        }\n",
              "        .question_title {\n",
              "            color: grey;\n",
              "            display: block;\n",
              "            text-transform: none;\n",
              "        }      \n",
              "        div.output_scroll { \n",
              "            height: auto; \n",
              "        }\n",
              "    </style><div class=\"single_answer\">Severe acute respiratory syndrome coronavirus (SARS-CoV) was discovered as a novel pathogen in the 2002–2003 SARS epidemic. The emergence and disappearance of this pathogen have brought questions regarding its source and evolution. Within the genome sequences of 281 SARS-CoVs, severe acute respiratory syndrome coronavirus 2 (SARS-CoV-2), and SARS-related CoVs (SARSr-CoVs), a ~430 bp genomic region (from <span class='answer'>27 701 bp to 28 131 bp</span> in AY390556.1) with regular variations was investigated. This ~430 bp region overlaps with the ORF8 gene and is prone to deletions and nucleotide substitutions. Its complexity suggested the need for a new genotyping method for coronaviruses related to SARS-similar coronaviruses (SARS-CoV, SARSr-CoV, and SARS-CoV-2). Bat SARSr-CoV presented 3 genotypes, of which type 0 is only seen in bat SARSr-CoV, type I is present in SARS in the early phase, and type II is found in all SARS-CoV-2. This genotyping also shows potential usage in distinguishing the SARS-similar coronaviruses from different hosts and geographic areas. This genomic region has important implications for predicting the epidemic trend and studying the evolution of coronavirus.</div>"
            ],
            "text/plain": [
              "<IPython.core.display.HTML object>"
            ]
          },
          "metadata": {},
          "output_type": "display_data"
        },
        {
          "data": {
            "text/html": [
              "<style>\n",
              "        div {\n",
              "            color: black;\n",
              "        }\n",
              "        .single_answer {\n",
              "            border-left: 3px solid #dc7b15;\n",
              "            padding-left: 10px;\n",
              "            font-family: Arial;\n",
              "            font-size: 16px;\n",
              "            color: #777777;\n",
              "            margin-left: 5px;\n",
              "\n",
              "        }\n",
              "        .answer{\n",
              "            color: #dc7b15;\n",
              "        }\n",
              "        .question_title {\n",
              "            color: grey;\n",
              "            display: block;\n",
              "            text-transform: none;\n",
              "        }      \n",
              "        div.output_scroll { \n",
              "            height: auto; \n",
              "        }\n",
              "    </style><div class=\"single_answer\">As the infection of 2019-nCoV coronavirus is quickly developing into a global pneumonia epidemic, the careful analysis of its transmission and cellular mechanisms is sorely needed. In this Communication, we first analyzed two recent studies that concluded that snakes are the intermediate hosts of 2019-nCoV and that the 2019-nCoV spike protein insertions share a unique similarity to HIV-1. However, the reimplementation of the analyses, built on larger scale data sets using state-of-the-art bioinformatics methods and databases, presents clear evidence that rebuts these conclusions. Next, using metagenomic samples from Manis javanica, we assembled a draft genome of the 2019-nCoV-like coronavirus, which shows 73% coverage and 91% sequence identity to the 2019-nCoV genome. In particular, the alignments of the spike surface glycoprotein receptor binding domain revealed <span class='answer'>four times more variations</span> in the bat coronavirus RaTG13 than in the Manis coronavirus compared with 2019-nCoV, suggesting the pangolin as a missing link in the transmission of 2019-nCoV from bats to human.</div>"
            ],
            "text/plain": [
              "<IPython.core.display.HTML object>"
            ]
          },
          "metadata": {},
          "output_type": "display_data"
        },
        {
          "data": {
            "text/html": [
              "<style>\n",
              "        div {\n",
              "            color: black;\n",
              "        }\n",
              "        .single_answer {\n",
              "            border-left: 3px solid #dc7b15;\n",
              "            padding-left: 10px;\n",
              "            font-family: Arial;\n",
              "            font-size: 16px;\n",
              "            color: #777777;\n",
              "            margin-left: 5px;\n",
              "\n",
              "        }\n",
              "        .answer{\n",
              "            color: #dc7b15;\n",
              "        }\n",
              "        .question_title {\n",
              "            color: grey;\n",
              "            display: block;\n",
              "            text-transform: none;\n",
              "        }      \n",
              "        div.output_scroll { \n",
              "            height: auto; \n",
              "        }\n",
              "    </style><div class=\"single_answer\">As the infection of 2019-nCoV coronavirus is quickly developing into a global pneumonia epidemic, the careful analysis of its transmission and cellular mechanisms is sorely needed. In this Communication, we first analyzed two recent studies that concluded that snakes are the intermediate hosts of 2019-nCoV and that the 2019-nCoV spike protein insertions share a unique similarity to HIV-1. However, the reimplementation of the analyses, built on larger scale data sets using state-of-the-art bioinformatics methods and databases, presents clear evidence that rebuts these conclusions. Next, using metagenomic samples from Manis javanica, we assembled a draft genome of the 2019-nCoV-like coronavirus, which shows 73% coverage and 91% sequence identity to the 2019-nCoV genome. In particular, the alignments of the spike surface glycoprotein receptor binding domain revealed <span class='answer'>four times more variations</span> in the bat coronavirus RaTG13 than in the Manis coronavirus compared with 2019-nCoV, suggesting the pangolin as a missing link in the transmission of 2019-nCoV from bats to human.</div>"
            ],
            "text/plain": [
              "<IPython.core.display.HTML object>"
            ]
          },
          "metadata": {},
          "output_type": "display_data"
        },
        {
          "data": {
            "text/html": [
              "<style>\n",
              "        div {\n",
              "            color: black;\n",
              "        }\n",
              "        .single_answer {\n",
              "            border-left: 3px solid #dc7b15;\n",
              "            padding-left: 10px;\n",
              "            font-family: Arial;\n",
              "            font-size: 16px;\n",
              "            color: #777777;\n",
              "            margin-left: 5px;\n",
              "\n",
              "        }\n",
              "        .answer{\n",
              "            color: #dc7b15;\n",
              "        }\n",
              "        .question_title {\n",
              "            color: grey;\n",
              "            display: block;\n",
              "            text-transform: none;\n",
              "        }      \n",
              "        div.output_scroll { \n",
              "            height: auto; \n",
              "        }\n",
              "    </style><div class=\"single_answer\">[Image: see text] As the infection of 2019-nCoV coronavirus is quickly developing into a global pneumonia epidemic, the careful analysis of its transmission and cellular mechanisms is sorely needed. In this Communication, we first analyzed two recent studies that concluded that snakes are the intermediate hosts of 2019-nCoV and that the 2019-nCoV spike protein insertions share a unique similarity to HIV-1. However, the reimplementation of the analyses, built on larger scale data sets using state-of-the-art bioinformatics methods and databases, presents clear evidence that rebuts these conclusions. Next, using metagenomic samples from Manis javanica, we assembled a draft genome of the 2019-nCoV-like coronavirus, which shows 73% coverage and 91% sequence identity to the 2019-nCoV genome. In particular, the alignments of the spike surface glycoprotein receptor binding domain revealed <span class='answer'>four times more variations</span> in the bat coronavirus RaTG13 than in the Manis coronavirus compared with 2019-nCoV, suggesting the pangolin as a missing link in the transmission of 2019-nCoV from bats to human.</div>"
            ],
            "text/plain": [
              "<IPython.core.display.HTML object>"
            ]
          },
          "metadata": {},
          "output_type": "display_data"
        },
        {
          "data": {
            "text/html": [
              "<style>\n",
              "        div {\n",
              "            color: black;\n",
              "        }\n",
              "        .single_answer {\n",
              "            border-left: 3px solid #dc7b15;\n",
              "            padding-left: 10px;\n",
              "            font-family: Arial;\n",
              "            font-size: 16px;\n",
              "            color: #777777;\n",
              "            margin-left: 5px;\n",
              "\n",
              "        }\n",
              "        .answer{\n",
              "            color: #dc7b15;\n",
              "        }\n",
              "        .question_title {\n",
              "            color: grey;\n",
              "            display: block;\n",
              "            text-transform: none;\n",
              "        }      \n",
              "        div.output_scroll { \n",
              "            height: auto; \n",
              "        }\n",
              "    </style><div class=\"single_answer\">Severe acute respiratory syndrome (SARS) caused by SARS-associated coronavirus (SARS-CoV) is a fatal disease. Prevention of future outbreaks is essential and requires understanding pathogenesis and evolution of the virus. We have isolated a SARS-CoV in China and analyzed 47 SARS-CoV genomes with the aims to reveal the evolution trends of the virus and provide insights into understanding pathogenesis and SARS epidemic. Specimen from a SARS patient was inoculated into cell culture. The presence of SARS-CoV was determined by RT-PCR and confirmed by electron microscopy. Virus was isolated followed by the determination of its genome sequences, which were then analyzed by comparing with other 46 SARS-CoV genomes. Genetic mutations with potential implications to pathogenesis and the epidemic were characterized. This viral genome consists of 29,728 nucleotides with overall organization in agreement with that of published isolates. A total of 348 positions were mutated on 47 viral genomes. Among them 22 had mutations in more than three genomes. <span class='answer'>Hot spots of nucleotide variations</span> and unique trends of mutations were identified on the viral genomes. Mutation rates were different from gene to gene and were correlated well with periodical or geographic characteristics of the epidemic.</div>"
            ],
            "text/plain": [
              "<IPython.core.display.HTML object>"
            ]
          },
          "metadata": {},
          "output_type": "display_data"
        },
        {
          "data": {
            "text/html": [
              "<style>\n",
              "        div {\n",
              "            color: black;\n",
              "        }\n",
              "        .single_answer {\n",
              "            border-left: 3px solid #dc7b15;\n",
              "            padding-left: 10px;\n",
              "            font-family: Arial;\n",
              "            font-size: 16px;\n",
              "            color: #777777;\n",
              "            margin-left: 5px;\n",
              "\n",
              "        }\n",
              "        .answer{\n",
              "            color: #dc7b15;\n",
              "        }\n",
              "        .question_title {\n",
              "            color: grey;\n",
              "            display: block;\n",
              "            text-transform: none;\n",
              "        }      \n",
              "        div.output_scroll { \n",
              "            height: auto; \n",
              "        }\n",
              "    </style><h2 class='question_title'>5. what effors are being done in asia to prevent further outbreaks?</h2>"
            ],
            "text/plain": [
              "<IPython.core.display.HTML object>"
            ]
          },
          "metadata": {},
          "output_type": "display_data"
        },
        {
          "data": {
            "text/html": [
              "<style>\n",
              "        div {\n",
              "            color: black;\n",
              "        }\n",
              "        .single_answer {\n",
              "            border-left: 3px solid #dc7b15;\n",
              "            padding-left: 10px;\n",
              "            font-family: Arial;\n",
              "            font-size: 16px;\n",
              "            color: #777777;\n",
              "            margin-left: 5px;\n",
              "\n",
              "        }\n",
              "        .answer{\n",
              "            color: #dc7b15;\n",
              "        }\n",
              "        .question_title {\n",
              "            color: grey;\n",
              "            display: block;\n",
              "            text-transform: none;\n",
              "        }      \n",
              "        div.output_scroll { \n",
              "            height: auto; \n",
              "        }\n",
              "    </style><div class=\"single_answer\">The purpose of this work is two-fold. First, it intends to discuss and reflect on the transition from faceto-face to remote learning in accounting education because of the COVID-19 pandemic. And second, it presents the results of a netnography study conducted at the beginning of the COVID-19 outbreak in Brazil (March and April of 2020). I also provide some personal experiences during these times. In section 2, I provide key technology resources I found helpful for accounting instructors and students. In section 3, I discuss the implications for instructors and students brought by the COVID-19. I especially appreciate the effors that both instructors and students are doing <span class='answer'>to keep their academic lives going</span>, despite all the adversity. In section 4, I describe a netnography study in which I examined data from a graduate students' Facebook community. And in section 5, I report closing thoughts.</div>"
            ],
            "text/plain": [
              "<IPython.core.display.HTML object>"
            ]
          },
          "metadata": {},
          "output_type": "display_data"
        },
        {
          "data": {
            "text/html": [
              "<style>\n",
              "        div {\n",
              "            color: black;\n",
              "        }\n",
              "        .single_answer {\n",
              "            border-left: 3px solid #dc7b15;\n",
              "            padding-left: 10px;\n",
              "            font-family: Arial;\n",
              "            font-size: 16px;\n",
              "            color: #777777;\n",
              "            margin-left: 5px;\n",
              "\n",
              "        }\n",
              "        .answer{\n",
              "            color: #dc7b15;\n",
              "        }\n",
              "        .question_title {\n",
              "            color: grey;\n",
              "            display: block;\n",
              "            text-transform: none;\n",
              "        }      \n",
              "        div.output_scroll { \n",
              "            height: auto; \n",
              "        }\n",
              "    </style><div class=\"single_answer\">Objective: This study has been done to assess Malaysia's effectiveness in handling COVID-19 compared to other countries in South East Asia Methods: <span class='answer'>Stochastic Frontier Analysis</span> is capable of compiling the effectiveness of dealing with COVID-19 outbreaks according to its function and not using a specific distribution function The highest technical efficiency score is the most efficient and reflects the ability of the country to deal with the COVID-19 outbreak, which is very well without any problems Results: Thailand was shown to be ranked 1 (TE = 0 88341) with a technical efficiency score higher than most other countries The score for second place is Malaysia with a technical efficiency score of TE = 0 88338, the third place score is Indonesia (TE = 0 83342) and last position is Philippine (TE = 0 67706) Conclusions: Ministry of Health took the implementation of MCO, and action did put Malaysia as the second most effective country in Southeast Asia in managing COVID-19 infection This data hopefully, could benefit Malaysia and all other countries to handle this COVID-19 epidemic</div>"
            ],
            "text/plain": [
              "<IPython.core.display.HTML object>"
            ]
          },
          "metadata": {},
          "output_type": "display_data"
        },
        {
          "data": {
            "text/html": [
              "<style>\n",
              "        div {\n",
              "            color: black;\n",
              "        }\n",
              "        .single_answer {\n",
              "            border-left: 3px solid #dc7b15;\n",
              "            padding-left: 10px;\n",
              "            font-family: Arial;\n",
              "            font-size: 16px;\n",
              "            color: #777777;\n",
              "            margin-left: 5px;\n",
              "\n",
              "        }\n",
              "        .answer{\n",
              "            color: #dc7b15;\n",
              "        }\n",
              "        .question_title {\n",
              "            color: grey;\n",
              "            display: block;\n",
              "            text-transform: none;\n",
              "        }      \n",
              "        div.output_scroll { \n",
              "            height: auto; \n",
              "        }\n",
              "    </style><div class=\"single_answer\">Diseases transmitted from animals have assumed substantial public health importance. Avian influenza, severe acute respiratory syndrome, and Nipah virus infection are a few examples of growing number of diseases that humans can contract from animals. These diseases can cause huge economic losses in addition to mortality and morbidity. In developing countries of Asia, there is a continuous and close contact between animals and humans, especially in rural settings. The prevailing sociocultural practices and weak public health infrastructure further enhances the vulnerability of Asia as the epicenter of outbreaks due to zoonotic infections. There is a clear need of <span class='answer'>greater awareness and application of a multisectoral and multidisciplinary approach</span> to prevent and control zoonotic infections.</div>"
            ],
            "text/plain": [
              "<IPython.core.display.HTML object>"
            ]
          },
          "metadata": {},
          "output_type": "display_data"
        },
        {
          "data": {
            "text/html": [
              "<style>\n",
              "        div {\n",
              "            color: black;\n",
              "        }\n",
              "        .single_answer {\n",
              "            border-left: 3px solid #dc7b15;\n",
              "            padding-left: 10px;\n",
              "            font-family: Arial;\n",
              "            font-size: 16px;\n",
              "            color: #777777;\n",
              "            margin-left: 5px;\n",
              "\n",
              "        }\n",
              "        .answer{\n",
              "            color: #dc7b15;\n",
              "        }\n",
              "        .question_title {\n",
              "            color: grey;\n",
              "            display: block;\n",
              "            text-transform: none;\n",
              "        }      \n",
              "        div.output_scroll { \n",
              "            height: auto; \n",
              "        }\n",
              "    </style><div class=\"single_answer\">From 2010, porcine epidemic diarrhea virus (PEDV) variants caused sequential outbreaks of disease in Asia and the United States. In this retrospective study, 49 complete spike (S) gene sequences were obtained from PEDV strains collected in China from 2014-2016. We observed that variant PEDV strains with novel insertions, deletions, and multiple S gene recombination types were present in China. In addition, mixed infections involving different variant strains were observed in some areas. Based on phylogenetic and recombination analyses, we determined that the newly emerged PEDV variants potentially originated via recombination between the earliest Chinese G1 genogroup strain, JS-2004-2, and earlier Korean pandemic strains. These findings provide important information for understanding ongoing PEDV outbreaks, and suggest that <span class='answer'>novel variants make it more difficult to prevent PEDV infection</span>.</div>"
            ],
            "text/plain": [
              "<IPython.core.display.HTML object>"
            ]
          },
          "metadata": {},
          "output_type": "display_data"
        },
        {
          "data": {
            "text/html": [
              "<style>\n",
              "        div {\n",
              "            color: black;\n",
              "        }\n",
              "        .single_answer {\n",
              "            border-left: 3px solid #dc7b15;\n",
              "            padding-left: 10px;\n",
              "            font-family: Arial;\n",
              "            font-size: 16px;\n",
              "            color: #777777;\n",
              "            margin-left: 5px;\n",
              "\n",
              "        }\n",
              "        .answer{\n",
              "            color: #dc7b15;\n",
              "        }\n",
              "        .question_title {\n",
              "            color: grey;\n",
              "            display: block;\n",
              "            text-transform: none;\n",
              "        }      \n",
              "        div.output_scroll { \n",
              "            height: auto; \n",
              "        }\n",
              "    </style><div class=\"single_answer\">From 2010, porcine epidemic diarrhea virus (PEDV) variants caused sequential outbreaks of disease in Asia and the United States In this retrospective study, 49 complete spike (S) gene sequences were obtained from PEDV strains collected in China from 2014 to 2016 We observed that variant PEDV strains with novel insertions, deletions, and multiple S gene recombination types were present in China In addition, mixed infections involving different variant strains were observed in some areas Based on phylogenetic and recombination analyses, we determined that the newly emerged PEDV variants potentially originated via recombination between the earliest Chinese G1 genogroup strain, JS-2004-2 and earlier Korean pandemic strains These findings provide important information for understanding ongoing PEDV outbreaks and suggest that <span class='answer'>novel variants make it more difficult to prevent PEDV infection</span></div>"
            ],
            "text/plain": [
              "<IPython.core.display.HTML object>"
            ]
          },
          "metadata": {},
          "output_type": "display_data"
        }
      ],
      "source": [
        "task = 3\n",
        "display_single_task(task, all_tasks[task-1])"
      ]
    },
    {
      "cell_type": "code",
      "execution_count": null,
      "metadata": {
        "colab": {
          "base_uri": "https://localhost:8080/",
          "height": 1000
        },
        "id": "R7egDsyfHUtB",
        "outputId": "1475783d-e9f6-4d60-b184-8fcbe25c13d4"
      },
      "outputs": [
        {
          "data": {
            "text/html": [
              "<style>\n",
              "        div {\n",
              "            color: black;\n",
              "        }\n",
              "        .single_answer {\n",
              "            border-left: 3px solid #dc7b15;\n",
              "            padding-left: 10px;\n",
              "            font-family: Arial;\n",
              "            font-size: 16px;\n",
              "            color: #777777;\n",
              "            margin-left: 5px;\n",
              "\n",
              "        }\n",
              "        .answer{\n",
              "            color: #dc7b15;\n",
              "        }\n",
              "        .question_title {\n",
              "            color: grey;\n",
              "            display: block;\n",
              "            text-transform: none;\n",
              "        }      \n",
              "        div.output_scroll { \n",
              "            height: auto; \n",
              "        }\n",
              "    </style><h1 class='task_title'>Task 4: What do we know about vaccines and therapeutics?</h1>"
            ],
            "text/plain": [
              "<IPython.core.display.HTML object>"
            ]
          },
          "metadata": {},
          "output_type": "display_data"
        },
        {
          "data": {
            "text/html": [
              "<style>\n",
              "        div {\n",
              "            color: black;\n",
              "        }\n",
              "        .single_answer {\n",
              "            border-left: 3px solid #dc7b15;\n",
              "            padding-left: 10px;\n",
              "            font-family: Arial;\n",
              "            font-size: 16px;\n",
              "            color: #777777;\n",
              "            margin-left: 5px;\n",
              "\n",
              "        }\n",
              "        .answer{\n",
              "            color: #dc7b15;\n",
              "        }\n",
              "        .question_title {\n",
              "            color: grey;\n",
              "            display: block;\n",
              "            text-transform: none;\n",
              "        }      \n",
              "        div.output_scroll { \n",
              "            height: auto; \n",
              "        }\n",
              "    </style><h2 class='question_title'>1. what drugs or therapies are being investigated?</h2>"
            ],
            "text/plain": [
              "<IPython.core.display.HTML object>"
            ]
          },
          "metadata": {},
          "output_type": "display_data"
        },
        {
          "data": {
            "text/html": [
              "<style>\n",
              "        div {\n",
              "            color: black;\n",
              "        }\n",
              "        .single_answer {\n",
              "            border-left: 3px solid #dc7b15;\n",
              "            padding-left: 10px;\n",
              "            font-family: Arial;\n",
              "            font-size: 16px;\n",
              "            color: #777777;\n",
              "            margin-left: 5px;\n",
              "\n",
              "        }\n",
              "        .answer{\n",
              "            color: #dc7b15;\n",
              "        }\n",
              "        .question_title {\n",
              "            color: grey;\n",
              "            display: block;\n",
              "            text-transform: none;\n",
              "        }      \n",
              "        div.output_scroll { \n",
              "            height: auto; \n",
              "        }\n",
              "    </style><div class=\"single_answer\">There is currently no proven effective therapy for COVID-19. Here we discuss the drugs most investigated for the treatment of the disease. All the listed <span class='answer'>therapies</span> are experimental at this stage. However, due to the severe healthcare effects of the pandemic and the potentially fatal outcome of COVID-19 patients treated in the intensive care units, their off-label use should none-the-less be considered. Orv Hetil. 2020; 161(17): 685­688.</div>"
            ],
            "text/plain": [
              "<IPython.core.display.HTML object>"
            ]
          },
          "metadata": {},
          "output_type": "display_data"
        },
        {
          "data": {
            "text/html": [
              "<style>\n",
              "        div {\n",
              "            color: black;\n",
              "        }\n",
              "        .single_answer {\n",
              "            border-left: 3px solid #dc7b15;\n",
              "            padding-left: 10px;\n",
              "            font-family: Arial;\n",
              "            font-size: 16px;\n",
              "            color: #777777;\n",
              "            margin-left: 5px;\n",
              "\n",
              "        }\n",
              "        .answer{\n",
              "            color: #dc7b15;\n",
              "        }\n",
              "        .question_title {\n",
              "            color: grey;\n",
              "            display: block;\n",
              "            text-transform: none;\n",
              "        }      \n",
              "        div.output_scroll { \n",
              "            height: auto; \n",
              "        }\n",
              "    </style><div class=\"single_answer\">There is currently no proven effective therapy for COVID-19. Here we discuss the drugs most investigated for the treatment of the disease. All the listed <span class='answer'>therapies</span> are experimental at this stage. However, due to the severe healthcare effects of the pandemic and the potentially fatal outcome of COVID-19 patients treated in the intensive care units, their off-label use should none-the-less be considered. Orv Hetil. 2020; 161(17): 685­688.</div>"
            ],
            "text/plain": [
              "<IPython.core.display.HTML object>"
            ]
          },
          "metadata": {},
          "output_type": "display_data"
        },
        {
          "data": {
            "text/html": [
              "<style>\n",
              "        div {\n",
              "            color: black;\n",
              "        }\n",
              "        .single_answer {\n",
              "            border-left: 3px solid #dc7b15;\n",
              "            padding-left: 10px;\n",
              "            font-family: Arial;\n",
              "            font-size: 16px;\n",
              "            color: #777777;\n",
              "            margin-left: 5px;\n",
              "\n",
              "        }\n",
              "        .answer{\n",
              "            color: #dc7b15;\n",
              "        }\n",
              "        .question_title {\n",
              "            color: grey;\n",
              "            display: block;\n",
              "            text-transform: none;\n",
              "        }      \n",
              "        div.output_scroll { \n",
              "            height: auto; \n",
              "        }\n",
              "    </style><div class=\"single_answer\">There is currently no proven effective therapy for COVID-19. Here we discuss the drugs most investigated for the treatment of the disease. All the listed <span class='answer'>therapies</span> are experimental at this stage. However, due to the severe healthcare effects of the pandemic and the potentially fatal outcome of COVID-19 patients treated in the intensive care units, their off-label use should none-the-less be considered. Orv Hetil. 2020; 161(17): 685­688.</div>"
            ],
            "text/plain": [
              "<IPython.core.display.HTML object>"
            ]
          },
          "metadata": {},
          "output_type": "display_data"
        },
        {
          "data": {
            "text/html": [
              "<style>\n",
              "        div {\n",
              "            color: black;\n",
              "        }\n",
              "        .single_answer {\n",
              "            border-left: 3px solid #dc7b15;\n",
              "            padding-left: 10px;\n",
              "            font-family: Arial;\n",
              "            font-size: 16px;\n",
              "            color: #777777;\n",
              "            margin-left: 5px;\n",
              "\n",
              "        }\n",
              "        .answer{\n",
              "            color: #dc7b15;\n",
              "        }\n",
              "        .question_title {\n",
              "            color: grey;\n",
              "            display: block;\n",
              "            text-transform: none;\n",
              "        }      \n",
              "        div.output_scroll { \n",
              "            height: auto; \n",
              "        }\n",
              "    </style><div class=\"single_answer\">Several <span class='answer'>immunosuppressive therapies</span> have been investigated as potential treatments for patients with severe and critical Coronavirus Disease 2019. Notable examples include corticosteroids, interleukin 6, interleukin 1, Janus kinase, and tumor necrosis alpha inhibitors. The aim of this narrative review is to analyze the mechanistic rationale and available evidence for these selected anti-rheumatic drugs for the treatment of COVID-19. Currently, only corticosteroids have consistently proven to be effective in decreasing mortality and are recommended in clinical guidelines for the treatment of severe and critical COVID-19. Multiple randomized controlled trials are ongoing to determine the role of other immunosuppressants.</div>"
            ],
            "text/plain": [
              "<IPython.core.display.HTML object>"
            ]
          },
          "metadata": {},
          "output_type": "display_data"
        },
        {
          "data": {
            "text/html": [
              "<style>\n",
              "        div {\n",
              "            color: black;\n",
              "        }\n",
              "        .single_answer {\n",
              "            border-left: 3px solid #dc7b15;\n",
              "            padding-left: 10px;\n",
              "            font-family: Arial;\n",
              "            font-size: 16px;\n",
              "            color: #777777;\n",
              "            margin-left: 5px;\n",
              "\n",
              "        }\n",
              "        .answer{\n",
              "            color: #dc7b15;\n",
              "        }\n",
              "        .question_title {\n",
              "            color: grey;\n",
              "            display: block;\n",
              "            text-transform: none;\n",
              "        }      \n",
              "        div.output_scroll { \n",
              "            height: auto; \n",
              "        }\n",
              "    </style><div class=\"single_answer\">Several <span class='answer'>immunosuppressive therapies</span> have been investigated as potential treatments for patients with severe and critical coronavirus disease 2019 (COVID-19). Notable examples include corticosteroids, interleukin 6 (IL-6), interleukin 1 (IL-1), Janus kinase (JAK), and tumor necrosis factor alpha (TNF-&#945;) inhibitors. The aim of this narrative review is to analyze the mechanistic rationale and available evidence for these selected anti-rheumatic drugs for the treatment of COVID-19. Currently, only corticosteroids have consistently proven to be effective in decreasing mortality and are recommended in clinical guidelines for the treatment of severe and critical COVID-19. Multiple randomized controlled trials (RCTs) are ongoing to determine the role of other immunosuppressants.</div>"
            ],
            "text/plain": [
              "<IPython.core.display.HTML object>"
            ]
          },
          "metadata": {},
          "output_type": "display_data"
        },
        {
          "data": {
            "text/html": [
              "<style>\n",
              "        div {\n",
              "            color: black;\n",
              "        }\n",
              "        .single_answer {\n",
              "            border-left: 3px solid #dc7b15;\n",
              "            padding-left: 10px;\n",
              "            font-family: Arial;\n",
              "            font-size: 16px;\n",
              "            color: #777777;\n",
              "            margin-left: 5px;\n",
              "\n",
              "        }\n",
              "        .answer{\n",
              "            color: #dc7b15;\n",
              "        }\n",
              "        .question_title {\n",
              "            color: grey;\n",
              "            display: block;\n",
              "            text-transform: none;\n",
              "        }      \n",
              "        div.output_scroll { \n",
              "            height: auto; \n",
              "        }\n",
              "    </style><div class=\"single_answer\">Numerous drugs are being investigated for the treatment of COVID-19, including <span class='answer'>antivirals</span> and therapies targeting complications related to COVID-19. The clinical presentation of COVID-19 varies from mild fever, cough, and dyspnea in the early stages of disease to severe complications such as acute respiratory distress syndrome, systemic hyperinflammation, and sepsis. A thorough understanding of the disease pathogenesis and the disease complications is essential to developing effective therapies to treat this potentially life-threatening disease. This review offers key clinical pharmacology considerations involved in the development of small molecules for the treatment of COVID-19. They are based on the major observed disease complications that impact drug absorption, distribution, metabolism, and elimination. We also address considerations regarding potential drug interactions, alternative routes and methods of administration, and dosing in patients on hemodialysis.</div>"
            ],
            "text/plain": [
              "<IPython.core.display.HTML object>"
            ]
          },
          "metadata": {},
          "output_type": "display_data"
        },
        {
          "data": {
            "text/html": [
              "<style>\n",
              "        div {\n",
              "            color: black;\n",
              "        }\n",
              "        .single_answer {\n",
              "            border-left: 3px solid #dc7b15;\n",
              "            padding-left: 10px;\n",
              "            font-family: Arial;\n",
              "            font-size: 16px;\n",
              "            color: #777777;\n",
              "            margin-left: 5px;\n",
              "\n",
              "        }\n",
              "        .answer{\n",
              "            color: #dc7b15;\n",
              "        }\n",
              "        .question_title {\n",
              "            color: grey;\n",
              "            display: block;\n",
              "            text-transform: none;\n",
              "        }      \n",
              "        div.output_scroll { \n",
              "            height: auto; \n",
              "        }\n",
              "    </style><div class=\"single_answer\">Numerous drugs are being investigated for the treatment of COVID‐19, including <span class='answer'>antivirals</span> and therapies targeting complications related to COVID‐19. The clinical presentation of COVID‐19 varies from mild fever, cough, and dyspnea in the early stages of disease to severe complications such as acute respiratory distress syndrome, systemic hyperinflammation, and sepsis. A thorough understanding of the disease pathogenesis and the disease complications is essential to developing effective therapies to treat this potentially life‐threatening disease. This review offers key clinical pharmacology considerations involved in the development of small molecules for the treatment of COVID‐19. They are based on the major observed disease complications that impact drug absorption, distribution, metabolism, and elimination. We also address considerations regarding potential drug interactions, alternative routes and methods of administration, and dosing in patients on hemodialysis.</div>"
            ],
            "text/plain": [
              "<IPython.core.display.HTML object>"
            ]
          },
          "metadata": {},
          "output_type": "display_data"
        },
        {
          "data": {
            "text/html": [
              "<style>\n",
              "        div {\n",
              "            color: black;\n",
              "        }\n",
              "        .single_answer {\n",
              "            border-left: 3px solid #dc7b15;\n",
              "            padding-left: 10px;\n",
              "            font-family: Arial;\n",
              "            font-size: 16px;\n",
              "            color: #777777;\n",
              "            margin-left: 5px;\n",
              "\n",
              "        }\n",
              "        .answer{\n",
              "            color: #dc7b15;\n",
              "        }\n",
              "        .question_title {\n",
              "            color: grey;\n",
              "            display: block;\n",
              "            text-transform: none;\n",
              "        }      \n",
              "        div.output_scroll { \n",
              "            height: auto; \n",
              "        }\n",
              "    </style><div class=\"single_answer\">The emerging coronavirus disease (COVID-19) swept across the world, affecting more than 200 countries and territories. Genomic analysis suggests that the COVID-19 virus originated in bats and transmitted to humans through unknown intermediate hosts in the Wuhan seafood market, China, in December of 2019. This virus belongs to the Betacoronavirus group, the same group of the 2003 severe acute respiratory syndrome coronavirus (SARS-CoV), and for the similarity, it was named SARS-CoV-2. Given the lack of registered clinical therapies or vaccines, many physicians and scientists are investigating <span class='answer'>previously used clinical drugs</span> for COVID-19 treatment. In this review, we aim to provide an overview of the CoVs origin, pathogenicity, and genomic structure, with a focus on SARS-CoV-2. Besides, we summarize the recently investigated drugs that constitute an option for COVID-19 treatment.</div>"
            ],
            "text/plain": [
              "<IPython.core.display.HTML object>"
            ]
          },
          "metadata": {},
          "output_type": "display_data"
        },
        {
          "data": {
            "text/html": [
              "<style>\n",
              "        div {\n",
              "            color: black;\n",
              "        }\n",
              "        .single_answer {\n",
              "            border-left: 3px solid #dc7b15;\n",
              "            padding-left: 10px;\n",
              "            font-family: Arial;\n",
              "            font-size: 16px;\n",
              "            color: #777777;\n",
              "            margin-left: 5px;\n",
              "\n",
              "        }\n",
              "        .answer{\n",
              "            color: #dc7b15;\n",
              "        }\n",
              "        .question_title {\n",
              "            color: grey;\n",
              "            display: block;\n",
              "            text-transform: none;\n",
              "        }      \n",
              "        div.output_scroll { \n",
              "            height: auto; \n",
              "        }\n",
              "    </style><h2 class='question_title'>2. are anti-inflammatory drugs recommended?</h2>"
            ],
            "text/plain": [
              "<IPython.core.display.HTML object>"
            ]
          },
          "metadata": {},
          "output_type": "display_data"
        },
        {
          "data": {
            "text/html": [
              "<style>\n",
              "        div {\n",
              "            color: black;\n",
              "        }\n",
              "        .single_answer {\n",
              "            border-left: 3px solid #dc7b15;\n",
              "            padding-left: 10px;\n",
              "            font-family: Arial;\n",
              "            font-size: 16px;\n",
              "            color: #777777;\n",
              "            margin-left: 5px;\n",
              "\n",
              "        }\n",
              "        .answer{\n",
              "            color: #dc7b15;\n",
              "        }\n",
              "        .question_title {\n",
              "            color: grey;\n",
              "            display: block;\n",
              "            text-transform: none;\n",
              "        }      \n",
              "        div.output_scroll { \n",
              "            height: auto; \n",
              "        }\n",
              "    </style><div class=\"single_answer\">The SARS-CoV-2 pandemic has led to the study of a multitude of drugs to alleviate the epidemic burden. Among them, only corticotherapy (dexamethasone) and more recently concomitant anti-inflammatory therapy with IL-6 antagonists have shown benefit on mortality and mechanic ventilation requirement in patients requiring oxygen support. The management of patients with COVID-19 relies mainly on established therapeutic principles : adequate oxygen therapy, protective mechanic ventilation, prophylactic anticoagulation and targeted antibiotic therapy in case of secondary infection. Other studied drugs, without proven significant benefit to this day, <span class='answer'>are not recommended</span> in order to avoid complications and costs. Studies are still ongoing for some drugs and new evidence should be closely monitored.</div>"
            ],
            "text/plain": [
              "<IPython.core.display.HTML object>"
            ]
          },
          "metadata": {},
          "output_type": "display_data"
        },
        {
          "data": {
            "text/html": [
              "<style>\n",
              "        div {\n",
              "            color: black;\n",
              "        }\n",
              "        .single_answer {\n",
              "            border-left: 3px solid #dc7b15;\n",
              "            padding-left: 10px;\n",
              "            font-family: Arial;\n",
              "            font-size: 16px;\n",
              "            color: #777777;\n",
              "            margin-left: 5px;\n",
              "\n",
              "        }\n",
              "        .answer{\n",
              "            color: #dc7b15;\n",
              "        }\n",
              "        .question_title {\n",
              "            color: grey;\n",
              "            display: block;\n",
              "            text-transform: none;\n",
              "        }      \n",
              "        div.output_scroll { \n",
              "            height: auto; \n",
              "        }\n",
              "    </style><div class=\"single_answer\">The SARS-CoV-2 pandemic has led to the study of a multitude of drugs to alleviate the epidemic burden. Among them, only corticotherapy (dexamethasone) and more recently concomitant anti-inflammatory therapy with IL-6 antagonists have shown benefit on mortality and mechanic ventilation requirement in patients requiring oxygen support. The management of patients with COVID-19 relies mainly on established therapeutic principles : adequate oxygen therapy, protective mechanic ventilation, prophylactic anticoagulation and targeted antibiotic therapy in case of secondary infection. Other studied drugs, without proven significant benefit to this day, <span class='answer'>are not recommended</span> in order to avoid complications and costs. Studies are still ongoing for some drugs and new evidence should be closely monitored.</div>"
            ],
            "text/plain": [
              "<IPython.core.display.HTML object>"
            ]
          },
          "metadata": {},
          "output_type": "display_data"
        },
        {
          "data": {
            "text/html": [
              "<style>\n",
              "        div {\n",
              "            color: black;\n",
              "        }\n",
              "        .single_answer {\n",
              "            border-left: 3px solid #dc7b15;\n",
              "            padding-left: 10px;\n",
              "            font-family: Arial;\n",
              "            font-size: 16px;\n",
              "            color: #777777;\n",
              "            margin-left: 5px;\n",
              "\n",
              "        }\n",
              "        .answer{\n",
              "            color: #dc7b15;\n",
              "        }\n",
              "        .question_title {\n",
              "            color: grey;\n",
              "            display: block;\n",
              "            text-transform: none;\n",
              "        }      \n",
              "        div.output_scroll { \n",
              "            height: auto; \n",
              "        }\n",
              "    </style><div class=\"single_answer\">The committee’s recommendation further fuels concerns about ibuprofen, which several UK agencies said last week could be used for treating symptoms of covid-19 1 The Medicines and Healthcare Products Regulatory Agency (MHRA), NHS England, and the National Institute for Health and Care Excellence previously recommended that paracetamol be used in preference to ibuprofen for symptoms of covid-19 2 But last week they said that ibuprofen could be used in the same way as paracetamol after the Commission on Human Medicines found that there was insufficient evidence to establish a link between ibuprofen or other non-steroidal anti-inflammatory drugs (NSAIDs) and contracting or worsening covid-19 A spokesperson from the MHRA said: “<span class='answer'>The PRAC recommendation will lead to updates to the product information for ibuprofen and ketoprofen in the UK so that the products have consistent warnings about the potential for NSAIDs to mask symptoms of bacterial infection</span> ” The review was prompted by the findings of a survey by the French National Agency for Medicines and Health Products Safety, which suggested that infection with varicella and some bacterial infections could be made worse by these drugs 3 The committee reviewed data in the literature, analysed spontaneous reports, and consulted with relevant experts at the European Medicines Agency</div>"
            ],
            "text/plain": [
              "<IPython.core.display.HTML object>"
            ]
          },
          "metadata": {},
          "output_type": "display_data"
        },
        {
          "data": {
            "text/html": [
              "<style>\n",
              "        div {\n",
              "            color: black;\n",
              "        }\n",
              "        .single_answer {\n",
              "            border-left: 3px solid #dc7b15;\n",
              "            padding-left: 10px;\n",
              "            font-family: Arial;\n",
              "            font-size: 16px;\n",
              "            color: #777777;\n",
              "            margin-left: 5px;\n",
              "\n",
              "        }\n",
              "        .answer{\n",
              "            color: #dc7b15;\n",
              "        }\n",
              "        .question_title {\n",
              "            color: grey;\n",
              "            display: block;\n",
              "            text-transform: none;\n",
              "        }      \n",
              "        div.output_scroll { \n",
              "            height: auto; \n",
              "        }\n",
              "    </style><h2 class='question_title'>3. will the results of serology testing done overseas be accepted in singapore?</h2>"
            ],
            "text/plain": [
              "<IPython.core.display.HTML object>"
            ]
          },
          "metadata": {},
          "output_type": "display_data"
        },
        {
          "data": {
            "text/html": [
              "<style>\n",
              "        div {\n",
              "            color: black;\n",
              "        }\n",
              "        .single_answer {\n",
              "            border-left: 3px solid #dc7b15;\n",
              "            padding-left: 10px;\n",
              "            font-family: Arial;\n",
              "            font-size: 16px;\n",
              "            color: #777777;\n",
              "            margin-left: 5px;\n",
              "\n",
              "        }\n",
              "        .answer{\n",
              "            color: #dc7b15;\n",
              "        }\n",
              "        .question_title {\n",
              "            color: grey;\n",
              "            display: block;\n",
              "            text-transform: none;\n",
              "        }      \n",
              "        div.output_scroll { \n",
              "            height: auto; \n",
              "        }\n",
              "    </style><div class=\"single_answer\">The outbreak of COVID-19 has currently been under control in China, but now the disease has rapidly evolved into a global pandemic. We formulated a prevention and control plan for clinical laboratories responsible for detection of the novel coronavirus infection. We analyzed the implementation of this plan and the problems arising from its clinical practice. We found that the layout of most clinical laboratories (including gene amplification laboratories for clinical samples) was inadequate in response to a major outbreak and <span class='answer'>did not meet the requirements for biosafety protection and etiology and serology testing</span>; and laboratory staff showed insufficiencies in their awareness regarding biosafety protection; the functions and status of the laboratory in the fever clinic need to be enhanced to increase its detection capacity; the high density of military personnel, the low level of automation of clinical laboratory equipment, and the lack of biosafety cabinets and personal protective equipment all limit the performance of diverse military operations and major overseas missions. In view of these problems, we propose the following strategies and recommendations: the clinical laboratory needs to standardize the design and staff management according to the standards of P2 laboratory; the detection capacity and staffing of fever clinic laboratory in hospitals need to be strengthened, and a separate clinical gene amplification laboratory can be optimal; for those clinical gene amplification laboratories that fail to meet these standards, reconstruction and upgrade should be made according to the requirements of biosafety protection; for the clinical laboratory in the military medical system, in addition to enforcement of biological safety protection of the staff, sufficient supply of medical materials and biological safety equipment should be ensured and biological safety cabinets should be routinely equipped if possible.</div>"
            ],
            "text/plain": [
              "<IPython.core.display.HTML object>"
            ]
          },
          "metadata": {},
          "output_type": "display_data"
        },
        {
          "data": {
            "text/html": [
              "<style>\n",
              "        div {\n",
              "            color: black;\n",
              "        }\n",
              "        .single_answer {\n",
              "            border-left: 3px solid #dc7b15;\n",
              "            padding-left: 10px;\n",
              "            font-family: Arial;\n",
              "            font-size: 16px;\n",
              "            color: #777777;\n",
              "            margin-left: 5px;\n",
              "\n",
              "        }\n",
              "        .answer{\n",
              "            color: #dc7b15;\n",
              "        }\n",
              "        .question_title {\n",
              "            color: grey;\n",
              "            display: block;\n",
              "            text-transform: none;\n",
              "        }      \n",
              "        div.output_scroll { \n",
              "            height: auto; \n",
              "        }\n",
              "    </style><h2 class='question_title'>4. what is the dosage used for booster vaccination?</h2>"
            ],
            "text/plain": [
              "<IPython.core.display.HTML object>"
            ]
          },
          "metadata": {},
          "output_type": "display_data"
        },
        {
          "data": {
            "text/html": [
              "<style>\n",
              "        div {\n",
              "            color: black;\n",
              "        }\n",
              "        .single_answer {\n",
              "            border-left: 3px solid #dc7b15;\n",
              "            padding-left: 10px;\n",
              "            font-family: Arial;\n",
              "            font-size: 16px;\n",
              "            color: #777777;\n",
              "            margin-left: 5px;\n",
              "\n",
              "        }\n",
              "        .answer{\n",
              "            color: #dc7b15;\n",
              "        }\n",
              "        .question_title {\n",
              "            color: grey;\n",
              "            display: block;\n",
              "            text-transform: none;\n",
              "        }      \n",
              "        div.output_scroll { \n",
              "            height: auto; \n",
              "        }\n",
              "    </style><div class=\"single_answer\">In this time of COVID-19 pandemic almost every institution is researching possible cure for this disease or any kind of an immunity booster Coronil is the Ayurvedic immunity booster made by Patanjali Ayurveda Limited using traditional medicinal herbs The Coronil kit consists of 3 products which are- DivyaCoronil ablets, DivyaSwasariVati which are oral tablets and third product is Anu tali which isaliquid dosage form in the form of <span class='answer'>nasal drops</span> This medicine is an mmunity booster that contains chief ingredients such as Giloy(Tinosporacordifolia), Ashwagandha (Withaniasomnifera) and Tulsi Ocimum sanctum) These medicinal herbs have immense benefits in strengthening he immune system and also are effective in curing symptoms like sore throat, nasal ongestion etc This medicine can be used as a supplement for immunity nhancement but its effectiveness in curing certain symptoms is still under question s extensive research on this medicine is yet to be done</div>"
            ],
            "text/plain": [
              "<IPython.core.display.HTML object>"
            ]
          },
          "metadata": {},
          "output_type": "display_data"
        },
        {
          "data": {
            "text/html": [
              "<style>\n",
              "        div {\n",
              "            color: black;\n",
              "        }\n",
              "        .single_answer {\n",
              "            border-left: 3px solid #dc7b15;\n",
              "            padding-left: 10px;\n",
              "            font-family: Arial;\n",
              "            font-size: 16px;\n",
              "            color: #777777;\n",
              "            margin-left: 5px;\n",
              "\n",
              "        }\n",
              "        .answer{\n",
              "            color: #dc7b15;\n",
              "        }\n",
              "        .question_title {\n",
              "            color: grey;\n",
              "            display: block;\n",
              "            text-transform: none;\n",
              "        }      \n",
              "        div.output_scroll { \n",
              "            height: auto; \n",
              "        }\n",
              "    </style><div class=\"single_answer\">Objective: To assess the immunogenicity and safety of a booster vaccination with an inactivated severe acute respiratory syndrome coronavirus 2 (SARS-CoV-2) vaccine. Methods: The phase Ⅱ trial of an inactivated SARS-CoV-2 vaccine was conducted by Jiangsu Provincial Center for Disease Control and Prevention (CDC) since October 2020. The subjects were healthy adults aged 18-59 years, not pregnant, and not breastfeeding. The primary vaccination schedule groups were 0-14 d 5 μg, 0-14 d 10 μg, 0-28 d 5 μg and 0-28 d 10 μg, respectively. And 50 participants in each group, a total of 200, who have received 2-doses primary vaccination were selected in ascending order of the study number and vaccinated with a booster dose (<span class='answer'>same dosage as primary vaccination</span>) 6 months post the primary vaccination (30-day window period). Blood samples were collected before and after boosting and tested for the geometric mean titers (GMT) and seroconversion of live virus neutralizing antibody, pseudovirus neutralizing antibody and receptor-binding-domain (RBD) IgG antibody. Adverse event (AE) was collected and assessed within 28 days after boosting. Results: The ages of subjects in group 0-14 d 5 μg, 0-14 d 10 μg, 0-28 d 5 μg and 0-28 d 10 μg were (43.98±9.58), (43.46±9.34), (42.56±9.08) and (43.94±11.05) years old, respectively (P=0.877). Sex ratio were balanced among the 4 groups (P=0.331). The live virus neutralizing antibody GMT (95%CI) in group 0-14 d 5 μg, 0-14 d 10 μg, 0-28 d 5 μg and 0-28 d 10 μg increased from 4.07 (3.30-5.04), 3.75 (3.08-4.55), 8.33 (7.01-11.11) and 7.69 (6.19-9.57) before the booster vaccination to 284.84 (215.28-376.86), 233.05 (178.61-304.08), 274.81 (223.64-337.68) and 280.77 (234.59-336.04) 28 days after the booster vaccination, respectively. Live virus neutralizing antibody seroconversion were all 100% in the 4 groups. The AE incidences following booster vaccination were 18.0% (9 cases), 4.0% (2 cases), 12% (6 cases), and 12% (6 cases) in the 4 groups. No AE was graded as level 3 or worsen. No serious AE was reported. Conclusion: One booster vaccination of an inactivated SARS-CoV-2 vaccine administered 6 months after primary vaccination showed good immunogenicity and safety.</div>"
            ],
            "text/plain": [
              "<IPython.core.display.HTML object>"
            ]
          },
          "metadata": {},
          "output_type": "display_data"
        },
        {
          "data": {
            "text/html": [
              "<style>\n",
              "        div {\n",
              "            color: black;\n",
              "        }\n",
              "        .single_answer {\n",
              "            border-left: 3px solid #dc7b15;\n",
              "            padding-left: 10px;\n",
              "            font-family: Arial;\n",
              "            font-size: 16px;\n",
              "            color: #777777;\n",
              "            margin-left: 5px;\n",
              "\n",
              "        }\n",
              "        .answer{\n",
              "            color: #dc7b15;\n",
              "        }\n",
              "        .question_title {\n",
              "            color: grey;\n",
              "            display: block;\n",
              "            text-transform: none;\n",
              "        }      \n",
              "        div.output_scroll { \n",
              "            height: auto; \n",
              "        }\n",
              "    </style><h2 class='question_title'>5. what vaccines do the world now have?</h2>"
            ],
            "text/plain": [
              "<IPython.core.display.HTML object>"
            ]
          },
          "metadata": {},
          "output_type": "display_data"
        }
      ],
      "source": [
        "task = 4\n",
        "display_single_task(task, all_tasks[task-1])"
      ]
    },
    {
      "cell_type": "code",
      "execution_count": null,
      "metadata": {
        "colab": {
          "base_uri": "https://localhost:8080/",
          "height": 1000
        },
        "id": "f6WDFkjbHUtB",
        "outputId": "b7b23488-dbb3-494d-bfcc-0871767d1cd9"
      },
      "outputs": [
        {
          "data": {
            "text/html": [
              "<style>\n",
              "        div {\n",
              "            color: black;\n",
              "        }\n",
              "        .single_answer {\n",
              "            border-left: 3px solid #dc7b15;\n",
              "            padding-left: 10px;\n",
              "            font-family: Arial;\n",
              "            font-size: 16px;\n",
              "            color: #777777;\n",
              "            margin-left: 5px;\n",
              "\n",
              "        }\n",
              "        .answer{\n",
              "            color: #dc7b15;\n",
              "        }\n",
              "        .question_title {\n",
              "            color: grey;\n",
              "            display: block;\n",
              "            text-transform: none;\n",
              "        }      \n",
              "        div.output_scroll { \n",
              "            height: auto; \n",
              "        }\n",
              "    </style><h1 class='task_title'>Task 5: What do we know about non-pharmaceutical interventions?</h1>"
            ],
            "text/plain": [
              "<IPython.core.display.HTML object>"
            ]
          },
          "metadata": {},
          "output_type": "display_data"
        },
        {
          "data": {
            "text/html": [
              "<style>\n",
              "        div {\n",
              "            color: black;\n",
              "        }\n",
              "        .single_answer {\n",
              "            border-left: 3px solid #dc7b15;\n",
              "            padding-left: 10px;\n",
              "            font-family: Arial;\n",
              "            font-size: 16px;\n",
              "            color: #777777;\n",
              "            margin-left: 5px;\n",
              "\n",
              "        }\n",
              "        .answer{\n",
              "            color: #dc7b15;\n",
              "        }\n",
              "        .question_title {\n",
              "            color: grey;\n",
              "            display: block;\n",
              "            text-transform: none;\n",
              "        }      \n",
              "        div.output_scroll { \n",
              "            height: auto; \n",
              "        }\n",
              "    </style><h2 class='question_title'>1. which non-pharmaceutical interventions limit tramsission?</h2>"
            ],
            "text/plain": [
              "<IPython.core.display.HTML object>"
            ]
          },
          "metadata": {},
          "output_type": "display_data"
        },
        {
          "data": {
            "text/html": [
              "<style>\n",
              "        div {\n",
              "            color: black;\n",
              "        }\n",
              "        .single_answer {\n",
              "            border-left: 3px solid #dc7b15;\n",
              "            padding-left: 10px;\n",
              "            font-family: Arial;\n",
              "            font-size: 16px;\n",
              "            color: #777777;\n",
              "            margin-left: 5px;\n",
              "\n",
              "        }\n",
              "        .answer{\n",
              "            color: #dc7b15;\n",
              "        }\n",
              "        .question_title {\n",
              "            color: grey;\n",
              "            display: block;\n",
              "            text-transform: none;\n",
              "        }      \n",
              "        div.output_scroll { \n",
              "            height: auto; \n",
              "        }\n",
              "    </style><div class=\"single_answer\">Nonpharmaceutical interventions, such as contact tracing and quarantine, are currently the primary means of controlling the spread of SARS-CoV-2; however, it remains uncertain which interventions are most effective at reducing transmission at the population level. Using serial interval data from before and after the rollout of nonpharmaceutical interventions in China, we estimate that the relative frequency of presymptomatic transmission increased from 34% before the rollout to 71% afterward. The shift toward earlier transmission indicates a disproportionate reduction in transmission post-symptom onset. We estimate that, following the rollout of nonpharmaceutical interventions, transmission post-symptom onset was reduced by 82% whereas presymptomatic transmission decreased by only 16%. These findings suggest that interventions which limit opportunities for transmission in the later stages of infection, such as <span class='answer'>contact tracing and isolation</span>, may have been particularly effective at reducing transmission of SARS-CoV-2.</div>"
            ],
            "text/plain": [
              "<IPython.core.display.HTML object>"
            ]
          },
          "metadata": {},
          "output_type": "display_data"
        },
        {
          "data": {
            "text/html": [
              "<style>\n",
              "        div {\n",
              "            color: black;\n",
              "        }\n",
              "        .single_answer {\n",
              "            border-left: 3px solid #dc7b15;\n",
              "            padding-left: 10px;\n",
              "            font-family: Arial;\n",
              "            font-size: 16px;\n",
              "            color: #777777;\n",
              "            margin-left: 5px;\n",
              "\n",
              "        }\n",
              "        .answer{\n",
              "            color: #dc7b15;\n",
              "        }\n",
              "        .question_title {\n",
              "            color: grey;\n",
              "            display: block;\n",
              "            text-transform: none;\n",
              "        }      \n",
              "        div.output_scroll { \n",
              "            height: auto; \n",
              "        }\n",
              "    </style><div class=\"single_answer\">Non-pharmaceutical interventions (NPIs) become increasingly one of the most significant practices for preventing the spread of a pandemic through the movement of people (e g , <span class='answer'>travel and tourism</span>) Past studies argued that individuals? acceptance of NPIs is adaptive behavior, which increases travel intention during a pandemic Yet, firm beliefs about the extent to which others accept NPIs are as important as personal willingness to accept NPIs, due to the social and environmental components of public health measures against infectious disease Thus, this study examined how one?s trust in social NPIs is related to travel intention during a pandemic Data were collected in South Korea, one of the few countries where no measures to limit human mobility were taken after the COVID-19 pandemic outbreak Results showed that the trust in social NPIs meditates the relationship between the efforts to navigate travel constraints and intentions to travel during the pandemic</div>"
            ],
            "text/plain": [
              "<IPython.core.display.HTML object>"
            ]
          },
          "metadata": {},
          "output_type": "display_data"
        },
        {
          "data": {
            "text/html": [
              "<style>\n",
              "        div {\n",
              "            color: black;\n",
              "        }\n",
              "        .single_answer {\n",
              "            border-left: 3px solid #dc7b15;\n",
              "            padding-left: 10px;\n",
              "            font-family: Arial;\n",
              "            font-size: 16px;\n",
              "            color: #777777;\n",
              "            margin-left: 5px;\n",
              "\n",
              "        }\n",
              "        .answer{\n",
              "            color: #dc7b15;\n",
              "        }\n",
              "        .question_title {\n",
              "            color: grey;\n",
              "            display: block;\n",
              "            text-transform: none;\n",
              "        }      \n",
              "        div.output_scroll { \n",
              "            height: auto; \n",
              "        }\n",
              "    </style><div class=\"single_answer\">Non-pharmaceutical interventions (NPIs) become increasingly one of the most significant practices for preventing the spread of a pandemic through the movement of people (e g , <span class='answer'>travel and tourism</span>) Past studies argued that individuals? acceptance of NPIs is adaptive behavior, which increases travel intention during a pandemic Yet, firm beliefs about the extent to which others accept NPIs are as important as personal willingness to accept NPIs, due to the social and environmental components of public health measures against infectious disease Thus, this study examined how one?s trust in social NPIs is related to travel intention during a pandemic Data were collected in South Korea, one of the few countries where no measures to limit human mobility were taken after the COVID-19 pandemic outbreak Results showed that the trust in social NPIs meditates the relationship between the efforts to navigate travel constraints and intentions to travel during the pandemic</div>"
            ],
            "text/plain": [
              "<IPython.core.display.HTML object>"
            ]
          },
          "metadata": {},
          "output_type": "display_data"
        },
        {
          "data": {
            "text/html": [
              "<style>\n",
              "        div {\n",
              "            color: black;\n",
              "        }\n",
              "        .single_answer {\n",
              "            border-left: 3px solid #dc7b15;\n",
              "            padding-left: 10px;\n",
              "            font-family: Arial;\n",
              "            font-size: 16px;\n",
              "            color: #777777;\n",
              "            margin-left: 5px;\n",
              "\n",
              "        }\n",
              "        .answer{\n",
              "            color: #dc7b15;\n",
              "        }\n",
              "        .question_title {\n",
              "            color: grey;\n",
              "            display: block;\n",
              "            text-transform: none;\n",
              "        }      \n",
              "        div.output_scroll { \n",
              "            height: auto; \n",
              "        }\n",
              "    </style><h2 class='question_title'>2. what are most important barriers to compliance?</h2>"
            ],
            "text/plain": [
              "<IPython.core.display.HTML object>"
            ]
          },
          "metadata": {},
          "output_type": "display_data"
        },
        {
          "data": {
            "text/html": [
              "<style>\n",
              "        div {\n",
              "            color: black;\n",
              "        }\n",
              "        .single_answer {\n",
              "            border-left: 3px solid #dc7b15;\n",
              "            padding-left: 10px;\n",
              "            font-family: Arial;\n",
              "            font-size: 16px;\n",
              "            color: #777777;\n",
              "            margin-left: 5px;\n",
              "\n",
              "        }\n",
              "        .answer{\n",
              "            color: #dc7b15;\n",
              "        }\n",
              "        .question_title {\n",
              "            color: grey;\n",
              "            display: block;\n",
              "            text-transform: none;\n",
              "        }      \n",
              "        div.output_scroll { \n",
              "            height: auto; \n",
              "        }\n",
              "    </style><div class=\"single_answer\">The United States has the highest number of COVID-19 cases, yet many Americans have responded indifferently toward policies designed to combat the spread of the virus. While nearly all 50 states have implemented some type of stay-at-home policy to encourage social distancing, there has been high variation in the degree of compliance. We argue that this variance is partly driven by gender resentment. Gender resentment reduces trust in female political leaders and thus decreases compliance with government policy and recommendations. Using data from SafeGraph and the 2016 American National Election Study, we demonstrate that the effect of stay-at-home policies on social distancing is reduced when gender resentment increases in states with female leaders. However, when gender resentment is low, there is no difference in the effect of policies on behavior. This research has important implications for understanding <span class='answer'>unseen barriers that can mediate the efficacy of female political leaders</span>.</div>"
            ],
            "text/plain": [
              "<IPython.core.display.HTML object>"
            ]
          },
          "metadata": {},
          "output_type": "display_data"
        },
        {
          "data": {
            "text/html": [
              "<style>\n",
              "        div {\n",
              "            color: black;\n",
              "        }\n",
              "        .single_answer {\n",
              "            border-left: 3px solid #dc7b15;\n",
              "            padding-left: 10px;\n",
              "            font-family: Arial;\n",
              "            font-size: 16px;\n",
              "            color: #777777;\n",
              "            margin-left: 5px;\n",
              "\n",
              "        }\n",
              "        .answer{\n",
              "            color: #dc7b15;\n",
              "        }\n",
              "        .question_title {\n",
              "            color: grey;\n",
              "            display: block;\n",
              "            text-transform: none;\n",
              "        }      \n",
              "        div.output_scroll { \n",
              "            height: auto; \n",
              "        }\n",
              "    </style><div class=\"single_answer\">The United States has the highest number of COVID-19 cases, yet many Americans have responded indifferently towards policies designed to combat the spread of the virus While nearly all 50 states have implemented some type of stay-at-home policy to encourage social distancing, there has been high variation in the degree of compliance We argue this variance is in part driven by gender resentment Gender resentment reduces trust in female political leaders, and thus decreases compliance with government policy and recommendations Using data from SafeGraph and the 2016 American National Election Study, we demonstrate the effect of stay-at-home policies on social distancing is reduced when gender resentment increases in states with female leaders However, when gender resentment is low, there is no difference in the effect of policies on behavior This research has important implications for understanding <span class='answer'>unseen barriers that can mediate the efficacy of female political leaders</span> © 2020 BMJ Publishing Group All rights reserved</div>"
            ],
            "text/plain": [
              "<IPython.core.display.HTML object>"
            ]
          },
          "metadata": {},
          "output_type": "display_data"
        },
        {
          "data": {
            "text/html": [
              "<style>\n",
              "        div {\n",
              "            color: black;\n",
              "        }\n",
              "        .single_answer {\n",
              "            border-left: 3px solid #dc7b15;\n",
              "            padding-left: 10px;\n",
              "            font-family: Arial;\n",
              "            font-size: 16px;\n",
              "            color: #777777;\n",
              "            margin-left: 5px;\n",
              "\n",
              "        }\n",
              "        .answer{\n",
              "            color: #dc7b15;\n",
              "        }\n",
              "        .question_title {\n",
              "            color: grey;\n",
              "            display: block;\n",
              "            text-transform: none;\n",
              "        }      \n",
              "        div.output_scroll { \n",
              "            height: auto; \n",
              "        }\n",
              "    </style><div class=\"single_answer\">With a rising HIV/AIDS epidemic, it has become especially important for health service providers in China to understand and correctly adhere to universal precautions. Using qualitative interview data, perspectives from both health administrators and service providers working at all levels of China's health care system were examined. Service providers admitted selective adherence and non-adherence to universal precautions in their daily medical practice, and gave their explanations for such behaviors. Lack of time to put on protective gear, gear's interference with medical procedures, lack of administrative support, heavy workload in hospitals, inaccurate risk assessment, and beliefs that compliance with universal precautions is unnecessary, time consuming and costly were mentioned as reasons behind noncompliance. Effective universal precaution interventions need to target both administrators and providers, and address both <span class='answer'>structural barriers and individual attitudinal and behavioral factors</span>.</div>"
            ],
            "text/plain": [
              "<IPython.core.display.HTML object>"
            ]
          },
          "metadata": {},
          "output_type": "display_data"
        },
        {
          "data": {
            "text/html": [
              "<style>\n",
              "        div {\n",
              "            color: black;\n",
              "        }\n",
              "        .single_answer {\n",
              "            border-left: 3px solid #dc7b15;\n",
              "            padding-left: 10px;\n",
              "            font-family: Arial;\n",
              "            font-size: 16px;\n",
              "            color: #777777;\n",
              "            margin-left: 5px;\n",
              "\n",
              "        }\n",
              "        .answer{\n",
              "            color: #dc7b15;\n",
              "        }\n",
              "        .question_title {\n",
              "            color: grey;\n",
              "            display: block;\n",
              "            text-transform: none;\n",
              "        }      \n",
              "        div.output_scroll { \n",
              "            height: auto; \n",
              "        }\n",
              "    </style><div class=\"single_answer\">Air pollution has become a critically important contemporary issue, exposing people to various health risks worldwide. Air pollution problems cannot be resolved in the short-term; therefore, citizens in regions with low air quality are encouraged to take protective actions such as wearing masks to filter particulate matter. However, compliance with such recommendations is limited. To enhance the effectiveness of health promotion in this regard, this study applied the health belief model to examine the factors that affect mask-wearing behaviors. It also investigates the factors that influence particulate matter-related health beliefs and protective behaviors. A cross-sectional survey with 200 Korean citizens was conducted. The results revealed associations between masking behaviors and both <span class='answer'>perceived benefits of and perceived physical barriers</span> to wearing masks. In addition, sex, education, income, and having heard of different particulate matter-related health consequences were found to predict mask-wearing. This study demonstrates the utility of the health belief model in the context of air pollution and has practical implications for health promotion practitioners.</div>"
            ],
            "text/plain": [
              "<IPython.core.display.HTML object>"
            ]
          },
          "metadata": {},
          "output_type": "display_data"
        },
        {
          "data": {
            "text/html": [
              "<style>\n",
              "        div {\n",
              "            color: black;\n",
              "        }\n",
              "        .single_answer {\n",
              "            border-left: 3px solid #dc7b15;\n",
              "            padding-left: 10px;\n",
              "            font-family: Arial;\n",
              "            font-size: 16px;\n",
              "            color: #777777;\n",
              "            margin-left: 5px;\n",
              "\n",
              "        }\n",
              "        .answer{\n",
              "            color: #dc7b15;\n",
              "        }\n",
              "        .question_title {\n",
              "            color: grey;\n",
              "            display: block;\n",
              "            text-transform: none;\n",
              "        }      \n",
              "        div.output_scroll { \n",
              "            height: auto; \n",
              "        }\n",
              "    </style><div class=\"single_answer\">The world is witnessing great evolutions via information technology which interfaces with life partitions and since education is one of the most important life actors therefor must exploiting the information technology in education procedures. Accounting is one of the most important sciences taught at universities, E-accounting education has emerged to serve the learning process and achieve its goals. The accounting education has criteria that discipline the educational process and achieve high quality for the educational process as well as preparing a new generation qualified technically and scientifically which complies with the requirements of the accounting and auditing profession. Thus, due to the adoption of e-education at Iraqi universities for the covid -19 pandemic conditions, this research examines how successful e-learning in covering accounting auditing curriculum and determine its compliance with the international educational standard (IES8) related to auditor competency requirements and determining the extent of students' acceptance to this new educational approach. The research found a great match between accounting audit contents given to students electronically and the requirements of international education standards (IES8). Students prefer e-auditing education because of its flexibility, breaking the routine of the educational process, and breaking the barriers <span class='answer'>offear and shyness</span> for some students during the study time intervals.</div>"
            ],
            "text/plain": [
              "<IPython.core.display.HTML object>"
            ]
          },
          "metadata": {},
          "output_type": "display_data"
        }
      ],
      "source": [
        "task = 5\n",
        "display_single_task(task, all_tasks[task-1])"
      ]
    },
    {
      "cell_type": "code",
      "execution_count": null,
      "metadata": {
        "colab": {
          "base_uri": "https://localhost:8080/",
          "height": 1000
        },
        "id": "87EdY3UYHUtB",
        "outputId": "171616f8-aa85-43d5-d0ff-6539a4a874ae"
      },
      "outputs": [
        {
          "data": {
            "text/html": [
              "<style>\n",
              "        div {\n",
              "            color: black;\n",
              "        }\n",
              "        .single_answer {\n",
              "            border-left: 3px solid #dc7b15;\n",
              "            padding-left: 10px;\n",
              "            font-family: Arial;\n",
              "            font-size: 16px;\n",
              "            color: #777777;\n",
              "            margin-left: 5px;\n",
              "\n",
              "        }\n",
              "        .answer{\n",
              "            color: #dc7b15;\n",
              "        }\n",
              "        .question_title {\n",
              "            color: grey;\n",
              "            display: block;\n",
              "            text-transform: none;\n",
              "        }      \n",
              "        div.output_scroll { \n",
              "            height: auto; \n",
              "        }\n",
              "    </style><h1 class='task_title'>Task 6: What has been published about medical care?</h1>"
            ],
            "text/plain": [
              "<IPython.core.display.HTML object>"
            ]
          },
          "metadata": {},
          "output_type": "display_data"
        },
        {
          "data": {
            "text/html": [
              "<style>\n",
              "        div {\n",
              "            color: black;\n",
              "        }\n",
              "        .single_answer {\n",
              "            border-left: 3px solid #dc7b15;\n",
              "            padding-left: 10px;\n",
              "            font-family: Arial;\n",
              "            font-size: 16px;\n",
              "            color: #777777;\n",
              "            margin-left: 5px;\n",
              "\n",
              "        }\n",
              "        .answer{\n",
              "            color: #dc7b15;\n",
              "        }\n",
              "        .question_title {\n",
              "            color: grey;\n",
              "            display: block;\n",
              "            text-transform: none;\n",
              "        }      \n",
              "        div.output_scroll { \n",
              "            height: auto; \n",
              "        }\n",
              "    </style><h2 class='question_title'>1. how does extracorporeal membrane oxygenation affect 2019-ncov patients?</h2>"
            ],
            "text/plain": [
              "<IPython.core.display.HTML object>"
            ]
          },
          "metadata": {},
          "output_type": "display_data"
        },
        {
          "data": {
            "text/html": [
              "<style>\n",
              "        div {\n",
              "            color: black;\n",
              "        }\n",
              "        .single_answer {\n",
              "            border-left: 3px solid #dc7b15;\n",
              "            padding-left: 10px;\n",
              "            font-family: Arial;\n",
              "            font-size: 16px;\n",
              "            color: #777777;\n",
              "            margin-left: 5px;\n",
              "\n",
              "        }\n",
              "        .answer{\n",
              "            color: #dc7b15;\n",
              "        }\n",
              "        .question_title {\n",
              "            color: grey;\n",
              "            display: block;\n",
              "            text-transform: none;\n",
              "        }      \n",
              "        div.output_scroll { \n",
              "            height: auto; \n",
              "        }\n",
              "    </style><div class=\"single_answer\">Trikha A, Venkateswaran V, Soni KD. Extracorporeal Membrane Oxygenation in COVID-19 Patients: <span class='answer'>More Hype than Substance</span>? Indian J Crit Care Med 2021;25(11):1322–1323.</div>"
            ],
            "text/plain": [
              "<IPython.core.display.HTML object>"
            ]
          },
          "metadata": {},
          "output_type": "display_data"
        },
        {
          "data": {
            "text/html": [
              "<style>\n",
              "        div {\n",
              "            color: black;\n",
              "        }\n",
              "        .single_answer {\n",
              "            border-left: 3px solid #dc7b15;\n",
              "            padding-left: 10px;\n",
              "            font-family: Arial;\n",
              "            font-size: 16px;\n",
              "            color: #777777;\n",
              "            margin-left: 5px;\n",
              "\n",
              "        }\n",
              "        .answer{\n",
              "            color: #dc7b15;\n",
              "        }\n",
              "        .question_title {\n",
              "            color: grey;\n",
              "            display: block;\n",
              "            text-transform: none;\n",
              "        }      \n",
              "        div.output_scroll { \n",
              "            height: auto; \n",
              "        }\n",
              "    </style><h2 class='question_title'>2. what telemedicine and cybercare methods are most effective?</h2>"
            ],
            "text/plain": [
              "<IPython.core.display.HTML object>"
            ]
          },
          "metadata": {},
          "output_type": "display_data"
        },
        {
          "data": {
            "text/html": [
              "<style>\n",
              "        div {\n",
              "            color: black;\n",
              "        }\n",
              "        .single_answer {\n",
              "            border-left: 3px solid #dc7b15;\n",
              "            padding-left: 10px;\n",
              "            font-family: Arial;\n",
              "            font-size: 16px;\n",
              "            color: #777777;\n",
              "            margin-left: 5px;\n",
              "\n",
              "        }\n",
              "        .answer{\n",
              "            color: #dc7b15;\n",
              "        }\n",
              "        .question_title {\n",
              "            color: grey;\n",
              "            display: block;\n",
              "            text-transform: none;\n",
              "        }      \n",
              "        div.output_scroll { \n",
              "            height: auto; \n",
              "        }\n",
              "    </style><div class=\"single_answer\">In this paper, we propose to advance and transform today’s healthcare system using a model of networked health care called Cybercare. Cybercare means “health care in cyberspace” — for example, doctors consulting with patients via videoconferencing across a distributed network; or patients receiving care locally — in neighborhoods, “minute clinics,” and homes — using information technologies such as telemedicine, smartphones, and wearable sensors to link to tertiary medical specialists. This model contrasts with traditional health care, in which patients travel (often a great distance) to receive care from providers in a central hospital. The Cybercare model shifts health care provision from hospital to home; from specialist to generalist; and from treatment to prevention. Cybercare employs advanced technology to deliver services efficiently across the distributed network — for example, using telemedicine, wearable sensors and cell phones to <span class='answer'>link patients to specialists</span> and upload their medical data in near-real time; using information technology (IT) to rapidly detect, track, and contain the spread of a global pandemic; or using cell phones to manage medical care in a disaster situation. Cybercare uses seven “pillars” of technology to provide medical care: genomics; telemedicine; robotics; simulation, including virtual and augmented reality; artificial intelligence (AI), including intelligent agents; the electronic medical record (EMR); and smartphones. All these technologies are evolving and blending. The technologies are integrated functionally because they underlie the Cybercare network, and/or form part of the care for patients using that distributed network. Moving health care provision to a networked, distributed model will save money, improve outcomes, facilitate access, improve security, increase patient and provider satisfaction, and may mitigate the international global burden of disease. In this paper we discuss how Cybercare is being implemented now, and envision its growth by 2030.</div>"
            ],
            "text/plain": [
              "<IPython.core.display.HTML object>"
            ]
          },
          "metadata": {},
          "output_type": "display_data"
        },
        {
          "data": {
            "text/html": [
              "<style>\n",
              "        div {\n",
              "            color: black;\n",
              "        }\n",
              "        .single_answer {\n",
              "            border-left: 3px solid #dc7b15;\n",
              "            padding-left: 10px;\n",
              "            font-family: Arial;\n",
              "            font-size: 16px;\n",
              "            color: #777777;\n",
              "            margin-left: 5px;\n",
              "\n",
              "        }\n",
              "        .answer{\n",
              "            color: #dc7b15;\n",
              "        }\n",
              "        .question_title {\n",
              "            color: grey;\n",
              "            display: block;\n",
              "            text-transform: none;\n",
              "        }      \n",
              "        div.output_scroll { \n",
              "            height: auto; \n",
              "        }\n",
              "    </style><div class=\"single_answer\"><span class='answer'>Synchronous telemedicine</span> allows clinicians to expand their reach by using technology to take care of patients who otherwise may not be seen. Establishing a telemedicine practice can be daunting. This article outlines how to implement a synchronous telemedicine practice into an existing workflow. Telemedicine-specific considerations are discussed, as well as guidance regarding practice assessment, financial feasibility, technical considerations, and clinical guidance to translate in-person visit skills into an effective virtual visit.</div>"
            ],
            "text/plain": [
              "<IPython.core.display.HTML object>"
            ]
          },
          "metadata": {},
          "output_type": "display_data"
        },
        {
          "data": {
            "text/html": [
              "<style>\n",
              "        div {\n",
              "            color: black;\n",
              "        }\n",
              "        .single_answer {\n",
              "            border-left: 3px solid #dc7b15;\n",
              "            padding-left: 10px;\n",
              "            font-family: Arial;\n",
              "            font-size: 16px;\n",
              "            color: #777777;\n",
              "            margin-left: 5px;\n",
              "\n",
              "        }\n",
              "        .answer{\n",
              "            color: #dc7b15;\n",
              "        }\n",
              "        .question_title {\n",
              "            color: grey;\n",
              "            display: block;\n",
              "            text-transform: none;\n",
              "        }      \n",
              "        div.output_scroll { \n",
              "            height: auto; \n",
              "        }\n",
              "    </style><div class=\"single_answer\"><span class='answer'>Synchronous telemedicine</span> allows clinicians to expand their reach by using technology to take care of patients who otherwise may not be seen. Establishing a telemedicine practice can be daunting. This article outlines how to implement a synchronous telemedicine practice into an existing workflow. Telemedicine-specific considerations are discussed, as well as guidance regarding practice assessment, financial feasibility, technical considerations, and clinical guidance to translate in-person visit skills into an effective virtual visit.</div>"
            ],
            "text/plain": [
              "<IPython.core.display.HTML object>"
            ]
          },
          "metadata": {},
          "output_type": "display_data"
        },
        {
          "data": {
            "text/html": [
              "<style>\n",
              "        div {\n",
              "            color: black;\n",
              "        }\n",
              "        .single_answer {\n",
              "            border-left: 3px solid #dc7b15;\n",
              "            padding-left: 10px;\n",
              "            font-family: Arial;\n",
              "            font-size: 16px;\n",
              "            color: #777777;\n",
              "            margin-left: 5px;\n",
              "\n",
              "        }\n",
              "        .answer{\n",
              "            color: #dc7b15;\n",
              "        }\n",
              "        .question_title {\n",
              "            color: grey;\n",
              "            display: block;\n",
              "            text-transform: none;\n",
              "        }      \n",
              "        div.output_scroll { \n",
              "            height: auto; \n",
              "        }\n",
              "    </style><div class=\"single_answer\">The use of telemedicine tools has increased significantly due to the COVID-19 emergency and practice restrictions imposed by states. As restrictions are loosened, <span class='answer'>telemedicine is a cost effective and efficient way to render care to patients</span>. Suggestions are offered for maintaining contact with patients, managing their expectations for care, and rendering care in a prudent and timely manner. By following these steps, professional liability risk (medical malpractice) can be mitigated.</div>"
            ],
            "text/plain": [
              "<IPython.core.display.HTML object>"
            ]
          },
          "metadata": {},
          "output_type": "display_data"
        },
        {
          "data": {
            "text/html": [
              "<style>\n",
              "        div {\n",
              "            color: black;\n",
              "        }\n",
              "        .single_answer {\n",
              "            border-left: 3px solid #dc7b15;\n",
              "            padding-left: 10px;\n",
              "            font-family: Arial;\n",
              "            font-size: 16px;\n",
              "            color: #777777;\n",
              "            margin-left: 5px;\n",
              "\n",
              "        }\n",
              "        .answer{\n",
              "            color: #dc7b15;\n",
              "        }\n",
              "        .question_title {\n",
              "            color: grey;\n",
              "            display: block;\n",
              "            text-transform: none;\n",
              "        }      \n",
              "        div.output_scroll { \n",
              "            height: auto; \n",
              "        }\n",
              "    </style><div class=\"single_answer\">The COVID-19 pandemic has significantly impacted medical education; thus, there is a need to better understand the effectiveness of virtual learning compared to in-person learning. This is a single-center, cross-sectional study of first-year medical students who attended a gastroenterology simulated clinic activity in person in 2018 and 2019 or virtually in 2020. Participants were surveyed on the activity’s relevance and effectiveness. Students’ assessment of the <span class='answer'>virtual clinic</span>’s effectiveness and relevance was not significantly different from the in-person version of the activity. In addition, most students rated the virtual clinic as effective for learning about telemedicine.</div>"
            ],
            "text/plain": [
              "<IPython.core.display.HTML object>"
            ]
          },
          "metadata": {},
          "output_type": "display_data"
        },
        {
          "data": {
            "text/html": [
              "<style>\n",
              "        div {\n",
              "            color: black;\n",
              "        }\n",
              "        .single_answer {\n",
              "            border-left: 3px solid #dc7b15;\n",
              "            padding-left: 10px;\n",
              "            font-family: Arial;\n",
              "            font-size: 16px;\n",
              "            color: #777777;\n",
              "            margin-left: 5px;\n",
              "\n",
              "        }\n",
              "        .answer{\n",
              "            color: #dc7b15;\n",
              "        }\n",
              "        .question_title {\n",
              "            color: grey;\n",
              "            display: block;\n",
              "            text-transform: none;\n",
              "        }      \n",
              "        div.output_scroll { \n",
              "            height: auto; \n",
              "        }\n",
              "    </style><div class=\"single_answer\">Background: COVID-19 is fatal to patients with pulmonary hypertension (PH), so preventive actions are recommended. This study investigated the effectiveness of telemedicine and effects on quality of life (QOL) in the treatment of patients with PH. Methods and Results: Japanese patients with PH (n=40) were recruited from one referral center. Patient self-reported anxiety worsened significantly and elderly patients in particular experienced detrimental lifestyle changes under COVID-19. Telemedicine worked well to decrease the frequency of going out. Conclusions: Telemedicine is effective in <span class='answer'>reducing travel distances</span>, and frequent remote interventions may be desirable for older, anxious patients.</div>"
            ],
            "text/plain": [
              "<IPython.core.display.HTML object>"
            ]
          },
          "metadata": {},
          "output_type": "display_data"
        },
        {
          "data": {
            "text/html": [
              "<style>\n",
              "        div {\n",
              "            color: black;\n",
              "        }\n",
              "        .single_answer {\n",
              "            border-left: 3px solid #dc7b15;\n",
              "            padding-left: 10px;\n",
              "            font-family: Arial;\n",
              "            font-size: 16px;\n",
              "            color: #777777;\n",
              "            margin-left: 5px;\n",
              "\n",
              "        }\n",
              "        .answer{\n",
              "            color: #dc7b15;\n",
              "        }\n",
              "        .question_title {\n",
              "            color: grey;\n",
              "            display: block;\n",
              "            text-transform: none;\n",
              "        }      \n",
              "        div.output_scroll { \n",
              "            height: auto; \n",
              "        }\n",
              "    </style><h2 class='question_title'>3. how is artificial intelligence being used in real time health delivery?</h2>"
            ],
            "text/plain": [
              "<IPython.core.display.HTML object>"
            ]
          },
          "metadata": {},
          "output_type": "display_data"
        },
        {
          "data": {
            "text/html": [
              "<style>\n",
              "        div {\n",
              "            color: black;\n",
              "        }\n",
              "        .single_answer {\n",
              "            border-left: 3px solid #dc7b15;\n",
              "            padding-left: 10px;\n",
              "            font-family: Arial;\n",
              "            font-size: 16px;\n",
              "            color: #777777;\n",
              "            margin-left: 5px;\n",
              "\n",
              "        }\n",
              "        .answer{\n",
              "            color: #dc7b15;\n",
              "        }\n",
              "        .question_title {\n",
              "            color: grey;\n",
              "            display: block;\n",
              "            text-transform: none;\n",
              "        }      \n",
              "        div.output_scroll { \n",
              "            height: auto; \n",
              "        }\n",
              "    </style><div class=\"single_answer\">Over the past few decades, the number of health and 'omics-related data generated and stored has grown exponentially. Patient information can be collected in real time and explored using various artificial intelligence (AI) tools in <span class='answer'>clinical trials</span>; mobile devices can also be used to improve aspects of both the diagnosis and treatment of diseases. In addition, AI can be used in the development of new drugs or for drug repurposing, in the faster diagnosis and more efficient treatment of various diseases, as well as to design data-driven hypotheses for scientists. In this review, we discuss how AI is starting to revolutionize the life sciences sector.</div>"
            ],
            "text/plain": [
              "<IPython.core.display.HTML object>"
            ]
          },
          "metadata": {},
          "output_type": "display_data"
        },
        {
          "data": {
            "text/html": [
              "<style>\n",
              "        div {\n",
              "            color: black;\n",
              "        }\n",
              "        .single_answer {\n",
              "            border-left: 3px solid #dc7b15;\n",
              "            padding-left: 10px;\n",
              "            font-family: Arial;\n",
              "            font-size: 16px;\n",
              "            color: #777777;\n",
              "            margin-left: 5px;\n",
              "\n",
              "        }\n",
              "        .answer{\n",
              "            color: #dc7b15;\n",
              "        }\n",
              "        .question_title {\n",
              "            color: grey;\n",
              "            display: block;\n",
              "            text-transform: none;\n",
              "        }      \n",
              "        div.output_scroll { \n",
              "            height: auto; \n",
              "        }\n",
              "    </style><div class=\"single_answer\">Diabetes Technology Society hosted its annual Diabetes Technology Meeting on November 12 to November 14, 2020. This meeting brought together speakers to cover various perspectives about the field of diabetes technology. The meeting topics included artificial intelligence, digital health, telemedicine, glucose monitoring, regulatory trends, metrics for expressing glycemia, pharmaceuticals, <span class='answer'>automated insulin delivery systems</span>, novel insulins, metrics for diabetes monitoring, and discriminatory aspects of diabetes technology. A live demonstration was presented.</div>"
            ],
            "text/plain": [
              "<IPython.core.display.HTML object>"
            ]
          },
          "metadata": {},
          "output_type": "display_data"
        },
        {
          "data": {
            "text/html": [
              "<style>\n",
              "        div {\n",
              "            color: black;\n",
              "        }\n",
              "        .single_answer {\n",
              "            border-left: 3px solid #dc7b15;\n",
              "            padding-left: 10px;\n",
              "            font-family: Arial;\n",
              "            font-size: 16px;\n",
              "            color: #777777;\n",
              "            margin-left: 5px;\n",
              "\n",
              "        }\n",
              "        .answer{\n",
              "            color: #dc7b15;\n",
              "        }\n",
              "        .question_title {\n",
              "            color: grey;\n",
              "            display: block;\n",
              "            text-transform: none;\n",
              "        }      \n",
              "        div.output_scroll { \n",
              "            height: auto; \n",
              "        }\n",
              "    </style><div class=\"single_answer\">Capitalizing on the latest developments in 5G and ultra-low delay networking as well as artificial intelligence (AI) and robotics, an entirely novel <span class='answer'>Internet</span> which will enable the delivery of skills in digital form is introduced. In this chapter, the technical challenges which need to be overcome to enable such a vision, i.e. on the development of a 5G Tactile Internet, standardized haptic codecs, and AI to enable the perception of zero-delay networks, are outlined. The chapter is concluded with examples of how this new Internet can be beneficially used in the medical and healthcare sectors.</div>"
            ],
            "text/plain": [
              "<IPython.core.display.HTML object>"
            ]
          },
          "metadata": {},
          "output_type": "display_data"
        },
        {
          "data": {
            "text/html": [
              "<style>\n",
              "        div {\n",
              "            color: black;\n",
              "        }\n",
              "        .single_answer {\n",
              "            border-left: 3px solid #dc7b15;\n",
              "            padding-left: 10px;\n",
              "            font-family: Arial;\n",
              "            font-size: 16px;\n",
              "            color: #777777;\n",
              "            margin-left: 5px;\n",
              "\n",
              "        }\n",
              "        .answer{\n",
              "            color: #dc7b15;\n",
              "        }\n",
              "        .question_title {\n",
              "            color: grey;\n",
              "            display: block;\n",
              "            text-transform: none;\n",
              "        }      \n",
              "        div.output_scroll { \n",
              "            height: auto; \n",
              "        }\n",
              "    </style><div class=\"single_answer\">The Coronavirus represents the greatest threat to physical health in modern times Simultaneously, fear of the unknown and the fear of the very real repercussions of the virus is threatening to impact the mental health of many around the world To provide insights on the impact of Coronavirus on our mental health, we are constantly monitoring millions of conversations on Twitter each day, and analysing this enormous amount of data by means of psychological models trained with artificial intelligence techniques and <span class='answer'>deep neural networks</span> © 2020 Sociedad Espanola para el Procesamiento del Lenguaje Natural All rights reserved</div>"
            ],
            "text/plain": [
              "<IPython.core.display.HTML object>"
            ]
          },
          "metadata": {},
          "output_type": "display_data"
        },
        {
          "data": {
            "text/html": [
              "<style>\n",
              "        div {\n",
              "            color: black;\n",
              "        }\n",
              "        .single_answer {\n",
              "            border-left: 3px solid #dc7b15;\n",
              "            padding-left: 10px;\n",
              "            font-family: Arial;\n",
              "            font-size: 16px;\n",
              "            color: #777777;\n",
              "            margin-left: 5px;\n",
              "\n",
              "        }\n",
              "        .answer{\n",
              "            color: #dc7b15;\n",
              "        }\n",
              "        .question_title {\n",
              "            color: grey;\n",
              "            display: block;\n",
              "            text-transform: none;\n",
              "        }      \n",
              "        div.output_scroll { \n",
              "            height: auto; \n",
              "        }\n",
              "    </style><h2 class='question_title'>4. what adjunctive or supportive methods can help patients?</h2>"
            ],
            "text/plain": [
              "<IPython.core.display.HTML object>"
            ]
          },
          "metadata": {},
          "output_type": "display_data"
        },
        {
          "data": {
            "text/html": [
              "<style>\n",
              "        div {\n",
              "            color: black;\n",
              "        }\n",
              "        .single_answer {\n",
              "            border-left: 3px solid #dc7b15;\n",
              "            padding-left: 10px;\n",
              "            font-family: Arial;\n",
              "            font-size: 16px;\n",
              "            color: #777777;\n",
              "            margin-left: 5px;\n",
              "\n",
              "        }\n",
              "        .answer{\n",
              "            color: #dc7b15;\n",
              "        }\n",
              "        .question_title {\n",
              "            color: grey;\n",
              "            display: block;\n",
              "            text-transform: none;\n",
              "        }      \n",
              "        div.output_scroll { \n",
              "            height: auto; \n",
              "        }\n",
              "    </style><div class=\"single_answer\">Community‐acquired pneumonia (CAP) in adults is an infectious disease with high morbidity in China and the rest of the world. With the changing pattern in the etiological profile of CAP and advances in medical techniques in diagnosis and treatment over time, Chinese Thoracic Society of Chinese Medical Association updated its CAP guideline in 2016 to address the standard management of CAP in Chinese adults. Extensive and comprehensive literature search was made to collect the data and evidence for experts to review and evaluate the level of evidence. Corresponding recommendations are provided appropriately based on the level of evidence. This updated guideline covers comprehensive topics on CAP, including aetiology, antimicrobial resistance profile, diagnosis, empirical and targeted treatments, <span class='answer'>adjunctive and supportive therapies</span>, as well as prophylaxis. The recommendations may help clinicians manage CAP patients more effectively and efficiently. CAP in pediatric patients and immunocompromised adults is beyond the scope of this guideline. This guideline is only applicable for the immunocompetent CAP patients aged 18 years and older. The recommendations on selection of antimicrobial agents and the dosing regimens are not mandatory. The clinicians are recommended to prescribe and adjust antimicrobial therapies primarily based on their local etiological profile and results of susceptibility testing, with reference to this guideline.</div>"
            ],
            "text/plain": [
              "<IPython.core.display.HTML object>"
            ]
          },
          "metadata": {},
          "output_type": "display_data"
        },
        {
          "data": {
            "text/html": [
              "<style>\n",
              "        div {\n",
              "            color: black;\n",
              "        }\n",
              "        .single_answer {\n",
              "            border-left: 3px solid #dc7b15;\n",
              "            padding-left: 10px;\n",
              "            font-family: Arial;\n",
              "            font-size: 16px;\n",
              "            color: #777777;\n",
              "            margin-left: 5px;\n",
              "\n",
              "        }\n",
              "        .answer{\n",
              "            color: #dc7b15;\n",
              "        }\n",
              "        .question_title {\n",
              "            color: grey;\n",
              "            display: block;\n",
              "            text-transform: none;\n",
              "        }      \n",
              "        div.output_scroll { \n",
              "            height: auto; \n",
              "        }\n",
              "    </style><div class=\"single_answer\">Acute respiratory distress syndrome is a heterogenous syndrome with many etiologies for which there are no definitive pharmacologic treatments, despite decades of research. We explore some adjunctive pharmacologic therapies, including neuromuscular blockade, corticosteroids, and inhaled pulmonary vasodilators. Additionally, we explore some investigative therapies, including Vitamin C, beta-agonists, statins, mesenchymal stromal cells, and granulocyte–macrophage colony stimulating factor. We do discuss the potential role of steroids in acute respiratory distress syndrome with severe acute respiratory syndrome coronavirus 2 as a trigger. The standard of care, however, remains <span class='answer'>supportive care</span>.</div>"
            ],
            "text/plain": [
              "<IPython.core.display.HTML object>"
            ]
          },
          "metadata": {},
          "output_type": "display_data"
        },
        {
          "data": {
            "text/html": [
              "<style>\n",
              "        div {\n",
              "            color: black;\n",
              "        }\n",
              "        .single_answer {\n",
              "            border-left: 3px solid #dc7b15;\n",
              "            padding-left: 10px;\n",
              "            font-family: Arial;\n",
              "            font-size: 16px;\n",
              "            color: #777777;\n",
              "            margin-left: 5px;\n",
              "\n",
              "        }\n",
              "        .answer{\n",
              "            color: #dc7b15;\n",
              "        }\n",
              "        .question_title {\n",
              "            color: grey;\n",
              "            display: block;\n",
              "            text-transform: none;\n",
              "        }      \n",
              "        div.output_scroll { \n",
              "            height: auto; \n",
              "        }\n",
              "    </style><div class=\"single_answer\">Since the 2019 novel coronavirus disease (COVID-19) outbreak originated from Wuhan, Hubei Province, China, at the end of 2019, it has become a clinical threat to the general population worldwide. Among people infected with the novel coronavirus (2019-nCoV), the intensive management of the critically ill patients in intensive care unit (ICU) needs substantial medical resource. In the present article, we have summarized the promising drugs, <span class='answer'>adjunctive</span> agents, respiratory supportive strategies, as well as circulation management, multiple organ function monitoring and appropriate nutritional strategies for the treatment of COVID-19 in the ICU based on the previous experience of treating other viral infections and influenza. These treatments are referable before the vaccine and specific drugs are available for COVID-19.</div>"
            ],
            "text/plain": [
              "<IPython.core.display.HTML object>"
            ]
          },
          "metadata": {},
          "output_type": "display_data"
        },
        {
          "data": {
            "text/html": [
              "<style>\n",
              "        div {\n",
              "            color: black;\n",
              "        }\n",
              "        .single_answer {\n",
              "            border-left: 3px solid #dc7b15;\n",
              "            padding-left: 10px;\n",
              "            font-family: Arial;\n",
              "            font-size: 16px;\n",
              "            color: #777777;\n",
              "            margin-left: 5px;\n",
              "\n",
              "        }\n",
              "        .answer{\n",
              "            color: #dc7b15;\n",
              "        }\n",
              "        .question_title {\n",
              "            color: grey;\n",
              "            display: block;\n",
              "            text-transform: none;\n",
              "        }      \n",
              "        div.output_scroll { \n",
              "            height: auto; \n",
              "        }\n",
              "    </style><div class=\"single_answer\">Since the 2019 novel coronavirus disease (COVID-19) outbreak originated from Wuhan, Hubei Province, China, at the end of 2019, it has become a clinical threat to the general population worldwide. Among people infected with the novel coronavirus (2019-nCoV), the intensive management of the critically ill patients in intensive care unit (ICU) needs substantial medical resource. In the present article, we have summarized the promising drugs, <span class='answer'>adjunctive</span> agents, respiratory supportive strategies, as well as circulation management, multiple organ function monitoring and appropriate nutritional strategies for the treatment of COVID-19 in the ICU based on the previous experience of treating other viral infections and influenza. These treatments are referable before the vaccine and specific drugs are available for COVID-19.</div>"
            ],
            "text/plain": [
              "<IPython.core.display.HTML object>"
            ]
          },
          "metadata": {},
          "output_type": "display_data"
        },
        {
          "data": {
            "text/html": [
              "<style>\n",
              "        div {\n",
              "            color: black;\n",
              "        }\n",
              "        .single_answer {\n",
              "            border-left: 3px solid #dc7b15;\n",
              "            padding-left: 10px;\n",
              "            font-family: Arial;\n",
              "            font-size: 16px;\n",
              "            color: #777777;\n",
              "            margin-left: 5px;\n",
              "\n",
              "        }\n",
              "        .answer{\n",
              "            color: #dc7b15;\n",
              "        }\n",
              "        .question_title {\n",
              "            color: grey;\n",
              "            display: block;\n",
              "            text-transform: none;\n",
              "        }      \n",
              "        div.output_scroll { \n",
              "            height: auto; \n",
              "        }\n",
              "    </style><div class=\"single_answer\">A novel coronavirus disease 2019 (COVID-19) infection caused by severe acute respiratory syndrome coronavirus 2 (SARS-Cov-2) first emerged in December 2019 in Wuhan, China, has become a global pandemic. Currently, the management of COVID-19 infection is mainly supportive. Several clinical trials worldwide are evaluating several drugs approved for other indications, as well as multiple investigational agents for the treatment and prevention of COVID-19. Here, we give a brief overview of pharmacological agents and other therapies which are under investigation as <span class='answer'>treatment options</span> or adjunctive agents for patients infected with COVID-19 and for chemoprophylaxis for the prevention of COVID-19 infection. At the time of writing this commentary, there is no peer-reviewed published evidence from randomized clinical trials of any pharmacological agents improving outcomes in COVID-19 patients. However, it was reported that remdesivir an investigational antiviral agent hastens clinical recovery, but a study is yet to be published in peer-reviewed medical journal.</div>"
            ],
            "text/plain": [
              "<IPython.core.display.HTML object>"
            ]
          },
          "metadata": {},
          "output_type": "display_data"
        },
        {
          "data": {
            "text/html": [
              "<style>\n",
              "        div {\n",
              "            color: black;\n",
              "        }\n",
              "        .single_answer {\n",
              "            border-left: 3px solid #dc7b15;\n",
              "            padding-left: 10px;\n",
              "            font-family: Arial;\n",
              "            font-size: 16px;\n",
              "            color: #777777;\n",
              "            margin-left: 5px;\n",
              "\n",
              "        }\n",
              "        .answer{\n",
              "            color: #dc7b15;\n",
              "        }\n",
              "        .question_title {\n",
              "            color: grey;\n",
              "            display: block;\n",
              "            text-transform: none;\n",
              "        }      \n",
              "        div.output_scroll { \n",
              "            height: auto; \n",
              "        }\n",
              "    </style><div class=\"single_answer\">A novel coronavirus disease 2019 (COVID-19) infection caused by severe acute respiratory syndrome coronavirus 2 (SARS-Cov-2) first emerged in December 2019 in Wuhan, China, has become a global pandemic. Currently, the management of COVID-19 infection is mainly supportive. Several clinical trials worldwide are evaluating several drugs approved for other indications, as well as multiple investigational agents for the treatment and prevention of COVID-19. Here, we give a brief overview of pharmacological agents and other therapies which are under investigation as <span class='answer'>treatment options</span> or adjunctive agents for patients infected with COVID-19 and for chemoprophylaxis for the prevention of COVID-19 infection. At the time of writing this commentary, there is no peer-reviewed published evidence from randomized clinical trials of any pharmacological agents improving outcomes in COVID-19 patients. However, it was reported that remdesivir an investigational antiviral agent hastens clinical recovery, but a study is yet to be published in peer-reviewed medical journal.</div>"
            ],
            "text/plain": [
              "<IPython.core.display.HTML object>"
            ]
          },
          "metadata": {},
          "output_type": "display_data"
        },
        {
          "data": {
            "text/html": [
              "<style>\n",
              "        div {\n",
              "            color: black;\n",
              "        }\n",
              "        .single_answer {\n",
              "            border-left: 3px solid #dc7b15;\n",
              "            padding-left: 10px;\n",
              "            font-family: Arial;\n",
              "            font-size: 16px;\n",
              "            color: #777777;\n",
              "            margin-left: 5px;\n",
              "\n",
              "        }\n",
              "        .answer{\n",
              "            color: #dc7b15;\n",
              "        }\n",
              "        .question_title {\n",
              "            color: grey;\n",
              "            display: block;\n",
              "            text-transform: none;\n",
              "        }      \n",
              "        div.output_scroll { \n",
              "            height: auto; \n",
              "        }\n",
              "    </style><div class=\"single_answer\">A novel coronavirus disease 2019 (COVID-19) infection caused by severe acute respiratory syndrome coronavirus 2 (SARS-Cov-2) first emerged in December 2019 in Wuhan, China, has become a global pandemic. Currently, the management of COVID-19 infection is mainly supportive. Several clinical trials worldwide are evaluating several drugs approved for other indications, as well as multiple investigational agents for the treatment and prevention of COVID-19. Here, we give a brief overview of pharmacological agents and other therapies which are under investigation as <span class='answer'>treatment options</span> or adjunctive agents for patients infected with COVID-19 and for chemoprophylaxis for the prevention of COVID-19 infection. At the time of writing this commentary, there is no peer-reviewed published evidence from randomized clinical trials of any pharmacological agents improving outcomes in COVID-19 patients. However, it was reported that remdesivir an investigational antiviral agent hastens clinical recovery, but a study is yet to be published in peer-reviewed medical journal.</div>"
            ],
            "text/plain": [
              "<IPython.core.display.HTML object>"
            ]
          },
          "metadata": {},
          "output_type": "display_data"
        },
        {
          "data": {
            "text/html": [
              "<style>\n",
              "        div {\n",
              "            color: black;\n",
              "        }\n",
              "        .single_answer {\n",
              "            border-left: 3px solid #dc7b15;\n",
              "            padding-left: 10px;\n",
              "            font-family: Arial;\n",
              "            font-size: 16px;\n",
              "            color: #777777;\n",
              "            margin-left: 5px;\n",
              "\n",
              "        }\n",
              "        .answer{\n",
              "            color: #dc7b15;\n",
              "        }\n",
              "        .question_title {\n",
              "            color: grey;\n",
              "            display: block;\n",
              "            text-transform: none;\n",
              "        }      \n",
              "        div.output_scroll { \n",
              "            height: auto; \n",
              "        }\n",
              "    </style><div class=\"single_answer\">The widespread introduction of penicillin in the 1940s resulted in a substantial reduction in mortality from community-acquired pneumonia (CAP). However, despite significant advances in medical science, only a small improvement has occurred since, particularly in patients with bacteremic pneumococcal pneumonia [1, 2]. Even modern <span class='answer'>intensive care</span> has only made a small difference to the mortality in patients with severe pneumonia [3, 4]. While the aging population, increased number of patients with severe co-morbid illnesses, and the human immunodeficiency virus (HIV) epidemic have certainly contributed to the persistently high mortality rate [2, 5, 6], apparently healthy, immunocompetent patients continue to die from CAP. Disturbingly, a recent British Thoracic Society study concluded that no available therapy could substantially reduce the mortality rate from severe CAP in young adults [7].</div>"
            ],
            "text/plain": [
              "<IPython.core.display.HTML object>"
            ]
          },
          "metadata": {},
          "output_type": "display_data"
        },
        {
          "data": {
            "text/html": [
              "<style>\n",
              "        div {\n",
              "            color: black;\n",
              "        }\n",
              "        .single_answer {\n",
              "            border-left: 3px solid #dc7b15;\n",
              "            padding-left: 10px;\n",
              "            font-family: Arial;\n",
              "            font-size: 16px;\n",
              "            color: #777777;\n",
              "            margin-left: 5px;\n",
              "\n",
              "        }\n",
              "        .answer{\n",
              "            color: #dc7b15;\n",
              "        }\n",
              "        .question_title {\n",
              "            color: grey;\n",
              "            display: block;\n",
              "            text-transform: none;\n",
              "        }      \n",
              "        div.output_scroll { \n",
              "            height: auto; \n",
              "        }\n",
              "    </style><div class=\"single_answer\">Ventricular arrhythmias are an important cause of morbidity and mortality and come in a variety of forms, from single premature ventricular complexes to sustained ventricular tachycardia and fibrillation. Rapid developments have taken place over the past decade in our understanding of these arrhythmias and in our ability to diagnose and treat them. The field of catheter ablation has progressed with the development of new methods and tools, and with the publication of large clinical trials. Therefore, global cardiac electrophysiology professional societies undertook to outline recommendations and best practices for these procedures in a document that will update and replace the 2009 EHRA/HRS Expert Consensus on Catheter Ablation of Ventricular Arrhythmias. An expert writing group, after reviewing and discussing the literature, including a systematic review and meta-analysis published in conjunction with this document, and drawing on their own experience, drafted and voted on recommendations and summarized current knowledge and practice in the field. Each recommendation is presented in knowledge byte format and is accompanied by <span class='answer'>supportive text and references</span>. Further sections provide a practical synopsis of the various techniques and of the specific ventricular arrhythmia sites and substrates encountered in the electrophysiology lab. The purpose of this document is to help electrophysiologists around the world to appropriately select patients for catheter ablation, to perform procedures in a safe and efficacious manner, and to provide follow-up and adjunctive care in order to obtain the best possible outcomes for patients with ventricular arrhythmias. ELECTRONIC SUPPLEMENTARY MATERIAL: The online version of this article (10.1007/s10840-019-00663-3) contains supplementary material, which is available to authorized users.</div>"
            ],
            "text/plain": [
              "<IPython.core.display.HTML object>"
            ]
          },
          "metadata": {},
          "output_type": "display_data"
        }
      ],
      "source": [
        "task = 6\n",
        "display_single_task(task, all_tasks[task-1])"
      ]
    },
    {
      "cell_type": "code",
      "execution_count": null,
      "metadata": {
        "colab": {
          "base_uri": "https://localhost:8080/",
          "height": 1000
        },
        "id": "_5m_R3e1HUtC",
        "outputId": "54114617-0d30-4fe5-df0e-2861d7bc7dbf"
      },
      "outputs": [
        {
          "data": {
            "text/html": [
              "<style>\n",
              "        div {\n",
              "            color: black;\n",
              "        }\n",
              "        .single_answer {\n",
              "            border-left: 3px solid #dc7b15;\n",
              "            padding-left: 10px;\n",
              "            font-family: Arial;\n",
              "            font-size: 16px;\n",
              "            color: #777777;\n",
              "            margin-left: 5px;\n",
              "\n",
              "        }\n",
              "        .answer{\n",
              "            color: #dc7b15;\n",
              "        }\n",
              "        .question_title {\n",
              "            color: grey;\n",
              "            display: block;\n",
              "            text-transform: none;\n",
              "        }      \n",
              "        div.output_scroll { \n",
              "            height: auto; \n",
              "        }\n",
              "    </style><h1 class='task_title'>Task 7: What do we know about diagnostics and surveillance?</h1>"
            ],
            "text/plain": [
              "<IPython.core.display.HTML object>"
            ]
          },
          "metadata": {},
          "output_type": "display_data"
        },
        {
          "data": {
            "text/html": [
              "<style>\n",
              "        div {\n",
              "            color: black;\n",
              "        }\n",
              "        .single_answer {\n",
              "            border-left: 3px solid #dc7b15;\n",
              "            padding-left: 10px;\n",
              "            font-family: Arial;\n",
              "            font-size: 16px;\n",
              "            color: #777777;\n",
              "            margin-left: 5px;\n",
              "\n",
              "        }\n",
              "        .answer{\n",
              "            color: #dc7b15;\n",
              "        }\n",
              "        .question_title {\n",
              "            color: grey;\n",
              "            display: block;\n",
              "            text-transform: none;\n",
              "        }      \n",
              "        div.output_scroll { \n",
              "            height: auto; \n",
              "        }\n",
              "    </style><h2 class='question_title'>1. what diagnostic tests (tools) exist or are being developed to detect 2019-ncov?</h2>"
            ],
            "text/plain": [
              "<IPython.core.display.HTML object>"
            ]
          },
          "metadata": {},
          "output_type": "display_data"
        },
        {
          "data": {
            "text/html": [
              "<style>\n",
              "        div {\n",
              "            color: black;\n",
              "        }\n",
              "        .single_answer {\n",
              "            border-left: 3px solid #dc7b15;\n",
              "            padding-left: 10px;\n",
              "            font-family: Arial;\n",
              "            font-size: 16px;\n",
              "            color: #777777;\n",
              "            margin-left: 5px;\n",
              "\n",
              "        }\n",
              "        .answer{\n",
              "            color: #dc7b15;\n",
              "        }\n",
              "        .question_title {\n",
              "            color: grey;\n",
              "            display: block;\n",
              "            text-transform: none;\n",
              "        }      \n",
              "        div.output_scroll { \n",
              "            height: auto; \n",
              "        }\n",
              "    </style><div class=\"single_answer\">COVID-19 is caused by a novel coronavirus (2019-nCoV or SARS-CoV-2) and has become a global public health emergency. Rapid and accurate molecular diagnostic technologies are crucial for the screening, isolation, treatment, prevention and control of COVID-19. Currently, nucleic acid detection-based techniques and <span class='answer'>rapid diagnostic tests that detect antigens or antibodies</span> specific to 2019-nCoV infections are the primary diagnostic tools. China National Medical Products Administration has opened a special channel for approval of new pharmaceuticals owing to urgent clinical needs, with 18 nucleic acid detection kits, 11 protein detection kits and 1 sequencing-related equipment and supporting software having been approved until April 23, 2020. The current review summarizes the application situation, advantages, disadvantages and associated technology improvement trends of molecular diagnostics for COVID-19 in China, identifies knowledge gaps and indicates future priorities for research in this field. The most effective way to prevent and control COVID-19 is early detection, diagnosis, isolation and treatment. In the clinical application of molecular diagnosis technology, it is necessary to combine pathogenic microbiology, immunology and other associated detection technologies, advocate the combination of multiple technologies, determine how they complement each other, enhance practicability and improve the ability of rapid and accurate diagnosis and differential diagnosis of COVID-19.</div>"
            ],
            "text/plain": [
              "<IPython.core.display.HTML object>"
            ]
          },
          "metadata": {},
          "output_type": "display_data"
        },
        {
          "data": {
            "text/html": [
              "<style>\n",
              "        div {\n",
              "            color: black;\n",
              "        }\n",
              "        .single_answer {\n",
              "            border-left: 3px solid #dc7b15;\n",
              "            padding-left: 10px;\n",
              "            font-family: Arial;\n",
              "            font-size: 16px;\n",
              "            color: #777777;\n",
              "            margin-left: 5px;\n",
              "\n",
              "        }\n",
              "        .answer{\n",
              "            color: #dc7b15;\n",
              "        }\n",
              "        .question_title {\n",
              "            color: grey;\n",
              "            display: block;\n",
              "            text-transform: none;\n",
              "        }      \n",
              "        div.output_scroll { \n",
              "            height: auto; \n",
              "        }\n",
              "    </style><div class=\"single_answer\">COVID-19 is caused by a novel coronavirus (2019-nCoV or SARS-CoV-2) and has become a global public health emergency Rapid and accurate molecular diagnostic technologies are crucial for the screening, isolation, treatment, prevention and control of COVID-19 Currently, nucleic acid detection-based techniques and <span class='answer'>rapid diagnostic tests that detect antigens or antibodies</span> specific to 2019-nCoV infections are the primary diagnostic tools China National Medical Products Administration has opened a special channel for approval of new pharmaceuticals owing to urgent clinical needs, with 18 nucleic acid detection kits, 11 protein detection kits and 1 sequencing-related equipment and supporting software having been approved until April 23, 2020 The current review summarizes the application situation, advantages, disadvantages and associated technology improvement trends of molecular diagnostics for COVID-19 in China, identifies knowledge gaps and indicates future priorities for research in this field The most effective way to prevent and control COVID-19 is early detection, diagnosis, isolation and treatment In the clinical application of molecular diagnosis technology, it is necessary to combine pathogenic microbiology, immunology and other associated detection technologies, advocate the combination of multiple technologies, determine how they complement each other, enhance practicability and improve the ability of rapid and accurate diagnosis and differential diagnosis of COVID-19</div>"
            ],
            "text/plain": [
              "<IPython.core.display.HTML object>"
            ]
          },
          "metadata": {},
          "output_type": "display_data"
        },
        {
          "data": {
            "text/html": [
              "<style>\n",
              "        div {\n",
              "            color: black;\n",
              "        }\n",
              "        .single_answer {\n",
              "            border-left: 3px solid #dc7b15;\n",
              "            padding-left: 10px;\n",
              "            font-family: Arial;\n",
              "            font-size: 16px;\n",
              "            color: #777777;\n",
              "            margin-left: 5px;\n",
              "\n",
              "        }\n",
              "        .answer{\n",
              "            color: #dc7b15;\n",
              "        }\n",
              "        .question_title {\n",
              "            color: grey;\n",
              "            display: block;\n",
              "            text-transform: none;\n",
              "        }      \n",
              "        div.output_scroll { \n",
              "            height: auto; \n",
              "        }\n",
              "    </style><div class=\"single_answer\">In 2019, in the city of Wuhan, China, patients were diagnosed with a novel coronavirus originally named 2019-nCoV, currently known as SARS-CoV-2 The alarming expansion of this pandemic makes it necessary to find out and implement <span class='answer'>reliable diagnostic methods</span> in order to properly detect and treat patients, thus contributing to slowing down the spread of the disease It is extremely important to have trained professionals in sample collection, good clinical laboratory practices, and molecular and hematological techniques to adequately detect any cases of infection with this virus Moreover, standardized protocols are essential for obtaining, transferring and storing samples to stop the spread of the COVID-19 pandemic caused by SARS-CoV-2</div>"
            ],
            "text/plain": [
              "<IPython.core.display.HTML object>"
            ]
          },
          "metadata": {},
          "output_type": "display_data"
        },
        {
          "data": {
            "text/html": [
              "<style>\n",
              "        div {\n",
              "            color: black;\n",
              "        }\n",
              "        .single_answer {\n",
              "            border-left: 3px solid #dc7b15;\n",
              "            padding-left: 10px;\n",
              "            font-family: Arial;\n",
              "            font-size: 16px;\n",
              "            color: #777777;\n",
              "            margin-left: 5px;\n",
              "\n",
              "        }\n",
              "        .answer{\n",
              "            color: #dc7b15;\n",
              "        }\n",
              "        .question_title {\n",
              "            color: grey;\n",
              "            display: block;\n",
              "            text-transform: none;\n",
              "        }      \n",
              "        div.output_scroll { \n",
              "            height: auto; \n",
              "        }\n",
              "    </style><div class=\"single_answer\">INTRODUCTION: SARS-Cov-2 first appeared in Wuhan, China, in December 2019 and spread all over the world soon after that. Given the infectious nature ofSARS-CoV-2, fast and accurate diagnosis tools are important to detect the virus. In this review, we discuss the <span class='answer'>different diagnostic tests that are currently being implemented in laboratories</span> and provide a description of various COVID-19 kits. AREAS COVERED: We summarize molecular techniques that target the viral load, serological methods used for SARS-CoV-2 specific antibodies detection as well as newly developed faster assays for the detection of SARS-COV 2 in various biological samples. EXPERT OPINION: In the light of the widespread pandemic, the massive diagnosis of COVID-19, using various detection techniques, appears to be the most effective strategy for monitoring and containing its propagation.</div>"
            ],
            "text/plain": [
              "<IPython.core.display.HTML object>"
            ]
          },
          "metadata": {},
          "output_type": "display_data"
        },
        {
          "data": {
            "text/html": [
              "<style>\n",
              "        div {\n",
              "            color: black;\n",
              "        }\n",
              "        .single_answer {\n",
              "            border-left: 3px solid #dc7b15;\n",
              "            padding-left: 10px;\n",
              "            font-family: Arial;\n",
              "            font-size: 16px;\n",
              "            color: #777777;\n",
              "            margin-left: 5px;\n",
              "\n",
              "        }\n",
              "        .answer{\n",
              "            color: #dc7b15;\n",
              "        }\n",
              "        .question_title {\n",
              "            color: grey;\n",
              "            display: block;\n",
              "            text-transform: none;\n",
              "        }      \n",
              "        div.output_scroll { \n",
              "            height: auto; \n",
              "        }\n",
              "    </style><div class=\"single_answer\">Coronavirus disease-19 (COVID-19) is caused by the severe acute respiratory syndrome coronavirus 2 (2019-nCoV or SARS-CoV-2). Genomic analysis has revealed that bat and pangolin coronaviruses are phylogenetically related to SARS-CoV-2. The actual origin and passage history of the virus are unknown, but human-human transmission of the virus has been confirmed. <span class='answer'>Several diagnostic techniques</span> have been developed to detect COVID-19 in this prevailing pandemic period. In this review, we provide an overview of SARS-CoV-2 and other coronaviruses. The origin, structure, current diagnostic techniques, such as molecular assays based on oligonucleotides, immunoassay-based detection, nanomaterial-based biosensing, and distinctive sample based detection are also discussed. Furthermore, our review highlights the admissible treatment strategies for COVID-19 and future perspectives on the development of biosensing techniques and vaccines for the diagnosis and prevention of the disease, respectively.</div>"
            ],
            "text/plain": [
              "<IPython.core.display.HTML object>"
            ]
          },
          "metadata": {},
          "output_type": "display_data"
        },
        {
          "data": {
            "text/html": [
              "<style>\n",
              "        div {\n",
              "            color: black;\n",
              "        }\n",
              "        .single_answer {\n",
              "            border-left: 3px solid #dc7b15;\n",
              "            padding-left: 10px;\n",
              "            font-family: Arial;\n",
              "            font-size: 16px;\n",
              "            color: #777777;\n",
              "            margin-left: 5px;\n",
              "\n",
              "        }\n",
              "        .answer{\n",
              "            color: #dc7b15;\n",
              "        }\n",
              "        .question_title {\n",
              "            color: grey;\n",
              "            display: block;\n",
              "            text-transform: none;\n",
              "        }      \n",
              "        div.output_scroll { \n",
              "            height: auto; \n",
              "        }\n",
              "    </style><div class=\"single_answer\">Coronavirus disease-19 (COVID-19) is caused by the severe acute respiratory syndrome coronavirus 2 (2019-nCoV or SARS-CoV-2). Genomic analysis has revealed that bat and pangolin coronaviruses are phylogenetically related to SARS-CoV-2. The actual origin and passage history of the virus are unknown, but human-human transmission of the virus has been confirmed. <span class='answer'>Several diagnostic techniques</span> have been developed to detect COVID-19 in this prevailing pandemic period. In this review, we provide an overview of SARS-CoV-2 and other coronaviruses. The origin, structure, current diagnostic techniques, such as molecular assays based on oligonucleotides, immunoassay-based detection, nanomaterial-based biosensing, and distinctive sample based detection are also discussed. Furthermore, our review highlights the admissible treatment strategies for COVID-19 and future perspectives on the development of biosensing techniques and vaccines for the diagnosis and prevention of the disease, respectively.</div>"
            ],
            "text/plain": [
              "<IPython.core.display.HTML object>"
            ]
          },
          "metadata": {},
          "output_type": "display_data"
        }
      ],
      "source": [
        "task = 7\n",
        "display_single_task(task, all_tasks[task-1])"
      ]
    },
    {
      "cell_type": "code",
      "execution_count": null,
      "metadata": {
        "colab": {
          "base_uri": "https://localhost:8080/",
          "height": 1000
        },
        "id": "_yF0aXZ_HUtD",
        "outputId": "3e66d656-aa63-4961-cebf-f80cca88a1b2"
      },
      "outputs": [
        {
          "data": {
            "text/html": [
              "<style>\n",
              "        div {\n",
              "            color: black;\n",
              "        }\n",
              "        .single_answer {\n",
              "            border-left: 3px solid #dc7b15;\n",
              "            padding-left: 10px;\n",
              "            font-family: Arial;\n",
              "            font-size: 16px;\n",
              "            color: #777777;\n",
              "            margin-left: 5px;\n",
              "\n",
              "        }\n",
              "        .answer{\n",
              "            color: #dc7b15;\n",
              "        }\n",
              "        .question_title {\n",
              "            color: grey;\n",
              "            display: block;\n",
              "            text-transform: none;\n",
              "        }      \n",
              "        div.output_scroll { \n",
              "            height: auto; \n",
              "        }\n",
              "    </style><h1 class='task_title'>Task 8: Other interesting questions</h1>"
            ],
            "text/plain": [
              "<IPython.core.display.HTML object>"
            ]
          },
          "metadata": {},
          "output_type": "display_data"
        },
        {
          "data": {
            "text/html": [
              "<style>\n",
              "        div {\n",
              "            color: black;\n",
              "        }\n",
              "        .single_answer {\n",
              "            border-left: 3px solid #dc7b15;\n",
              "            padding-left: 10px;\n",
              "            font-family: Arial;\n",
              "            font-size: 16px;\n",
              "            color: #777777;\n",
              "            margin-left: 5px;\n",
              "\n",
              "        }\n",
              "        .answer{\n",
              "            color: #dc7b15;\n",
              "        }\n",
              "        .question_title {\n",
              "            color: grey;\n",
              "            display: block;\n",
              "            text-transform: none;\n",
              "        }      \n",
              "        div.output_scroll { \n",
              "            height: auto; \n",
              "        }\n",
              "    </style><h2 class='question_title'>1. what is the immune system response to 2019-ncov?</h2>"
            ],
            "text/plain": [
              "<IPython.core.display.HTML object>"
            ]
          },
          "metadata": {},
          "output_type": "display_data"
        },
        {
          "data": {
            "text/html": [
              "<style>\n",
              "        div {\n",
              "            color: black;\n",
              "        }\n",
              "        .single_answer {\n",
              "            border-left: 3px solid #dc7b15;\n",
              "            padding-left: 10px;\n",
              "            font-family: Arial;\n",
              "            font-size: 16px;\n",
              "            color: #777777;\n",
              "            margin-left: 5px;\n",
              "\n",
              "        }\n",
              "        .answer{\n",
              "            color: #dc7b15;\n",
              "        }\n",
              "        .question_title {\n",
              "            color: grey;\n",
              "            display: block;\n",
              "            text-transform: none;\n",
              "        }      \n",
              "        div.output_scroll { \n",
              "            height: auto; \n",
              "        }\n",
              "    </style><div class=\"single_answer\">In this paper, we construct a stochastic model of the 2019-nCoV transmission in a confined space, which gives a detailed account of the interaction between the spreading virus and mobile individuals. Different aspects of the interaction at mesoscopic level, such as the human motion, the shedding and spreading of the virus, its contamination and invasion of the human body and <span class='answer'>the response of the human immune system</span>, are touched upon in the model, their relative importance during the course of infection being evaluated. The model provides a bridge linking the epidemic statistics to the physiological parameters of individuals and may serve a theoretical guidance for epidemic prevention and control.</div>"
            ],
            "text/plain": [
              "<IPython.core.display.HTML object>"
            ]
          },
          "metadata": {},
          "output_type": "display_data"
        },
        {
          "data": {
            "text/html": [
              "<style>\n",
              "        div {\n",
              "            color: black;\n",
              "        }\n",
              "        .single_answer {\n",
              "            border-left: 3px solid #dc7b15;\n",
              "            padding-left: 10px;\n",
              "            font-family: Arial;\n",
              "            font-size: 16px;\n",
              "            color: #777777;\n",
              "            margin-left: 5px;\n",
              "\n",
              "        }\n",
              "        .answer{\n",
              "            color: #dc7b15;\n",
              "        }\n",
              "        .question_title {\n",
              "            color: grey;\n",
              "            display: block;\n",
              "            text-transform: none;\n",
              "        }      \n",
              "        div.output_scroll { \n",
              "            height: auto; \n",
              "        }\n",
              "    </style><div class=\"single_answer\">In this paper, we construct a stochastic model of the 2019-nCoV transmission in a confined space, which gives a detailed account of the interaction between the spreading virus and mobile individuals. Different aspects of the interaction at mesoscopic level, such as the human motion, the shedding and spreading of the virus, its contamination and invasion of the human body and <span class='answer'>the response of the human immune system</span>, are touched upon in the model, their relative importance during the course of infection being evaluated. The model provides a bridge linking the epidemic statistics to the physiological parameters of individuals and may serve a theoretical guidance for epidemic prevention and control.</div>"
            ],
            "text/plain": [
              "<IPython.core.display.HTML object>"
            ]
          },
          "metadata": {},
          "output_type": "display_data"
        },
        {
          "data": {
            "text/html": [
              "<style>\n",
              "        div {\n",
              "            color: black;\n",
              "        }\n",
              "        .single_answer {\n",
              "            border-left: 3px solid #dc7b15;\n",
              "            padding-left: 10px;\n",
              "            font-family: Arial;\n",
              "            font-size: 16px;\n",
              "            color: #777777;\n",
              "            margin-left: 5px;\n",
              "\n",
              "        }\n",
              "        .answer{\n",
              "            color: #dc7b15;\n",
              "        }\n",
              "        .question_title {\n",
              "            color: grey;\n",
              "            display: block;\n",
              "            text-transform: none;\n",
              "        }      \n",
              "        div.output_scroll { \n",
              "            height: auto; \n",
              "        }\n",
              "    </style><div class=\"single_answer\">COVID-19 has swept across the world, causing widespread epidemics and millions of life lost worldwide. After infected with 2019-nCoV, the body quickly mobilizes the <span class='answer'>innate immune response</span> and produces type Ⅰ interferon (IFN-Ⅰ). IFN-Ⅰ plays an important role in virus clearance in the early stage of disease. This article reviews the innate immune recognition after virus infection and the interaction between 2019-nCoV and IFN-Ⅰ, which would be conductive to understanding the pathogenesis and antiviral treatment of COVID-19. © 2021 Chinese Medical Association</div>"
            ],
            "text/plain": [
              "<IPython.core.display.HTML object>"
            ]
          },
          "metadata": {},
          "output_type": "display_data"
        },
        {
          "data": {
            "text/html": [
              "<style>\n",
              "        div {\n",
              "            color: black;\n",
              "        }\n",
              "        .single_answer {\n",
              "            border-left: 3px solid #dc7b15;\n",
              "            padding-left: 10px;\n",
              "            font-family: Arial;\n",
              "            font-size: 16px;\n",
              "            color: #777777;\n",
              "            margin-left: 5px;\n",
              "\n",
              "        }\n",
              "        .answer{\n",
              "            color: #dc7b15;\n",
              "        }\n",
              "        .question_title {\n",
              "            color: grey;\n",
              "            display: block;\n",
              "            text-transform: none;\n",
              "        }      \n",
              "        div.output_scroll { \n",
              "            height: auto; \n",
              "        }\n",
              "    </style><div class=\"single_answer\">The recent outbreak of coronavirus disease (COVID-19) has become a major public health issue caused by 2019 novel coronavirus (2019-nCoV) [1] Severe COVID-19 patients may reveal a <span class='answer'>dysregulated</span> immune response that allows the development of viral hyperinflammation [2] In the fight against COVID-19, inflammatory parameters towards illness severity should be identified to improve the prognosis of patients In this study, we aimed to assess the discriminative ability of several inflammation indicators in severe COVID-19 infection</div>"
            ],
            "text/plain": [
              "<IPython.core.display.HTML object>"
            ]
          },
          "metadata": {},
          "output_type": "display_data"
        },
        {
          "data": {
            "text/html": [
              "<style>\n",
              "        div {\n",
              "            color: black;\n",
              "        }\n",
              "        .single_answer {\n",
              "            border-left: 3px solid #dc7b15;\n",
              "            padding-left: 10px;\n",
              "            font-family: Arial;\n",
              "            font-size: 16px;\n",
              "            color: #777777;\n",
              "            margin-left: 5px;\n",
              "\n",
              "        }\n",
              "        .answer{\n",
              "            color: #dc7b15;\n",
              "        }\n",
              "        .question_title {\n",
              "            color: grey;\n",
              "            display: block;\n",
              "            text-transform: none;\n",
              "        }      \n",
              "        div.output_scroll { \n",
              "            height: auto; \n",
              "        }\n",
              "    </style><h2 class='question_title'>2. can personal protective equipment prevent the transmission of 2019-ncov?</h2>"
            ],
            "text/plain": [
              "<IPython.core.display.HTML object>"
            ]
          },
          "metadata": {},
          "output_type": "display_data"
        },
        {
          "data": {
            "text/html": [
              "<style>\n",
              "        div {\n",
              "            color: black;\n",
              "        }\n",
              "        .single_answer {\n",
              "            border-left: 3px solid #dc7b15;\n",
              "            padding-left: 10px;\n",
              "            font-family: Arial;\n",
              "            font-size: 16px;\n",
              "            color: #777777;\n",
              "            margin-left: 5px;\n",
              "\n",
              "        }\n",
              "        .answer{\n",
              "            color: #dc7b15;\n",
              "        }\n",
              "        .question_title {\n",
              "            color: grey;\n",
              "            display: block;\n",
              "            text-transform: none;\n",
              "        }      \n",
              "        div.output_scroll { \n",
              "            height: auto; \n",
              "        }\n",
              "    </style><div class=\"single_answer\">In late December 2019 a previous unidentified coronavirus, currently named as the 2019 novel coronavirus (2019-nCoV), emerged from Wuhan, China and resulted in a formidable outbreak in many cities in China and expanding globally, including Thailand, Republic of Korea, Japan, USA, Philippines, Viet Nam, and our country (as of 2/6/2020 at least 25 countries). The disease is officially named as the Severe Specific Contagious Pneumonia (SSCP) in 1/15/2019 and is a notifiable communicable disease of the 5 category by the Taiwan CDC, the Ministry of Health. SSCP is a potential zoonotic disease with low to moderate (estimated 2-5%) mortality rate. Person-to-person transmission may occur through droplet or contact transmission and jeopardized first-line healthcare workers if <span class='answer'>lack of stringent infection control or no proper personal protective equipment available</span>. Currently, there is no definite treatment for SSCP although some drugs are under investigation. To promptly identify patients and prevent further spreading, physicians should be aware of travel or contact history for patients with compatible symptoms.</div>"
            ],
            "text/plain": [
              "<IPython.core.display.HTML object>"
            ]
          },
          "metadata": {},
          "output_type": "display_data"
        },
        {
          "data": {
            "text/html": [
              "<style>\n",
              "        div {\n",
              "            color: black;\n",
              "        }\n",
              "        .single_answer {\n",
              "            border-left: 3px solid #dc7b15;\n",
              "            padding-left: 10px;\n",
              "            font-family: Arial;\n",
              "            font-size: 16px;\n",
              "            color: #777777;\n",
              "            margin-left: 5px;\n",
              "\n",
              "        }\n",
              "        .answer{\n",
              "            color: #dc7b15;\n",
              "        }\n",
              "        .question_title {\n",
              "            color: grey;\n",
              "            display: block;\n",
              "            text-transform: none;\n",
              "        }      \n",
              "        div.output_scroll { \n",
              "            height: auto; \n",
              "        }\n",
              "    </style><div class=\"single_answer\">In late December 2019 a previous unidentified coronavirus, currently named as the 2019 novel coronavirus (2019-nCoV), emerged from Wuhan, China and resulted in a formidable outbreak in many cities in China and expanding globally, including Thailand, Republic of Korea, Japan, USA, Philippines, Viet Nam, and our country (as of 2/6/2020 at least 25 countries). The disease is officially named as the Severe Specific Contagious Pneumonia (SSCP) in 1/15/2019 and is a notifiable communicable disease of the 5 category by the Taiwan CDC, the Ministry of Health. SSCP is a potential zoonotic disease with low to moderate (estimated 2-5%) mortality rate. Person-to-person transmission may occur through droplet or contact transmission and jeopardized first-line healthcare workers if <span class='answer'>lack of stringent infection control or no proper personal protective equipment available</span>. Currently, there is no definite treatment for SSCP although some drugs are under investigation. To promptly identify patients and prevent further spreading, physicians should be aware of travel or contact history for patients with compatible symptoms.</div>"
            ],
            "text/plain": [
              "<IPython.core.display.HTML object>"
            ]
          },
          "metadata": {},
          "output_type": "display_data"
        },
        {
          "data": {
            "text/html": [
              "<style>\n",
              "        div {\n",
              "            color: black;\n",
              "        }\n",
              "        .single_answer {\n",
              "            border-left: 3px solid #dc7b15;\n",
              "            padding-left: 10px;\n",
              "            font-family: Arial;\n",
              "            font-size: 16px;\n",
              "            color: #777777;\n",
              "            margin-left: 5px;\n",
              "\n",
              "        }\n",
              "        .answer{\n",
              "            color: #dc7b15;\n",
              "        }\n",
              "        .question_title {\n",
              "            color: grey;\n",
              "            display: block;\n",
              "            text-transform: none;\n",
              "        }      \n",
              "        div.output_scroll { \n",
              "            height: auto; \n",
              "        }\n",
              "    </style><div class=\"single_answer\">In December 2019, transmission of the novel coronavirus (SARS-CoV-2) that causes coronavirus disease 2019(COVID-19) occurred in Wuhan, China(1) And later the virus began to be transmitted from person to person(2) Face masks are a type of personal protective equipment used to prevent the spread of respiratory infectionsit <span class='answer'>may be effective at helping prevent transmission of respiratory viruses and bacteria</span>(3) Here, we share a case of face masks are be used to prevent the transmission of COVID-19 infection</div>"
            ],
            "text/plain": [
              "<IPython.core.display.HTML object>"
            ]
          },
          "metadata": {},
          "output_type": "display_data"
        },
        {
          "data": {
            "text/html": [
              "<style>\n",
              "        div {\n",
              "            color: black;\n",
              "        }\n",
              "        .single_answer {\n",
              "            border-left: 3px solid #dc7b15;\n",
              "            padding-left: 10px;\n",
              "            font-family: Arial;\n",
              "            font-size: 16px;\n",
              "            color: #777777;\n",
              "            margin-left: 5px;\n",
              "\n",
              "        }\n",
              "        .answer{\n",
              "            color: #dc7b15;\n",
              "        }\n",
              "        .question_title {\n",
              "            color: grey;\n",
              "            display: block;\n",
              "            text-transform: none;\n",
              "        }      \n",
              "        div.output_scroll { \n",
              "            height: auto; \n",
              "        }\n",
              "    </style><div class=\"single_answer\">In December 2019, transmission of the novel coronavirus (SARS-CoV-2) that causes coronavirus disease 2019(COVID-19) occurred in Wuhan, China1 .And later the virus began to be transmitted from person to person2 .Face masks are a type of personal protective equipment used to prevent the spread of respiratory infections，<span class='answer'>it may be effective at helping prevent transmission of respiratory viruses and bacteria</span>3 .Here, we share a case of face masks are be used to prevent the transmission of COVID-19 infection.</div>"
            ],
            "text/plain": [
              "<IPython.core.display.HTML object>"
            ]
          },
          "metadata": {},
          "output_type": "display_data"
        },
        {
          "data": {
            "text/html": [
              "<style>\n",
              "        div {\n",
              "            color: black;\n",
              "        }\n",
              "        .single_answer {\n",
              "            border-left: 3px solid #dc7b15;\n",
              "            padding-left: 10px;\n",
              "            font-family: Arial;\n",
              "            font-size: 16px;\n",
              "            color: #777777;\n",
              "            margin-left: 5px;\n",
              "\n",
              "        }\n",
              "        .answer{\n",
              "            color: #dc7b15;\n",
              "        }\n",
              "        .question_title {\n",
              "            color: grey;\n",
              "            display: block;\n",
              "            text-transform: none;\n",
              "        }      \n",
              "        div.output_scroll { \n",
              "            height: auto; \n",
              "        }\n",
              "    </style><div class=\"single_answer\">As the 2019 coronavirus pandemic has unfolded, an increasing number of atypical presentations of COVID-19 have been reported. As patients with COVID-19 often present to emergency departments for initial care, <span class='answer'>it is important that emergency clinicians are familiar with these atypical presentations in order to prevent disease transmission</span>. We present a case of a 21-year-old woman diagnosed in our ED with COVID-19 associated parotitis and review the epidemiology and management of parotitis. We discuss the importance of considering COVID-19 in the differential of parotitis and other viral-associated syndromes and emphasize the importance of donning personal protective equipment during the initial evaluation.</div>"
            ],
            "text/plain": [
              "<IPython.core.display.HTML object>"
            ]
          },
          "metadata": {},
          "output_type": "display_data"
        },
        {
          "data": {
            "text/html": [
              "<style>\n",
              "        div {\n",
              "            color: black;\n",
              "        }\n",
              "        .single_answer {\n",
              "            border-left: 3px solid #dc7b15;\n",
              "            padding-left: 10px;\n",
              "            font-family: Arial;\n",
              "            font-size: 16px;\n",
              "            color: #777777;\n",
              "            margin-left: 5px;\n",
              "\n",
              "        }\n",
              "        .answer{\n",
              "            color: #dc7b15;\n",
              "        }\n",
              "        .question_title {\n",
              "            color: grey;\n",
              "            display: block;\n",
              "            text-transform: none;\n",
              "        }      \n",
              "        div.output_scroll { \n",
              "            height: auto; \n",
              "        }\n",
              "    </style><div class=\"single_answer\">As the 2019 coronavirus pandemic has unfolded, an increasing number of atypical presentations of COVID-19 have been reported. As patients with COVID-19 often present to emergency departments for initial care, <span class='answer'>it is important that emergency clinicians are familiar with these atypical presentations in order to prevent disease transmission</span>. We present a case of a 21-year-old woman diagnosed in our ED with COVID-19 associated parotitis and review the epidemiology and management of parotitis. We discuss the importance of considering COVID-19 in the differential of parotitis and other viral-associated syndromes and emphasize the importance of donning personal protective equipment during the initial evaluation.</div>"
            ],
            "text/plain": [
              "<IPython.core.display.HTML object>"
            ]
          },
          "metadata": {},
          "output_type": "display_data"
        },
        {
          "data": {
            "text/html": [
              "<style>\n",
              "        div {\n",
              "            color: black;\n",
              "        }\n",
              "        .single_answer {\n",
              "            border-left: 3px solid #dc7b15;\n",
              "            padding-left: 10px;\n",
              "            font-family: Arial;\n",
              "            font-size: 16px;\n",
              "            color: #777777;\n",
              "            margin-left: 5px;\n",
              "\n",
              "        }\n",
              "        .answer{\n",
              "            color: #dc7b15;\n",
              "        }\n",
              "        .question_title {\n",
              "            color: grey;\n",
              "            display: block;\n",
              "            text-transform: none;\n",
              "        }      \n",
              "        div.output_scroll { \n",
              "            height: auto; \n",
              "        }\n",
              "    </style><div class=\"single_answer\">As the 2019 coronavirus pandemic has unfolded, an increasing number of atypical presentations of COVID-19 have been reported. As patients with COVID-19 often present to emergency departments for initial care, <span class='answer'>it is important that emergency clinicians are familiar with these atypical presentations in order to prevent disease transmission</span>. We present a case of a 21-year-old woman diagnosed in our ED with COVID-19 associated parotitis and review the epidemiology and management of parotitis. We discuss the importance of considering COVID-19 in the differential of parotitis and other viral-associated syndromes and emphasize the importance of donning personal protective equipment during the initial evaluation.</div>"
            ],
            "text/plain": [
              "<IPython.core.display.HTML object>"
            ]
          },
          "metadata": {},
          "output_type": "display_data"
        },
        {
          "data": {
            "text/html": [
              "<style>\n",
              "        div {\n",
              "            color: black;\n",
              "        }\n",
              "        .single_answer {\n",
              "            border-left: 3px solid #dc7b15;\n",
              "            padding-left: 10px;\n",
              "            font-family: Arial;\n",
              "            font-size: 16px;\n",
              "            color: #777777;\n",
              "            margin-left: 5px;\n",
              "\n",
              "        }\n",
              "        .answer{\n",
              "            color: #dc7b15;\n",
              "        }\n",
              "        .question_title {\n",
              "            color: grey;\n",
              "            display: block;\n",
              "            text-transform: none;\n",
              "        }      \n",
              "        div.output_scroll { \n",
              "            height: auto; \n",
              "        }\n",
              "    </style><h2 class='question_title'>3. can 2019-ncov infect patients a second time?</h2>"
            ],
            "text/plain": [
              "<IPython.core.display.HTML object>"
            ]
          },
          "metadata": {},
          "output_type": "display_data"
        },
        {
          "data": {
            "text/html": [
              "<style>\n",
              "        div {\n",
              "            color: black;\n",
              "        }\n",
              "        .single_answer {\n",
              "            border-left: 3px solid #dc7b15;\n",
              "            padding-left: 10px;\n",
              "            font-family: Arial;\n",
              "            font-size: 16px;\n",
              "            color: #777777;\n",
              "            margin-left: 5px;\n",
              "\n",
              "        }\n",
              "        .answer{\n",
              "            color: #dc7b15;\n",
              "        }\n",
              "        .question_title {\n",
              "            color: grey;\n",
              "            display: block;\n",
              "            text-transform: none;\n",
              "        }      \n",
              "        div.output_scroll { \n",
              "            height: auto; \n",
              "        }\n",
              "    </style><div class=\"single_answer\">In December 2019, a novel coronavirus (SARS-CoV-2) has been identified to cause acute respiratory disease in humans An outbreak of this disease has been reported in mainland China with the city of Wuhan as the recognized epicenter The disease has also been exported to other countries, including the Philippines, but <span class='answer'>the level of spread is still under control</span> (as of 08 February 2020) To describe and predict the dynamics of the disease, several preliminary mathematical models are formulated by various international study groups Here, the insights that can be drawn from these models are discussed, especially as inputs for designing strategies to control the epidemics Proposed model-based strategies on how to prevent the spread of the disease in local setting, such as during social gatherings, are also presented The model shows that the exposure time is a significant factor in spreading the disease As crowd density increases, the higher the chance an infected person could infect other people The attendees of the social gathering should have effective protection or preventive measures (e g , administrative and engineering controls) to minimize further disease transmission</div>"
            ],
            "text/plain": [
              "<IPython.core.display.HTML object>"
            ]
          },
          "metadata": {},
          "output_type": "display_data"
        },
        {
          "data": {
            "text/html": [
              "<style>\n",
              "        div {\n",
              "            color: black;\n",
              "        }\n",
              "        .single_answer {\n",
              "            border-left: 3px solid #dc7b15;\n",
              "            padding-left: 10px;\n",
              "            font-family: Arial;\n",
              "            font-size: 16px;\n",
              "            color: #777777;\n",
              "            margin-left: 5px;\n",
              "\n",
              "        }\n",
              "        .answer{\n",
              "            color: #dc7b15;\n",
              "        }\n",
              "        .question_title {\n",
              "            color: grey;\n",
              "            display: block;\n",
              "            text-transform: none;\n",
              "        }      \n",
              "        div.output_scroll { \n",
              "            height: auto; \n",
              "        }\n",
              "    </style><div class=\"single_answer\">In December 2019, a novel coronavirus (SARS-CoV-2) has been identified to cause acute respiratory disease in humans. An outbreak of this disease has been reported in mainland China with the city of Wuhan as the recognized epicenter. The disease has also been exported to other countries, including the Philippines, but <span class='answer'>the level of spread is still under control</span> (as of 08 February 2020). To describe and predict the dynamics of the disease, several preliminary mathematical models are formulated by various international study groups. Here, the insights that can be drawn from these models are discussed, especially as inputs for designing strategies to control the epidemics. Proposed model-based strategies on how to prevent the spread of the disease in local setting, such as during social gatherings, are also presented. The model shows that the exposure time is a significant factor in spreading the disease. As crowd density increases, the higher the chance an infected person could infect other people. The attendees of the social gathering should have effective protection or preventive measures (e.g., administrative and engineering controls) to minimize further disease transmission.</div>"
            ],
            "text/plain": [
              "<IPython.core.display.HTML object>"
            ]
          },
          "metadata": {},
          "output_type": "display_data"
        },
        {
          "data": {
            "text/html": [
              "<style>\n",
              "        div {\n",
              "            color: black;\n",
              "        }\n",
              "        .single_answer {\n",
              "            border-left: 3px solid #dc7b15;\n",
              "            padding-left: 10px;\n",
              "            font-family: Arial;\n",
              "            font-size: 16px;\n",
              "            color: #777777;\n",
              "            margin-left: 5px;\n",
              "\n",
              "        }\n",
              "        .answer{\n",
              "            color: #dc7b15;\n",
              "        }\n",
              "        .question_title {\n",
              "            color: grey;\n",
              "            display: block;\n",
              "            text-transform: none;\n",
              "        }      \n",
              "        div.output_scroll { \n",
              "            height: auto; \n",
              "        }\n",
              "    </style><div class=\"single_answer\">In December 2019, a novel coronavirus (SARS-CoV-2) has been identified to cause acute respiratory disease in humans. An outbreak of this disease has been reported in mainland China with the city of Wuhan as the recognized epicenter. The disease has also been exported to other countries, including the Philippines, but the level of spread is still under control (as of 08 February 2020). To describe and predict the dynamics of the disease, several preliminary mathematical models are formulated by various international study groups. Here, the insights that can be drawn from these models are discussed, especially as inputs for designing strategies to control the epidemics. Proposed model-based strategies on how to prevent the spread of the disease in local setting, such as during large social gatherings, are also presented. The model shows that the exposure time is a significant factor in spreading the disease. With a basic reproduction number equal to 2, and 14-day infectious period, <span class='answer'>an infected person staying more than 9 hours in the event could infect other people</span>. Assuming the exposure time is 18 hours, the model recommends that attendees of the social gathering should have a protection with more than 70 percent effectiveness.</div>"
            ],
            "text/plain": [
              "<IPython.core.display.HTML object>"
            ]
          },
          "metadata": {},
          "output_type": "display_data"
        }
      ],
      "source": [
        "task = 8\n",
        "display_single_task(task, all_tasks[task-1])"
      ]
    },
    {
      "cell_type": "markdown",
      "metadata": {
        "id": "yApjjvDoHUtD"
      },
      "source": [
        "# 9. Export solutions\n",
        "\n",
        "We save in a _JSON_ file all the obtained answers. The same _JSON_ files might come in handy for further analysis and right now is used to visualize the same results in the [interactive interface](https://jbesomi.github.io/Korono/). "
      ]
    },
    {
      "cell_type": "code",
      "execution_count": null,
      "metadata": {
        "id": "BCta6blzHUtE"
      },
      "outputs": [],
      "source": [
        "import json\n",
        "with open(\"/content/drive/MyDrive/plp-qa-data/covid_kaggle_answer_from_qa.json\", \"w\") as f:\n",
        "    json.dump(all_answers, f)"
      ]
    },
    {
      "cell_type": "markdown",
      "metadata": {
        "id": "IyjMh9GeHUtE"
      },
      "source": [
        "# 10. Conclusions\n",
        "\n",
        "I hope your learned something along the way and had fun reading this notebook 👍\n",
        "\n",
        "As you, I'm here for learning: your feedback and opinion it what makes me create better content. Please, tell me your opinion in the commentary box.\n",
        "\n",
        "Thank you 🤗"
      ]
    },
    {
      "cell_type": "markdown",
      "metadata": {
        "id": "qlBfAhx2HUtF"
      },
      "source": [
        "##### Future relases: text summarization"
      ]
    }
  ],
  "metadata": {
    "colab": {
      "collapsed_sections": [],
      "machine_shape": "hm",
      "name": "a_qa_model_to_answer_them_all.ipynb",
      "provenance": []
    },
    "kernelspec": {
      "display_name": "Python 3",
      "language": "python",
      "name": "python3"
    },
    "language_info": {
      "codemirror_mode": {
        "name": "ipython",
        "version": 3
      },
      "file_extension": ".py",
      "mimetype": "text/x-python",
      "name": "python",
      "nbconvert_exporter": "python",
      "pygments_lexer": "ipython3",
      "version": "3.6.6"
    },
    "widgets": {
      "application/vnd.jupyter.widget-state+json": {
        "03f50849f75240baa6f8f1f3edee0c73": {
          "model_module": "@jupyter-widgets/controls",
          "model_module_version": "1.5.0",
          "model_name": "HTMLModel",
          "state": {
            "_dom_classes": [],
            "_model_module": "@jupyter-widgets/controls",
            "_model_module_version": "1.5.0",
            "_model_name": "HTMLModel",
            "_view_count": null,
            "_view_module": "@jupyter-widgets/controls",
            "_view_module_version": "1.5.0",
            "_view_name": "HTMLView",
            "description": "",
            "description_tooltip": null,
            "layout": "IPY_MODEL_a46ea64558fc4449b04086f647970e7c",
            "placeholder": "​",
            "style": "IPY_MODEL_b2155fbce8494bf6be5c7dbf2d1d67a9",
            "value": " 226k/226k [00:00&lt;00:00, 311kB/s]"
          }
        },
        "06ffefd6f1ee4067888388d94f619f9a": {
          "model_module": "@jupyter-widgets/base",
          "model_module_version": "1.2.0",
          "model_name": "LayoutModel",
          "state": {
            "_model_module": "@jupyter-widgets/base",
            "_model_module_version": "1.2.0",
            "_model_name": "LayoutModel",
            "_view_count": null,
            "_view_module": "@jupyter-widgets/base",
            "_view_module_version": "1.2.0",
            "_view_name": "LayoutView",
            "align_content": null,
            "align_items": null,
            "align_self": null,
            "border": null,
            "bottom": null,
            "display": null,
            "flex": null,
            "flex_flow": null,
            "grid_area": null,
            "grid_auto_columns": null,
            "grid_auto_flow": null,
            "grid_auto_rows": null,
            "grid_column": null,
            "grid_gap": null,
            "grid_row": null,
            "grid_template_areas": null,
            "grid_template_columns": null,
            "grid_template_rows": null,
            "height": null,
            "justify_content": null,
            "justify_items": null,
            "left": null,
            "margin": null,
            "max_height": null,
            "max_width": null,
            "min_height": null,
            "min_width": null,
            "object_fit": null,
            "object_position": null,
            "order": null,
            "overflow": null,
            "overflow_x": null,
            "overflow_y": null,
            "padding": null,
            "right": null,
            "top": null,
            "visibility": null,
            "width": null
          }
        },
        "1140af538d684c0d8220eff1a8550dbf": {
          "model_module": "@jupyter-widgets/controls",
          "model_module_version": "1.5.0",
          "model_name": "DescriptionStyleModel",
          "state": {
            "_model_module": "@jupyter-widgets/controls",
            "_model_module_version": "1.5.0",
            "_model_name": "DescriptionStyleModel",
            "_view_count": null,
            "_view_module": "@jupyter-widgets/base",
            "_view_module_version": "1.2.0",
            "_view_name": "StyleView",
            "description_width": ""
          }
        },
        "19dc1918bbb8492fa357ba67406fb4e2": {
          "model_module": "@jupyter-widgets/controls",
          "model_module_version": "1.5.0",
          "model_name": "DescriptionStyleModel",
          "state": {
            "_model_module": "@jupyter-widgets/controls",
            "_model_module_version": "1.5.0",
            "_model_name": "DescriptionStyleModel",
            "_view_count": null,
            "_view_module": "@jupyter-widgets/base",
            "_view_module_version": "1.2.0",
            "_view_name": "StyleView",
            "description_width": ""
          }
        },
        "1e3895993b464628b6522be2ae373f56": {
          "model_module": "@jupyter-widgets/base",
          "model_module_version": "1.2.0",
          "model_name": "LayoutModel",
          "state": {
            "_model_module": "@jupyter-widgets/base",
            "_model_module_version": "1.2.0",
            "_model_name": "LayoutModel",
            "_view_count": null,
            "_view_module": "@jupyter-widgets/base",
            "_view_module_version": "1.2.0",
            "_view_name": "LayoutView",
            "align_content": null,
            "align_items": null,
            "align_self": null,
            "border": null,
            "bottom": null,
            "display": null,
            "flex": null,
            "flex_flow": null,
            "grid_area": null,
            "grid_auto_columns": null,
            "grid_auto_flow": null,
            "grid_auto_rows": null,
            "grid_column": null,
            "grid_gap": null,
            "grid_row": null,
            "grid_template_areas": null,
            "grid_template_columns": null,
            "grid_template_rows": null,
            "height": null,
            "justify_content": null,
            "justify_items": null,
            "left": null,
            "margin": null,
            "max_height": null,
            "max_width": null,
            "min_height": null,
            "min_width": null,
            "object_fit": null,
            "object_position": null,
            "order": null,
            "overflow": null,
            "overflow_x": null,
            "overflow_y": null,
            "padding": null,
            "right": null,
            "top": null,
            "visibility": null,
            "width": null
          }
        },
        "2504766c87ed4d498bd837a72adc7dc5": {
          "model_module": "@jupyter-widgets/controls",
          "model_module_version": "1.5.0",
          "model_name": "DescriptionStyleModel",
          "state": {
            "_model_module": "@jupyter-widgets/controls",
            "_model_module_version": "1.5.0",
            "_model_name": "DescriptionStyleModel",
            "_view_count": null,
            "_view_module": "@jupyter-widgets/base",
            "_view_module_version": "1.2.0",
            "_view_name": "StyleView",
            "description_width": ""
          }
        },
        "2df19a05b04b4030a9bc3061e23876fa": {
          "model_module": "@jupyter-widgets/controls",
          "model_module_version": "1.5.0",
          "model_name": "FloatProgressModel",
          "state": {
            "_dom_classes": [],
            "_model_module": "@jupyter-widgets/controls",
            "_model_module_version": "1.5.0",
            "_model_name": "FloatProgressModel",
            "_view_count": null,
            "_view_module": "@jupyter-widgets/controls",
            "_view_module_version": "1.5.0",
            "_view_name": "ProgressView",
            "bar_style": "success",
            "description": "",
            "description_tooltip": null,
            "layout": "IPY_MODEL_b23c27999bf64cc7997106d36610417f",
            "max": 231508,
            "min": 0,
            "orientation": "horizontal",
            "style": "IPY_MODEL_7fffe9377ff74ea68bea07f6a1dd9cb7",
            "value": 231508
          }
        },
        "2f08fbe2fad24686a59d2a4cd2e80960": {
          "model_module": "@jupyter-widgets/controls",
          "model_module_version": "1.5.0",
          "model_name": "DescriptionStyleModel",
          "state": {
            "_model_module": "@jupyter-widgets/controls",
            "_model_module_version": "1.5.0",
            "_model_name": "DescriptionStyleModel",
            "_view_count": null,
            "_view_module": "@jupyter-widgets/base",
            "_view_module_version": "1.2.0",
            "_view_name": "StyleView",
            "description_width": ""
          }
        },
        "30c0126a6fc44a39829a336422eb8d18": {
          "model_module": "@jupyter-widgets/base",
          "model_module_version": "1.2.0",
          "model_name": "LayoutModel",
          "state": {
            "_model_module": "@jupyter-widgets/base",
            "_model_module_version": "1.2.0",
            "_model_name": "LayoutModel",
            "_view_count": null,
            "_view_module": "@jupyter-widgets/base",
            "_view_module_version": "1.2.0",
            "_view_name": "LayoutView",
            "align_content": null,
            "align_items": null,
            "align_self": null,
            "border": null,
            "bottom": null,
            "display": null,
            "flex": null,
            "flex_flow": null,
            "grid_area": null,
            "grid_auto_columns": null,
            "grid_auto_flow": null,
            "grid_auto_rows": null,
            "grid_column": null,
            "grid_gap": null,
            "grid_row": null,
            "grid_template_areas": null,
            "grid_template_columns": null,
            "grid_template_rows": null,
            "height": null,
            "justify_content": null,
            "justify_items": null,
            "left": null,
            "margin": null,
            "max_height": null,
            "max_width": null,
            "min_height": null,
            "min_width": null,
            "object_fit": null,
            "object_position": null,
            "order": null,
            "overflow": null,
            "overflow_x": null,
            "overflow_y": null,
            "padding": null,
            "right": null,
            "top": null,
            "visibility": null,
            "width": null
          }
        },
        "34769cd44c584cd8abddb354e4941e2c": {
          "model_module": "@jupyter-widgets/controls",
          "model_module_version": "1.5.0",
          "model_name": "ProgressStyleModel",
          "state": {
            "_model_module": "@jupyter-widgets/controls",
            "_model_module_version": "1.5.0",
            "_model_name": "ProgressStyleModel",
            "_view_count": null,
            "_view_module": "@jupyter-widgets/base",
            "_view_module_version": "1.2.0",
            "_view_name": "StyleView",
            "bar_color": null,
            "description_width": ""
          }
        },
        "3b977d5b0379463fbfae420f354ae986": {
          "model_module": "@jupyter-widgets/base",
          "model_module_version": "1.2.0",
          "model_name": "LayoutModel",
          "state": {
            "_model_module": "@jupyter-widgets/base",
            "_model_module_version": "1.2.0",
            "_model_name": "LayoutModel",
            "_view_count": null,
            "_view_module": "@jupyter-widgets/base",
            "_view_module_version": "1.2.0",
            "_view_name": "LayoutView",
            "align_content": null,
            "align_items": null,
            "align_self": null,
            "border": null,
            "bottom": null,
            "display": null,
            "flex": null,
            "flex_flow": null,
            "grid_area": null,
            "grid_auto_columns": null,
            "grid_auto_flow": null,
            "grid_auto_rows": null,
            "grid_column": null,
            "grid_gap": null,
            "grid_row": null,
            "grid_template_areas": null,
            "grid_template_columns": null,
            "grid_template_rows": null,
            "height": null,
            "justify_content": null,
            "justify_items": null,
            "left": null,
            "margin": null,
            "max_height": null,
            "max_width": null,
            "min_height": null,
            "min_width": null,
            "object_fit": null,
            "object_position": null,
            "order": null,
            "overflow": null,
            "overflow_x": null,
            "overflow_y": null,
            "padding": null,
            "right": null,
            "top": null,
            "visibility": null,
            "width": null
          }
        },
        "3f8e2250a9964331910c0051b483a912": {
          "model_module": "@jupyter-widgets/controls",
          "model_module_version": "1.5.0",
          "model_name": "HBoxModel",
          "state": {
            "_dom_classes": [],
            "_model_module": "@jupyter-widgets/controls",
            "_model_module_version": "1.5.0",
            "_model_name": "HBoxModel",
            "_view_count": null,
            "_view_module": "@jupyter-widgets/controls",
            "_view_module_version": "1.5.0",
            "_view_name": "HBoxView",
            "box_style": "",
            "children": [
              "IPY_MODEL_f3dbe210304947e886c000a0c5c8dda5",
              "IPY_MODEL_c6c285e1a649475baa4e0a8683c9dcb0",
              "IPY_MODEL_9aa86fd8c9bb42ec97479be23f4cdd21"
            ],
            "layout": "IPY_MODEL_8821d23ef94a47f588b14ea8fc3b3891"
          }
        },
        "40118b758a994425b5643bc96abc128e": {
          "model_module": "@jupyter-widgets/base",
          "model_module_version": "1.2.0",
          "model_name": "LayoutModel",
          "state": {
            "_model_module": "@jupyter-widgets/base",
            "_model_module_version": "1.2.0",
            "_model_name": "LayoutModel",
            "_view_count": null,
            "_view_module": "@jupyter-widgets/base",
            "_view_module_version": "1.2.0",
            "_view_name": "LayoutView",
            "align_content": null,
            "align_items": null,
            "align_self": null,
            "border": null,
            "bottom": null,
            "display": null,
            "flex": null,
            "flex_flow": null,
            "grid_area": null,
            "grid_auto_columns": null,
            "grid_auto_flow": null,
            "grid_auto_rows": null,
            "grid_column": null,
            "grid_gap": null,
            "grid_row": null,
            "grid_template_areas": null,
            "grid_template_columns": null,
            "grid_template_rows": null,
            "height": null,
            "justify_content": null,
            "justify_items": null,
            "left": null,
            "margin": null,
            "max_height": null,
            "max_width": null,
            "min_height": null,
            "min_width": null,
            "object_fit": null,
            "object_position": null,
            "order": null,
            "overflow": null,
            "overflow_x": null,
            "overflow_y": null,
            "padding": null,
            "right": null,
            "top": null,
            "visibility": null,
            "width": null
          }
        },
        "4892d09892d44f3ca40af03871a9ca84": {
          "model_module": "@jupyter-widgets/controls",
          "model_module_version": "1.5.0",
          "model_name": "FloatProgressModel",
          "state": {
            "_dom_classes": [],
            "_model_module": "@jupyter-widgets/controls",
            "_model_module_version": "1.5.0",
            "_model_name": "FloatProgressModel",
            "_view_count": null,
            "_view_module": "@jupyter-widgets/controls",
            "_view_module_version": "1.5.0",
            "_view_name": "ProgressView",
            "bar_style": "success",
            "description": "",
            "description_tooltip": null,
            "layout": "IPY_MODEL_a9ccfeaecbfc4fbf830d9313ae12a565",
            "max": 28,
            "min": 0,
            "orientation": "horizontal",
            "style": "IPY_MODEL_f6aec6a136fc468b936a07e928250125",
            "value": 28
          }
        },
        "4cd851ade51b4c46854630fbb14fbac6": {
          "model_module": "@jupyter-widgets/controls",
          "model_module_version": "1.5.0",
          "model_name": "HTMLModel",
          "state": {
            "_dom_classes": [],
            "_model_module": "@jupyter-widgets/controls",
            "_model_module_version": "1.5.0",
            "_model_name": "HTMLModel",
            "_view_count": null,
            "_view_module": "@jupyter-widgets/controls",
            "_view_module_version": "1.5.0",
            "_view_name": "HTMLView",
            "description": "",
            "description_tooltip": null,
            "layout": "IPY_MODEL_5e039f3825be46e0b000d5c7d4e0f1eb",
            "placeholder": "​",
            "style": "IPY_MODEL_a9a720b45c514259a7b8903aec94c81e",
            "value": "Downloading: 100%"
          }
        },
        "574ae7eb9e67484ab62bb9c0c4b26e86": {
          "model_module": "@jupyter-widgets/base",
          "model_module_version": "1.2.0",
          "model_name": "LayoutModel",
          "state": {
            "_model_module": "@jupyter-widgets/base",
            "_model_module_version": "1.2.0",
            "_model_name": "LayoutModel",
            "_view_count": null,
            "_view_module": "@jupyter-widgets/base",
            "_view_module_version": "1.2.0",
            "_view_name": "LayoutView",
            "align_content": null,
            "align_items": null,
            "align_self": null,
            "border": null,
            "bottom": null,
            "display": null,
            "flex": null,
            "flex_flow": null,
            "grid_area": null,
            "grid_auto_columns": null,
            "grid_auto_flow": null,
            "grid_auto_rows": null,
            "grid_column": null,
            "grid_gap": null,
            "grid_row": null,
            "grid_template_areas": null,
            "grid_template_columns": null,
            "grid_template_rows": null,
            "height": null,
            "justify_content": null,
            "justify_items": null,
            "left": null,
            "margin": null,
            "max_height": null,
            "max_width": null,
            "min_height": null,
            "min_width": null,
            "object_fit": null,
            "object_position": null,
            "order": null,
            "overflow": null,
            "overflow_x": null,
            "overflow_y": null,
            "padding": null,
            "right": null,
            "top": null,
            "visibility": null,
            "width": null
          }
        },
        "5e039f3825be46e0b000d5c7d4e0f1eb": {
          "model_module": "@jupyter-widgets/base",
          "model_module_version": "1.2.0",
          "model_name": "LayoutModel",
          "state": {
            "_model_module": "@jupyter-widgets/base",
            "_model_module_version": "1.2.0",
            "_model_name": "LayoutModel",
            "_view_count": null,
            "_view_module": "@jupyter-widgets/base",
            "_view_module_version": "1.2.0",
            "_view_name": "LayoutView",
            "align_content": null,
            "align_items": null,
            "align_self": null,
            "border": null,
            "bottom": null,
            "display": null,
            "flex": null,
            "flex_flow": null,
            "grid_area": null,
            "grid_auto_columns": null,
            "grid_auto_flow": null,
            "grid_auto_rows": null,
            "grid_column": null,
            "grid_gap": null,
            "grid_row": null,
            "grid_template_areas": null,
            "grid_template_columns": null,
            "grid_template_rows": null,
            "height": null,
            "justify_content": null,
            "justify_items": null,
            "left": null,
            "margin": null,
            "max_height": null,
            "max_width": null,
            "min_height": null,
            "min_width": null,
            "object_fit": null,
            "object_position": null,
            "order": null,
            "overflow": null,
            "overflow_x": null,
            "overflow_y": null,
            "padding": null,
            "right": null,
            "top": null,
            "visibility": null,
            "width": null
          }
        },
        "61db853c97504a72a66de57a8f47a3b6": {
          "model_module": "@jupyter-widgets/base",
          "model_module_version": "1.2.0",
          "model_name": "LayoutModel",
          "state": {
            "_model_module": "@jupyter-widgets/base",
            "_model_module_version": "1.2.0",
            "_model_name": "LayoutModel",
            "_view_count": null,
            "_view_module": "@jupyter-widgets/base",
            "_view_module_version": "1.2.0",
            "_view_name": "LayoutView",
            "align_content": null,
            "align_items": null,
            "align_self": null,
            "border": null,
            "bottom": null,
            "display": null,
            "flex": null,
            "flex_flow": null,
            "grid_area": null,
            "grid_auto_columns": null,
            "grid_auto_flow": null,
            "grid_auto_rows": null,
            "grid_column": null,
            "grid_gap": null,
            "grid_row": null,
            "grid_template_areas": null,
            "grid_template_columns": null,
            "grid_template_rows": null,
            "height": null,
            "justify_content": null,
            "justify_items": null,
            "left": null,
            "margin": null,
            "max_height": null,
            "max_width": null,
            "min_height": null,
            "min_width": null,
            "object_fit": null,
            "object_position": null,
            "order": null,
            "overflow": null,
            "overflow_x": null,
            "overflow_y": null,
            "padding": null,
            "right": null,
            "top": null,
            "visibility": null,
            "width": null
          }
        },
        "67161fbccda84937bd61fa6429fe5365": {
          "model_module": "@jupyter-widgets/base",
          "model_module_version": "1.2.0",
          "model_name": "LayoutModel",
          "state": {
            "_model_module": "@jupyter-widgets/base",
            "_model_module_version": "1.2.0",
            "_model_name": "LayoutModel",
            "_view_count": null,
            "_view_module": "@jupyter-widgets/base",
            "_view_module_version": "1.2.0",
            "_view_name": "LayoutView",
            "align_content": null,
            "align_items": null,
            "align_self": null,
            "border": null,
            "bottom": null,
            "display": null,
            "flex": null,
            "flex_flow": null,
            "grid_area": null,
            "grid_auto_columns": null,
            "grid_auto_flow": null,
            "grid_auto_rows": null,
            "grid_column": null,
            "grid_gap": null,
            "grid_row": null,
            "grid_template_areas": null,
            "grid_template_columns": null,
            "grid_template_rows": null,
            "height": null,
            "justify_content": null,
            "justify_items": null,
            "left": null,
            "margin": null,
            "max_height": null,
            "max_width": null,
            "min_height": null,
            "min_width": null,
            "object_fit": null,
            "object_position": null,
            "order": null,
            "overflow": null,
            "overflow_x": null,
            "overflow_y": null,
            "padding": null,
            "right": null,
            "top": null,
            "visibility": null,
            "width": null
          }
        },
        "6ab27ebfd14942c2a4c32cd1317dabde": {
          "model_module": "@jupyter-widgets/controls",
          "model_module_version": "1.5.0",
          "model_name": "HTMLModel",
          "state": {
            "_dom_classes": [],
            "_model_module": "@jupyter-widgets/controls",
            "_model_module_version": "1.5.0",
            "_model_name": "HTMLModel",
            "_view_count": null,
            "_view_module": "@jupyter-widgets/controls",
            "_view_module_version": "1.5.0",
            "_view_name": "HTMLView",
            "description": "",
            "description_tooltip": null,
            "layout": "IPY_MODEL_3b977d5b0379463fbfae420f354ae986",
            "placeholder": "​",
            "style": "IPY_MODEL_963553d6821247b29985819a402941b0",
            "value": " 28.0/28.0 [00:00&lt;00:00, 1.16kB/s]"
          }
        },
        "6d316a3a5a574701957f84e6517683fd": {
          "model_module": "@jupyter-widgets/base",
          "model_module_version": "1.2.0",
          "model_name": "LayoutModel",
          "state": {
            "_model_module": "@jupyter-widgets/base",
            "_model_module_version": "1.2.0",
            "_model_name": "LayoutModel",
            "_view_count": null,
            "_view_module": "@jupyter-widgets/base",
            "_view_module_version": "1.2.0",
            "_view_name": "LayoutView",
            "align_content": null,
            "align_items": null,
            "align_self": null,
            "border": null,
            "bottom": null,
            "display": null,
            "flex": null,
            "flex_flow": null,
            "grid_area": null,
            "grid_auto_columns": null,
            "grid_auto_flow": null,
            "grid_auto_rows": null,
            "grid_column": null,
            "grid_gap": null,
            "grid_row": null,
            "grid_template_areas": null,
            "grid_template_columns": null,
            "grid_template_rows": null,
            "height": null,
            "justify_content": null,
            "justify_items": null,
            "left": null,
            "margin": null,
            "max_height": null,
            "max_width": null,
            "min_height": null,
            "min_width": null,
            "object_fit": null,
            "object_position": null,
            "order": null,
            "overflow": null,
            "overflow_x": null,
            "overflow_y": null,
            "padding": null,
            "right": null,
            "top": null,
            "visibility": null,
            "width": null
          }
        },
        "7fffe9377ff74ea68bea07f6a1dd9cb7": {
          "model_module": "@jupyter-widgets/controls",
          "model_module_version": "1.5.0",
          "model_name": "ProgressStyleModel",
          "state": {
            "_model_module": "@jupyter-widgets/controls",
            "_model_module_version": "1.5.0",
            "_model_name": "ProgressStyleModel",
            "_view_count": null,
            "_view_module": "@jupyter-widgets/base",
            "_view_module_version": "1.2.0",
            "_view_name": "StyleView",
            "bar_color": null,
            "description_width": ""
          }
        },
        "8821d23ef94a47f588b14ea8fc3b3891": {
          "model_module": "@jupyter-widgets/base",
          "model_module_version": "1.2.0",
          "model_name": "LayoutModel",
          "state": {
            "_model_module": "@jupyter-widgets/base",
            "_model_module_version": "1.2.0",
            "_model_name": "LayoutModel",
            "_view_count": null,
            "_view_module": "@jupyter-widgets/base",
            "_view_module_version": "1.2.0",
            "_view_name": "LayoutView",
            "align_content": null,
            "align_items": null,
            "align_self": null,
            "border": null,
            "bottom": null,
            "display": null,
            "flex": null,
            "flex_flow": null,
            "grid_area": null,
            "grid_auto_columns": null,
            "grid_auto_flow": null,
            "grid_auto_rows": null,
            "grid_column": null,
            "grid_gap": null,
            "grid_row": null,
            "grid_template_areas": null,
            "grid_template_columns": null,
            "grid_template_rows": null,
            "height": null,
            "justify_content": null,
            "justify_items": null,
            "left": null,
            "margin": null,
            "max_height": null,
            "max_width": null,
            "min_height": null,
            "min_width": null,
            "object_fit": null,
            "object_position": null,
            "order": null,
            "overflow": null,
            "overflow_x": null,
            "overflow_y": null,
            "padding": null,
            "right": null,
            "top": null,
            "visibility": null,
            "width": null
          }
        },
        "8ae0508ae9e4437f91a9f38ecfb81bef": {
          "model_module": "@jupyter-widgets/controls",
          "model_module_version": "1.5.0",
          "model_name": "HTMLModel",
          "state": {
            "_dom_classes": [],
            "_model_module": "@jupyter-widgets/controls",
            "_model_module_version": "1.5.0",
            "_model_name": "HTMLModel",
            "_view_count": null,
            "_view_module": "@jupyter-widgets/controls",
            "_view_module_version": "1.5.0",
            "_view_name": "HTMLView",
            "description": "",
            "description_tooltip": null,
            "layout": "IPY_MODEL_f66b0dfdc46c4af2a90b4b1584ff80bb",
            "placeholder": "​",
            "style": "IPY_MODEL_2f08fbe2fad24686a59d2a4cd2e80960",
            "value": "Downloading: 100%"
          }
        },
        "963553d6821247b29985819a402941b0": {
          "model_module": "@jupyter-widgets/controls",
          "model_module_version": "1.5.0",
          "model_name": "DescriptionStyleModel",
          "state": {
            "_model_module": "@jupyter-widgets/controls",
            "_model_module_version": "1.5.0",
            "_model_name": "DescriptionStyleModel",
            "_view_count": null,
            "_view_module": "@jupyter-widgets/base",
            "_view_module_version": "1.2.0",
            "_view_name": "StyleView",
            "description_width": ""
          }
        },
        "9784058cf7944173afe321a5649d8428": {
          "model_module": "@jupyter-widgets/controls",
          "model_module_version": "1.5.0",
          "model_name": "ProgressStyleModel",
          "state": {
            "_model_module": "@jupyter-widgets/controls",
            "_model_module_version": "1.5.0",
            "_model_name": "ProgressStyleModel",
            "_view_count": null,
            "_view_module": "@jupyter-widgets/base",
            "_view_module_version": "1.2.0",
            "_view_name": "StyleView",
            "bar_color": null,
            "description_width": ""
          }
        },
        "9aa86fd8c9bb42ec97479be23f4cdd21": {
          "model_module": "@jupyter-widgets/controls",
          "model_module_version": "1.5.0",
          "model_name": "HTMLModel",
          "state": {
            "_dom_classes": [],
            "_model_module": "@jupyter-widgets/controls",
            "_model_module_version": "1.5.0",
            "_model_name": "HTMLModel",
            "_view_count": null,
            "_view_module": "@jupyter-widgets/controls",
            "_view_module_version": "1.5.0",
            "_view_name": "HTMLView",
            "description": "",
            "description_tooltip": null,
            "layout": "IPY_MODEL_ea1b81dbe5b644c1880aa1c5da3602cb",
            "placeholder": "​",
            "style": "IPY_MODEL_1140af538d684c0d8220eff1a8550dbf",
            "value": " 1.25G/1.25G [00:25&lt;00:00, 65.0MB/s]"
          }
        },
        "9e16d98b2ad146a39b2ceaa6f921bde2": {
          "model_module": "@jupyter-widgets/controls",
          "model_module_version": "1.5.0",
          "model_name": "HTMLModel",
          "state": {
            "_dom_classes": [],
            "_model_module": "@jupyter-widgets/controls",
            "_model_module_version": "1.5.0",
            "_model_name": "HTMLModel",
            "_view_count": null,
            "_view_module": "@jupyter-widgets/controls",
            "_view_module_version": "1.5.0",
            "_view_name": "HTMLView",
            "description": "",
            "description_tooltip": null,
            "layout": "IPY_MODEL_67161fbccda84937bd61fa6429fe5365",
            "placeholder": "​",
            "style": "IPY_MODEL_2504766c87ed4d498bd837a72adc7dc5",
            "value": "Downloading: 100%"
          }
        },
        "a46ea64558fc4449b04086f647970e7c": {
          "model_module": "@jupyter-widgets/base",
          "model_module_version": "1.2.0",
          "model_name": "LayoutModel",
          "state": {
            "_model_module": "@jupyter-widgets/base",
            "_model_module_version": "1.2.0",
            "_model_name": "LayoutModel",
            "_view_count": null,
            "_view_module": "@jupyter-widgets/base",
            "_view_module_version": "1.2.0",
            "_view_name": "LayoutView",
            "align_content": null,
            "align_items": null,
            "align_self": null,
            "border": null,
            "bottom": null,
            "display": null,
            "flex": null,
            "flex_flow": null,
            "grid_area": null,
            "grid_auto_columns": null,
            "grid_auto_flow": null,
            "grid_auto_rows": null,
            "grid_column": null,
            "grid_gap": null,
            "grid_row": null,
            "grid_template_areas": null,
            "grid_template_columns": null,
            "grid_template_rows": null,
            "height": null,
            "justify_content": null,
            "justify_items": null,
            "left": null,
            "margin": null,
            "max_height": null,
            "max_width": null,
            "min_height": null,
            "min_width": null,
            "object_fit": null,
            "object_position": null,
            "order": null,
            "overflow": null,
            "overflow_x": null,
            "overflow_y": null,
            "padding": null,
            "right": null,
            "top": null,
            "visibility": null,
            "width": null
          }
        },
        "a4d2a21354434ae5b65d1b4ad9499ea8": {
          "model_module": "@jupyter-widgets/controls",
          "model_module_version": "1.5.0",
          "model_name": "DescriptionStyleModel",
          "state": {
            "_model_module": "@jupyter-widgets/controls",
            "_model_module_version": "1.5.0",
            "_model_name": "DescriptionStyleModel",
            "_view_count": null,
            "_view_module": "@jupyter-widgets/base",
            "_view_module_version": "1.2.0",
            "_view_name": "StyleView",
            "description_width": ""
          }
        },
        "a9a720b45c514259a7b8903aec94c81e": {
          "model_module": "@jupyter-widgets/controls",
          "model_module_version": "1.5.0",
          "model_name": "DescriptionStyleModel",
          "state": {
            "_model_module": "@jupyter-widgets/controls",
            "_model_module_version": "1.5.0",
            "_model_name": "DescriptionStyleModel",
            "_view_count": null,
            "_view_module": "@jupyter-widgets/base",
            "_view_module_version": "1.2.0",
            "_view_name": "StyleView",
            "description_width": ""
          }
        },
        "a9ccfeaecbfc4fbf830d9313ae12a565": {
          "model_module": "@jupyter-widgets/base",
          "model_module_version": "1.2.0",
          "model_name": "LayoutModel",
          "state": {
            "_model_module": "@jupyter-widgets/base",
            "_model_module_version": "1.2.0",
            "_model_name": "LayoutModel",
            "_view_count": null,
            "_view_module": "@jupyter-widgets/base",
            "_view_module_version": "1.2.0",
            "_view_name": "LayoutView",
            "align_content": null,
            "align_items": null,
            "align_self": null,
            "border": null,
            "bottom": null,
            "display": null,
            "flex": null,
            "flex_flow": null,
            "grid_area": null,
            "grid_auto_columns": null,
            "grid_auto_flow": null,
            "grid_auto_rows": null,
            "grid_column": null,
            "grid_gap": null,
            "grid_row": null,
            "grid_template_areas": null,
            "grid_template_columns": null,
            "grid_template_rows": null,
            "height": null,
            "justify_content": null,
            "justify_items": null,
            "left": null,
            "margin": null,
            "max_height": null,
            "max_width": null,
            "min_height": null,
            "min_width": null,
            "object_fit": null,
            "object_position": null,
            "order": null,
            "overflow": null,
            "overflow_x": null,
            "overflow_y": null,
            "padding": null,
            "right": null,
            "top": null,
            "visibility": null,
            "width": null
          }
        },
        "b2155fbce8494bf6be5c7dbf2d1d67a9": {
          "model_module": "@jupyter-widgets/controls",
          "model_module_version": "1.5.0",
          "model_name": "DescriptionStyleModel",
          "state": {
            "_model_module": "@jupyter-widgets/controls",
            "_model_module_version": "1.5.0",
            "_model_name": "DescriptionStyleModel",
            "_view_count": null,
            "_view_module": "@jupyter-widgets/base",
            "_view_module_version": "1.2.0",
            "_view_name": "StyleView",
            "description_width": ""
          }
        },
        "b23c27999bf64cc7997106d36610417f": {
          "model_module": "@jupyter-widgets/base",
          "model_module_version": "1.2.0",
          "model_name": "LayoutModel",
          "state": {
            "_model_module": "@jupyter-widgets/base",
            "_model_module_version": "1.2.0",
            "_model_name": "LayoutModel",
            "_view_count": null,
            "_view_module": "@jupyter-widgets/base",
            "_view_module_version": "1.2.0",
            "_view_name": "LayoutView",
            "align_content": null,
            "align_items": null,
            "align_self": null,
            "border": null,
            "bottom": null,
            "display": null,
            "flex": null,
            "flex_flow": null,
            "grid_area": null,
            "grid_auto_columns": null,
            "grid_auto_flow": null,
            "grid_auto_rows": null,
            "grid_column": null,
            "grid_gap": null,
            "grid_row": null,
            "grid_template_areas": null,
            "grid_template_columns": null,
            "grid_template_rows": null,
            "height": null,
            "justify_content": null,
            "justify_items": null,
            "left": null,
            "margin": null,
            "max_height": null,
            "max_width": null,
            "min_height": null,
            "min_width": null,
            "object_fit": null,
            "object_position": null,
            "order": null,
            "overflow": null,
            "overflow_x": null,
            "overflow_y": null,
            "padding": null,
            "right": null,
            "top": null,
            "visibility": null,
            "width": null
          }
        },
        "b481615a87a6480183f5af1cafce79de": {
          "model_module": "@jupyter-widgets/controls",
          "model_module_version": "1.5.0",
          "model_name": "FloatProgressModel",
          "state": {
            "_dom_classes": [],
            "_model_module": "@jupyter-widgets/controls",
            "_model_module_version": "1.5.0",
            "_model_name": "FloatProgressModel",
            "_view_count": null,
            "_view_module": "@jupyter-widgets/controls",
            "_view_module_version": "1.5.0",
            "_view_name": "ProgressView",
            "bar_style": "success",
            "description": "",
            "description_tooltip": null,
            "layout": "IPY_MODEL_1e3895993b464628b6522be2ae373f56",
            "max": 443,
            "min": 0,
            "orientation": "horizontal",
            "style": "IPY_MODEL_34769cd44c584cd8abddb354e4941e2c",
            "value": 443
          }
        },
        "bfe69132481f4b5e81a7585328584d00": {
          "model_module": "@jupyter-widgets/controls",
          "model_module_version": "1.5.0",
          "model_name": "HBoxModel",
          "state": {
            "_dom_classes": [],
            "_model_module": "@jupyter-widgets/controls",
            "_model_module_version": "1.5.0",
            "_model_name": "HBoxModel",
            "_view_count": null,
            "_view_module": "@jupyter-widgets/controls",
            "_view_module_version": "1.5.0",
            "_view_name": "HBoxView",
            "box_style": "",
            "children": [
              "IPY_MODEL_4cd851ade51b4c46854630fbb14fbac6",
              "IPY_MODEL_2df19a05b04b4030a9bc3061e23876fa",
              "IPY_MODEL_03f50849f75240baa6f8f1f3edee0c73"
            ],
            "layout": "IPY_MODEL_61db853c97504a72a66de57a8f47a3b6"
          }
        },
        "c1d827adebbe4e92a2f757360b0a14d8": {
          "model_module": "@jupyter-widgets/controls",
          "model_module_version": "1.5.0",
          "model_name": "HBoxModel",
          "state": {
            "_dom_classes": [],
            "_model_module": "@jupyter-widgets/controls",
            "_model_module_version": "1.5.0",
            "_model_name": "HBoxModel",
            "_view_count": null,
            "_view_module": "@jupyter-widgets/controls",
            "_view_module_version": "1.5.0",
            "_view_name": "HBoxView",
            "box_style": "",
            "children": [
              "IPY_MODEL_8ae0508ae9e4437f91a9f38ecfb81bef",
              "IPY_MODEL_b481615a87a6480183f5af1cafce79de",
              "IPY_MODEL_e46c973aae4649c5bf0f90ce94a757c3"
            ],
            "layout": "IPY_MODEL_40118b758a994425b5643bc96abc128e"
          }
        },
        "c6c285e1a649475baa4e0a8683c9dcb0": {
          "model_module": "@jupyter-widgets/controls",
          "model_module_version": "1.5.0",
          "model_name": "FloatProgressModel",
          "state": {
            "_dom_classes": [],
            "_model_module": "@jupyter-widgets/controls",
            "_model_module_version": "1.5.0",
            "_model_name": "FloatProgressModel",
            "_view_count": null,
            "_view_module": "@jupyter-widgets/controls",
            "_view_module_version": "1.5.0",
            "_view_name": "ProgressView",
            "bar_style": "success",
            "description": "",
            "description_tooltip": null,
            "layout": "IPY_MODEL_574ae7eb9e67484ab62bb9c0c4b26e86",
            "max": 1340675298,
            "min": 0,
            "orientation": "horizontal",
            "style": "IPY_MODEL_9784058cf7944173afe321a5649d8428",
            "value": 1340675298
          }
        },
        "d151fc9ce9b44716b38fd7257e00b07f": {
          "model_module": "@jupyter-widgets/controls",
          "model_module_version": "1.5.0",
          "model_name": "HBoxModel",
          "state": {
            "_dom_classes": [],
            "_model_module": "@jupyter-widgets/controls",
            "_model_module_version": "1.5.0",
            "_model_name": "HBoxModel",
            "_view_count": null,
            "_view_module": "@jupyter-widgets/controls",
            "_view_module_version": "1.5.0",
            "_view_name": "HBoxView",
            "box_style": "",
            "children": [
              "IPY_MODEL_9e16d98b2ad146a39b2ceaa6f921bde2",
              "IPY_MODEL_4892d09892d44f3ca40af03871a9ca84",
              "IPY_MODEL_6ab27ebfd14942c2a4c32cd1317dabde"
            ],
            "layout": "IPY_MODEL_6d316a3a5a574701957f84e6517683fd"
          }
        },
        "e46c973aae4649c5bf0f90ce94a757c3": {
          "model_module": "@jupyter-widgets/controls",
          "model_module_version": "1.5.0",
          "model_name": "HTMLModel",
          "state": {
            "_dom_classes": [],
            "_model_module": "@jupyter-widgets/controls",
            "_model_module_version": "1.5.0",
            "_model_name": "HTMLModel",
            "_view_count": null,
            "_view_module": "@jupyter-widgets/controls",
            "_view_module_version": "1.5.0",
            "_view_name": "HTMLView",
            "description": "",
            "description_tooltip": null,
            "layout": "IPY_MODEL_06ffefd6f1ee4067888388d94f619f9a",
            "placeholder": "​",
            "style": "IPY_MODEL_19dc1918bbb8492fa357ba67406fb4e2",
            "value": " 443/443 [00:00&lt;00:00, 17.7kB/s]"
          }
        },
        "ea1b81dbe5b644c1880aa1c5da3602cb": {
          "model_module": "@jupyter-widgets/base",
          "model_module_version": "1.2.0",
          "model_name": "LayoutModel",
          "state": {
            "_model_module": "@jupyter-widgets/base",
            "_model_module_version": "1.2.0",
            "_model_name": "LayoutModel",
            "_view_count": null,
            "_view_module": "@jupyter-widgets/base",
            "_view_module_version": "1.2.0",
            "_view_name": "LayoutView",
            "align_content": null,
            "align_items": null,
            "align_self": null,
            "border": null,
            "bottom": null,
            "display": null,
            "flex": null,
            "flex_flow": null,
            "grid_area": null,
            "grid_auto_columns": null,
            "grid_auto_flow": null,
            "grid_auto_rows": null,
            "grid_column": null,
            "grid_gap": null,
            "grid_row": null,
            "grid_template_areas": null,
            "grid_template_columns": null,
            "grid_template_rows": null,
            "height": null,
            "justify_content": null,
            "justify_items": null,
            "left": null,
            "margin": null,
            "max_height": null,
            "max_width": null,
            "min_height": null,
            "min_width": null,
            "object_fit": null,
            "object_position": null,
            "order": null,
            "overflow": null,
            "overflow_x": null,
            "overflow_y": null,
            "padding": null,
            "right": null,
            "top": null,
            "visibility": null,
            "width": null
          }
        },
        "f3dbe210304947e886c000a0c5c8dda5": {
          "model_module": "@jupyter-widgets/controls",
          "model_module_version": "1.5.0",
          "model_name": "HTMLModel",
          "state": {
            "_dom_classes": [],
            "_model_module": "@jupyter-widgets/controls",
            "_model_module_version": "1.5.0",
            "_model_name": "HTMLModel",
            "_view_count": null,
            "_view_module": "@jupyter-widgets/controls",
            "_view_module_version": "1.5.0",
            "_view_name": "HTMLView",
            "description": "",
            "description_tooltip": null,
            "layout": "IPY_MODEL_30c0126a6fc44a39829a336422eb8d18",
            "placeholder": "​",
            "style": "IPY_MODEL_a4d2a21354434ae5b65d1b4ad9499ea8",
            "value": "Downloading: 100%"
          }
        },
        "f66b0dfdc46c4af2a90b4b1584ff80bb": {
          "model_module": "@jupyter-widgets/base",
          "model_module_version": "1.2.0",
          "model_name": "LayoutModel",
          "state": {
            "_model_module": "@jupyter-widgets/base",
            "_model_module_version": "1.2.0",
            "_model_name": "LayoutModel",
            "_view_count": null,
            "_view_module": "@jupyter-widgets/base",
            "_view_module_version": "1.2.0",
            "_view_name": "LayoutView",
            "align_content": null,
            "align_items": null,
            "align_self": null,
            "border": null,
            "bottom": null,
            "display": null,
            "flex": null,
            "flex_flow": null,
            "grid_area": null,
            "grid_auto_columns": null,
            "grid_auto_flow": null,
            "grid_auto_rows": null,
            "grid_column": null,
            "grid_gap": null,
            "grid_row": null,
            "grid_template_areas": null,
            "grid_template_columns": null,
            "grid_template_rows": null,
            "height": null,
            "justify_content": null,
            "justify_items": null,
            "left": null,
            "margin": null,
            "max_height": null,
            "max_width": null,
            "min_height": null,
            "min_width": null,
            "object_fit": null,
            "object_position": null,
            "order": null,
            "overflow": null,
            "overflow_x": null,
            "overflow_y": null,
            "padding": null,
            "right": null,
            "top": null,
            "visibility": null,
            "width": null
          }
        },
        "f6aec6a136fc468b936a07e928250125": {
          "model_module": "@jupyter-widgets/controls",
          "model_module_version": "1.5.0",
          "model_name": "ProgressStyleModel",
          "state": {
            "_model_module": "@jupyter-widgets/controls",
            "_model_module_version": "1.5.0",
            "_model_name": "ProgressStyleModel",
            "_view_count": null,
            "_view_module": "@jupyter-widgets/base",
            "_view_module_version": "1.2.0",
            "_view_name": "StyleView",
            "bar_color": null,
            "description_width": ""
          }
        }
      }
    }
  },
  "nbformat": 4,
  "nbformat_minor": 0
}
