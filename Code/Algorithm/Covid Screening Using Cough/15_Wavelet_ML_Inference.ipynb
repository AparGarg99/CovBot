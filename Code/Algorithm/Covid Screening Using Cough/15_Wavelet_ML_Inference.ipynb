{
 "cells": [
  {
   "cell_type": "code",
   "execution_count": 1,
   "id": "ca74168a",
   "metadata": {},
   "outputs": [],
   "source": [
    "# Import Packages\n",
    "\n",
    "from packages import *\n",
    "%matplotlib inline"
   ]
  },
  {
   "cell_type": "code",
   "execution_count": 2,
   "id": "1575f638",
   "metadata": {},
   "outputs": [],
   "source": [
    "############ function to calculate the entropy value of an input signal ################\n",
    "# entropy values can be taken as a measure of complexity of the signal\n",
    "def calculate_entropy(list_values):\n",
    "    counter_values = Counter(list_values).most_common()\n",
    "    probabilities = [elem[1]/len(list_values) for elem in counter_values]\n",
    "    e = entropy(probabilities)\n",
    "    return e\n",
    "\n",
    "############## function to calculate some statistics ################\n",
    "def calculate_statistics(list_values):\n",
    "    n25 = np.nanpercentile(list_values, 25) # 25th percentile value\n",
    "    median = np.nanpercentile(list_values, 50) # Median\n",
    "    n75 = np.nanpercentile(list_values, 75) # 75th percentile value\n",
    "    mean = np.nanmean(list_values) # Mean\n",
    "    std = np.nanstd(list_values) # standard deviation\n",
    "    var = np.nanvar(list_values) # variance\n",
    "    return [n25, median, n75, mean, std, var]\n",
    "\n",
    "############# function to calculate the ZCR and mean CR ############\n",
    "def calculate_crossings(list_values):\n",
    "    # Zero crossing rate, i.e. the number of times a signal crosses y = 0\n",
    "    zero_crossing_indices = np.nonzero(np.diff(np.array(list_values)>0))[0] \n",
    "    no_zero_crossings = len(zero_crossing_indices)\n",
    "    \n",
    "    # Mean crossing rate, i.e. the number of times a signal crosses y = mean(y)\n",
    "    mean_crossing_indices = np.nonzero(np.diff(np.array(list_values)>np.nanmean(list_values)))[0]\n",
    "    no_mean_crossings = len(mean_crossing_indices)\n",
    "    return [no_zero_crossings, no_mean_crossings]\n",
    "\n",
    "############# function to combine the results of these three functions above ###########\n",
    "def get_features(list_values):\n",
    "    entropy = calculate_entropy(list_values)\n",
    "    crossings = calculate_crossings(list_values)\n",
    "    statistics = calculate_statistics(list_values)\n",
    "    return [entropy] + crossings + statistics"
   ]
  },
  {
   "cell_type": "code",
   "execution_count": 3,
   "id": "992972d3",
   "metadata": {},
   "outputs": [],
   "source": [
    "def build_predictions(audio_dir):\n",
    "    \n",
    "    fn_prob = {}\n",
    "    \n",
    "    for fn in os.listdir(audio_dir):\n",
    "        print(fn)\n",
    "        \n",
    "        rate, wav = wavfile.read(os.path.join(audio_dir,fn))\n",
    "       \n",
    "        y_pred = []\n",
    "        \n",
    "        step=int(rate/10)\n",
    " \n",
    "        for i in range(0,wav.shape[0]-step):\n",
    "            \n",
    "            # crop duration\n",
    "            sample = wav[i:i+step]\n",
    "            \n",
    "            # feature extraction\n",
    "            list_coeff = pywt.wavedec(data = sample, \n",
    "                                  wavelet = 'db4', # filter\n",
    "                                  mode = 'constant', # duplication padding\n",
    "                                  level = 7 # no. of decomposition levels\n",
    "                                 )\n",
    "\n",
    "            # for each list in list_coeff, get 9 features.\n",
    "            x = []\n",
    "            for coeff in list_coeff:\n",
    "                x += get_features(coeff) \n",
    "\n",
    "            x = pd.DataFrame(zip(x)).T\n",
    "            x.columns = [str(i) for i in list(x.columns)]\n",
    "            \n",
    "            # selection\n",
    "            x = x[col]\n",
    "            \n",
    "            # scaling\n",
    "            x = sc.transform(x)\n",
    "             \n",
    "            # prediction    \n",
    "            y_hat = model.predict(x)[0]\n",
    "    \n",
    "            y_pred.append(y_hat)\n",
    "         \n",
    "            \n",
    "        fn_prob[fn] = statistics.mode(y_pred)\n",
    "        print('*'*100)\n",
    "        \n",
    "    return fn_prob"
   ]
  },
  {
   "cell_type": "code",
   "execution_count": 4,
   "id": "cd8cb3fb",
   "metadata": {},
   "outputs": [],
   "source": [
    "# load models\n",
    "sc = load('models/Wavelet/std_scaler_Wavelet.bin')\n",
    "model = pickle.load(open('models/Wavelet/KNN_Wavelet.sav', 'rb'))"
   ]
  },
  {
   "cell_type": "code",
   "execution_count": 5,
   "id": "269f908e",
   "metadata": {},
   "outputs": [],
   "source": [
    "# load dataset for feature selection\n",
    "get_columns = pd.read_csv('data/Wavelet_train_data.csv')\n",
    "col = list(get_columns.columns[:-1])"
   ]
  },
  {
   "cell_type": "code",
   "execution_count": 7,
   "id": "d93da64a",
   "metadata": {
    "scrolled": false
   },
   "outputs": [
    {
     "name": "stdout",
     "output_type": "stream",
     "text": [
      "neg-0421-083-cough-m-53-0.wav\n",
      "****************************************************************************************************\n",
      "pos-0421-087-cough-f-40-5.wav\n",
      "****************************************************************************************************\n"
     ]
    },
    {
     "data": {
      "text/plain": [
       "{'neg-0421-083-cough-m-53-0.wav': 0, 'pos-0421-087-cough-f-40-5.wav': 1}"
      ]
     },
     "execution_count": 7,
     "metadata": {},
     "output_type": "execute_result"
    }
   ],
   "source": [
    "# prediction\n",
    "fn_prob = build_predictions('test_file')\n",
    "fn_prob"
   ]
  }
 ],
 "metadata": {
  "kernelspec": {
   "display_name": "Python 3 (ipykernel)",
   "language": "python",
   "name": "python3"
  },
  "language_info": {
   "codemirror_mode": {
    "name": "ipython",
    "version": 3
   },
   "file_extension": ".py",
   "mimetype": "text/x-python",
   "name": "python",
   "nbconvert_exporter": "python",
   "pygments_lexer": "ipython3",
   "version": "3.7.0"
  }
 },
 "nbformat": 4,
 "nbformat_minor": 5
}
