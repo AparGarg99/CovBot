{
 "cells": [
  {
   "cell_type": "markdown",
   "metadata": {},
   "source": [
    "# Import Packages"
   ]
  },
  {
   "cell_type": "code",
   "execution_count": 1,
   "metadata": {},
   "outputs": [],
   "source": [
    "from packages import *\n",
    "%matplotlib inline"
   ]
  },
  {
   "cell_type": "markdown",
   "metadata": {},
   "source": [
    "# Read Dataset"
   ]
  },
  {
   "cell_type": "code",
   "execution_count": 2,
   "metadata": {},
   "outputs": [],
   "source": [
    "df = pd.read_csv(\"virufy-cdf-coughvid.csv\")"
   ]
  },
  {
   "cell_type": "code",
   "execution_count": 3,
   "metadata": {},
   "outputs": [
    {
     "data": {
      "text/html": [
       "<div>\n",
       "<style scoped>\n",
       "    .dataframe tbody tr th:only-of-type {\n",
       "        vertical-align: middle;\n",
       "    }\n",
       "\n",
       "    .dataframe tbody tr th {\n",
       "        vertical-align: top;\n",
       "    }\n",
       "\n",
       "    .dataframe thead th {\n",
       "        text-align: right;\n",
       "    }\n",
       "</style>\n",
       "<table border=\"1\" class=\"dataframe\">\n",
       "  <thead>\n",
       "    <tr style=\"text-align: right;\">\n",
       "      <th></th>\n",
       "      <th>Unnamed: 0</th>\n",
       "      <th>source</th>\n",
       "      <th>patient_id</th>\n",
       "      <th>cough_detected</th>\n",
       "      <th>cough_path</th>\n",
       "      <th>age</th>\n",
       "      <th>biological_sex</th>\n",
       "      <th>reported_gender</th>\n",
       "      <th>submission_date</th>\n",
       "      <th>pcr_test_date</th>\n",
       "      <th>pcr_result_date</th>\n",
       "      <th>respiratory_condition</th>\n",
       "      <th>fever_or_muscle_pain</th>\n",
       "      <th>pcr_test_result</th>\n",
       "      <th>pcr_test_result_inferred</th>\n",
       "      <th>covid_symptoms</th>\n",
       "    </tr>\n",
       "  </thead>\n",
       "  <tbody>\n",
       "    <tr>\n",
       "      <th>0</th>\n",
       "      <td>0</td>\n",
       "      <td>coughvid</td>\n",
       "      <td>ae029647-ddc3-47f5-904e-813358c9dda3</td>\n",
       "      <td>0.8929</td>\n",
       "      <td>virufy-cdf-coughvid/ae029647-ddc3-47f5-904e-81...</td>\n",
       "      <td>NaN</td>\n",
       "      <td>NaN</td>\n",
       "      <td>NaN</td>\n",
       "      <td>2020-10-20T11:05:04.501905+00:00</td>\n",
       "      <td>NaN</td>\n",
       "      <td>NaN</td>\n",
       "      <td>NaN</td>\n",
       "      <td>NaN</td>\n",
       "      <td>untested</td>\n",
       "      <td>untested</td>\n",
       "      <td>NaN</td>\n",
       "    </tr>\n",
       "    <tr>\n",
       "      <th>1</th>\n",
       "      <td>1</td>\n",
       "      <td>coughvid</td>\n",
       "      <td>cac4a470-bb86-4db9-9453-d4e2706c3931</td>\n",
       "      <td>0.1431</td>\n",
       "      <td>virufy-cdf-coughvid/cac4a470-bb86-4db9-9453-d4...</td>\n",
       "      <td>NaN</td>\n",
       "      <td>NaN</td>\n",
       "      <td>NaN</td>\n",
       "      <td>2020-04-17T15:12:14.379396+00:00</td>\n",
       "      <td>NaN</td>\n",
       "      <td>NaN</td>\n",
       "      <td>NaN</td>\n",
       "      <td>NaN</td>\n",
       "      <td>untested</td>\n",
       "      <td>untested</td>\n",
       "      <td>NaN</td>\n",
       "    </tr>\n",
       "    <tr>\n",
       "      <th>2</th>\n",
       "      <td>2</td>\n",
       "      <td>coughvid</td>\n",
       "      <td>2a3d201f-7c70-449c-adc5-50de728fccd0</td>\n",
       "      <td>0.0803</td>\n",
       "      <td>virufy-cdf-coughvid/2a3d201f-7c70-449c-adc5-50...</td>\n",
       "      <td>38.0</td>\n",
       "      <td>male</td>\n",
       "      <td>male</td>\n",
       "      <td>2020-04-09T20:56:01.725275+00:00</td>\n",
       "      <td>NaN</td>\n",
       "      <td>NaN</td>\n",
       "      <td>False</td>\n",
       "      <td>False</td>\n",
       "      <td>untested</td>\n",
       "      <td>negative</td>\n",
       "      <td>False</td>\n",
       "    </tr>\n",
       "    <tr>\n",
       "      <th>3</th>\n",
       "      <td>3</td>\n",
       "      <td>coughvid</td>\n",
       "      <td>8b267d78-97f0-4530-bbfa-e938724376f4</td>\n",
       "      <td>0.1247</td>\n",
       "      <td>virufy-cdf-coughvid/8b267d78-97f0-4530-bbfa-e9...</td>\n",
       "      <td>NaN</td>\n",
       "      <td>NaN</td>\n",
       "      <td>NaN</td>\n",
       "      <td>2020-04-11T11:12:19.213465+00:00</td>\n",
       "      <td>NaN</td>\n",
       "      <td>NaN</td>\n",
       "      <td>NaN</td>\n",
       "      <td>NaN</td>\n",
       "      <td>untested</td>\n",
       "      <td>untested</td>\n",
       "      <td>NaN</td>\n",
       "    </tr>\n",
       "    <tr>\n",
       "      <th>4</th>\n",
       "      <td>4</td>\n",
       "      <td>coughvid</td>\n",
       "      <td>68d5215b-afdb-4b7a-81d3-fbd5677de7b4</td>\n",
       "      <td>1.0000</td>\n",
       "      <td>virufy-cdf-coughvid/68d5215b-afdb-4b7a-81d3-fb...</td>\n",
       "      <td>46.0</td>\n",
       "      <td>male</td>\n",
       "      <td>male</td>\n",
       "      <td>2020-11-26T16:21:47.764016+00:00</td>\n",
       "      <td>NaN</td>\n",
       "      <td>NaN</td>\n",
       "      <td>False</td>\n",
       "      <td>False</td>\n",
       "      <td>untested</td>\n",
       "      <td>negative</td>\n",
       "      <td>False</td>\n",
       "    </tr>\n",
       "  </tbody>\n",
       "</table>\n",
       "</div>"
      ],
      "text/plain": [
       "   Unnamed: 0    source                            patient_id  cough_detected  \\\n",
       "0           0  coughvid  ae029647-ddc3-47f5-904e-813358c9dda3          0.8929   \n",
       "1           1  coughvid  cac4a470-bb86-4db9-9453-d4e2706c3931          0.1431   \n",
       "2           2  coughvid  2a3d201f-7c70-449c-adc5-50de728fccd0          0.0803   \n",
       "3           3  coughvid  8b267d78-97f0-4530-bbfa-e938724376f4          0.1247   \n",
       "4           4  coughvid  68d5215b-afdb-4b7a-81d3-fbd5677de7b4          1.0000   \n",
       "\n",
       "                                          cough_path   age biological_sex  \\\n",
       "0  virufy-cdf-coughvid/ae029647-ddc3-47f5-904e-81...   NaN            NaN   \n",
       "1  virufy-cdf-coughvid/cac4a470-bb86-4db9-9453-d4...   NaN            NaN   \n",
       "2  virufy-cdf-coughvid/2a3d201f-7c70-449c-adc5-50...  38.0           male   \n",
       "3  virufy-cdf-coughvid/8b267d78-97f0-4530-bbfa-e9...   NaN            NaN   \n",
       "4  virufy-cdf-coughvid/68d5215b-afdb-4b7a-81d3-fb...  46.0           male   \n",
       "\n",
       "  reported_gender                   submission_date  pcr_test_date  \\\n",
       "0             NaN  2020-10-20T11:05:04.501905+00:00            NaN   \n",
       "1             NaN  2020-04-17T15:12:14.379396+00:00            NaN   \n",
       "2            male  2020-04-09T20:56:01.725275+00:00            NaN   \n",
       "3             NaN  2020-04-11T11:12:19.213465+00:00            NaN   \n",
       "4            male  2020-11-26T16:21:47.764016+00:00            NaN   \n",
       "\n",
       "   pcr_result_date respiratory_condition fever_or_muscle_pain pcr_test_result  \\\n",
       "0              NaN                   NaN                  NaN        untested   \n",
       "1              NaN                   NaN                  NaN        untested   \n",
       "2              NaN                 False                False        untested   \n",
       "3              NaN                   NaN                  NaN        untested   \n",
       "4              NaN                 False                False        untested   \n",
       "\n",
       "  pcr_test_result_inferred covid_symptoms  \n",
       "0                 untested            NaN  \n",
       "1                 untested            NaN  \n",
       "2                 negative          False  \n",
       "3                 untested            NaN  \n",
       "4                 negative          False  "
      ]
     },
     "execution_count": 3,
     "metadata": {},
     "output_type": "execute_result"
    }
   ],
   "source": [
    "df.head()"
   ]
  },
  {
   "cell_type": "code",
   "execution_count": 4,
   "metadata": {},
   "outputs": [
    {
     "data": {
      "text/plain": [
       "(22040, 16)"
      ]
     },
     "execution_count": 4,
     "metadata": {},
     "output_type": "execute_result"
    }
   ],
   "source": [
    "df.shape"
   ]
  },
  {
   "cell_type": "markdown",
   "metadata": {},
   "source": [
    "# Preprocessing"
   ]
  },
  {
   "cell_type": "code",
   "execution_count": 5,
   "metadata": {},
   "outputs": [
    {
     "data": {
      "text/plain": [
       "Index(['Unnamed: 0', 'source', 'patient_id', 'cough_detected', 'cough_path',\n",
       "       'age', 'biological_sex', 'reported_gender', 'submission_date',\n",
       "       'pcr_test_date', 'pcr_result_date', 'respiratory_condition',\n",
       "       'fever_or_muscle_pain', 'pcr_test_result', 'pcr_test_result_inferred',\n",
       "       'covid_symptoms'],\n",
       "      dtype='object')"
      ]
     },
     "execution_count": 5,
     "metadata": {},
     "output_type": "execute_result"
    }
   ],
   "source": [
    "df.columns"
   ]
  },
  {
   "cell_type": "code",
   "execution_count": 6,
   "metadata": {},
   "outputs": [],
   "source": [
    "# convert all string columns to lowercase\n",
    "df = df.applymap(lambda s: s.lower() if type(s) == str else s)"
   ]
  },
  {
   "cell_type": "code",
   "execution_count": 7,
   "metadata": {},
   "outputs": [],
   "source": [
    "# If you listen to the recordings, you might notice that some of the recordings aren't coughs.\n",
    "# cough_detected column tells whether the sound file is really a cough.\n",
    "# we filter our dataset, keeping only those recordings that are at least 70% likely to be coughs.\n",
    "msk = (df.loc[:,'cough_detected'] > 0.7)\n",
    "df = df.loc[msk,:]"
   ]
  },
  {
   "cell_type": "code",
   "execution_count": 8,
   "metadata": {},
   "outputs": [],
   "source": [
    "# we have inferred some of these pcr_test_result labels based on other columns\n",
    "# Positive, negative, untested\n",
    "# Filter out untested results\n",
    "msk = (df.loc[:,'pcr_test_result_inferred']=='untested')\n",
    "df = df.loc[~msk,:]"
   ]
  },
  {
   "cell_type": "code",
   "execution_count": 9,
   "metadata": {},
   "outputs": [
    {
     "data": {
      "text/plain": [
       "True"
      ]
     },
     "execution_count": 9,
     "metadata": {},
     "output_type": "execute_result"
    }
   ],
   "source": [
    "# check if reported_gender and biological_sex columns are same\n",
    "df['reported_gender'].equals(df['biological_sex'])"
   ]
  },
  {
   "cell_type": "code",
   "execution_count": 10,
   "metadata": {},
   "outputs": [
    {
     "name": "stdout",
     "output_type": "stream",
     "text": [
      "Unnamed: 0 7766\n",
      "****************************************************************************************************\n",
      "source 1\n",
      "****************************************************************************************************\n",
      "patient_id 7766\n",
      "****************************************************************************************************\n",
      "cough_detected 1953\n",
      "****************************************************************************************************\n",
      "cough_path 7766\n",
      "****************************************************************************************************\n",
      "age 89\n",
      "****************************************************************************************************\n",
      "biological_sex 3\n",
      "****************************************************************************************************\n",
      "reported_gender 3\n",
      "****************************************************************************************************\n",
      "submission_date 7766\n",
      "****************************************************************************************************\n",
      "pcr_test_date 0\n",
      "****************************************************************************************************\n",
      "pcr_result_date 0\n",
      "****************************************************************************************************\n",
      "respiratory_condition 2\n",
      "****************************************************************************************************\n",
      "fever_or_muscle_pain 2\n",
      "****************************************************************************************************\n",
      "pcr_test_result 2\n",
      "****************************************************************************************************\n",
      "pcr_test_result_inferred 2\n",
      "****************************************************************************************************\n",
      "covid_symptoms 1\n",
      "****************************************************************************************************\n"
     ]
    }
   ],
   "source": [
    "# display unique values in every column\n",
    "for i in df.columns:\n",
    "    print(i,df[i].nunique())\n",
    "    print('*'*100)"
   ]
  },
  {
   "cell_type": "code",
   "execution_count": 11,
   "metadata": {},
   "outputs": [
    {
     "data": {
      "text/plain": [
       "Unnamed: 0                  0.000000\n",
       "source                      0.000000\n",
       "patient_id                  0.000000\n",
       "cough_detected              0.000000\n",
       "cough_path                  0.000000\n",
       "age                         0.055112\n",
       "biological_sex              0.000000\n",
       "reported_gender             0.000000\n",
       "submission_date             0.000000\n",
       "pcr_test_date               1.000000\n",
       "pcr_result_date             1.000000\n",
       "respiratory_condition       0.000000\n",
       "fever_or_muscle_pain        0.000000\n",
       "pcr_test_result             0.000000\n",
       "pcr_test_result_inferred    0.000000\n",
       "covid_symptoms              0.075715\n",
       "dtype: float64"
      ]
     },
     "execution_count": 11,
     "metadata": {},
     "output_type": "execute_result"
    }
   ],
   "source": [
    "# check for null values\n",
    "df.isnull().sum()/df.shape[0]"
   ]
  },
  {
   "cell_type": "code",
   "execution_count": 12,
   "metadata": {},
   "outputs": [],
   "source": [
    "# select useful columns only\n",
    "df = df[['age', 'biological_sex','respiratory_condition','fever_or_muscle_pain','pcr_test_result_inferred']]"
   ]
  },
  {
   "cell_type": "code",
   "execution_count": 13,
   "metadata": {},
   "outputs": [
    {
     "data": {
      "text/html": [
       "<div>\n",
       "<style scoped>\n",
       "    .dataframe tbody tr th:only-of-type {\n",
       "        vertical-align: middle;\n",
       "    }\n",
       "\n",
       "    .dataframe tbody tr th {\n",
       "        vertical-align: top;\n",
       "    }\n",
       "\n",
       "    .dataframe thead th {\n",
       "        text-align: right;\n",
       "    }\n",
       "</style>\n",
       "<table border=\"1\" class=\"dataframe\">\n",
       "  <thead>\n",
       "    <tr style=\"text-align: right;\">\n",
       "      <th></th>\n",
       "      <th>age</th>\n",
       "      <th>biological_sex</th>\n",
       "      <th>respiratory_condition</th>\n",
       "      <th>fever_or_muscle_pain</th>\n",
       "      <th>pcr_test_result_inferred</th>\n",
       "    </tr>\n",
       "  </thead>\n",
       "  <tbody>\n",
       "    <tr>\n",
       "      <th>4</th>\n",
       "      <td>46.0</td>\n",
       "      <td>male</td>\n",
       "      <td>False</td>\n",
       "      <td>False</td>\n",
       "      <td>negative</td>\n",
       "    </tr>\n",
       "    <tr>\n",
       "      <th>5</th>\n",
       "      <td>47.0</td>\n",
       "      <td>male</td>\n",
       "      <td>False</td>\n",
       "      <td>False</td>\n",
       "      <td>negative</td>\n",
       "    </tr>\n",
       "    <tr>\n",
       "      <th>12</th>\n",
       "      <td>24.0</td>\n",
       "      <td>male</td>\n",
       "      <td>False</td>\n",
       "      <td>False</td>\n",
       "      <td>negative</td>\n",
       "    </tr>\n",
       "    <tr>\n",
       "      <th>14</th>\n",
       "      <td>18.0</td>\n",
       "      <td>male</td>\n",
       "      <td>False</td>\n",
       "      <td>False</td>\n",
       "      <td>negative</td>\n",
       "    </tr>\n",
       "    <tr>\n",
       "      <th>15</th>\n",
       "      <td>58.0</td>\n",
       "      <td>male</td>\n",
       "      <td>False</td>\n",
       "      <td>False</td>\n",
       "      <td>negative</td>\n",
       "    </tr>\n",
       "  </tbody>\n",
       "</table>\n",
       "</div>"
      ],
      "text/plain": [
       "     age biological_sex respiratory_condition fever_or_muscle_pain  \\\n",
       "4   46.0           male                 False                False   \n",
       "5   47.0           male                 False                False   \n",
       "12  24.0           male                 False                False   \n",
       "14  18.0           male                 False                False   \n",
       "15  58.0           male                 False                False   \n",
       "\n",
       "   pcr_test_result_inferred  \n",
       "4                  negative  \n",
       "5                  negative  \n",
       "12                 negative  \n",
       "14                 negative  \n",
       "15                 negative  "
      ]
     },
     "execution_count": 13,
     "metadata": {},
     "output_type": "execute_result"
    }
   ],
   "source": [
    "# Imputation of missing values based on class labels\n",
    "pos_samples = df.loc[df['pcr_test_result_inferred']=='positive']\n",
    "pos_samples['age'] = pos_samples['age'].fillna(int(pos_samples['age'].median()))\n",
    "\n",
    "neg_samples = df.loc[df['pcr_test_result_inferred']=='negative']\n",
    "neg_samples['age'] = neg_samples['age'].fillna(int(neg_samples['age'].median()))\n",
    "\n",
    "df = pd.concat([neg_samples,pos_samples],axis=0)\n",
    "df.head()"
   ]
  },
  {
   "cell_type": "code",
   "execution_count": 14,
   "metadata": {},
   "outputs": [
    {
     "data": {
      "text/plain": [
       "(7766, 5)"
      ]
     },
     "execution_count": 14,
     "metadata": {},
     "output_type": "execute_result"
    }
   ],
   "source": [
    "df.shape"
   ]
  },
  {
   "cell_type": "code",
   "execution_count": 15,
   "metadata": {},
   "outputs": [
    {
     "data": {
      "text/plain": [
       "(7766, 5)"
      ]
     },
     "execution_count": 15,
     "metadata": {},
     "output_type": "execute_result"
    }
   ],
   "source": [
    "# drop records with null values\n",
    "df = df.dropna()\n",
    "df.shape"
   ]
  },
  {
   "cell_type": "code",
   "execution_count": 16,
   "metadata": {},
   "outputs": [
    {
     "data": {
      "text/plain": [
       "(725, 5)"
      ]
     },
     "execution_count": 16,
     "metadata": {},
     "output_type": "execute_result"
    }
   ],
   "source": [
    "# drop duplicate records\n",
    "df = df.drop_duplicates().reset_index(drop=True)\n",
    "df.shape"
   ]
  },
  {
   "cell_type": "code",
   "execution_count": 17,
   "metadata": {},
   "outputs": [
    {
     "data": {
      "text/plain": [
       "male      367\n",
       "female    323\n",
       "other      35\n",
       "Name: biological_sex, dtype: int64"
      ]
     },
     "execution_count": 17,
     "metadata": {},
     "output_type": "execute_result"
    }
   ],
   "source": [
    "df['biological_sex'].value_counts()"
   ]
  },
  {
   "cell_type": "code",
   "execution_count": 18,
   "metadata": {},
   "outputs": [],
   "source": [
    "# remove rows with other gender\n",
    "indices = [i for i in range(df.shape[0]) if df['biological_sex'][i] !='other']\n",
    "df = df.loc[indices]"
   ]
  },
  {
   "cell_type": "code",
   "execution_count": 19,
   "metadata": {},
   "outputs": [
    {
     "name": "stdout",
     "output_type": "stream",
     "text": [
      "age 89\n",
      "****************************************************************************************************\n",
      "biological_sex 2\n",
      "****************************************************************************************************\n",
      "respiratory_condition 2\n",
      "****************************************************************************************************\n",
      "fever_or_muscle_pain 2\n",
      "****************************************************************************************************\n",
      "pcr_test_result_inferred 2\n",
      "****************************************************************************************************\n"
     ]
    }
   ],
   "source": [
    "# display unique values in every column\n",
    "for i in df.columns:\n",
    "    print(i,df[i].nunique())\n",
    "    print('*'*100)"
   ]
  },
  {
   "cell_type": "code",
   "execution_count": 20,
   "metadata": {},
   "outputs": [
    {
     "data": {
      "text/html": [
       "<div>\n",
       "<style scoped>\n",
       "    .dataframe tbody tr th:only-of-type {\n",
       "        vertical-align: middle;\n",
       "    }\n",
       "\n",
       "    .dataframe tbody tr th {\n",
       "        vertical-align: top;\n",
       "    }\n",
       "\n",
       "    .dataframe thead th {\n",
       "        text-align: right;\n",
       "    }\n",
       "</style>\n",
       "<table border=\"1\" class=\"dataframe\">\n",
       "  <thead>\n",
       "    <tr style=\"text-align: right;\">\n",
       "      <th></th>\n",
       "      <th>age</th>\n",
       "      <th>biological_sex</th>\n",
       "      <th>respiratory_condition</th>\n",
       "      <th>fever_or_muscle_pain</th>\n",
       "      <th>pcr_test_result_inferred</th>\n",
       "    </tr>\n",
       "  </thead>\n",
       "  <tbody>\n",
       "    <tr>\n",
       "      <th>0</th>\n",
       "      <td>46.0</td>\n",
       "      <td>0</td>\n",
       "      <td>1</td>\n",
       "      <td>1</td>\n",
       "      <td>0</td>\n",
       "    </tr>\n",
       "    <tr>\n",
       "      <th>1</th>\n",
       "      <td>47.0</td>\n",
       "      <td>0</td>\n",
       "      <td>1</td>\n",
       "      <td>1</td>\n",
       "      <td>0</td>\n",
       "    </tr>\n",
       "    <tr>\n",
       "      <th>2</th>\n",
       "      <td>24.0</td>\n",
       "      <td>0</td>\n",
       "      <td>1</td>\n",
       "      <td>1</td>\n",
       "      <td>0</td>\n",
       "    </tr>\n",
       "    <tr>\n",
       "      <th>3</th>\n",
       "      <td>18.0</td>\n",
       "      <td>0</td>\n",
       "      <td>1</td>\n",
       "      <td>1</td>\n",
       "      <td>0</td>\n",
       "    </tr>\n",
       "    <tr>\n",
       "      <th>4</th>\n",
       "      <td>58.0</td>\n",
       "      <td>0</td>\n",
       "      <td>1</td>\n",
       "      <td>1</td>\n",
       "      <td>0</td>\n",
       "    </tr>\n",
       "  </tbody>\n",
       "</table>\n",
       "</div>"
      ],
      "text/plain": [
       "    age  biological_sex  respiratory_condition  fever_or_muscle_pain  \\\n",
       "0  46.0               0                      1                     1   \n",
       "1  47.0               0                      1                     1   \n",
       "2  24.0               0                      1                     1   \n",
       "3  18.0               0                      1                     1   \n",
       "4  58.0               0                      1                     1   \n",
       "\n",
       "   pcr_test_result_inferred  \n",
       "0                         0  \n",
       "1                         0  \n",
       "2                         0  \n",
       "3                         0  \n",
       "4                         0  "
      ]
     },
     "execution_count": 20,
     "metadata": {},
     "output_type": "execute_result"
    }
   ],
   "source": [
    "for i in df.columns[:-1]:\n",
    "    if(df[i].nunique()==2):\n",
    "        data = pd.get_dummies(df[i], prefix=i, prefix_sep='_')\n",
    "        data = data.iloc[:,:len(data.columns)-1]\n",
    "        df[i] = data\n",
    "        \n",
    "df['pcr_test_result_inferred'] =[0 if i=='negative' else 1 for i in df['pcr_test_result_inferred']]\n",
    "df.head()"
   ]
  },
  {
   "cell_type": "markdown",
   "metadata": {},
   "source": [
    "# Train-test split"
   ]
  },
  {
   "cell_type": "code",
   "execution_count": 21,
   "metadata": {
    "_uuid": "f14c88ae0a061de30566d336608d195ba89993d9"
   },
   "outputs": [],
   "source": [
    "X_train, X_test, y_train, y_test = train_test_split(df.iloc[:,:-1],\n",
    "                                                    df['pcr_test_result_inferred'],\n",
    "                                                    test_size=0.10,\n",
    "                                                    stratify = df['pcr_test_result_inferred'],\n",
    "                                                   random_state = 100)"
   ]
  },
  {
   "cell_type": "code",
   "execution_count": 22,
   "metadata": {},
   "outputs": [
    {
     "data": {
      "text/plain": [
       "((621, 4), (621,), (69, 4), (69,))"
      ]
     },
     "execution_count": 22,
     "metadata": {},
     "output_type": "execute_result"
    }
   ],
   "source": [
    "X_train.shape,y_train.shape, X_test.shape, y_test.shape"
   ]
  },
  {
   "cell_type": "code",
   "execution_count": 23,
   "metadata": {},
   "outputs": [
    {
     "name": "stdout",
     "output_type": "stream",
     "text": [
      "Training Class Distribution: Counter({0: 408, 1: 213})\n",
      "Testing Class Distribution: Counter({0: 45, 1: 24})\n"
     ]
    }
   ],
   "source": [
    "print('Training Class Distribution:',Counter(y_train))\n",
    "print('Testing Class Distribution:',Counter(y_test))"
   ]
  },
  {
   "cell_type": "code",
   "execution_count": 24,
   "metadata": {},
   "outputs": [],
   "source": [
    "# 0 -negative\n",
    "# 1 - positive"
   ]
  },
  {
   "cell_type": "markdown",
   "metadata": {},
   "source": [
    "# Feature Scaling"
   ]
  },
  {
   "cell_type": "code",
   "execution_count": 26,
   "metadata": {},
   "outputs": [
    {
     "name": "stdout",
     "output_type": "stream",
     "text": [
      "38.35619967793881 19.45762345959928\n"
     ]
    }
   ],
   "source": [
    "mean = X_train['age'].mean()\n",
    "std = X_train['age'].std()\n",
    "print(mean,std)\n",
    "\n",
    "X_train['age'] = round((X_train['age']-mean)/std,2)\n",
    "X_test['age'] = round((X_test['age']-mean)/std,2)"
   ]
  },
  {
   "cell_type": "markdown",
   "metadata": {},
   "source": [
    "# Handle Class Imbalance"
   ]
  },
  {
   "cell_type": "code",
   "execution_count": 27,
   "metadata": {},
   "outputs": [],
   "source": [
    "# SMOTE for Oversampling\n",
    "X_train, y_train = SMOTE().fit_resample(X_train, y_train)"
   ]
  },
  {
   "cell_type": "code",
   "execution_count": 28,
   "metadata": {},
   "outputs": [
    {
     "data": {
      "text/plain": [
       "((816, 4), (816,), (69, 4), (69,))"
      ]
     },
     "execution_count": 28,
     "metadata": {},
     "output_type": "execute_result"
    }
   ],
   "source": [
    "X_train.shape,y_train.shape, X_test.shape, y_test.shape"
   ]
  },
  {
   "cell_type": "code",
   "execution_count": 29,
   "metadata": {},
   "outputs": [
    {
     "name": "stdout",
     "output_type": "stream",
     "text": [
      "Training Class Distribution: Counter({0: 408, 1: 408})\n",
      "Testing Class Distribution: Counter({0: 45, 1: 24})\n"
     ]
    }
   ],
   "source": [
    "print('Training Class Distribution:',Counter(y_train))\n",
    "print('Testing Class Distribution:',Counter(y_test))"
   ]
  },
  {
   "cell_type": "markdown",
   "metadata": {},
   "source": [
    "# Define Functions"
   ]
  },
  {
   "cell_type": "code",
   "execution_count": 30,
   "metadata": {},
   "outputs": [],
   "source": [
    "def scores(clf):\n",
    "    print(\"Training set score: {:.3f}\".format(clf.score(X_train, y_train)))\n",
    "    print(\"Test set score: {:.3f}\".format(clf.score(X_test, y_test)))"
   ]
  },
  {
   "cell_type": "code",
   "execution_count": 31,
   "metadata": {},
   "outputs": [],
   "source": [
    "def test_report(clf):\n",
    "    y_pred = clf.predict(X_test)\n",
    "    labels = ['Non-COVID-19','COVID-19']\n",
    "    \n",
    "    array = confusion_matrix(y_test, y_pred)\n",
    "    df_cm = pd.DataFrame(array, index = labels, columns = labels)\n",
    "    \n",
    "    plt.title(\"Confusion Matrix\")\n",
    "    s = sns.heatmap(df_cm, annot=True, cmap='copper', fmt='g')\n",
    "    s.set(xlabel='Predicted Label', ylabel='True Label')\n",
    "    print('*'*100)\n",
    "    \n",
    "    print(classification_report(y_test, y_pred, target_names = labels))"
   ]
  },
  {
   "cell_type": "code",
   "execution_count": 32,
   "metadata": {},
   "outputs": [],
   "source": [
    "def roc(clf):\n",
    "    disp = RocCurveDisplay.from_estimator(clf, X_test, y_test)\n",
    "    plt.title('ROC Curve')\n",
    "    plt.plot([0,1],[0,1],'k--')\n",
    "    plt.show()"
   ]
  },
  {
   "cell_type": "code",
   "execution_count": 33,
   "metadata": {},
   "outputs": [],
   "source": [
    "params = {}\n",
    "models = {}\n",
    "\n",
    "def call(name,model,space):\n",
    "    \n",
    "    clf = GridSearchCV(estimator = model, \n",
    "                      param_grid = space,\n",
    "                      cv = RepeatedStratifiedKFold(n_splits=5, n_repeats=5, random_state=42),\n",
    "                       scoring = 'recall',\n",
    "                      verbose= 0,\n",
    "                      n_jobs = -1)\n",
    "    \n",
    "    clf.fit(X_train, y_train)\n",
    "    print('Best training parameters:',clf.best_params_)\n",
    "     \n",
    "    best_estimator = clf.best_estimator_\n",
    "    \n",
    "    scores(best_estimator)\n",
    "    print('*'*100)\n",
    "    \n",
    "    test_report(best_estimator)\n",
    "    print('*'*100)\n",
    "    \n",
    "    roc(best_estimator)\n",
    "    \n",
    "    params[name] = clf.best_params_\n",
    "    models[name] = best_estimator"
   ]
  },
  {
   "cell_type": "markdown",
   "metadata": {},
   "source": [
    "# Naiive Bayes"
   ]
  },
  {
   "cell_type": "code",
   "execution_count": 34,
   "metadata": {},
   "outputs": [
    {
     "name": "stdout",
     "output_type": "stream",
     "text": [
      "Best training parameters: {'var_smoothing': 1.0}\n",
      "Training set score: 0.585\n",
      "Test set score: 0.522\n",
      "****************************************************************************************************\n",
      "****************************************************************************************************\n",
      "              precision    recall  f1-score   support\n",
      "\n",
      "Non-COVID-19       0.75      0.40      0.52        45\n",
      "    COVID-19       0.40      0.75      0.52        24\n",
      "\n",
      "    accuracy                           0.52        69\n",
      "   macro avg       0.57      0.57      0.52        69\n",
      "weighted avg       0.63      0.52      0.52        69\n",
      "\n",
      "****************************************************************************************************\n"
     ]
    },
    {
     "data": {
      "image/png": "[encoded data removed]",
      "text/plain": [
       "<Figure size 432x288 with 2 Axes>"
      ]
     },
     "metadata": {
      "needs_background": "light"
     },
     "output_type": "display_data"
    },
    {
     "data": {
      "image/png": "[encoded data removed]",
      "text/plain": [
       "<Figure size 432x288 with 1 Axes>"
      ]
     },
     "metadata": {
      "needs_background": "light"
     },
     "output_type": "display_data"
    }
   ],
   "source": [
    "# Domain/Search Space\n",
    "space = {'var_smoothing': np.logspace(0,-9, num=100)}\n",
    "\n",
    "# training\n",
    "model = GaussianNB()\n",
    "call('NB', model, space)"
   ]
  },
  {
   "cell_type": "markdown",
   "metadata": {},
   "source": [
    "# Random Forest"
   ]
  },
  {
   "cell_type": "code",
   "execution_count": 35,
   "metadata": {},
   "outputs": [
    {
     "name": "stdout",
     "output_type": "stream",
     "text": [
      "Best training parameters: {'bootstrap': False, 'max_depth': 5, 'min_samples_leaf': 1, 'min_samples_split': 2, 'n_estimators': 10}\n",
      "Training set score: 0.663\n",
      "Test set score: 0.464\n",
      "****************************************************************************************************\n",
      "****************************************************************************************************\n",
      "              precision    recall  f1-score   support\n",
      "\n",
      "Non-COVID-19       0.61      0.49      0.54        45\n",
      "    COVID-19       0.30      0.42      0.35        24\n",
      "\n",
      "    accuracy                           0.46        69\n",
      "   macro avg       0.46      0.45      0.45        69\n",
      "weighted avg       0.50      0.46      0.48        69\n",
      "\n",
      "****************************************************************************************************\n"
     ]
    },
    {
     "data": {
      "image/png": "[encoded data removed]",
      "text/plain": [
       "<Figure size 432x288 with 2 Axes>"
      ]
     },
     "metadata": {
      "needs_background": "light"
     },
     "output_type": "display_data"
    },
    {
     "data": {
      "image/png": "[encoded data removed]",
      "text/plain": [
       "<Figure size 432x288 with 1 Axes>"
      ]
     },
     "metadata": {
      "needs_background": "light"
     },
     "output_type": "display_data"
    }
   ],
   "source": [
    "# Domain/Search Space\n",
    "space = {'bootstrap': [True, False],\n",
    "         'max_depth': [5, 7, 8, 10, None],\n",
    "         'min_samples_leaf': [1, 2, 5],\n",
    "         'min_samples_split': [2, 5, 10],\n",
    "         'n_estimators': [10, 20 , 50, 100, 200]}\n",
    "\n",
    "# training\n",
    "model = RandomForestClassifier()\n",
    "call('RF', model, space)"
   ]
  },
  {
   "cell_type": "markdown",
   "metadata": {},
   "source": [
    "# Gradient Boosting"
   ]
  },
  {
   "cell_type": "code",
   "execution_count": 36,
   "metadata": {},
   "outputs": [
    {
     "name": "stdout",
     "output_type": "stream",
     "text": [
      "Best training parameters: {'max_depth': 5, 'min_samples_leaf': 5, 'min_samples_split': 2, 'n_estimators': 10}\n",
      "Training set score: 0.664\n",
      "Test set score: 0.435\n",
      "****************************************************************************************************\n",
      "****************************************************************************************************\n",
      "              precision    recall  f1-score   support\n",
      "\n",
      "Non-COVID-19       0.60      0.40      0.48        45\n",
      "    COVID-19       0.31      0.50      0.38        24\n",
      "\n",
      "    accuracy                           0.43        69\n",
      "   macro avg       0.45      0.45      0.43        69\n",
      "weighted avg       0.50      0.43      0.45        69\n",
      "\n",
      "****************************************************************************************************\n"
     ]
    },
    {
     "data": {
      "image/png": "[encoded data removed]",
      "text/plain": [
       "<Figure size 432x288 with 2 Axes>"
      ]
     },
     "metadata": {
      "needs_background": "light"
     },
     "output_type": "display_data"
    },
    {
     "data": {
      "image/png": "[encoded data removed]",
      "text/plain": [
       "<Figure size 432x288 with 1 Axes>"
      ]
     },
     "metadata": {
      "needs_background": "light"
     },
     "output_type": "display_data"
    }
   ],
   "source": [
    "# Domain/Search Space\n",
    "space = {'max_depth': [5, 7, 8, 10, None],\n",
    "         'min_samples_leaf': [1, 2, 5],\n",
    "         'min_samples_split': [2, 5, 10],\n",
    "         'n_estimators': [10, 20 , 50, 100, 200]}\n",
    "\n",
    "# training\n",
    "model = GradientBoostingClassifier()\n",
    "call('GB', model, space)"
   ]
  },
  {
   "cell_type": "markdown",
   "metadata": {},
   "source": [
    "# Logistic Regression"
   ]
  },
  {
   "cell_type": "code",
   "execution_count": 37,
   "metadata": {
    "scrolled": false
   },
   "outputs": [
    {
     "name": "stdout",
     "output_type": "stream",
     "text": [
      "Best training parameters: {'C': 0.1, 'penalty': 'l1', 'solver': 'liblinear'}\n",
      "Training set score: 0.585\n",
      "Test set score: 0.536\n",
      "****************************************************************************************************\n",
      "****************************************************************************************************\n",
      "              precision    recall  f1-score   support\n",
      "\n",
      "Non-COVID-19       0.71      0.49      0.58        45\n",
      "    COVID-19       0.39      0.62      0.48        24\n",
      "\n",
      "    accuracy                           0.54        69\n",
      "   macro avg       0.55      0.56      0.53        69\n",
      "weighted avg       0.60      0.54      0.55        69\n",
      "\n",
      "****************************************************************************************************\n"
     ]
    },
    {
     "data": {
      "image/png": "[encoded data removed]",
      "text/plain": [
       "<Figure size 432x288 with 2 Axes>"
      ]
     },
     "metadata": {
      "needs_background": "light"
     },
     "output_type": "display_data"
    },
    {
     "data": {
      "image/png": "[encoded data removed]",
      "text/plain": [
       "<Figure size 432x288 with 1 Axes>"
      ]
     },
     "metadata": {
      "needs_background": "light"
     },
     "output_type": "display_data"
    }
   ],
   "source": [
    "# Domain/Search Space\n",
    "space = {'penalty' : ['l1', 'l2','elasticnet','none'], \n",
    "                 'C' : [0.01, 0.1, 1, 10, 100],\n",
    "                 'solver' : ['newton-cg', 'lbfgs', 'liblinear', 'sag', 'saga']}\n",
    "\n",
    "# training\n",
    "model = LogisticRegression()\n",
    "call('LR', model, space)"
   ]
  },
  {
   "cell_type": "markdown",
   "metadata": {},
   "source": [
    "# K-NN"
   ]
  },
  {
   "cell_type": "code",
   "execution_count": 38,
   "metadata": {},
   "outputs": [
    {
     "name": "stdout",
     "output_type": "stream",
     "text": [
      "Best training parameters: {'algorithm': 'auto', 'metric': 'chebyshev', 'n_neighbors': 19}\n",
      "Training set score: 0.631\n",
      "Test set score: 0.522\n",
      "****************************************************************************************************\n",
      "****************************************************************************************************\n",
      "              precision    recall  f1-score   support\n",
      "\n",
      "Non-COVID-19       0.69      0.49      0.57        45\n",
      "    COVID-19       0.38      0.58      0.46        24\n",
      "\n",
      "    accuracy                           0.52        69\n",
      "   macro avg       0.53      0.54      0.52        69\n",
      "weighted avg       0.58      0.52      0.53        69\n",
      "\n",
      "****************************************************************************************************\n"
     ]
    },
    {
     "data": {
      "image/png": "[encoded data removed]",
      "text/plain": [
       "<Figure size 432x288 with 2 Axes>"
      ]
     },
     "metadata": {
      "needs_background": "light"
     },
     "output_type": "display_data"
    },
    {
     "data": {
      "image/png": "[encoded data removed]",
      "text/plain": [
       "<Figure size 432x288 with 1 Axes>"
      ]
     },
     "metadata": {
      "needs_background": "light"
     },
     "output_type": "display_data"
    }
   ],
   "source": [
    "# Domain/Search Space\n",
    "space = {'n_neighbors' : list(range(3,20,2)),\n",
    "        'algorithm' : ['auto', 'ball_tree', 'kd_tree', 'brute'],\n",
    "        'metric' : ['euclidean','manhattan','chebyshev','minkowski']}\n",
    "\n",
    "# training\n",
    "model = KNeighborsClassifier()\n",
    "call('KNN', model, space)"
   ]
  },
  {
   "cell_type": "markdown",
   "metadata": {},
   "source": [
    "# SVM"
   ]
  },
  {
   "cell_type": "code",
   "execution_count": 39,
   "metadata": {},
   "outputs": [
    {
     "name": "stdout",
     "output_type": "stream",
     "text": [
      "Best training parameters: {'C': 1, 'gamma': 0.1, 'kernel': 'poly'}\n",
      "Training set score: 0.533\n",
      "Test set score: 0.435\n",
      "****************************************************************************************************\n",
      "****************************************************************************************************\n",
      "              precision    recall  f1-score   support\n",
      "\n",
      "Non-COVID-19       1.00      0.13      0.24        45\n",
      "    COVID-19       0.38      1.00      0.55        24\n",
      "\n",
      "    accuracy                           0.43        69\n",
      "   macro avg       0.69      0.57      0.39        69\n",
      "weighted avg       0.78      0.43      0.35        69\n",
      "\n",
      "****************************************************************************************************\n"
     ]
    },
    {
     "data": {
      "image/png": "[encoded data removed]",
      "text/plain": [
       "<Figure size 432x288 with 2 Axes>"
      ]
     },
     "metadata": {
      "needs_background": "light"
     },
     "output_type": "display_data"
    },
    {
     "data": {
      "image/png": "[encoded data removed]",
      "text/plain": [
       "<Figure size 432x288 with 1 Axes>"
      ]
     },
     "metadata": {
      "needs_background": "light"
     },
     "output_type": "display_data"
    }
   ],
   "source": [
    "# Domain/Search Space\n",
    "space = {'C': [0.01, 0.1, 1, 10, 100], \n",
    " 'gamma': [1, 0.1, 0.01, 0.001],\n",
    " 'kernel': ['linear','rbf', 'poly', 'sigmoid']}\n",
    "\n",
    "# training\n",
    "model = SVC()\n",
    "call('SVM', model, space)"
   ]
  },
  {
   "cell_type": "code",
   "execution_count": 40,
   "metadata": {},
   "outputs": [
    {
     "data": {
      "text/plain": [
       "{'NB': GaussianNB(var_smoothing=1.0),\n",
       " 'RF': RandomForestClassifier(bootstrap=False, max_depth=5, n_estimators=10),\n",
       " 'GB': GradientBoostingClassifier(max_depth=5, min_samples_leaf=5, n_estimators=10),\n",
       " 'LR': LogisticRegression(C=0.1, penalty='l1', solver='liblinear'),\n",
       " 'KNN': KNeighborsClassifier(metric='chebyshev', n_neighbors=19),\n",
       " 'SVM': SVC(C=1, gamma=0.1, kernel='poly')}"
      ]
     },
     "execution_count": 40,
     "metadata": {},
     "output_type": "execute_result"
    }
   ],
   "source": [
    "models"
   ]
  },
  {
   "cell_type": "code",
   "execution_count": 41,
   "metadata": {},
   "outputs": [
    {
     "data": {
      "text/plain": [
       "{'NB': {'var_smoothing': 1.0},\n",
       " 'RF': {'bootstrap': False,\n",
       "  'max_depth': 5,\n",
       "  'min_samples_leaf': 1,\n",
       "  'min_samples_split': 2,\n",
       "  'n_estimators': 10},\n",
       " 'GB': {'max_depth': 5,\n",
       "  'min_samples_leaf': 5,\n",
       "  'min_samples_split': 2,\n",
       "  'n_estimators': 10},\n",
       " 'LR': {'C': 0.1, 'penalty': 'l1', 'solver': 'liblinear'},\n",
       " 'KNN': {'algorithm': 'auto', 'metric': 'chebyshev', 'n_neighbors': 19},\n",
       " 'SVM': {'C': 1, 'gamma': 0.1, 'kernel': 'poly'}}"
      ]
     },
     "execution_count": 41,
     "metadata": {},
     "output_type": "execute_result"
    }
   ],
   "source": [
    "params"
   ]
  },
  {
   "cell_type": "markdown",
   "metadata": {},
   "source": [
    "# Save models"
   ]
  },
  {
   "cell_type": "code",
   "execution_count": 42,
   "metadata": {},
   "outputs": [],
   "source": [
    "path = 'models/PatientLevel/'"
   ]
  },
  {
   "cell_type": "code",
   "execution_count": 43,
   "metadata": {},
   "outputs": [],
   "source": [
    "# save models\n",
    "for i in models:\n",
    "    filename = i+'_PatientLevel.sav'\n",
    "    clf = models[i]\n",
    "    pickle.dump(clf, open(path+filename, 'wb'))"
   ]
  }
 ],
 "metadata": {
  "kernelspec": {
   "display_name": "Python 3 (ipykernel)",
   "language": "python",
   "name": "python3"
  },
  "language_info": {
   "codemirror_mode": {
    "name": "ipython",
    "version": 3
   },
   "file_extension": ".py",
   "mimetype": "text/x-python",
   "name": "python",
   "nbconvert_exporter": "python",
   "pygments_lexer": "ipython3",
   "version": "3.7.0"
  }
 },
 "nbformat": 4,
 "nbformat_minor": 1
}
