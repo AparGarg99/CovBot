{
 "cells": [
  {
   "cell_type": "markdown",
   "id": "456e1009",
   "metadata": {},
   "source": [
    "# Import Packages"
   ]
  },
  {
   "cell_type": "code",
   "execution_count": 1,
   "id": "6c5af7be",
   "metadata": {},
   "outputs": [],
   "source": [
    "from packages import *\n",
    "%matplotlib inline"
   ]
  },
  {
   "cell_type": "markdown",
   "id": "4b9e95ad",
   "metadata": {},
   "source": [
    "# Read Dataset"
   ]
  },
  {
   "cell_type": "code",
   "execution_count": 2,
   "id": "baf31758",
   "metadata": {},
   "outputs": [
    {
     "data": {
      "text/html": [
       "<div>\n",
       "<style scoped>\n",
       "    .dataframe tbody tr th:only-of-type {\n",
       "        vertical-align: middle;\n",
       "    }\n",
       "\n",
       "    .dataframe tbody tr th {\n",
       "        vertical-align: top;\n",
       "    }\n",
       "\n",
       "    .dataframe thead th {\n",
       "        text-align: right;\n",
       "    }\n",
       "</style>\n",
       "<table border=\"1\" class=\"dataframe\">\n",
       "  <thead>\n",
       "    <tr style=\"text-align: right;\">\n",
       "      <th></th>\n",
       "      <th>fname</th>\n",
       "      <th>label</th>\n",
       "    </tr>\n",
       "  </thead>\n",
       "  <tbody>\n",
       "    <tr>\n",
       "      <th>0</th>\n",
       "      <td>virufy_clean\\neg-0421-083-cough-m-53-1.wav</td>\n",
       "      <td>neg</td>\n",
       "    </tr>\n",
       "    <tr>\n",
       "      <th>1</th>\n",
       "      <td>virufy_clean\\neg-0421-083-cough-m-53-10.wav</td>\n",
       "      <td>neg</td>\n",
       "    </tr>\n",
       "    <tr>\n",
       "      <th>2</th>\n",
       "      <td>virufy_clean\\neg-0421-083-cough-m-53-11.wav</td>\n",
       "      <td>neg</td>\n",
       "    </tr>\n",
       "    <tr>\n",
       "      <th>3</th>\n",
       "      <td>virufy_clean\\neg-0421-083-cough-m-53-12.wav</td>\n",
       "      <td>neg</td>\n",
       "    </tr>\n",
       "    <tr>\n",
       "      <th>4</th>\n",
       "      <td>virufy_clean\\neg-0421-083-cough-m-53-13.wav</td>\n",
       "      <td>neg</td>\n",
       "    </tr>\n",
       "  </tbody>\n",
       "</table>\n",
       "</div>"
      ],
      "text/plain": [
       "                                         fname label\n",
       "0   virufy_clean\\neg-0421-083-cough-m-53-1.wav   neg\n",
       "1  virufy_clean\\neg-0421-083-cough-m-53-10.wav   neg\n",
       "2  virufy_clean\\neg-0421-083-cough-m-53-11.wav   neg\n",
       "3  virufy_clean\\neg-0421-083-cough-m-53-12.wav   neg\n",
       "4  virufy_clean\\neg-0421-083-cough-m-53-13.wav   neg"
      ]
     },
     "execution_count": 2,
     "metadata": {},
     "output_type": "execute_result"
    }
   ],
   "source": [
    "all_files = glob.glob('virufy_clean/*')\n",
    "l1, l2 = [], []\n",
    "for i in all_files: \n",
    "    l1.append(i)\n",
    "    label = i.split('\\\\')[1][:3].strip()\n",
    "    l2.append(label)\n",
    "df = pd.DataFrame(zip(l1,l2),columns=['fname','label'])\n",
    "df.head()"
   ]
  },
  {
   "cell_type": "markdown",
   "id": "7c735903",
   "metadata": {},
   "source": [
    "# Get class distribution"
   ]
  },
  {
   "cell_type": "code",
   "execution_count": 3,
   "id": "ef6dbe17",
   "metadata": {},
   "outputs": [
    {
     "data": {
      "text/html": [
       "<div>\n",
       "<style scoped>\n",
       "    .dataframe tbody tr th:only-of-type {\n",
       "        vertical-align: middle;\n",
       "    }\n",
       "\n",
       "    .dataframe tbody tr th {\n",
       "        vertical-align: top;\n",
       "    }\n",
       "\n",
       "    .dataframe thead th {\n",
       "        text-align: right;\n",
       "    }\n",
       "</style>\n",
       "<table border=\"1\" class=\"dataframe\">\n",
       "  <thead>\n",
       "    <tr style=\"text-align: right;\">\n",
       "      <th></th>\n",
       "      <th>label</th>\n",
       "      <th>length</th>\n",
       "    </tr>\n",
       "    <tr>\n",
       "      <th>fname</th>\n",
       "      <th></th>\n",
       "      <th></th>\n",
       "    </tr>\n",
       "  </thead>\n",
       "  <tbody>\n",
       "    <tr>\n",
       "      <th>virufy_clean\\neg-0421-083-cough-m-53-1.wav</th>\n",
       "      <td>neg</td>\n",
       "      <td>0.473469</td>\n",
       "    </tr>\n",
       "    <tr>\n",
       "      <th>virufy_clean\\neg-0421-083-cough-m-53-10.wav</th>\n",
       "      <td>neg</td>\n",
       "      <td>0.438277</td>\n",
       "    </tr>\n",
       "    <tr>\n",
       "      <th>virufy_clean\\neg-0421-083-cough-m-53-11.wav</th>\n",
       "      <td>neg</td>\n",
       "      <td>0.511202</td>\n",
       "    </tr>\n",
       "    <tr>\n",
       "      <th>virufy_clean\\neg-0421-083-cough-m-53-12.wav</th>\n",
       "      <td>neg</td>\n",
       "      <td>0.462132</td>\n",
       "    </tr>\n",
       "    <tr>\n",
       "      <th>virufy_clean\\neg-0421-083-cough-m-53-13.wav</th>\n",
       "      <td>neg</td>\n",
       "      <td>0.537914</td>\n",
       "    </tr>\n",
       "  </tbody>\n",
       "</table>\n",
       "</div>"
      ],
      "text/plain": [
       "                                            label    length\n",
       "fname                                                      \n",
       "virufy_clean\\neg-0421-083-cough-m-53-1.wav    neg  0.473469\n",
       "virufy_clean\\neg-0421-083-cough-m-53-10.wav   neg  0.438277\n",
       "virufy_clean\\neg-0421-083-cough-m-53-11.wav   neg  0.511202\n",
       "virufy_clean\\neg-0421-083-cough-m-53-12.wav   neg  0.462132\n",
       "virufy_clean\\neg-0421-083-cough-m-53-13.wav   neg  0.537914"
      ]
     },
     "execution_count": 3,
     "metadata": {},
     "output_type": "execute_result"
    }
   ],
   "source": [
    "df.set_index('fname', inplace=True)\n",
    "\n",
    "for f in df.index:\n",
    "    signal,rate = librosa.load(f)\n",
    "    df.at[f, 'length'] = signal.shape[0]/rate\n",
    "\n",
    "df.head()"
   ]
  },
  {
   "cell_type": "code",
   "execution_count": 4,
   "id": "a7fd4356",
   "metadata": {},
   "outputs": [
    {
     "data": {
      "text/plain": [
       "1494"
      ]
     },
     "execution_count": 4,
     "metadata": {},
     "output_type": "execute_result"
    }
   ],
   "source": [
    "# get class names\n",
    "classes = list(np.unique(df.label))\n",
    "\n",
    "# get probability distribution of classes based on duration of audio files\n",
    "class_dist = df.groupby(['label'])['length'].mean()\n",
    "prob_dist = class_dist/class_dist.sum()\n",
    "\n",
    "# Get 2 * audio samples of duration 1/10 secs taken from all audio files\n",
    "n_samples = int(2 * (1/0.1)* df['length'].sum())\n",
    "n_samples"
   ]
  },
  {
   "cell_type": "markdown",
   "id": "9ac0d2b1",
   "metadata": {},
   "source": [
    "# Study pywt library"
   ]
  },
  {
   "cell_type": "code",
   "execution_count": 5,
   "id": "0939df37",
   "metadata": {
    "scrolled": false
   },
   "outputs": [
    {
     "name": "stdout",
     "output_type": "stream",
     "text": [
      "['bior1.1', 'bior1.3', 'bior1.5', 'bior2.2', 'bior2.4', 'bior2.6', 'bior2.8', 'bior3.1', 'bior3.3', 'bior3.5', 'bior3.7', 'bior3.9', 'bior4.4', 'bior5.5', 'bior6.8', 'coif1', 'coif2', 'coif3', 'coif4', 'coif5', 'coif6', 'coif7', 'coif8', 'coif9', 'coif10', 'coif11', 'coif12', 'coif13', 'coif14', 'coif15', 'coif16', 'coif17', 'db1', 'db2', 'db3', 'db4', 'db5', 'db6', 'db7', 'db8', 'db9', 'db10', 'db11', 'db12', 'db13', 'db14', 'db15', 'db16', 'db17', 'db18', 'db19', 'db20', 'db21', 'db22', 'db23', 'db24', 'db25', 'db26', 'db27', 'db28', 'db29', 'db30', 'db31', 'db32', 'db33', 'db34', 'db35', 'db36', 'db37', 'db38', 'dmey', 'haar', 'rbio1.1', 'rbio1.3', 'rbio1.5', 'rbio2.2', 'rbio2.4', 'rbio2.6', 'rbio2.8', 'rbio3.1', 'rbio3.3', 'rbio3.5', 'rbio3.7', 'rbio3.9', 'rbio4.4', 'rbio5.5', 'rbio6.8', 'sym2', 'sym3', 'sym4', 'sym5', 'sym6', 'sym7', 'sym8', 'sym9', 'sym10', 'sym11', 'sym12', 'sym13', 'sym14', 'sym15', 'sym16', 'sym17', 'sym18', 'sym19', 'sym20']\n"
     ]
    }
   ],
   "source": [
    "# get types of filters\n",
    "print(pywt.wavelist(family=None, kind='discrete'))"
   ]
  },
  {
   "cell_type": "code",
   "execution_count": 6,
   "id": "814c4bc1",
   "metadata": {},
   "outputs": [
    {
     "name": "stdout",
     "output_type": "stream",
     "text": [
      "Filter name: haar\n",
      "Length of filter: 2\n",
      "Filter weights: [0.7071067811865476, 0.7071067811865476] [-0.7071067811865476, 0.7071067811865476]\n"
     ]
    }
   ],
   "source": [
    "# get filter values and length\n",
    "name = 'haar'\n",
    "wavelet = pywt.Wavelet(name)\n",
    "print('Filter name:', name)\n",
    "print('Length of filter:', wavelet.dec_len)\n",
    "print('Filter weights:', wavelet.dec_lo, wavelet.dec_hi)"
   ]
  },
  {
   "cell_type": "code",
   "execution_count": 7,
   "id": "1a534a12",
   "metadata": {},
   "outputs": [
    {
     "name": "stdout",
     "output_type": "stream",
     "text": [
      "['zero', 'constant', 'symmetric', 'periodic', 'smooth', 'periodization', 'reflect', 'antisymmetric', 'antireflect']\n"
     ]
    }
   ],
   "source": [
    "# get types of padding\n",
    "print(pywt.Modes.modes)"
   ]
  },
  {
   "cell_type": "markdown",
   "id": "bb8ee8d3",
   "metadata": {},
   "source": [
    "# Feature Extraction"
   ]
  },
  {
   "cell_type": "code",
   "execution_count": 8,
   "id": "079b06fe",
   "metadata": {},
   "outputs": [],
   "source": [
    "############ function to calculate the entropy value of an input signal ################\n",
    "# entropy values can be taken as a measure of complexity of the signal\n",
    "def calculate_entropy(list_values):\n",
    "    counter_values = Counter(list_values).most_common()\n",
    "    probabilities = [elem[1]/len(list_values) for elem in counter_values]\n",
    "    e = entropy(probabilities)\n",
    "    return e\n",
    "\n",
    "############## function to calculate some statistics ################\n",
    "def calculate_statistics(list_values):\n",
    "    n25 = np.nanpercentile(list_values, 25) # 25th percentile value\n",
    "    median = np.nanpercentile(list_values, 50) # Median\n",
    "    n75 = np.nanpercentile(list_values, 75) # 75th percentile value\n",
    "    mean = np.nanmean(list_values) # Mean\n",
    "    std = np.nanstd(list_values) # standard deviation\n",
    "    var = np.nanvar(list_values) # variance\n",
    "    return [n25, median, n75, mean, std, var]\n",
    "\n",
    "############# function to calculate the ZCR and mean CR ############\n",
    "def calculate_crossings(list_values):\n",
    "    # Zero crossing rate, i.e. the number of times a signal crosses y = 0\n",
    "    zero_crossing_indices = np.nonzero(np.diff(np.array(list_values)>0))[0] \n",
    "    no_zero_crossings = len(zero_crossing_indices)\n",
    "    \n",
    "    # Mean crossing rate, i.e. the number of times a signal crosses y = mean(y)\n",
    "    mean_crossing_indices = np.nonzero(np.diff(np.array(list_values)>np.nanmean(list_values)))[0]\n",
    "    no_mean_crossings = len(mean_crossing_indices)\n",
    "    return [no_zero_crossings, no_mean_crossings]\n",
    "\n",
    "############# function to combine the results of these three functions above ###########\n",
    "def get_features(list_values):\n",
    "    entropy = calculate_entropy(list_values)\n",
    "    crossings = calculate_crossings(list_values)\n",
    "    statistics = calculate_statistics(list_values)\n",
    "    return [entropy] + crossings + statistics"
   ]
  },
  {
   "cell_type": "code",
   "execution_count": 9,
   "id": "666e1840",
   "metadata": {},
   "outputs": [
    {
     "data": {
      "text/plain": [
       "(7, 7)"
      ]
     },
     "execution_count": 9,
     "metadata": {},
     "output_type": "execute_result"
    }
   ],
   "source": [
    "# get maximum number of decomposition levels for all audio files\n",
    "\n",
    "dlevels = []\n",
    "\n",
    "for _ in range(n_samples):\n",
    "        \n",
    "    # choose a random audio sample from dataset according to their probability distribution\n",
    "    rand_class = np.random.choice(class_dist.index,p=prob_dist)\n",
    "    file = np.random.choice(df[df.label==rand_class].index)\n",
    "    rate, wav = wavfile.read(file)\n",
    "    label = df.at[file,'label']\n",
    "\n",
    "    # crop a random duration of 1/10 sec from chosen audio sample\n",
    "    step=int(rate/10)\n",
    "    rand_index = np.random.randint(0,wav.shape[0]-step)\n",
    "    sample = wav[rand_index:rand_index+step]\n",
    "    \n",
    "    dlevels.append(pywt.dwt_max_level(len(sample), 'db4'))\n",
    "    \n",
    "min(dlevels),max(dlevels)"
   ]
  },
  {
   "cell_type": "code",
   "execution_count": 10,
   "id": "4087288a",
   "metadata": {},
   "outputs": [],
   "source": [
    "def build_random_feat():\n",
    "    \n",
    "    X = []\n",
    "    y = []\n",
    "    \n",
    "    for _ in range(n_samples):\n",
    "        \n",
    "        # choose a random audio sample from dataset according to their probability distribution\n",
    "        rand_class = np.random.choice(class_dist.index,p=prob_dist)\n",
    "        file = np.random.choice(df[df.label==rand_class].index)\n",
    "        rate, wav = wavfile.read(file)\n",
    "        label = df.at[file,'label']\n",
    "        \n",
    "        # crop a random duration of 1/10 sec from chosen audio sample\n",
    "        step=int(rate/10)\n",
    "        rand_index = np.random.randint(0,wav.shape[0]-step)\n",
    "        sample = wav[rand_index:rand_index+step]\n",
    "        \n",
    "        # get stat features of the cropped duration\n",
    "        # list_coeff is the list of approximation_coeffs and detail_coeffs\n",
    "        # list_coeff = [approximation_coeffs_list (An), detail_coeffs_list (Dn),...,detail_coeffs_list (D1)]\n",
    "        # length of list_coeff = no. of levels + 1\n",
    "        list_coeff = pywt.wavedec(data = sample, \n",
    "                                  wavelet = 'db4', # filter\n",
    "                                  mode = 'constant', # duplicattion padding\n",
    "                                  level = min(dlevels) # no. of decomposition levels\n",
    "                                 ) \n",
    "\n",
    "        # for each list in list_coeff, get 9 features.\n",
    "        features = []\n",
    "        for coeff in list_coeff:\n",
    "            features += get_features(coeff) \n",
    "\n",
    "        X.append(features)\n",
    "        y.append(classes.index(label))\n",
    "            \n",
    "    df2 = pd.DataFrame(X)\n",
    "    df2['label'] = y\n",
    "                   \n",
    "    return df2"
   ]
  },
  {
   "cell_type": "code",
   "execution_count": 11,
   "id": "cd8d59f7",
   "metadata": {},
   "outputs": [
    {
     "data": {
      "text/html": [
       "<div>\n",
       "<style scoped>\n",
       "    .dataframe tbody tr th:only-of-type {\n",
       "        vertical-align: middle;\n",
       "    }\n",
       "\n",
       "    .dataframe tbody tr th {\n",
       "        vertical-align: top;\n",
       "    }\n",
       "\n",
       "    .dataframe thead th {\n",
       "        text-align: right;\n",
       "    }\n",
       "</style>\n",
       "<table border=\"1\" class=\"dataframe\">\n",
       "  <thead>\n",
       "    <tr style=\"text-align: right;\">\n",
       "      <th></th>\n",
       "      <th>0</th>\n",
       "      <th>1</th>\n",
       "      <th>2</th>\n",
       "      <th>3</th>\n",
       "      <th>4</th>\n",
       "      <th>5</th>\n",
       "      <th>6</th>\n",
       "      <th>7</th>\n",
       "      <th>8</th>\n",
       "      <th>9</th>\n",
       "      <th>...</th>\n",
       "      <th>63</th>\n",
       "      <th>64</th>\n",
       "      <th>65</th>\n",
       "      <th>66</th>\n",
       "      <th>67</th>\n",
       "      <th>68</th>\n",
       "      <th>69</th>\n",
       "      <th>70</th>\n",
       "      <th>71</th>\n",
       "      <th>label</th>\n",
       "    </tr>\n",
       "  </thead>\n",
       "  <tbody>\n",
       "    <tr>\n",
       "      <th>0</th>\n",
       "      <td>2.944439</td>\n",
       "      <td>8</td>\n",
       "      <td>2</td>\n",
       "      <td>0.001317</td>\n",
       "      <td>0.006354</td>\n",
       "      <td>0.999421</td>\n",
       "      <td>0.467338</td>\n",
       "      <td>0.662373</td>\n",
       "      <td>0.438738</td>\n",
       "      <td>2.944439</td>\n",
       "      <td>...</td>\n",
       "      <td>6.688355</td>\n",
       "      <td>587</td>\n",
       "      <td>587</td>\n",
       "      <td>-0.018317</td>\n",
       "      <td>0.000031</td>\n",
       "      <td>0.017297</td>\n",
       "      <td>5.963507e-05</td>\n",
       "      <td>0.030143</td>\n",
       "      <td>9.086033e-04</td>\n",
       "      <td>0</td>\n",
       "    </tr>\n",
       "    <tr>\n",
       "      <th>1</th>\n",
       "      <td>2.944439</td>\n",
       "      <td>13</td>\n",
       "      <td>1</td>\n",
       "      <td>-0.045173</td>\n",
       "      <td>-0.001142</td>\n",
       "      <td>0.000642</td>\n",
       "      <td>-0.019399</td>\n",
       "      <td>0.030064</td>\n",
       "      <td>0.000904</td>\n",
       "      <td>2.944439</td>\n",
       "      <td>...</td>\n",
       "      <td>6.688355</td>\n",
       "      <td>486</td>\n",
       "      <td>486</td>\n",
       "      <td>-0.000264</td>\n",
       "      <td>0.000019</td>\n",
       "      <td>0.000277</td>\n",
       "      <td>5.867482e-07</td>\n",
       "      <td>0.000674</td>\n",
       "      <td>4.546379e-07</td>\n",
       "      <td>1</td>\n",
       "    </tr>\n",
       "    <tr>\n",
       "      <th>2</th>\n",
       "      <td>2.944439</td>\n",
       "      <td>10</td>\n",
       "      <td>1</td>\n",
       "      <td>-1.342840</td>\n",
       "      <td>-0.010283</td>\n",
       "      <td>0.000819</td>\n",
       "      <td>-0.600670</td>\n",
       "      <td>0.928463</td>\n",
       "      <td>0.862043</td>\n",
       "      <td>2.944439</td>\n",
       "      <td>...</td>\n",
       "      <td>6.688355</td>\n",
       "      <td>602</td>\n",
       "      <td>602</td>\n",
       "      <td>-0.003761</td>\n",
       "      <td>0.000026</td>\n",
       "      <td>0.003804</td>\n",
       "      <td>-1.867270e-05</td>\n",
       "      <td>0.006238</td>\n",
       "      <td>3.891848e-05</td>\n",
       "      <td>0</td>\n",
       "    </tr>\n",
       "    <tr>\n",
       "      <th>3</th>\n",
       "      <td>2.944439</td>\n",
       "      <td>10</td>\n",
       "      <td>1</td>\n",
       "      <td>-0.015038</td>\n",
       "      <td>0.021864</td>\n",
       "      <td>1.563694</td>\n",
       "      <td>0.741711</td>\n",
       "      <td>1.070447</td>\n",
       "      <td>1.145858</td>\n",
       "      <td>2.944439</td>\n",
       "      <td>...</td>\n",
       "      <td>6.688355</td>\n",
       "      <td>448</td>\n",
       "      <td>446</td>\n",
       "      <td>-0.013760</td>\n",
       "      <td>-0.000268</td>\n",
       "      <td>0.012652</td>\n",
       "      <td>-3.762953e-05</td>\n",
       "      <td>0.025086</td>\n",
       "      <td>6.293154e-04</td>\n",
       "      <td>0</td>\n",
       "    </tr>\n",
       "    <tr>\n",
       "      <th>4</th>\n",
       "      <td>2.944439</td>\n",
       "      <td>12</td>\n",
       "      <td>2</td>\n",
       "      <td>-0.242719</td>\n",
       "      <td>-0.011091</td>\n",
       "      <td>0.002345</td>\n",
       "      <td>-0.095093</td>\n",
       "      <td>0.128940</td>\n",
       "      <td>0.016626</td>\n",
       "      <td>2.944439</td>\n",
       "      <td>...</td>\n",
       "      <td>6.688355</td>\n",
       "      <td>529</td>\n",
       "      <td>529</td>\n",
       "      <td>-0.007940</td>\n",
       "      <td>0.000602</td>\n",
       "      <td>0.008097</td>\n",
       "      <td>-2.656144e-06</td>\n",
       "      <td>0.013116</td>\n",
       "      <td>1.720174e-04</td>\n",
       "      <td>1</td>\n",
       "    </tr>\n",
       "  </tbody>\n",
       "</table>\n",
       "<p>5 rows × 73 columns</p>\n",
       "</div>"
      ],
      "text/plain": [
       "          0   1  2         3         4         5         6         7  \\\n",
       "0  2.944439   8  2  0.001317  0.006354  0.999421  0.467338  0.662373   \n",
       "1  2.944439  13  1 -0.045173 -0.001142  0.000642 -0.019399  0.030064   \n",
       "2  2.944439  10  1 -1.342840 -0.010283  0.000819 -0.600670  0.928463   \n",
       "3  2.944439  10  1 -0.015038  0.021864  1.563694  0.741711  1.070447   \n",
       "4  2.944439  12  2 -0.242719 -0.011091  0.002345 -0.095093  0.128940   \n",
       "\n",
       "          8         9  ...        63   64   65        66        67        68  \\\n",
       "0  0.438738  2.944439  ...  6.688355  587  587 -0.018317  0.000031  0.017297   \n",
       "1  0.000904  2.944439  ...  6.688355  486  486 -0.000264  0.000019  0.000277   \n",
       "2  0.862043  2.944439  ...  6.688355  602  602 -0.003761  0.000026  0.003804   \n",
       "3  1.145858  2.944439  ...  6.688355  448  446 -0.013760 -0.000268  0.012652   \n",
       "4  0.016626  2.944439  ...  6.688355  529  529 -0.007940  0.000602  0.008097   \n",
       "\n",
       "             69        70            71  label  \n",
       "0  5.963507e-05  0.030143  9.086033e-04      0  \n",
       "1  5.867482e-07  0.000674  4.546379e-07      1  \n",
       "2 -1.867270e-05  0.006238  3.891848e-05      0  \n",
       "3 -3.762953e-05  0.025086  6.293154e-04      0  \n",
       "4 -2.656144e-06  0.013116  1.720174e-04      1  \n",
       "\n",
       "[5 rows x 73 columns]"
      ]
     },
     "execution_count": 11,
     "metadata": {},
     "output_type": "execute_result"
    }
   ],
   "source": [
    "df = build_random_feat()\n",
    "df.head()"
   ]
  },
  {
   "cell_type": "code",
   "execution_count": 12,
   "id": "21a23f1e",
   "metadata": {},
   "outputs": [
    {
     "data": {
      "text/plain": [
       "(1494, 73)"
      ]
     },
     "execution_count": 12,
     "metadata": {},
     "output_type": "execute_result"
    }
   ],
   "source": [
    "df.shape"
   ]
  },
  {
   "cell_type": "markdown",
   "id": "99dde4dc",
   "metadata": {},
   "source": [
    "# Save data"
   ]
  },
  {
   "cell_type": "code",
   "execution_count": 13,
   "id": "fb571e2b",
   "metadata": {},
   "outputs": [],
   "source": [
    "df.to_csv('data/Wavelet_features.csv',index=False)"
   ]
  }
 ],
 "metadata": {
  "kernelspec": {
   "display_name": "Python 3 (ipykernel)",
   "language": "python",
   "name": "python3"
  },
  "language_info": {
   "codemirror_mode": {
    "name": "ipython",
    "version": 3
   },
   "file_extension": ".py",
   "mimetype": "text/x-python",
   "name": "python",
   "nbconvert_exporter": "python",
   "pygments_lexer": "ipython3",
   "version": "3.7.0"
  }
 },
 "nbformat": 4,
 "nbformat_minor": 5
}
