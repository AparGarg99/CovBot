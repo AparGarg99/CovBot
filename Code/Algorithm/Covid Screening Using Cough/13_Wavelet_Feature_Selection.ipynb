{
 "cells": [
  {
   "cell_type": "markdown",
   "metadata": {},
   "source": [
    "# Import Packages"
   ]
  },
  {
   "cell_type": "code",
   "execution_count": 1,
   "metadata": {},
   "outputs": [],
   "source": [
    "from packages import *\n",
    "%matplotlib inline"
   ]
  },
  {
   "cell_type": "markdown",
   "metadata": {},
   "source": [
    "# Read Dataset"
   ]
  },
  {
   "cell_type": "code",
   "execution_count": 2,
   "metadata": {},
   "outputs": [
    {
     "data": {
      "text/html": [
       "<div>\n",
       "<style scoped>\n",
       "    .dataframe tbody tr th:only-of-type {\n",
       "        vertical-align: middle;\n",
       "    }\n",
       "\n",
       "    .dataframe tbody tr th {\n",
       "        vertical-align: top;\n",
       "    }\n",
       "\n",
       "    .dataframe thead th {\n",
       "        text-align: right;\n",
       "    }\n",
       "</style>\n",
       "<table border=\"1\" class=\"dataframe\">\n",
       "  <thead>\n",
       "    <tr style=\"text-align: right;\">\n",
       "      <th></th>\n",
       "      <th>0</th>\n",
       "      <th>1</th>\n",
       "      <th>2</th>\n",
       "      <th>3</th>\n",
       "      <th>4</th>\n",
       "      <th>5</th>\n",
       "      <th>6</th>\n",
       "      <th>7</th>\n",
       "      <th>8</th>\n",
       "      <th>9</th>\n",
       "      <th>...</th>\n",
       "      <th>63</th>\n",
       "      <th>64</th>\n",
       "      <th>65</th>\n",
       "      <th>66</th>\n",
       "      <th>67</th>\n",
       "      <th>68</th>\n",
       "      <th>69</th>\n",
       "      <th>70</th>\n",
       "      <th>71</th>\n",
       "      <th>label</th>\n",
       "    </tr>\n",
       "  </thead>\n",
       "  <tbody>\n",
       "    <tr>\n",
       "      <th>0</th>\n",
       "      <td>2.944439</td>\n",
       "      <td>8</td>\n",
       "      <td>2</td>\n",
       "      <td>0.001317</td>\n",
       "      <td>0.006354</td>\n",
       "      <td>0.999421</td>\n",
       "      <td>0.467338</td>\n",
       "      <td>0.662373</td>\n",
       "      <td>0.438738</td>\n",
       "      <td>2.944439</td>\n",
       "      <td>...</td>\n",
       "      <td>6.688355</td>\n",
       "      <td>587</td>\n",
       "      <td>587</td>\n",
       "      <td>-0.018317</td>\n",
       "      <td>0.000031</td>\n",
       "      <td>0.017297</td>\n",
       "      <td>5.963507e-05</td>\n",
       "      <td>0.030143</td>\n",
       "      <td>9.086033e-04</td>\n",
       "      <td>0</td>\n",
       "    </tr>\n",
       "    <tr>\n",
       "      <th>1</th>\n",
       "      <td>2.944439</td>\n",
       "      <td>13</td>\n",
       "      <td>1</td>\n",
       "      <td>-0.045173</td>\n",
       "      <td>-0.001142</td>\n",
       "      <td>0.000642</td>\n",
       "      <td>-0.019399</td>\n",
       "      <td>0.030064</td>\n",
       "      <td>0.000904</td>\n",
       "      <td>2.944439</td>\n",
       "      <td>...</td>\n",
       "      <td>6.688355</td>\n",
       "      <td>486</td>\n",
       "      <td>486</td>\n",
       "      <td>-0.000264</td>\n",
       "      <td>0.000019</td>\n",
       "      <td>0.000277</td>\n",
       "      <td>5.867482e-07</td>\n",
       "      <td>0.000674</td>\n",
       "      <td>4.546379e-07</td>\n",
       "      <td>1</td>\n",
       "    </tr>\n",
       "    <tr>\n",
       "      <th>2</th>\n",
       "      <td>2.944439</td>\n",
       "      <td>10</td>\n",
       "      <td>1</td>\n",
       "      <td>-1.342840</td>\n",
       "      <td>-0.010283</td>\n",
       "      <td>0.000819</td>\n",
       "      <td>-0.600670</td>\n",
       "      <td>0.928463</td>\n",
       "      <td>0.862043</td>\n",
       "      <td>2.944439</td>\n",
       "      <td>...</td>\n",
       "      <td>6.688355</td>\n",
       "      <td>602</td>\n",
       "      <td>602</td>\n",
       "      <td>-0.003761</td>\n",
       "      <td>0.000026</td>\n",
       "      <td>0.003804</td>\n",
       "      <td>-1.867270e-05</td>\n",
       "      <td>0.006238</td>\n",
       "      <td>3.891848e-05</td>\n",
       "      <td>0</td>\n",
       "    </tr>\n",
       "    <tr>\n",
       "      <th>3</th>\n",
       "      <td>2.944439</td>\n",
       "      <td>10</td>\n",
       "      <td>1</td>\n",
       "      <td>-0.015038</td>\n",
       "      <td>0.021864</td>\n",
       "      <td>1.563694</td>\n",
       "      <td>0.741711</td>\n",
       "      <td>1.070447</td>\n",
       "      <td>1.145858</td>\n",
       "      <td>2.944439</td>\n",
       "      <td>...</td>\n",
       "      <td>6.688355</td>\n",
       "      <td>448</td>\n",
       "      <td>446</td>\n",
       "      <td>-0.013760</td>\n",
       "      <td>-0.000268</td>\n",
       "      <td>0.012652</td>\n",
       "      <td>-3.762953e-05</td>\n",
       "      <td>0.025086</td>\n",
       "      <td>6.293154e-04</td>\n",
       "      <td>0</td>\n",
       "    </tr>\n",
       "    <tr>\n",
       "      <th>4</th>\n",
       "      <td>2.944439</td>\n",
       "      <td>12</td>\n",
       "      <td>2</td>\n",
       "      <td>-0.242719</td>\n",
       "      <td>-0.011091</td>\n",
       "      <td>0.002345</td>\n",
       "      <td>-0.095093</td>\n",
       "      <td>0.128940</td>\n",
       "      <td>0.016626</td>\n",
       "      <td>2.944439</td>\n",
       "      <td>...</td>\n",
       "      <td>6.688355</td>\n",
       "      <td>529</td>\n",
       "      <td>529</td>\n",
       "      <td>-0.007940</td>\n",
       "      <td>0.000602</td>\n",
       "      <td>0.008097</td>\n",
       "      <td>-2.656144e-06</td>\n",
       "      <td>0.013116</td>\n",
       "      <td>1.720174e-04</td>\n",
       "      <td>1</td>\n",
       "    </tr>\n",
       "  </tbody>\n",
       "</table>\n",
       "<p>5 rows × 73 columns</p>\n",
       "</div>"
      ],
      "text/plain": [
       "          0   1  2         3         4         5         6         7  \\\n",
       "0  2.944439   8  2  0.001317  0.006354  0.999421  0.467338  0.662373   \n",
       "1  2.944439  13  1 -0.045173 -0.001142  0.000642 -0.019399  0.030064   \n",
       "2  2.944439  10  1 -1.342840 -0.010283  0.000819 -0.600670  0.928463   \n",
       "3  2.944439  10  1 -0.015038  0.021864  1.563694  0.741711  1.070447   \n",
       "4  2.944439  12  2 -0.242719 -0.011091  0.002345 -0.095093  0.128940   \n",
       "\n",
       "          8         9  ...        63   64   65        66        67        68  \\\n",
       "0  0.438738  2.944439  ...  6.688355  587  587 -0.018317  0.000031  0.017297   \n",
       "1  0.000904  2.944439  ...  6.688355  486  486 -0.000264  0.000019  0.000277   \n",
       "2  0.862043  2.944439  ...  6.688355  602  602 -0.003761  0.000026  0.003804   \n",
       "3  1.145858  2.944439  ...  6.688355  448  446 -0.013760 -0.000268  0.012652   \n",
       "4  0.016626  2.944439  ...  6.688355  529  529 -0.007940  0.000602  0.008097   \n",
       "\n",
       "             69        70            71  label  \n",
       "0  5.963507e-05  0.030143  9.086033e-04      0  \n",
       "1  5.867482e-07  0.000674  4.546379e-07      1  \n",
       "2 -1.867270e-05  0.006238  3.891848e-05      0  \n",
       "3 -3.762953e-05  0.025086  6.293154e-04      0  \n",
       "4 -2.656144e-06  0.013116  1.720174e-04      1  \n",
       "\n",
       "[5 rows x 73 columns]"
      ]
     },
     "execution_count": 2,
     "metadata": {},
     "output_type": "execute_result"
    }
   ],
   "source": [
    "df = pd.read_csv('data/Wavelet_features.csv')\n",
    "df.head()"
   ]
  },
  {
   "cell_type": "code",
   "execution_count": 3,
   "metadata": {},
   "outputs": [
    {
     "data": {
      "text/plain": [
       "False"
      ]
     },
     "execution_count": 3,
     "metadata": {},
     "output_type": "execute_result"
    }
   ],
   "source": [
    "# check for any missing values\n",
    "df.isnull().values.any()"
   ]
  },
  {
   "cell_type": "code",
   "execution_count": 4,
   "metadata": {},
   "outputs": [
    {
     "data": {
      "text/plain": [
       "((1494, 73), (1492, 73))"
      ]
     },
     "execution_count": 4,
     "metadata": {},
     "output_type": "execute_result"
    }
   ],
   "source": [
    "# check if any duplicate rows\n",
    "df.shape,df.drop_duplicates().shape"
   ]
  },
  {
   "cell_type": "markdown",
   "metadata": {},
   "source": [
    "# Train-test split"
   ]
  },
  {
   "cell_type": "code",
   "execution_count": 5,
   "metadata": {},
   "outputs": [],
   "source": [
    "train, test = train_test_split(df, test_size=0.2, random_state = 42, stratify = df['label'])"
   ]
  },
  {
   "cell_type": "code",
   "execution_count": 6,
   "metadata": {},
   "outputs": [
    {
     "data": {
      "text/plain": [
       "1    644\n",
       "0    551\n",
       "Name: label, dtype: int64"
      ]
     },
     "execution_count": 6,
     "metadata": {},
     "output_type": "execute_result"
    }
   ],
   "source": [
    "train['label'].value_counts()"
   ]
  },
  {
   "cell_type": "code",
   "execution_count": 7,
   "metadata": {},
   "outputs": [
    {
     "data": {
      "text/plain": [
       "1    0.538912\n",
       "0    0.461088\n",
       "Name: label, dtype: float64"
      ]
     },
     "execution_count": 7,
     "metadata": {},
     "output_type": "execute_result"
    }
   ],
   "source": [
    "train['label'].value_counts()/train.shape[0]"
   ]
  },
  {
   "cell_type": "code",
   "execution_count": 8,
   "metadata": {},
   "outputs": [
    {
     "data": {
      "text/plain": [
       "1    161\n",
       "0    138\n",
       "Name: label, dtype: int64"
      ]
     },
     "execution_count": 8,
     "metadata": {},
     "output_type": "execute_result"
    }
   ],
   "source": [
    "test['label'].value_counts()"
   ]
  },
  {
   "cell_type": "code",
   "execution_count": 9,
   "metadata": {},
   "outputs": [
    {
     "data": {
      "text/plain": [
       "1    0.538462\n",
       "0    0.461538\n",
       "Name: label, dtype: float64"
      ]
     },
     "execution_count": 9,
     "metadata": {},
     "output_type": "execute_result"
    }
   ],
   "source": [
    "test['label'].value_counts()/test.shape[0]"
   ]
  },
  {
   "cell_type": "code",
   "execution_count": 10,
   "metadata": {},
   "outputs": [],
   "source": [
    "X_train = train.iloc[:,:-1].reset_index(drop=True)\n",
    "y_train = train.iloc[:,-1].reset_index(drop=True)\n",
    "\n",
    "X_test = test.iloc[:,:-1].reset_index(drop=True)\n",
    "y_test = test.iloc[:,-1].reset_index(drop=True)"
   ]
  },
  {
   "cell_type": "code",
   "execution_count": 11,
   "metadata": {},
   "outputs": [],
   "source": [
    "features = pd.DataFrame(list(X_train.columns.values))"
   ]
  },
  {
   "cell_type": "code",
   "execution_count": 12,
   "metadata": {},
   "outputs": [
    {
     "data": {
      "text/plain": [
       "72"
      ]
     },
     "execution_count": 12,
     "metadata": {},
     "output_type": "execute_result"
    }
   ],
   "source": [
    "len(features)"
   ]
  },
  {
   "cell_type": "code",
   "execution_count": 13,
   "metadata": {},
   "outputs": [
    {
     "data": {
      "text/html": [
       "<div>\n",
       "<style scoped>\n",
       "    .dataframe tbody tr th:only-of-type {\n",
       "        vertical-align: middle;\n",
       "    }\n",
       "\n",
       "    .dataframe tbody tr th {\n",
       "        vertical-align: top;\n",
       "    }\n",
       "\n",
       "    .dataframe thead th {\n",
       "        text-align: right;\n",
       "    }\n",
       "</style>\n",
       "<table border=\"1\" class=\"dataframe\">\n",
       "  <thead>\n",
       "    <tr style=\"text-align: right;\">\n",
       "      <th></th>\n",
       "      <th>0</th>\n",
       "      <th>1</th>\n",
       "      <th>2</th>\n",
       "      <th>3</th>\n",
       "      <th>4</th>\n",
       "      <th>5</th>\n",
       "      <th>6</th>\n",
       "      <th>7</th>\n",
       "      <th>8</th>\n",
       "      <th>9</th>\n",
       "      <th>...</th>\n",
       "      <th>62</th>\n",
       "      <th>63</th>\n",
       "      <th>64</th>\n",
       "      <th>65</th>\n",
       "      <th>66</th>\n",
       "      <th>67</th>\n",
       "      <th>68</th>\n",
       "      <th>69</th>\n",
       "      <th>70</th>\n",
       "      <th>71</th>\n",
       "    </tr>\n",
       "  </thead>\n",
       "  <tbody>\n",
       "    <tr>\n",
       "      <th>0</th>\n",
       "      <td>2.944439</td>\n",
       "      <td>7</td>\n",
       "      <td>1</td>\n",
       "      <td>-0.077992</td>\n",
       "      <td>-0.000328</td>\n",
       "      <td>0.000319</td>\n",
       "      <td>-0.036379</td>\n",
       "      <td>0.058748</td>\n",
       "      <td>0.003451</td>\n",
       "      <td>2.944439</td>\n",
       "      <td>...</td>\n",
       "      <td>0.000004</td>\n",
       "      <td>6.688355</td>\n",
       "      <td>462</td>\n",
       "      <td>460</td>\n",
       "      <td>-0.000394</td>\n",
       "      <td>-0.000008</td>\n",
       "      <td>0.000371</td>\n",
       "      <td>-0.000003</td>\n",
       "      <td>0.000828</td>\n",
       "      <td>6.849061e-07</td>\n",
       "    </tr>\n",
       "    <tr>\n",
       "      <th>1</th>\n",
       "      <td>2.944439</td>\n",
       "      <td>9</td>\n",
       "      <td>1</td>\n",
       "      <td>-0.001595</td>\n",
       "      <td>0.001238</td>\n",
       "      <td>0.313595</td>\n",
       "      <td>0.124417</td>\n",
       "      <td>0.307404</td>\n",
       "      <td>0.094497</td>\n",
       "      <td>2.944439</td>\n",
       "      <td>...</td>\n",
       "      <td>0.010545</td>\n",
       "      <td>6.688355</td>\n",
       "      <td>497</td>\n",
       "      <td>497</td>\n",
       "      <td>-0.025454</td>\n",
       "      <td>0.000767</td>\n",
       "      <td>0.025156</td>\n",
       "      <td>-0.000018</td>\n",
       "      <td>0.037152</td>\n",
       "      <td>1.380270e-03</td>\n",
       "    </tr>\n",
       "    <tr>\n",
       "      <th>2</th>\n",
       "      <td>2.944439</td>\n",
       "      <td>10</td>\n",
       "      <td>1</td>\n",
       "      <td>-0.001734</td>\n",
       "      <td>0.005142</td>\n",
       "      <td>0.036282</td>\n",
       "      <td>0.012328</td>\n",
       "      <td>0.018987</td>\n",
       "      <td>0.000360</td>\n",
       "      <td>2.944439</td>\n",
       "      <td>...</td>\n",
       "      <td>0.000214</td>\n",
       "      <td>6.688355</td>\n",
       "      <td>615</td>\n",
       "      <td>615</td>\n",
       "      <td>-0.001735</td>\n",
       "      <td>-0.000039</td>\n",
       "      <td>0.001816</td>\n",
       "      <td>-0.000004</td>\n",
       "      <td>0.004100</td>\n",
       "      <td>1.681127e-05</td>\n",
       "    </tr>\n",
       "    <tr>\n",
       "      <th>3</th>\n",
       "      <td>2.944439</td>\n",
       "      <td>5</td>\n",
       "      <td>1</td>\n",
       "      <td>-0.006250</td>\n",
       "      <td>0.000207</td>\n",
       "      <td>0.315815</td>\n",
       "      <td>0.084383</td>\n",
       "      <td>0.282924</td>\n",
       "      <td>0.080046</td>\n",
       "      <td>2.944439</td>\n",
       "      <td>...</td>\n",
       "      <td>0.004197</td>\n",
       "      <td>6.688355</td>\n",
       "      <td>453</td>\n",
       "      <td>453</td>\n",
       "      <td>-0.010819</td>\n",
       "      <td>0.000106</td>\n",
       "      <td>0.011225</td>\n",
       "      <td>-0.000011</td>\n",
       "      <td>0.019052</td>\n",
       "      <td>3.629776e-04</td>\n",
       "    </tr>\n",
       "    <tr>\n",
       "      <th>4</th>\n",
       "      <td>2.944439</td>\n",
       "      <td>8</td>\n",
       "      <td>1</td>\n",
       "      <td>-2.803438</td>\n",
       "      <td>-0.008478</td>\n",
       "      <td>0.007851</td>\n",
       "      <td>-1.256433</td>\n",
       "      <td>1.960366</td>\n",
       "      <td>3.843035</td>\n",
       "      <td>2.944439</td>\n",
       "      <td>...</td>\n",
       "      <td>0.009636</td>\n",
       "      <td>6.688355</td>\n",
       "      <td>600</td>\n",
       "      <td>600</td>\n",
       "      <td>-0.027457</td>\n",
       "      <td>-0.000592</td>\n",
       "      <td>0.027881</td>\n",
       "      <td>0.000065</td>\n",
       "      <td>0.052705</td>\n",
       "      <td>2.777863e-03</td>\n",
       "    </tr>\n",
       "  </tbody>\n",
       "</table>\n",
       "<p>5 rows × 72 columns</p>\n",
       "</div>"
      ],
      "text/plain": [
       "          0   1  2         3         4         5         6         7  \\\n",
       "0  2.944439   7  1 -0.077992 -0.000328  0.000319 -0.036379  0.058748   \n",
       "1  2.944439   9  1 -0.001595  0.001238  0.313595  0.124417  0.307404   \n",
       "2  2.944439  10  1 -0.001734  0.005142  0.036282  0.012328  0.018987   \n",
       "3  2.944439   5  1 -0.006250  0.000207  0.315815  0.084383  0.282924   \n",
       "4  2.944439   8  1 -2.803438 -0.008478  0.007851 -1.256433  1.960366   \n",
       "\n",
       "          8         9  ...        62        63   64   65        66        67  \\\n",
       "0  0.003451  2.944439  ...  0.000004  6.688355  462  460 -0.000394 -0.000008   \n",
       "1  0.094497  2.944439  ...  0.010545  6.688355  497  497 -0.025454  0.000767   \n",
       "2  0.000360  2.944439  ...  0.000214  6.688355  615  615 -0.001735 -0.000039   \n",
       "3  0.080046  2.944439  ...  0.004197  6.688355  453  453 -0.010819  0.000106   \n",
       "4  3.843035  2.944439  ...  0.009636  6.688355  600  600 -0.027457 -0.000592   \n",
       "\n",
       "         68        69        70            71  \n",
       "0  0.000371 -0.000003  0.000828  6.849061e-07  \n",
       "1  0.025156 -0.000018  0.037152  1.380270e-03  \n",
       "2  0.001816 -0.000004  0.004100  1.681127e-05  \n",
       "3  0.011225 -0.000011  0.019052  3.629776e-04  \n",
       "4  0.027881  0.000065  0.052705  2.777863e-03  \n",
       "\n",
       "[5 rows x 72 columns]"
      ]
     },
     "execution_count": 13,
     "metadata": {},
     "output_type": "execute_result"
    }
   ],
   "source": [
    "X_train.head()"
   ]
  },
  {
   "cell_type": "code",
   "execution_count": 14,
   "metadata": {},
   "outputs": [
    {
     "data": {
      "text/plain": [
       "(1195, 72)"
      ]
     },
     "execution_count": 14,
     "metadata": {},
     "output_type": "execute_result"
    }
   ],
   "source": [
    "X_train.shape"
   ]
  },
  {
   "cell_type": "markdown",
   "metadata": {},
   "source": [
    "# Filter Methods for Feature Selection"
   ]
  },
  {
   "cell_type": "markdown",
   "metadata": {},
   "source": [
    "### 1. Pearson's Correlation"
   ]
  },
  {
   "cell_type": "code",
   "execution_count": 15,
   "metadata": {},
   "outputs": [
    {
     "name": "stdout",
     "output_type": "stream",
     "text": [
      "44 features selected\n"
     ]
    }
   ],
   "source": [
    "# Create correlation matrix\n",
    "corr_matrix = X_train.corr().abs()\n",
    "\n",
    "# Select upper triangle of correlation matrix\n",
    "upper = corr_matrix.where(np.triu(np.ones(corr_matrix.shape), k=1).astype(np.bool))\n",
    "\n",
    "# Find index of feature columns with correlation greater than 0.9\n",
    "to_drop = [column for column in upper.columns if any(upper[column] > 0.9)]\n",
    "\n",
    "# Drop features \n",
    "X_train = X_train.drop(to_drop, axis=1)\n",
    "X_test = X_test.drop(to_drop, axis=1)\n",
    "\n",
    "print(len(features)-len(to_drop), 'features selected')"
   ]
  },
  {
   "cell_type": "code",
   "execution_count": 16,
   "metadata": {},
   "outputs": [
    {
     "data": {
      "text/html": [
       "<div>\n",
       "<style scoped>\n",
       "    .dataframe tbody tr th:only-of-type {\n",
       "        vertical-align: middle;\n",
       "    }\n",
       "\n",
       "    .dataframe tbody tr th {\n",
       "        vertical-align: top;\n",
       "    }\n",
       "\n",
       "    .dataframe thead th {\n",
       "        text-align: right;\n",
       "    }\n",
       "</style>\n",
       "<table border=\"1\" class=\"dataframe\">\n",
       "  <thead>\n",
       "    <tr style=\"text-align: right;\">\n",
       "      <th></th>\n",
       "      <th>0</th>\n",
       "      <th>1</th>\n",
       "      <th>2</th>\n",
       "      <th>3</th>\n",
       "      <th>4</th>\n",
       "      <th>5</th>\n",
       "      <th>6</th>\n",
       "      <th>7</th>\n",
       "      <th>10</th>\n",
       "      <th>11</th>\n",
       "      <th>...</th>\n",
       "      <th>49</th>\n",
       "      <th>51</th>\n",
       "      <th>55</th>\n",
       "      <th>57</th>\n",
       "      <th>58</th>\n",
       "      <th>60</th>\n",
       "      <th>64</th>\n",
       "      <th>66</th>\n",
       "      <th>67</th>\n",
       "      <th>69</th>\n",
       "    </tr>\n",
       "  </thead>\n",
       "  <tbody>\n",
       "    <tr>\n",
       "      <th>0</th>\n",
       "      <td>2.944439</td>\n",
       "      <td>7</td>\n",
       "      <td>1</td>\n",
       "      <td>-0.077992</td>\n",
       "      <td>-0.000328</td>\n",
       "      <td>0.000319</td>\n",
       "      <td>-0.036379</td>\n",
       "      <td>0.058748</td>\n",
       "      <td>7</td>\n",
       "      <td>2</td>\n",
       "      <td>...</td>\n",
       "      <td>-0.000009</td>\n",
       "      <td>-0.000066</td>\n",
       "      <td>240</td>\n",
       "      <td>-0.000808</td>\n",
       "      <td>-0.000031</td>\n",
       "      <td>-0.000022</td>\n",
       "      <td>462</td>\n",
       "      <td>-0.000394</td>\n",
       "      <td>-0.000008</td>\n",
       "      <td>-0.000003</td>\n",
       "    </tr>\n",
       "    <tr>\n",
       "      <th>1</th>\n",
       "      <td>2.944439</td>\n",
       "      <td>9</td>\n",
       "      <td>1</td>\n",
       "      <td>-0.001595</td>\n",
       "      <td>0.001238</td>\n",
       "      <td>0.313595</td>\n",
       "      <td>0.124417</td>\n",
       "      <td>0.307404</td>\n",
       "      <td>9</td>\n",
       "      <td>8</td>\n",
       "      <td>...</td>\n",
       "      <td>0.008028</td>\n",
       "      <td>0.001701</td>\n",
       "      <td>281</td>\n",
       "      <td>-0.065152</td>\n",
       "      <td>0.000881</td>\n",
       "      <td>0.001589</td>\n",
       "      <td>497</td>\n",
       "      <td>-0.025454</td>\n",
       "      <td>0.000767</td>\n",
       "      <td>-0.000018</td>\n",
       "    </tr>\n",
       "    <tr>\n",
       "      <th>2</th>\n",
       "      <td>2.944439</td>\n",
       "      <td>10</td>\n",
       "      <td>1</td>\n",
       "      <td>-0.001734</td>\n",
       "      <td>0.005142</td>\n",
       "      <td>0.036282</td>\n",
       "      <td>0.012328</td>\n",
       "      <td>0.018987</td>\n",
       "      <td>9</td>\n",
       "      <td>8</td>\n",
       "      <td>...</td>\n",
       "      <td>0.002585</td>\n",
       "      <td>-0.000058</td>\n",
       "      <td>230</td>\n",
       "      <td>-0.005999</td>\n",
       "      <td>-0.000389</td>\n",
       "      <td>-0.000060</td>\n",
       "      <td>615</td>\n",
       "      <td>-0.001735</td>\n",
       "      <td>-0.000039</td>\n",
       "      <td>-0.000004</td>\n",
       "    </tr>\n",
       "    <tr>\n",
       "      <th>3</th>\n",
       "      <td>2.944439</td>\n",
       "      <td>5</td>\n",
       "      <td>1</td>\n",
       "      <td>-0.006250</td>\n",
       "      <td>0.000207</td>\n",
       "      <td>0.315815</td>\n",
       "      <td>0.084383</td>\n",
       "      <td>0.282924</td>\n",
       "      <td>13</td>\n",
       "      <td>8</td>\n",
       "      <td>...</td>\n",
       "      <td>0.005752</td>\n",
       "      <td>0.002153</td>\n",
       "      <td>332</td>\n",
       "      <td>-0.042558</td>\n",
       "      <td>0.003102</td>\n",
       "      <td>0.000479</td>\n",
       "      <td>453</td>\n",
       "      <td>-0.010819</td>\n",
       "      <td>0.000106</td>\n",
       "      <td>-0.000011</td>\n",
       "    </tr>\n",
       "    <tr>\n",
       "      <th>4</th>\n",
       "      <td>2.944439</td>\n",
       "      <td>8</td>\n",
       "      <td>1</td>\n",
       "      <td>-2.803438</td>\n",
       "      <td>-0.008478</td>\n",
       "      <td>0.007851</td>\n",
       "      <td>-1.256433</td>\n",
       "      <td>1.960366</td>\n",
       "      <td>12</td>\n",
       "      <td>4</td>\n",
       "      <td>...</td>\n",
       "      <td>-0.008950</td>\n",
       "      <td>0.000728</td>\n",
       "      <td>220</td>\n",
       "      <td>-0.061601</td>\n",
       "      <td>0.001126</td>\n",
       "      <td>0.001962</td>\n",
       "      <td>600</td>\n",
       "      <td>-0.027457</td>\n",
       "      <td>-0.000592</td>\n",
       "      <td>0.000065</td>\n",
       "    </tr>\n",
       "  </tbody>\n",
       "</table>\n",
       "<p>5 rows × 44 columns</p>\n",
       "</div>"
      ],
      "text/plain": [
       "          0   1  2         3         4         5         6         7  10  11  \\\n",
       "0  2.944439   7  1 -0.077992 -0.000328  0.000319 -0.036379  0.058748   7   2   \n",
       "1  2.944439   9  1 -0.001595  0.001238  0.313595  0.124417  0.307404   9   8   \n",
       "2  2.944439  10  1 -0.001734  0.005142  0.036282  0.012328  0.018987   9   8   \n",
       "3  2.944439   5  1 -0.006250  0.000207  0.315815  0.084383  0.282924  13   8   \n",
       "4  2.944439   8  1 -2.803438 -0.008478  0.007851 -1.256433  1.960366  12   4   \n",
       "\n",
       "   ...        49        51   55        57        58        60   64        66  \\\n",
       "0  ... -0.000009 -0.000066  240 -0.000808 -0.000031 -0.000022  462 -0.000394   \n",
       "1  ...  0.008028  0.001701  281 -0.065152  0.000881  0.001589  497 -0.025454   \n",
       "2  ...  0.002585 -0.000058  230 -0.005999 -0.000389 -0.000060  615 -0.001735   \n",
       "3  ...  0.005752  0.002153  332 -0.042558  0.003102  0.000479  453 -0.010819   \n",
       "4  ... -0.008950  0.000728  220 -0.061601  0.001126  0.001962  600 -0.027457   \n",
       "\n",
       "         67        69  \n",
       "0 -0.000008 -0.000003  \n",
       "1  0.000767 -0.000018  \n",
       "2 -0.000039 -0.000004  \n",
       "3  0.000106 -0.000011  \n",
       "4 -0.000592  0.000065  \n",
       "\n",
       "[5 rows x 44 columns]"
      ]
     },
     "execution_count": 16,
     "metadata": {},
     "output_type": "execute_result"
    }
   ],
   "source": [
    "X_train.head()"
   ]
  },
  {
   "cell_type": "code",
   "execution_count": 17,
   "metadata": {},
   "outputs": [
    {
     "data": {
      "text/plain": [
       "(1195, 44)"
      ]
     },
     "execution_count": 17,
     "metadata": {},
     "output_type": "execute_result"
    }
   ],
   "source": [
    "X_train.shape"
   ]
  },
  {
   "cell_type": "markdown",
   "metadata": {},
   "source": [
    "### 2. Variance Threshold"
   ]
  },
  {
   "cell_type": "code",
   "execution_count": 18,
   "metadata": {},
   "outputs": [
    {
     "name": "stdout",
     "output_type": "stream",
     "text": [
      "21 features selected\n"
     ]
    }
   ],
   "source": [
    "selector = VarianceThreshold(threshold=0.01).fit(X_train) # variance 1%\n",
    "\n",
    "f = X_train.columns[selector.get_support(indices=True)].tolist()\n",
    "print(len(f), 'features selected')"
   ]
  },
  {
   "cell_type": "code",
   "execution_count": 19,
   "metadata": {},
   "outputs": [],
   "source": [
    "# Renew Dataset\n",
    "X_train = pd.DataFrame(selector.transform(X_train),columns=f)\n",
    "X_test = pd.DataFrame(selector.transform(X_test),columns=f)"
   ]
  },
  {
   "cell_type": "code",
   "execution_count": 20,
   "metadata": {},
   "outputs": [
    {
     "data": {
      "text/plain": [
       "(1195, 21)"
      ]
     },
     "execution_count": 20,
     "metadata": {},
     "output_type": "execute_result"
    }
   ],
   "source": [
    "X_train.shape"
   ]
  },
  {
   "cell_type": "code",
   "execution_count": 21,
   "metadata": {},
   "outputs": [
    {
     "data": {
      "text/html": [
       "<div>\n",
       "<style scoped>\n",
       "    .dataframe tbody tr th:only-of-type {\n",
       "        vertical-align: middle;\n",
       "    }\n",
       "\n",
       "    .dataframe tbody tr th {\n",
       "        vertical-align: top;\n",
       "    }\n",
       "\n",
       "    .dataframe thead th {\n",
       "        text-align: right;\n",
       "    }\n",
       "</style>\n",
       "<table border=\"1\" class=\"dataframe\">\n",
       "  <thead>\n",
       "    <tr style=\"text-align: right;\">\n",
       "      <th></th>\n",
       "      <th>1</th>\n",
       "      <th>2</th>\n",
       "      <th>3</th>\n",
       "      <th>5</th>\n",
       "      <th>6</th>\n",
       "      <th>7</th>\n",
       "      <th>10</th>\n",
       "      <th>11</th>\n",
       "      <th>19</th>\n",
       "      <th>20</th>\n",
       "      <th>...</th>\n",
       "      <th>23</th>\n",
       "      <th>25</th>\n",
       "      <th>28</th>\n",
       "      <th>30</th>\n",
       "      <th>32</th>\n",
       "      <th>34</th>\n",
       "      <th>37</th>\n",
       "      <th>46</th>\n",
       "      <th>55</th>\n",
       "      <th>64</th>\n",
       "    </tr>\n",
       "  </thead>\n",
       "  <tbody>\n",
       "    <tr>\n",
       "      <th>0</th>\n",
       "      <td>7.0</td>\n",
       "      <td>1.0</td>\n",
       "      <td>-0.077992</td>\n",
       "      <td>0.000319</td>\n",
       "      <td>-0.036379</td>\n",
       "      <td>0.058748</td>\n",
       "      <td>7.0</td>\n",
       "      <td>2.0</td>\n",
       "      <td>26.0</td>\n",
       "      <td>20.0</td>\n",
       "      <td>...</td>\n",
       "      <td>0.008464</td>\n",
       "      <td>0.016168</td>\n",
       "      <td>30.0</td>\n",
       "      <td>-0.005274</td>\n",
       "      <td>0.006649</td>\n",
       "      <td>0.013018</td>\n",
       "      <td>82.0</td>\n",
       "      <td>100.0</td>\n",
       "      <td>240.0</td>\n",
       "      <td>462.0</td>\n",
       "    </tr>\n",
       "    <tr>\n",
       "      <th>1</th>\n",
       "      <td>9.0</td>\n",
       "      <td>1.0</td>\n",
       "      <td>-0.001595</td>\n",
       "      <td>0.313595</td>\n",
       "      <td>0.124417</td>\n",
       "      <td>0.307404</td>\n",
       "      <td>9.0</td>\n",
       "      <td>8.0</td>\n",
       "      <td>7.0</td>\n",
       "      <td>8.0</td>\n",
       "      <td>...</td>\n",
       "      <td>0.123918</td>\n",
       "      <td>0.192525</td>\n",
       "      <td>31.0</td>\n",
       "      <td>-0.082278</td>\n",
       "      <td>0.078720</td>\n",
       "      <td>0.165879</td>\n",
       "      <td>43.0</td>\n",
       "      <td>95.0</td>\n",
       "      <td>281.0</td>\n",
       "      <td>497.0</td>\n",
       "    </tr>\n",
       "    <tr>\n",
       "      <th>2</th>\n",
       "      <td>10.0</td>\n",
       "      <td>1.0</td>\n",
       "      <td>-0.001734</td>\n",
       "      <td>0.036282</td>\n",
       "      <td>0.012328</td>\n",
       "      <td>0.018987</td>\n",
       "      <td>9.0</td>\n",
       "      <td>8.0</td>\n",
       "      <td>13.0</td>\n",
       "      <td>12.0</td>\n",
       "      <td>...</td>\n",
       "      <td>0.008577</td>\n",
       "      <td>0.058149</td>\n",
       "      <td>29.0</td>\n",
       "      <td>-0.019997</td>\n",
       "      <td>0.020463</td>\n",
       "      <td>0.042823</td>\n",
       "      <td>79.0</td>\n",
       "      <td>105.0</td>\n",
       "      <td>230.0</td>\n",
       "      <td>615.0</td>\n",
       "    </tr>\n",
       "    <tr>\n",
       "      <th>3</th>\n",
       "      <td>5.0</td>\n",
       "      <td>1.0</td>\n",
       "      <td>-0.006250</td>\n",
       "      <td>0.315815</td>\n",
       "      <td>0.084383</td>\n",
       "      <td>0.282924</td>\n",
       "      <td>13.0</td>\n",
       "      <td>8.0</td>\n",
       "      <td>11.0</td>\n",
       "      <td>4.0</td>\n",
       "      <td>...</td>\n",
       "      <td>0.067482</td>\n",
       "      <td>0.124041</td>\n",
       "      <td>20.0</td>\n",
       "      <td>-0.181978</td>\n",
       "      <td>0.057379</td>\n",
       "      <td>0.641685</td>\n",
       "      <td>82.0</td>\n",
       "      <td>65.0</td>\n",
       "      <td>332.0</td>\n",
       "      <td>453.0</td>\n",
       "    </tr>\n",
       "    <tr>\n",
       "      <th>4</th>\n",
       "      <td>8.0</td>\n",
       "      <td>1.0</td>\n",
       "      <td>-2.803438</td>\n",
       "      <td>0.007851</td>\n",
       "      <td>-1.256433</td>\n",
       "      <td>1.960366</td>\n",
       "      <td>12.0</td>\n",
       "      <td>4.0</td>\n",
       "      <td>10.0</td>\n",
       "      <td>6.0</td>\n",
       "      <td>...</td>\n",
       "      <td>0.039321</td>\n",
       "      <td>0.497786</td>\n",
       "      <td>44.0</td>\n",
       "      <td>-0.195744</td>\n",
       "      <td>0.202545</td>\n",
       "      <td>0.489706</td>\n",
       "      <td>69.0</td>\n",
       "      <td>106.0</td>\n",
       "      <td>220.0</td>\n",
       "      <td>600.0</td>\n",
       "    </tr>\n",
       "  </tbody>\n",
       "</table>\n",
       "<p>5 rows × 21 columns</p>\n",
       "</div>"
      ],
      "text/plain": [
       "      1    2         3         5         6         7    10   11    19    20  \\\n",
       "0   7.0  1.0 -0.077992  0.000319 -0.036379  0.058748   7.0  2.0  26.0  20.0   \n",
       "1   9.0  1.0 -0.001595  0.313595  0.124417  0.307404   9.0  8.0   7.0   8.0   \n",
       "2  10.0  1.0 -0.001734  0.036282  0.012328  0.018987   9.0  8.0  13.0  12.0   \n",
       "3   5.0  1.0 -0.006250  0.315815  0.084383  0.282924  13.0  8.0  11.0   4.0   \n",
       "4   8.0  1.0 -2.803438  0.007851 -1.256433  1.960366  12.0  4.0  10.0   6.0   \n",
       "\n",
       "   ...        23        25    28        30        32        34    37     46  \\\n",
       "0  ...  0.008464  0.016168  30.0 -0.005274  0.006649  0.013018  82.0  100.0   \n",
       "1  ...  0.123918  0.192525  31.0 -0.082278  0.078720  0.165879  43.0   95.0   \n",
       "2  ...  0.008577  0.058149  29.0 -0.019997  0.020463  0.042823  79.0  105.0   \n",
       "3  ...  0.067482  0.124041  20.0 -0.181978  0.057379  0.641685  82.0   65.0   \n",
       "4  ...  0.039321  0.497786  44.0 -0.195744  0.202545  0.489706  69.0  106.0   \n",
       "\n",
       "      55     64  \n",
       "0  240.0  462.0  \n",
       "1  281.0  497.0  \n",
       "2  230.0  615.0  \n",
       "3  332.0  453.0  \n",
       "4  220.0  600.0  \n",
       "\n",
       "[5 rows x 21 columns]"
      ]
     },
     "execution_count": 21,
     "metadata": {},
     "output_type": "execute_result"
    }
   ],
   "source": [
    "X_train.head()"
   ]
  },
  {
   "cell_type": "markdown",
   "metadata": {},
   "source": [
    "# Drop duplicate rows"
   ]
  },
  {
   "cell_type": "code",
   "execution_count": 22,
   "metadata": {},
   "outputs": [
    {
     "name": "stdout",
     "output_type": "stream",
     "text": [
      "(1195, 22)\n",
      "(1194, 22)\n"
     ]
    }
   ],
   "source": [
    "train2 = X_train.copy()\n",
    "train2['label'] = y_train\n",
    "print(train2.shape)\n",
    "train2 = train2.drop_duplicates().reset_index(drop=True)\n",
    "print(train2.shape)"
   ]
  },
  {
   "cell_type": "code",
   "execution_count": 23,
   "metadata": {},
   "outputs": [
    {
     "name": "stdout",
     "output_type": "stream",
     "text": [
      "(299, 22)\n",
      "(299, 22)\n"
     ]
    }
   ],
   "source": [
    "test2 = X_test.copy()\n",
    "test2['label'] = y_test\n",
    "print(test2.shape)\n",
    "test2 = test2.drop_duplicates().reset_index(drop=True)\n",
    "print(test2.shape)"
   ]
  },
  {
   "cell_type": "code",
   "execution_count": 24,
   "metadata": {},
   "outputs": [],
   "source": [
    "X_train = train2.iloc[:,:-1].reset_index(drop=True)\n",
    "y_train = train2.iloc[:,-1].reset_index(drop=True)\n",
    "\n",
    "X_test = test2.iloc[:,:-1].reset_index(drop=True)\n",
    "y_test = test2.iloc[:,-1].reset_index(drop=True)"
   ]
  },
  {
   "cell_type": "markdown",
   "metadata": {},
   "source": [
    "# Save data"
   ]
  },
  {
   "cell_type": "code",
   "execution_count": 25,
   "metadata": {},
   "outputs": [],
   "source": [
    "pd.concat([X_train,y_train],axis=1).to_csv('data/Wavelet_train_data.csv',index=False)\n",
    "test2.to_csv('data/Wavelet_test_data.csv',index=False)"
   ]
  }
 ],
 "metadata": {
  "kernelspec": {
   "display_name": "Python 3 (ipykernel)",
   "language": "python",
   "name": "python3"
  },
  "language_info": {
   "codemirror_mode": {
    "name": "ipython",
    "version": 3
   },
   "file_extension": ".py",
   "mimetype": "text/x-python",
   "name": "python",
   "nbconvert_exporter": "python",
   "pygments_lexer": "ipython3",
   "version": "3.7.0"
  }
 },
 "nbformat": 4,
 "nbformat_minor": 4
}
