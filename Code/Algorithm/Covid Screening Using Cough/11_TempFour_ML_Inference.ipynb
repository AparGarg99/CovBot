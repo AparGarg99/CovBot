{
 "cells": [
  {
   "cell_type": "code",
   "execution_count": 1,
   "id": "ca74168a",
   "metadata": {},
   "outputs": [],
   "source": [
    "# Import Packages\n",
    "\n",
    "from packages import *\n",
    "%matplotlib inline"
   ]
  },
  {
   "cell_type": "code",
   "execution_count": 2,
   "id": "992972d3",
   "metadata": {},
   "outputs": [],
   "source": [
    "def build_predictions(audio_dir):\n",
    "    fn_prob = {}\n",
    "    \n",
    "    for fn in os.listdir(audio_dir):\n",
    "        print(fn)\n",
    "        \n",
    "        rate, wav = wavfile.read(os.path.join(audio_dir,fn))\n",
    "            \n",
    "        y_pred = []\n",
    "        \n",
    "        step=int(rate/10)\n",
    "        \n",
    "        for i in range(0,wav.shape[0]-step):\n",
    "            \n",
    "            # crop duration\n",
    "            sample = wav[i:i+step]\n",
    "            \n",
    "            # feature extraction\n",
    "            mt, st, mt_n = aF.mid_feature_extraction(sample, rate, \n",
    "                                                 mid_window = 1 * rate, \n",
    "                                                 mid_step = 1 * rate, \n",
    "                                                 short_window = 0.025 * rate, \n",
    "                                                 short_step = 0.010 * rate)\n",
    "            \n",
    "            # create dataframe\n",
    "            x = np.transpose(mt)\n",
    "            x = pd.DataFrame(x,columns=mt_n)\n",
    "            \n",
    "            # selection\n",
    "            x = x[col]\n",
    "            \n",
    "            # scaling\n",
    "            x = sc.transform(x)\n",
    "             \n",
    "            # prediction    \n",
    "            y_hat = model.predict(x)[0]\n",
    "            y_pred.append(y_hat)\n",
    "                    \n",
    "        fn_prob[fn] = statistics.mode(y_pred)\n",
    "        print('*'*100)\n",
    "        \n",
    "    return fn_prob"
   ]
  },
  {
   "cell_type": "code",
   "execution_count": 3,
   "id": "cd8cb3fb",
   "metadata": {},
   "outputs": [],
   "source": [
    "# load models\n",
    "sc = load('models/TempFour/std_scaler_TempFour.bin')\n",
    "model = pickle.load(open('models/TempFour/KNN_TempFour.sav', 'rb'))"
   ]
  },
  {
   "cell_type": "code",
   "execution_count": 4,
   "id": "269f908e",
   "metadata": {},
   "outputs": [],
   "source": [
    "# load dataset for feature selection\n",
    "get_columns = pd.read_csv('data/TempFour_train_data.csv')\n",
    "col = list(get_columns.columns[:-1])"
   ]
  },
  {
   "cell_type": "code",
   "execution_count": 6,
   "id": "d93da64a",
   "metadata": {
    "scrolled": false
   },
   "outputs": [
    {
     "name": "stdout",
     "output_type": "stream",
     "text": [
      "neg-0421-083-cough-m-53-0.wav\n",
      "****************************************************************************************************\n",
      "pos-0421-087-cough-f-40-5.wav\n",
      "****************************************************************************************************\n"
     ]
    },
    {
     "data": {
      "text/plain": [
       "{'neg-0421-083-cough-m-53-0.wav': 0, 'pos-0421-087-cough-f-40-5.wav': 1}"
      ]
     },
     "execution_count": 6,
     "metadata": {},
     "output_type": "execute_result"
    }
   ],
   "source": [
    "# prediction\n",
    "fn_prob = build_predictions('test_file')\n",
    "fn_prob"
   ]
  }
 ],
 "metadata": {
  "kernelspec": {
   "display_name": "Python 3 (ipykernel)",
   "language": "python",
   "name": "python3"
  },
  "language_info": {
   "codemirror_mode": {
    "name": "ipython",
    "version": 3
   },
   "file_extension": ".py",
   "mimetype": "text/x-python",
   "name": "python",
   "nbconvert_exporter": "python",
   "pygments_lexer": "ipython3",
   "version": "3.7.0"
  }
 },
 "nbformat": 4,
 "nbformat_minor": 5
}
