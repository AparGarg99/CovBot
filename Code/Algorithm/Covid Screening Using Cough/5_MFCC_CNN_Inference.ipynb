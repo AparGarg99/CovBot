{
 "cells": [
  {
   "cell_type": "code",
   "execution_count": 1,
   "id": "ca74168a",
   "metadata": {},
   "outputs": [],
   "source": [
    "# Import Packages\n",
    "\n",
    "from packages import *\n",
    "%matplotlib inline"
   ]
  },
  {
   "cell_type": "code",
   "execution_count": 2,
   "id": "992972d3",
   "metadata": {},
   "outputs": [],
   "source": [
    "def build_predictions(audio_dir):\n",
    "    \n",
    "    fn_prob = {}\n",
    "     \n",
    "    for fn in os.listdir(audio_dir):\n",
    "        print(fn)\n",
    "        \n",
    "        rate, wav = wavfile.read(os.path.join(audio_dir,fn))\n",
    "      \n",
    "        y_pred = []\n",
    "        \n",
    "        for i in range(0,wav.shape[0]-config.step):\n",
    "            sample = wav[i:i+config.step] # choose sample of size config.step\n",
    "            x = mfcc(sample, rate,\n",
    "                    numcep=config.nfeat, nfilt=config.nfilt, nfft=config.nfft)\n",
    "            x = (x-config.min)/(config.max-config.min)\n",
    "            \n",
    "            if config.mode == 'conv':\n",
    "                x = x.reshape(1, x.shape[0], x.shape[1], 1)\n",
    "            elif config.mode == 'time':\n",
    "                x = np.expand_dims(x, axis=0)\n",
    "                \n",
    "            y_hat = model.predict(x)[0][0]\n",
    "            \n",
    "            y_pred.append(round(y_hat,0))\n",
    "            \n",
    "        fn_prob[fn] = int(statistics.mode(y_pred))\n",
    "        print('*'*100)\n",
    "        \n",
    "    return fn_prob"
   ]
  },
  {
   "cell_type": "code",
   "execution_count": 4,
   "id": "6ff11088",
   "metadata": {},
   "outputs": [],
   "source": [
    "# get configurations of the saved model\n",
    "\n",
    "p_path = os.path.join('pickles','conv.p')\n",
    "with open(p_path,'rb') as handle:\n",
    "    config = pickle.load(handle)"
   ]
  },
  {
   "cell_type": "code",
   "execution_count": 5,
   "id": "f254541a",
   "metadata": {},
   "outputs": [],
   "source": [
    "# get the saved model\n",
    "\n",
    "model = load_model(config.model_path)"
   ]
  },
  {
   "cell_type": "code",
   "execution_count": 6,
   "id": "d93da64a",
   "metadata": {
    "scrolled": false
   },
   "outputs": [
    {
     "name": "stdout",
     "output_type": "stream",
     "text": [
      "neg-0421-083-cough-m-53-0.wav\n",
      "****************************************************************************************************\n",
      "pos-0421-087-cough-f-40-5.wav\n",
      "****************************************************************************************************\n"
     ]
    },
    {
     "data": {
      "text/plain": [
       "{'neg-0421-083-cough-m-53-0.wav': 0, 'pos-0421-087-cough-f-40-5.wav': 1}"
      ]
     },
     "execution_count": 6,
     "metadata": {},
     "output_type": "execute_result"
    }
   ],
   "source": [
    "# prediction\n",
    "\n",
    "fn_prob = build_predictions('test_file')\n",
    "fn_prob"
   ]
  }
 ],
 "metadata": {
  "kernelspec": {
   "display_name": "Python 3 (ipykernel)",
   "language": "python",
   "name": "python3"
  },
  "language_info": {
   "codemirror_mode": {
    "name": "ipython",
    "version": 3
   },
   "file_extension": ".py",
   "mimetype": "text/x-python",
   "name": "python",
   "nbconvert_exporter": "python",
   "pygments_lexer": "ipython3",
   "version": "3.7.0"
  }
 },
 "nbformat": 4,
 "nbformat_minor": 5
}
