{
 "cells": [
  {
   "cell_type": "markdown",
   "metadata": {},
   "source": [
    "# Import Packages"
   ]
  },
  {
   "cell_type": "code",
   "execution_count": 1,
   "metadata": {},
   "outputs": [],
   "source": [
    "from packages import *\n",
    "%matplotlib inline"
   ]
  },
  {
   "cell_type": "markdown",
   "metadata": {},
   "source": [
    "# Read Dataset"
   ]
  },
  {
   "cell_type": "code",
   "execution_count": 2,
   "metadata": {},
   "outputs": [
    {
     "data": {
      "text/html": [
       "<div>\n",
       "<style scoped>\n",
       "    .dataframe tbody tr th:only-of-type {\n",
       "        vertical-align: middle;\n",
       "    }\n",
       "\n",
       "    .dataframe tbody tr th {\n",
       "        vertical-align: top;\n",
       "    }\n",
       "\n",
       "    .dataframe thead th {\n",
       "        text-align: right;\n",
       "    }\n",
       "</style>\n",
       "<table border=\"1\" class=\"dataframe\">\n",
       "  <thead>\n",
       "    <tr style=\"text-align: right;\">\n",
       "      <th></th>\n",
       "      <th>zcr_mean</th>\n",
       "      <th>energy_mean</th>\n",
       "      <th>energy_entropy_mean</th>\n",
       "      <th>spectral_centroid_mean</th>\n",
       "      <th>spectral_spread_mean</th>\n",
       "      <th>spectral_entropy_mean</th>\n",
       "      <th>spectral_flux_mean</th>\n",
       "      <th>spectral_rolloff_mean</th>\n",
       "      <th>mfcc_1_mean</th>\n",
       "      <th>mfcc_2_mean</th>\n",
       "      <th>...</th>\n",
       "      <th>delta chroma_5_std</th>\n",
       "      <th>delta chroma_6_std</th>\n",
       "      <th>delta chroma_7_std</th>\n",
       "      <th>delta chroma_8_std</th>\n",
       "      <th>delta chroma_9_std</th>\n",
       "      <th>delta chroma_10_std</th>\n",
       "      <th>delta chroma_11_std</th>\n",
       "      <th>delta chroma_12_std</th>\n",
       "      <th>delta chroma_std_std</th>\n",
       "      <th>label</th>\n",
       "    </tr>\n",
       "  </thead>\n",
       "  <tbody>\n",
       "    <tr>\n",
       "      <th>0</th>\n",
       "      <td>0.230263</td>\n",
       "      <td>0.053093</td>\n",
       "      <td>3.096664</td>\n",
       "      <td>0.257470</td>\n",
       "      <td>0.191442</td>\n",
       "      <td>1.717253</td>\n",
       "      <td>0.004522</td>\n",
       "      <td>0.352500</td>\n",
       "      <td>-23.774168</td>\n",
       "      <td>0.734928</td>\n",
       "      <td>...</td>\n",
       "      <td>0.001975</td>\n",
       "      <td>0.000541</td>\n",
       "      <td>0.002048</td>\n",
       "      <td>0.001278</td>\n",
       "      <td>0.004800</td>\n",
       "      <td>0.024604</td>\n",
       "      <td>0.017330</td>\n",
       "      <td>0.001485</td>\n",
       "      <td>0.004359</td>\n",
       "      <td>0</td>\n",
       "    </tr>\n",
       "    <tr>\n",
       "      <th>1</th>\n",
       "      <td>0.150689</td>\n",
       "      <td>0.045410</td>\n",
       "      <td>2.966139</td>\n",
       "      <td>0.218944</td>\n",
       "      <td>0.201535</td>\n",
       "      <td>1.432761</td>\n",
       "      <td>0.004453</td>\n",
       "      <td>0.245000</td>\n",
       "      <td>-23.879562</td>\n",
       "      <td>1.501665</td>\n",
       "      <td>...</td>\n",
       "      <td>0.010020</td>\n",
       "      <td>0.009123</td>\n",
       "      <td>0.012284</td>\n",
       "      <td>0.000953</td>\n",
       "      <td>0.005942</td>\n",
       "      <td>0.015724</td>\n",
       "      <td>0.014974</td>\n",
       "      <td>0.001648</td>\n",
       "      <td>0.003425</td>\n",
       "      <td>0</td>\n",
       "    </tr>\n",
       "    <tr>\n",
       "      <th>2</th>\n",
       "      <td>0.185464</td>\n",
       "      <td>0.026669</td>\n",
       "      <td>3.158287</td>\n",
       "      <td>0.238257</td>\n",
       "      <td>0.191323</td>\n",
       "      <td>1.818111</td>\n",
       "      <td>0.003814</td>\n",
       "      <td>0.288750</td>\n",
       "      <td>-23.581316</td>\n",
       "      <td>0.776733</td>\n",
       "      <td>...</td>\n",
       "      <td>0.016781</td>\n",
       "      <td>0.005842</td>\n",
       "      <td>0.012063</td>\n",
       "      <td>0.001272</td>\n",
       "      <td>0.009529</td>\n",
       "      <td>0.004164</td>\n",
       "      <td>0.004134</td>\n",
       "      <td>0.001803</td>\n",
       "      <td>0.002694</td>\n",
       "      <td>1</td>\n",
       "    </tr>\n",
       "    <tr>\n",
       "      <th>3</th>\n",
       "      <td>0.339912</td>\n",
       "      <td>0.075237</td>\n",
       "      <td>3.235773</td>\n",
       "      <td>0.376918</td>\n",
       "      <td>0.234236</td>\n",
       "      <td>2.489605</td>\n",
       "      <td>0.002372</td>\n",
       "      <td>0.535000</td>\n",
       "      <td>-22.530058</td>\n",
       "      <td>0.678329</td>\n",
       "      <td>...</td>\n",
       "      <td>0.005523</td>\n",
       "      <td>0.002703</td>\n",
       "      <td>0.006831</td>\n",
       "      <td>0.002548</td>\n",
       "      <td>0.002626</td>\n",
       "      <td>0.006559</td>\n",
       "      <td>0.004813</td>\n",
       "      <td>0.002747</td>\n",
       "      <td>0.001440</td>\n",
       "      <td>1</td>\n",
       "    </tr>\n",
       "    <tr>\n",
       "      <th>4</th>\n",
       "      <td>0.090539</td>\n",
       "      <td>0.036343</td>\n",
       "      <td>3.092085</td>\n",
       "      <td>0.175022</td>\n",
       "      <td>0.200372</td>\n",
       "      <td>0.934282</td>\n",
       "      <td>0.007286</td>\n",
       "      <td>0.123125</td>\n",
       "      <td>-24.629810</td>\n",
       "      <td>2.810257</td>\n",
       "      <td>...</td>\n",
       "      <td>0.016250</td>\n",
       "      <td>0.000777</td>\n",
       "      <td>0.025196</td>\n",
       "      <td>0.000464</td>\n",
       "      <td>0.001000</td>\n",
       "      <td>0.010290</td>\n",
       "      <td>0.019469</td>\n",
       "      <td>0.000393</td>\n",
       "      <td>0.003233</td>\n",
       "      <td>1</td>\n",
       "    </tr>\n",
       "  </tbody>\n",
       "</table>\n",
       "<p>5 rows × 137 columns</p>\n",
       "</div>"
      ],
      "text/plain": [
       "   zcr_mean  energy_mean  energy_entropy_mean  spectral_centroid_mean  \\\n",
       "0  0.230263     0.053093             3.096664                0.257470   \n",
       "1  0.150689     0.045410             2.966139                0.218944   \n",
       "2  0.185464     0.026669             3.158287                0.238257   \n",
       "3  0.339912     0.075237             3.235773                0.376918   \n",
       "4  0.090539     0.036343             3.092085                0.175022   \n",
       "\n",
       "   spectral_spread_mean  spectral_entropy_mean  spectral_flux_mean  \\\n",
       "0              0.191442               1.717253            0.004522   \n",
       "1              0.201535               1.432761            0.004453   \n",
       "2              0.191323               1.818111            0.003814   \n",
       "3              0.234236               2.489605            0.002372   \n",
       "4              0.200372               0.934282            0.007286   \n",
       "\n",
       "   spectral_rolloff_mean  mfcc_1_mean  mfcc_2_mean  ...  delta chroma_5_std  \\\n",
       "0               0.352500   -23.774168     0.734928  ...            0.001975   \n",
       "1               0.245000   -23.879562     1.501665  ...            0.010020   \n",
       "2               0.288750   -23.581316     0.776733  ...            0.016781   \n",
       "3               0.535000   -22.530058     0.678329  ...            0.005523   \n",
       "4               0.123125   -24.629810     2.810257  ...            0.016250   \n",
       "\n",
       "   delta chroma_6_std  delta chroma_7_std  delta chroma_8_std  \\\n",
       "0            0.000541            0.002048            0.001278   \n",
       "1            0.009123            0.012284            0.000953   \n",
       "2            0.005842            0.012063            0.001272   \n",
       "3            0.002703            0.006831            0.002548   \n",
       "4            0.000777            0.025196            0.000464   \n",
       "\n",
       "   delta chroma_9_std  delta chroma_10_std  delta chroma_11_std  \\\n",
       "0            0.004800             0.024604             0.017330   \n",
       "1            0.005942             0.015724             0.014974   \n",
       "2            0.009529             0.004164             0.004134   \n",
       "3            0.002626             0.006559             0.004813   \n",
       "4            0.001000             0.010290             0.019469   \n",
       "\n",
       "   delta chroma_12_std  delta chroma_std_std  label  \n",
       "0             0.001485              0.004359      0  \n",
       "1             0.001648              0.003425      0  \n",
       "2             0.001803              0.002694      1  \n",
       "3             0.002747              0.001440      1  \n",
       "4             0.000393              0.003233      1  \n",
       "\n",
       "[5 rows x 137 columns]"
      ]
     },
     "execution_count": 2,
     "metadata": {},
     "output_type": "execute_result"
    }
   ],
   "source": [
    "df = pd.read_csv('data/TempFour_features.csv')\n",
    "df.head()"
   ]
  },
  {
   "cell_type": "code",
   "execution_count": 3,
   "metadata": {},
   "outputs": [
    {
     "data": {
      "text/plain": [
       "False"
      ]
     },
     "execution_count": 3,
     "metadata": {},
     "output_type": "execute_result"
    }
   ],
   "source": [
    "# check for any missing values\n",
    "df.isnull().values.any()"
   ]
  },
  {
   "cell_type": "code",
   "execution_count": 4,
   "metadata": {},
   "outputs": [
    {
     "data": {
      "text/plain": [
       "((1494, 137), (1491, 137))"
      ]
     },
     "execution_count": 4,
     "metadata": {},
     "output_type": "execute_result"
    }
   ],
   "source": [
    "# check if any duplicate rows\n",
    "df.shape,df.drop_duplicates().shape"
   ]
  },
  {
   "cell_type": "markdown",
   "metadata": {},
   "source": [
    "# Train-test split"
   ]
  },
  {
   "cell_type": "code",
   "execution_count": 5,
   "metadata": {},
   "outputs": [],
   "source": [
    "train, test = train_test_split(df, test_size=0.2, random_state = 42, stratify = df['label'])"
   ]
  },
  {
   "cell_type": "code",
   "execution_count": 6,
   "metadata": {},
   "outputs": [
    {
     "data": {
      "text/plain": [
       "1    685\n",
       "0    510\n",
       "Name: label, dtype: int64"
      ]
     },
     "execution_count": 6,
     "metadata": {},
     "output_type": "execute_result"
    }
   ],
   "source": [
    "train['label'].value_counts()"
   ]
  },
  {
   "cell_type": "code",
   "execution_count": 7,
   "metadata": {},
   "outputs": [
    {
     "data": {
      "text/plain": [
       "1    0.573222\n",
       "0    0.426778\n",
       "Name: label, dtype: float64"
      ]
     },
     "execution_count": 7,
     "metadata": {},
     "output_type": "execute_result"
    }
   ],
   "source": [
    "train['label'].value_counts()/train.shape[0]"
   ]
  },
  {
   "cell_type": "code",
   "execution_count": 8,
   "metadata": {},
   "outputs": [
    {
     "data": {
      "text/plain": [
       "1    172\n",
       "0    127\n",
       "Name: label, dtype: int64"
      ]
     },
     "execution_count": 8,
     "metadata": {},
     "output_type": "execute_result"
    }
   ],
   "source": [
    "test['label'].value_counts()"
   ]
  },
  {
   "cell_type": "code",
   "execution_count": 9,
   "metadata": {},
   "outputs": [
    {
     "data": {
      "text/plain": [
       "1    0.575251\n",
       "0    0.424749\n",
       "Name: label, dtype: float64"
      ]
     },
     "execution_count": 9,
     "metadata": {},
     "output_type": "execute_result"
    }
   ],
   "source": [
    "test['label'].value_counts()/test.shape[0]"
   ]
  },
  {
   "cell_type": "code",
   "execution_count": 10,
   "metadata": {},
   "outputs": [],
   "source": [
    "X_train = train.iloc[:,:-1].reset_index(drop=True)\n",
    "y_train = train.iloc[:,-1].reset_index(drop=True)\n",
    "\n",
    "X_test = test.iloc[:,:-1].reset_index(drop=True)\n",
    "y_test = test.iloc[:,-1].reset_index(drop=True)"
   ]
  },
  {
   "cell_type": "code",
   "execution_count": 11,
   "metadata": {},
   "outputs": [],
   "source": [
    "features = pd.DataFrame(list(X_train.columns.values))"
   ]
  },
  {
   "cell_type": "code",
   "execution_count": 12,
   "metadata": {},
   "outputs": [
    {
     "data": {
      "text/plain": [
       "136"
      ]
     },
     "execution_count": 12,
     "metadata": {},
     "output_type": "execute_result"
    }
   ],
   "source": [
    "len(features)"
   ]
  },
  {
   "cell_type": "code",
   "execution_count": 13,
   "metadata": {},
   "outputs": [
    {
     "data": {
      "text/html": [
       "<div>\n",
       "<style scoped>\n",
       "    .dataframe tbody tr th:only-of-type {\n",
       "        vertical-align: middle;\n",
       "    }\n",
       "\n",
       "    .dataframe tbody tr th {\n",
       "        vertical-align: top;\n",
       "    }\n",
       "\n",
       "    .dataframe thead th {\n",
       "        text-align: right;\n",
       "    }\n",
       "</style>\n",
       "<table border=\"1\" class=\"dataframe\">\n",
       "  <thead>\n",
       "    <tr style=\"text-align: right;\">\n",
       "      <th></th>\n",
       "      <th>zcr_mean</th>\n",
       "      <th>energy_mean</th>\n",
       "      <th>energy_entropy_mean</th>\n",
       "      <th>spectral_centroid_mean</th>\n",
       "      <th>spectral_spread_mean</th>\n",
       "      <th>spectral_entropy_mean</th>\n",
       "      <th>spectral_flux_mean</th>\n",
       "      <th>spectral_rolloff_mean</th>\n",
       "      <th>mfcc_1_mean</th>\n",
       "      <th>mfcc_2_mean</th>\n",
       "      <th>...</th>\n",
       "      <th>delta chroma_4_std</th>\n",
       "      <th>delta chroma_5_std</th>\n",
       "      <th>delta chroma_6_std</th>\n",
       "      <th>delta chroma_7_std</th>\n",
       "      <th>delta chroma_8_std</th>\n",
       "      <th>delta chroma_9_std</th>\n",
       "      <th>delta chroma_10_std</th>\n",
       "      <th>delta chroma_11_std</th>\n",
       "      <th>delta chroma_12_std</th>\n",
       "      <th>delta chroma_std_std</th>\n",
       "    </tr>\n",
       "  </thead>\n",
       "  <tbody>\n",
       "    <tr>\n",
       "      <th>0</th>\n",
       "      <td>0.187343</td>\n",
       "      <td>0.066052</td>\n",
       "      <td>3.130679</td>\n",
       "      <td>0.278414</td>\n",
       "      <td>0.228339</td>\n",
       "      <td>1.807545</td>\n",
       "      <td>0.003605</td>\n",
       "      <td>0.325625</td>\n",
       "      <td>-22.414736</td>\n",
       "      <td>1.056258</td>\n",
       "      <td>...</td>\n",
       "      <td>0.003533</td>\n",
       "      <td>0.008875</td>\n",
       "      <td>0.027232</td>\n",
       "      <td>0.024087</td>\n",
       "      <td>0.000388</td>\n",
       "      <td>0.011698</td>\n",
       "      <td>0.007820</td>\n",
       "      <td>0.006473</td>\n",
       "      <td>0.003070</td>\n",
       "      <td>0.004632</td>\n",
       "    </tr>\n",
       "    <tr>\n",
       "      <th>1</th>\n",
       "      <td>0.258459</td>\n",
       "      <td>0.060120</td>\n",
       "      <td>3.199438</td>\n",
       "      <td>0.334033</td>\n",
       "      <td>0.222802</td>\n",
       "      <td>1.714929</td>\n",
       "      <td>0.004339</td>\n",
       "      <td>0.467500</td>\n",
       "      <td>-24.128797</td>\n",
       "      <td>0.336912</td>\n",
       "      <td>...</td>\n",
       "      <td>0.002552</td>\n",
       "      <td>0.004351</td>\n",
       "      <td>0.002497</td>\n",
       "      <td>0.001976</td>\n",
       "      <td>0.000536</td>\n",
       "      <td>0.000605</td>\n",
       "      <td>0.002210</td>\n",
       "      <td>0.005989</td>\n",
       "      <td>0.002031</td>\n",
       "      <td>0.003538</td>\n",
       "    </tr>\n",
       "    <tr>\n",
       "      <th>2</th>\n",
       "      <td>0.131266</td>\n",
       "      <td>0.119377</td>\n",
       "      <td>2.980532</td>\n",
       "      <td>0.212971</td>\n",
       "      <td>0.197327</td>\n",
       "      <td>1.029854</td>\n",
       "      <td>0.007032</td>\n",
       "      <td>0.245000</td>\n",
       "      <td>-21.846666</td>\n",
       "      <td>1.619614</td>\n",
       "      <td>...</td>\n",
       "      <td>0.006277</td>\n",
       "      <td>0.017536</td>\n",
       "      <td>0.009660</td>\n",
       "      <td>0.050218</td>\n",
       "      <td>0.000760</td>\n",
       "      <td>0.008042</td>\n",
       "      <td>0.033547</td>\n",
       "      <td>0.005744</td>\n",
       "      <td>0.003677</td>\n",
       "      <td>0.009585</td>\n",
       "    </tr>\n",
       "    <tr>\n",
       "      <th>3</th>\n",
       "      <td>0.172306</td>\n",
       "      <td>0.064046</td>\n",
       "      <td>3.094585</td>\n",
       "      <td>0.260468</td>\n",
       "      <td>0.238890</td>\n",
       "      <td>1.622053</td>\n",
       "      <td>0.005129</td>\n",
       "      <td>0.258750</td>\n",
       "      <td>-22.746512</td>\n",
       "      <td>0.961686</td>\n",
       "      <td>...</td>\n",
       "      <td>0.011772</td>\n",
       "      <td>0.013028</td>\n",
       "      <td>0.005667</td>\n",
       "      <td>0.006262</td>\n",
       "      <td>0.000185</td>\n",
       "      <td>0.002704</td>\n",
       "      <td>0.021949</td>\n",
       "      <td>0.022632</td>\n",
       "      <td>0.031830</td>\n",
       "      <td>0.006634</td>\n",
       "    </tr>\n",
       "    <tr>\n",
       "      <th>4</th>\n",
       "      <td>0.209900</td>\n",
       "      <td>0.001343</td>\n",
       "      <td>3.121151</td>\n",
       "      <td>0.252868</td>\n",
       "      <td>0.216038</td>\n",
       "      <td>1.699739</td>\n",
       "      <td>0.004773</td>\n",
       "      <td>0.307500</td>\n",
       "      <td>-28.080103</td>\n",
       "      <td>1.110057</td>\n",
       "      <td>...</td>\n",
       "      <td>0.006984</td>\n",
       "      <td>0.006618</td>\n",
       "      <td>0.013174</td>\n",
       "      <td>0.006176</td>\n",
       "      <td>0.000768</td>\n",
       "      <td>0.002300</td>\n",
       "      <td>0.001930</td>\n",
       "      <td>0.009875</td>\n",
       "      <td>0.011834</td>\n",
       "      <td>0.001831</td>\n",
       "    </tr>\n",
       "  </tbody>\n",
       "</table>\n",
       "<p>5 rows × 136 columns</p>\n",
       "</div>"
      ],
      "text/plain": [
       "   zcr_mean  energy_mean  energy_entropy_mean  spectral_centroid_mean  \\\n",
       "0  0.187343     0.066052             3.130679                0.278414   \n",
       "1  0.258459     0.060120             3.199438                0.334033   \n",
       "2  0.131266     0.119377             2.980532                0.212971   \n",
       "3  0.172306     0.064046             3.094585                0.260468   \n",
       "4  0.209900     0.001343             3.121151                0.252868   \n",
       "\n",
       "   spectral_spread_mean  spectral_entropy_mean  spectral_flux_mean  \\\n",
       "0              0.228339               1.807545            0.003605   \n",
       "1              0.222802               1.714929            0.004339   \n",
       "2              0.197327               1.029854            0.007032   \n",
       "3              0.238890               1.622053            0.005129   \n",
       "4              0.216038               1.699739            0.004773   \n",
       "\n",
       "   spectral_rolloff_mean  mfcc_1_mean  mfcc_2_mean  ...  delta chroma_4_std  \\\n",
       "0               0.325625   -22.414736     1.056258  ...            0.003533   \n",
       "1               0.467500   -24.128797     0.336912  ...            0.002552   \n",
       "2               0.245000   -21.846666     1.619614  ...            0.006277   \n",
       "3               0.258750   -22.746512     0.961686  ...            0.011772   \n",
       "4               0.307500   -28.080103     1.110057  ...            0.006984   \n",
       "\n",
       "   delta chroma_5_std  delta chroma_6_std  delta chroma_7_std  \\\n",
       "0            0.008875            0.027232            0.024087   \n",
       "1            0.004351            0.002497            0.001976   \n",
       "2            0.017536            0.009660            0.050218   \n",
       "3            0.013028            0.005667            0.006262   \n",
       "4            0.006618            0.013174            0.006176   \n",
       "\n",
       "   delta chroma_8_std  delta chroma_9_std  delta chroma_10_std  \\\n",
       "0            0.000388            0.011698             0.007820   \n",
       "1            0.000536            0.000605             0.002210   \n",
       "2            0.000760            0.008042             0.033547   \n",
       "3            0.000185            0.002704             0.021949   \n",
       "4            0.000768            0.002300             0.001930   \n",
       "\n",
       "   delta chroma_11_std  delta chroma_12_std  delta chroma_std_std  \n",
       "0             0.006473             0.003070              0.004632  \n",
       "1             0.005989             0.002031              0.003538  \n",
       "2             0.005744             0.003677              0.009585  \n",
       "3             0.022632             0.031830              0.006634  \n",
       "4             0.009875             0.011834              0.001831  \n",
       "\n",
       "[5 rows x 136 columns]"
      ]
     },
     "execution_count": 13,
     "metadata": {},
     "output_type": "execute_result"
    }
   ],
   "source": [
    "X_train.head()"
   ]
  },
  {
   "cell_type": "code",
   "execution_count": 14,
   "metadata": {},
   "outputs": [
    {
     "data": {
      "text/plain": [
       "(1195, 136)"
      ]
     },
     "execution_count": 14,
     "metadata": {},
     "output_type": "execute_result"
    }
   ],
   "source": [
    "X_train.shape"
   ]
  },
  {
   "cell_type": "markdown",
   "metadata": {},
   "source": [
    "# Filter Methods for Feature Selection"
   ]
  },
  {
   "cell_type": "markdown",
   "metadata": {},
   "source": [
    "### 1. Pearson's Correlation"
   ]
  },
  {
   "cell_type": "code",
   "execution_count": 15,
   "metadata": {},
   "outputs": [
    {
     "name": "stdout",
     "output_type": "stream",
     "text": [
      "119 features selected\n"
     ]
    }
   ],
   "source": [
    "# Create correlation matrix\n",
    "corr_matrix = X_train.corr().abs()\n",
    "\n",
    "# Select upper triangle of correlation matrix\n",
    "upper = corr_matrix.where(np.triu(np.ones(corr_matrix.shape), k=1).astype(np.bool))\n",
    "\n",
    "# Find index of feature columns with correlation greater than 0.9\n",
    "to_drop = [column for column in upper.columns if any(upper[column] > 0.9)]\n",
    "\n",
    "# Drop features \n",
    "X_train = X_train.drop(to_drop, axis=1)\n",
    "X_test = X_test.drop(to_drop, axis=1)\n",
    "\n",
    "print(len(features)-len(to_drop), 'features selected')"
   ]
  },
  {
   "cell_type": "code",
   "execution_count": 16,
   "metadata": {},
   "outputs": [
    {
     "data": {
      "text/html": [
       "<div>\n",
       "<style scoped>\n",
       "    .dataframe tbody tr th:only-of-type {\n",
       "        vertical-align: middle;\n",
       "    }\n",
       "\n",
       "    .dataframe tbody tr th {\n",
       "        vertical-align: top;\n",
       "    }\n",
       "\n",
       "    .dataframe thead th {\n",
       "        text-align: right;\n",
       "    }\n",
       "</style>\n",
       "<table border=\"1\" class=\"dataframe\">\n",
       "  <thead>\n",
       "    <tr style=\"text-align: right;\">\n",
       "      <th></th>\n",
       "      <th>zcr_mean</th>\n",
       "      <th>energy_mean</th>\n",
       "      <th>energy_entropy_mean</th>\n",
       "      <th>spectral_spread_mean</th>\n",
       "      <th>spectral_flux_mean</th>\n",
       "      <th>mfcc_1_mean</th>\n",
       "      <th>mfcc_2_mean</th>\n",
       "      <th>mfcc_3_mean</th>\n",
       "      <th>mfcc_4_mean</th>\n",
       "      <th>mfcc_5_mean</th>\n",
       "      <th>...</th>\n",
       "      <th>delta mfcc_10_std</th>\n",
       "      <th>delta mfcc_11_std</th>\n",
       "      <th>delta mfcc_12_std</th>\n",
       "      <th>delta mfcc_13_std</th>\n",
       "      <th>delta chroma_1_std</th>\n",
       "      <th>delta chroma_3_std</th>\n",
       "      <th>delta chroma_5_std</th>\n",
       "      <th>delta chroma_10_std</th>\n",
       "      <th>delta chroma_11_std</th>\n",
       "      <th>delta chroma_std_std</th>\n",
       "    </tr>\n",
       "  </thead>\n",
       "  <tbody>\n",
       "    <tr>\n",
       "      <th>0</th>\n",
       "      <td>0.187343</td>\n",
       "      <td>0.066052</td>\n",
       "      <td>3.130679</td>\n",
       "      <td>0.228339</td>\n",
       "      <td>0.003605</td>\n",
       "      <td>-22.414736</td>\n",
       "      <td>1.056258</td>\n",
       "      <td>-0.833166</td>\n",
       "      <td>-0.325295</td>\n",
       "      <td>-0.470263</td>\n",
       "      <td>...</td>\n",
       "      <td>0.255230</td>\n",
       "      <td>0.191027</td>\n",
       "      <td>0.154824</td>\n",
       "      <td>0.253745</td>\n",
       "      <td>0.004482</td>\n",
       "      <td>0.003810</td>\n",
       "      <td>0.008875</td>\n",
       "      <td>0.007820</td>\n",
       "      <td>0.006473</td>\n",
       "      <td>0.004632</td>\n",
       "    </tr>\n",
       "    <tr>\n",
       "      <th>1</th>\n",
       "      <td>0.258459</td>\n",
       "      <td>0.060120</td>\n",
       "      <td>3.199438</td>\n",
       "      <td>0.222802</td>\n",
       "      <td>0.004339</td>\n",
       "      <td>-24.128797</td>\n",
       "      <td>0.336912</td>\n",
       "      <td>0.652813</td>\n",
       "      <td>0.016252</td>\n",
       "      <td>-2.045894</td>\n",
       "      <td>...</td>\n",
       "      <td>0.245370</td>\n",
       "      <td>0.170380</td>\n",
       "      <td>0.234198</td>\n",
       "      <td>0.137904</td>\n",
       "      <td>0.007500</td>\n",
       "      <td>0.008285</td>\n",
       "      <td>0.004351</td>\n",
       "      <td>0.002210</td>\n",
       "      <td>0.005989</td>\n",
       "      <td>0.003538</td>\n",
       "    </tr>\n",
       "    <tr>\n",
       "      <th>2</th>\n",
       "      <td>0.131266</td>\n",
       "      <td>0.119377</td>\n",
       "      <td>2.980532</td>\n",
       "      <td>0.197327</td>\n",
       "      <td>0.007032</td>\n",
       "      <td>-21.846666</td>\n",
       "      <td>1.619614</td>\n",
       "      <td>0.179002</td>\n",
       "      <td>-0.938440</td>\n",
       "      <td>-0.741788</td>\n",
       "      <td>...</td>\n",
       "      <td>0.413215</td>\n",
       "      <td>0.215796</td>\n",
       "      <td>0.190121</td>\n",
       "      <td>0.133878</td>\n",
       "      <td>0.005369</td>\n",
       "      <td>0.012133</td>\n",
       "      <td>0.017536</td>\n",
       "      <td>0.033547</td>\n",
       "      <td>0.005744</td>\n",
       "      <td>0.009585</td>\n",
       "    </tr>\n",
       "    <tr>\n",
       "      <th>3</th>\n",
       "      <td>0.172306</td>\n",
       "      <td>0.064046</td>\n",
       "      <td>3.094585</td>\n",
       "      <td>0.238890</td>\n",
       "      <td>0.005129</td>\n",
       "      <td>-22.746512</td>\n",
       "      <td>0.961686</td>\n",
       "      <td>-1.345183</td>\n",
       "      <td>-0.634624</td>\n",
       "      <td>-0.607778</td>\n",
       "      <td>...</td>\n",
       "      <td>0.324509</td>\n",
       "      <td>0.114830</td>\n",
       "      <td>0.292026</td>\n",
       "      <td>0.219501</td>\n",
       "      <td>0.028957</td>\n",
       "      <td>0.004860</td>\n",
       "      <td>0.013028</td>\n",
       "      <td>0.021949</td>\n",
       "      <td>0.022632</td>\n",
       "      <td>0.006634</td>\n",
       "    </tr>\n",
       "    <tr>\n",
       "      <th>4</th>\n",
       "      <td>0.209900</td>\n",
       "      <td>0.001343</td>\n",
       "      <td>3.121151</td>\n",
       "      <td>0.216038</td>\n",
       "      <td>0.004773</td>\n",
       "      <td>-28.080103</td>\n",
       "      <td>1.110057</td>\n",
       "      <td>-0.160455</td>\n",
       "      <td>0.036614</td>\n",
       "      <td>-1.407746</td>\n",
       "      <td>...</td>\n",
       "      <td>0.176571</td>\n",
       "      <td>0.268577</td>\n",
       "      <td>0.227481</td>\n",
       "      <td>0.256580</td>\n",
       "      <td>0.014610</td>\n",
       "      <td>0.010908</td>\n",
       "      <td>0.006618</td>\n",
       "      <td>0.001930</td>\n",
       "      <td>0.009875</td>\n",
       "      <td>0.001831</td>\n",
       "    </tr>\n",
       "  </tbody>\n",
       "</table>\n",
       "<p>5 rows × 119 columns</p>\n",
       "</div>"
      ],
      "text/plain": [
       "   zcr_mean  energy_mean  energy_entropy_mean  spectral_spread_mean  \\\n",
       "0  0.187343     0.066052             3.130679              0.228339   \n",
       "1  0.258459     0.060120             3.199438              0.222802   \n",
       "2  0.131266     0.119377             2.980532              0.197327   \n",
       "3  0.172306     0.064046             3.094585              0.238890   \n",
       "4  0.209900     0.001343             3.121151              0.216038   \n",
       "\n",
       "   spectral_flux_mean  mfcc_1_mean  mfcc_2_mean  mfcc_3_mean  mfcc_4_mean  \\\n",
       "0            0.003605   -22.414736     1.056258    -0.833166    -0.325295   \n",
       "1            0.004339   -24.128797     0.336912     0.652813     0.016252   \n",
       "2            0.007032   -21.846666     1.619614     0.179002    -0.938440   \n",
       "3            0.005129   -22.746512     0.961686    -1.345183    -0.634624   \n",
       "4            0.004773   -28.080103     1.110057    -0.160455     0.036614   \n",
       "\n",
       "   mfcc_5_mean  ...  delta mfcc_10_std  delta mfcc_11_std  delta mfcc_12_std  \\\n",
       "0    -0.470263  ...           0.255230           0.191027           0.154824   \n",
       "1    -2.045894  ...           0.245370           0.170380           0.234198   \n",
       "2    -0.741788  ...           0.413215           0.215796           0.190121   \n",
       "3    -0.607778  ...           0.324509           0.114830           0.292026   \n",
       "4    -1.407746  ...           0.176571           0.268577           0.227481   \n",
       "\n",
       "   delta mfcc_13_std  delta chroma_1_std  delta chroma_3_std  \\\n",
       "0           0.253745            0.004482            0.003810   \n",
       "1           0.137904            0.007500            0.008285   \n",
       "2           0.133878            0.005369            0.012133   \n",
       "3           0.219501            0.028957            0.004860   \n",
       "4           0.256580            0.014610            0.010908   \n",
       "\n",
       "   delta chroma_5_std  delta chroma_10_std  delta chroma_11_std  \\\n",
       "0            0.008875             0.007820             0.006473   \n",
       "1            0.004351             0.002210             0.005989   \n",
       "2            0.017536             0.033547             0.005744   \n",
       "3            0.013028             0.021949             0.022632   \n",
       "4            0.006618             0.001930             0.009875   \n",
       "\n",
       "   delta chroma_std_std  \n",
       "0              0.004632  \n",
       "1              0.003538  \n",
       "2              0.009585  \n",
       "3              0.006634  \n",
       "4              0.001831  \n",
       "\n",
       "[5 rows x 119 columns]"
      ]
     },
     "execution_count": 16,
     "metadata": {},
     "output_type": "execute_result"
    }
   ],
   "source": [
    "X_train.head()"
   ]
  },
  {
   "cell_type": "code",
   "execution_count": 17,
   "metadata": {},
   "outputs": [
    {
     "data": {
      "text/plain": [
       "(1195, 119)"
      ]
     },
     "execution_count": 17,
     "metadata": {},
     "output_type": "execute_result"
    }
   ],
   "source": [
    "X_train.shape"
   ]
  },
  {
   "cell_type": "markdown",
   "metadata": {},
   "source": [
    "### 2. Variance Threshold"
   ]
  },
  {
   "cell_type": "code",
   "execution_count": 18,
   "metadata": {},
   "outputs": [
    {
     "name": "stdout",
     "output_type": "stream",
     "text": [
      "28 features selected\n"
     ]
    }
   ],
   "source": [
    "selector = VarianceThreshold(threshold=0.01).fit(X_train) # variance 1%\n",
    "\n",
    "f = X_train.columns[selector.get_support(indices=True)].tolist()\n",
    "print(len(f), 'features selected')"
   ]
  },
  {
   "cell_type": "code",
   "execution_count": 19,
   "metadata": {},
   "outputs": [],
   "source": [
    "# Renew Dataset\n",
    "X_train = pd.DataFrame(selector.transform(X_train),columns=f)\n",
    "X_test = pd.DataFrame(selector.transform(X_test),columns=f)"
   ]
  },
  {
   "cell_type": "code",
   "execution_count": 20,
   "metadata": {},
   "outputs": [
    {
     "data": {
      "text/plain": [
       "(1195, 28)"
      ]
     },
     "execution_count": 20,
     "metadata": {},
     "output_type": "execute_result"
    }
   ],
   "source": [
    "X_train.shape"
   ]
  },
  {
   "cell_type": "code",
   "execution_count": 21,
   "metadata": {},
   "outputs": [
    {
     "data": {
      "text/html": [
       "<div>\n",
       "<style scoped>\n",
       "    .dataframe tbody tr th:only-of-type {\n",
       "        vertical-align: middle;\n",
       "    }\n",
       "\n",
       "    .dataframe tbody tr th {\n",
       "        vertical-align: top;\n",
       "    }\n",
       "\n",
       "    .dataframe thead th {\n",
       "        text-align: right;\n",
       "    }\n",
       "</style>\n",
       "<table border=\"1\" class=\"dataframe\">\n",
       "  <thead>\n",
       "    <tr style=\"text-align: right;\">\n",
       "      <th></th>\n",
       "      <th>energy_entropy_mean</th>\n",
       "      <th>mfcc_1_mean</th>\n",
       "      <th>mfcc_2_mean</th>\n",
       "      <th>mfcc_3_mean</th>\n",
       "      <th>mfcc_4_mean</th>\n",
       "      <th>mfcc_5_mean</th>\n",
       "      <th>mfcc_6_mean</th>\n",
       "      <th>mfcc_7_mean</th>\n",
       "      <th>mfcc_8_mean</th>\n",
       "      <th>mfcc_9_mean</th>\n",
       "      <th>...</th>\n",
       "      <th>mfcc_1_std</th>\n",
       "      <th>mfcc_2_std</th>\n",
       "      <th>mfcc_3_std</th>\n",
       "      <th>mfcc_4_std</th>\n",
       "      <th>mfcc_5_std</th>\n",
       "      <th>delta spectral_entropy_std</th>\n",
       "      <th>delta mfcc_1_std</th>\n",
       "      <th>delta mfcc_2_std</th>\n",
       "      <th>delta mfcc_3_std</th>\n",
       "      <th>delta mfcc_4_std</th>\n",
       "    </tr>\n",
       "  </thead>\n",
       "  <tbody>\n",
       "    <tr>\n",
       "      <th>0</th>\n",
       "      <td>3.130679</td>\n",
       "      <td>-22.414736</td>\n",
       "      <td>1.056258</td>\n",
       "      <td>-0.833166</td>\n",
       "      <td>-0.325295</td>\n",
       "      <td>-0.470263</td>\n",
       "      <td>0.301096</td>\n",
       "      <td>-0.425042</td>\n",
       "      <td>-0.756905</td>\n",
       "      <td>-0.156768</td>\n",
       "      <td>...</td>\n",
       "      <td>1.069813</td>\n",
       "      <td>0.305830</td>\n",
       "      <td>0.118856</td>\n",
       "      <td>0.193186</td>\n",
       "      <td>0.181395</td>\n",
       "      <td>0.224888</td>\n",
       "      <td>0.379835</td>\n",
       "      <td>0.350740</td>\n",
       "      <td>0.204513</td>\n",
       "      <td>0.223135</td>\n",
       "    </tr>\n",
       "    <tr>\n",
       "      <th>1</th>\n",
       "      <td>3.199438</td>\n",
       "      <td>-24.128797</td>\n",
       "      <td>0.336912</td>\n",
       "      <td>0.652813</td>\n",
       "      <td>0.016252</td>\n",
       "      <td>-2.045894</td>\n",
       "      <td>-0.016369</td>\n",
       "      <td>-0.979246</td>\n",
       "      <td>0.671215</td>\n",
       "      <td>0.309500</td>\n",
       "      <td>...</td>\n",
       "      <td>1.060976</td>\n",
       "      <td>0.479889</td>\n",
       "      <td>0.589914</td>\n",
       "      <td>0.492531</td>\n",
       "      <td>0.216832</td>\n",
       "      <td>0.143040</td>\n",
       "      <td>0.509830</td>\n",
       "      <td>0.160378</td>\n",
       "      <td>0.441494</td>\n",
       "      <td>0.447867</td>\n",
       "    </tr>\n",
       "    <tr>\n",
       "      <th>2</th>\n",
       "      <td>2.980532</td>\n",
       "      <td>-21.846666</td>\n",
       "      <td>1.619614</td>\n",
       "      <td>0.179002</td>\n",
       "      <td>-0.938440</td>\n",
       "      <td>-0.741788</td>\n",
       "      <td>0.132720</td>\n",
       "      <td>-0.398010</td>\n",
       "      <td>-0.475214</td>\n",
       "      <td>-0.468747</td>\n",
       "      <td>...</td>\n",
       "      <td>0.412064</td>\n",
       "      <td>0.225903</td>\n",
       "      <td>0.362404</td>\n",
       "      <td>0.298599</td>\n",
       "      <td>0.341873</td>\n",
       "      <td>0.239103</td>\n",
       "      <td>0.456894</td>\n",
       "      <td>0.320030</td>\n",
       "      <td>0.323181</td>\n",
       "      <td>0.293672</td>\n",
       "    </tr>\n",
       "    <tr>\n",
       "      <th>3</th>\n",
       "      <td>3.094585</td>\n",
       "      <td>-22.746512</td>\n",
       "      <td>0.961686</td>\n",
       "      <td>-1.345183</td>\n",
       "      <td>-0.634624</td>\n",
       "      <td>-0.607778</td>\n",
       "      <td>-0.067447</td>\n",
       "      <td>-1.070602</td>\n",
       "      <td>0.383043</td>\n",
       "      <td>-0.149494</td>\n",
       "      <td>...</td>\n",
       "      <td>1.004674</td>\n",
       "      <td>0.412598</td>\n",
       "      <td>0.380249</td>\n",
       "      <td>0.214498</td>\n",
       "      <td>0.345424</td>\n",
       "      <td>0.284249</td>\n",
       "      <td>0.293737</td>\n",
       "      <td>0.371860</td>\n",
       "      <td>0.323746</td>\n",
       "      <td>0.190524</td>\n",
       "    </tr>\n",
       "    <tr>\n",
       "      <th>4</th>\n",
       "      <td>3.121151</td>\n",
       "      <td>-28.080103</td>\n",
       "      <td>1.110057</td>\n",
       "      <td>-0.160455</td>\n",
       "      <td>0.036614</td>\n",
       "      <td>-1.407746</td>\n",
       "      <td>0.731210</td>\n",
       "      <td>0.348887</td>\n",
       "      <td>0.109404</td>\n",
       "      <td>0.440863</td>\n",
       "      <td>...</td>\n",
       "      <td>0.614687</td>\n",
       "      <td>0.578516</td>\n",
       "      <td>0.451850</td>\n",
       "      <td>0.214753</td>\n",
       "      <td>0.252582</td>\n",
       "      <td>0.151865</td>\n",
       "      <td>0.520358</td>\n",
       "      <td>0.233031</td>\n",
       "      <td>0.336911</td>\n",
       "      <td>0.164078</td>\n",
       "    </tr>\n",
       "  </tbody>\n",
       "</table>\n",
       "<p>5 rows × 28 columns</p>\n",
       "</div>"
      ],
      "text/plain": [
       "   energy_entropy_mean  mfcc_1_mean  mfcc_2_mean  mfcc_3_mean  mfcc_4_mean  \\\n",
       "0             3.130679   -22.414736     1.056258    -0.833166    -0.325295   \n",
       "1             3.199438   -24.128797     0.336912     0.652813     0.016252   \n",
       "2             2.980532   -21.846666     1.619614     0.179002    -0.938440   \n",
       "3             3.094585   -22.746512     0.961686    -1.345183    -0.634624   \n",
       "4             3.121151   -28.080103     1.110057    -0.160455     0.036614   \n",
       "\n",
       "   mfcc_5_mean  mfcc_6_mean  mfcc_7_mean  mfcc_8_mean  mfcc_9_mean  ...  \\\n",
       "0    -0.470263     0.301096    -0.425042    -0.756905    -0.156768  ...   \n",
       "1    -2.045894    -0.016369    -0.979246     0.671215     0.309500  ...   \n",
       "2    -0.741788     0.132720    -0.398010    -0.475214    -0.468747  ...   \n",
       "3    -0.607778    -0.067447    -1.070602     0.383043    -0.149494  ...   \n",
       "4    -1.407746     0.731210     0.348887     0.109404     0.440863  ...   \n",
       "\n",
       "   mfcc_1_std  mfcc_2_std  mfcc_3_std  mfcc_4_std  mfcc_5_std  \\\n",
       "0    1.069813    0.305830    0.118856    0.193186    0.181395   \n",
       "1    1.060976    0.479889    0.589914    0.492531    0.216832   \n",
       "2    0.412064    0.225903    0.362404    0.298599    0.341873   \n",
       "3    1.004674    0.412598    0.380249    0.214498    0.345424   \n",
       "4    0.614687    0.578516    0.451850    0.214753    0.252582   \n",
       "\n",
       "   delta spectral_entropy_std  delta mfcc_1_std  delta mfcc_2_std  \\\n",
       "0                    0.224888          0.379835          0.350740   \n",
       "1                    0.143040          0.509830          0.160378   \n",
       "2                    0.239103          0.456894          0.320030   \n",
       "3                    0.284249          0.293737          0.371860   \n",
       "4                    0.151865          0.520358          0.233031   \n",
       "\n",
       "   delta mfcc_3_std  delta mfcc_4_std  \n",
       "0          0.204513          0.223135  \n",
       "1          0.441494          0.447867  \n",
       "2          0.323181          0.293672  \n",
       "3          0.323746          0.190524  \n",
       "4          0.336911          0.164078  \n",
       "\n",
       "[5 rows x 28 columns]"
      ]
     },
     "execution_count": 21,
     "metadata": {},
     "output_type": "execute_result"
    }
   ],
   "source": [
    "X_train.head()"
   ]
  },
  {
   "cell_type": "markdown",
   "metadata": {},
   "source": [
    "# Wrapper Methods for Feature Selection"
   ]
  },
  {
   "cell_type": "markdown",
   "metadata": {},
   "source": [
    "### 1. Recursive Feature Elimination (RFE)"
   ]
  },
  {
   "cell_type": "code",
   "execution_count": 22,
   "metadata": {},
   "outputs": [],
   "source": [
    "model = RandomForestClassifier(n_estimators= 50, random_state=42)   \n",
    "model.fit(X_train, y_train)\n",
    "selector = RFE(estimator=model, n_features_to_select=20, step=1).fit(X_train, y_train)"
   ]
  },
  {
   "cell_type": "code",
   "execution_count": 23,
   "metadata": {},
   "outputs": [],
   "source": [
    "# Renew Dataset\n",
    "f = X_train.columns[selector.get_support(indices=True)].tolist()\n",
    "X_train = pd.DataFrame(selector.transform(X_train),columns=f)\n",
    "X_test = pd.DataFrame(selector.transform(X_test),columns=f)"
   ]
  },
  {
   "cell_type": "code",
   "execution_count": 24,
   "metadata": {},
   "outputs": [
    {
     "data": {
      "text/html": [
       "<div>\n",
       "<style scoped>\n",
       "    .dataframe tbody tr th:only-of-type {\n",
       "        vertical-align: middle;\n",
       "    }\n",
       "\n",
       "    .dataframe tbody tr th {\n",
       "        vertical-align: top;\n",
       "    }\n",
       "\n",
       "    .dataframe thead th {\n",
       "        text-align: right;\n",
       "    }\n",
       "</style>\n",
       "<table border=\"1\" class=\"dataframe\">\n",
       "  <thead>\n",
       "    <tr style=\"text-align: right;\">\n",
       "      <th></th>\n",
       "      <th>mfcc_1_mean</th>\n",
       "      <th>mfcc_2_mean</th>\n",
       "      <th>mfcc_3_mean</th>\n",
       "      <th>mfcc_4_mean</th>\n",
       "      <th>mfcc_5_mean</th>\n",
       "      <th>mfcc_6_mean</th>\n",
       "      <th>mfcc_7_mean</th>\n",
       "      <th>mfcc_8_mean</th>\n",
       "      <th>mfcc_9_mean</th>\n",
       "      <th>mfcc_10_mean</th>\n",
       "      <th>mfcc_11_mean</th>\n",
       "      <th>mfcc_12_mean</th>\n",
       "      <th>mfcc_13_mean</th>\n",
       "      <th>delta mfcc_1_mean</th>\n",
       "      <th>delta mfcc_2_mean</th>\n",
       "      <th>energy_entropy_std</th>\n",
       "      <th>spectral_entropy_std</th>\n",
       "      <th>mfcc_1_std</th>\n",
       "      <th>mfcc_2_std</th>\n",
       "      <th>delta spectral_entropy_std</th>\n",
       "    </tr>\n",
       "  </thead>\n",
       "  <tbody>\n",
       "    <tr>\n",
       "      <th>0</th>\n",
       "      <td>-22.414736</td>\n",
       "      <td>1.056258</td>\n",
       "      <td>-0.833166</td>\n",
       "      <td>-0.325295</td>\n",
       "      <td>-0.470263</td>\n",
       "      <td>0.301096</td>\n",
       "      <td>-0.425042</td>\n",
       "      <td>-0.756905</td>\n",
       "      <td>-0.156768</td>\n",
       "      <td>-0.421581</td>\n",
       "      <td>0.252739</td>\n",
       "      <td>0.446630</td>\n",
       "      <td>-0.005998</td>\n",
       "      <td>-0.381909</td>\n",
       "      <td>-0.033342</td>\n",
       "      <td>0.059476</td>\n",
       "      <td>0.270166</td>\n",
       "      <td>1.069813</td>\n",
       "      <td>0.305830</td>\n",
       "      <td>0.224888</td>\n",
       "    </tr>\n",
       "    <tr>\n",
       "      <th>1</th>\n",
       "      <td>-24.128797</td>\n",
       "      <td>0.336912</td>\n",
       "      <td>0.652813</td>\n",
       "      <td>0.016252</td>\n",
       "      <td>-2.045894</td>\n",
       "      <td>-0.016369</td>\n",
       "      <td>-0.979246</td>\n",
       "      <td>0.671215</td>\n",
       "      <td>0.309500</td>\n",
       "      <td>-0.012519</td>\n",
       "      <td>-0.060062</td>\n",
       "      <td>-0.137626</td>\n",
       "      <td>0.037173</td>\n",
       "      <td>-0.361201</td>\n",
       "      <td>-0.157133</td>\n",
       "      <td>0.034791</td>\n",
       "      <td>0.358447</td>\n",
       "      <td>1.060976</td>\n",
       "      <td>0.479889</td>\n",
       "      <td>0.143040</td>\n",
       "    </tr>\n",
       "    <tr>\n",
       "      <th>2</th>\n",
       "      <td>-21.846666</td>\n",
       "      <td>1.619614</td>\n",
       "      <td>0.179002</td>\n",
       "      <td>-0.938440</td>\n",
       "      <td>-0.741788</td>\n",
       "      <td>0.132720</td>\n",
       "      <td>-0.398010</td>\n",
       "      <td>-0.475214</td>\n",
       "      <td>-0.468747</td>\n",
       "      <td>-0.721814</td>\n",
       "      <td>-0.056953</td>\n",
       "      <td>0.397668</td>\n",
       "      <td>-0.017762</td>\n",
       "      <td>0.124826</td>\n",
       "      <td>-0.036326</td>\n",
       "      <td>0.419738</td>\n",
       "      <td>0.209298</td>\n",
       "      <td>0.412064</td>\n",
       "      <td>0.225903</td>\n",
       "      <td>0.239103</td>\n",
       "    </tr>\n",
       "    <tr>\n",
       "      <th>3</th>\n",
       "      <td>-22.746512</td>\n",
       "      <td>0.961686</td>\n",
       "      <td>-1.345183</td>\n",
       "      <td>-0.634624</td>\n",
       "      <td>-0.607778</td>\n",
       "      <td>-0.067447</td>\n",
       "      <td>-1.070602</td>\n",
       "      <td>0.383043</td>\n",
       "      <td>-0.149494</td>\n",
       "      <td>-0.171425</td>\n",
       "      <td>0.142615</td>\n",
       "      <td>0.017718</td>\n",
       "      <td>0.242781</td>\n",
       "      <td>-0.356967</td>\n",
       "      <td>-0.076149</td>\n",
       "      <td>0.152572</td>\n",
       "      <td>0.240114</td>\n",
       "      <td>1.004674</td>\n",
       "      <td>0.412598</td>\n",
       "      <td>0.284249</td>\n",
       "    </tr>\n",
       "    <tr>\n",
       "      <th>4</th>\n",
       "      <td>-28.080103</td>\n",
       "      <td>1.110057</td>\n",
       "      <td>-0.160455</td>\n",
       "      <td>0.036614</td>\n",
       "      <td>-1.407746</td>\n",
       "      <td>0.731210</td>\n",
       "      <td>0.348887</td>\n",
       "      <td>0.109404</td>\n",
       "      <td>0.440863</td>\n",
       "      <td>-0.191179</td>\n",
       "      <td>-0.181548</td>\n",
       "      <td>0.055968</td>\n",
       "      <td>-0.121756</td>\n",
       "      <td>-0.126548</td>\n",
       "      <td>-0.239250</td>\n",
       "      <td>0.262850</td>\n",
       "      <td>0.171735</td>\n",
       "      <td>0.614687</td>\n",
       "      <td>0.578516</td>\n",
       "      <td>0.151865</td>\n",
       "    </tr>\n",
       "  </tbody>\n",
       "</table>\n",
       "</div>"
      ],
      "text/plain": [
       "   mfcc_1_mean  mfcc_2_mean  mfcc_3_mean  mfcc_4_mean  mfcc_5_mean  \\\n",
       "0   -22.414736     1.056258    -0.833166    -0.325295    -0.470263   \n",
       "1   -24.128797     0.336912     0.652813     0.016252    -2.045894   \n",
       "2   -21.846666     1.619614     0.179002    -0.938440    -0.741788   \n",
       "3   -22.746512     0.961686    -1.345183    -0.634624    -0.607778   \n",
       "4   -28.080103     1.110057    -0.160455     0.036614    -1.407746   \n",
       "\n",
       "   mfcc_6_mean  mfcc_7_mean  mfcc_8_mean  mfcc_9_mean  mfcc_10_mean  \\\n",
       "0     0.301096    -0.425042    -0.756905    -0.156768     -0.421581   \n",
       "1    -0.016369    -0.979246     0.671215     0.309500     -0.012519   \n",
       "2     0.132720    -0.398010    -0.475214    -0.468747     -0.721814   \n",
       "3    -0.067447    -1.070602     0.383043    -0.149494     -0.171425   \n",
       "4     0.731210     0.348887     0.109404     0.440863     -0.191179   \n",
       "\n",
       "   mfcc_11_mean  mfcc_12_mean  mfcc_13_mean  delta mfcc_1_mean  \\\n",
       "0      0.252739      0.446630     -0.005998          -0.381909   \n",
       "1     -0.060062     -0.137626      0.037173          -0.361201   \n",
       "2     -0.056953      0.397668     -0.017762           0.124826   \n",
       "3      0.142615      0.017718      0.242781          -0.356967   \n",
       "4     -0.181548      0.055968     -0.121756          -0.126548   \n",
       "\n",
       "   delta mfcc_2_mean  energy_entropy_std  spectral_entropy_std  mfcc_1_std  \\\n",
       "0          -0.033342            0.059476              0.270166    1.069813   \n",
       "1          -0.157133            0.034791              0.358447    1.060976   \n",
       "2          -0.036326            0.419738              0.209298    0.412064   \n",
       "3          -0.076149            0.152572              0.240114    1.004674   \n",
       "4          -0.239250            0.262850              0.171735    0.614687   \n",
       "\n",
       "   mfcc_2_std  delta spectral_entropy_std  \n",
       "0    0.305830                    0.224888  \n",
       "1    0.479889                    0.143040  \n",
       "2    0.225903                    0.239103  \n",
       "3    0.412598                    0.284249  \n",
       "4    0.578516                    0.151865  "
      ]
     },
     "execution_count": 24,
     "metadata": {},
     "output_type": "execute_result"
    }
   ],
   "source": [
    "X_train.head()"
   ]
  },
  {
   "cell_type": "code",
   "execution_count": 25,
   "metadata": {},
   "outputs": [
    {
     "data": {
      "text/plain": [
       "(1195, 20)"
      ]
     },
     "execution_count": 25,
     "metadata": {},
     "output_type": "execute_result"
    }
   ],
   "source": [
    "X_train.shape"
   ]
  },
  {
   "cell_type": "markdown",
   "metadata": {},
   "source": [
    "# Drop duplicate rows"
   ]
  },
  {
   "cell_type": "code",
   "execution_count": 26,
   "metadata": {},
   "outputs": [
    {
     "name": "stdout",
     "output_type": "stream",
     "text": [
      "(1195, 21)\n",
      "(1193, 21)\n"
     ]
    }
   ],
   "source": [
    "train2 = X_train.copy()\n",
    "train2['label'] = y_train\n",
    "print(train2.shape)\n",
    "train2 = train2.drop_duplicates().reset_index(drop=True)\n",
    "print(train2.shape)"
   ]
  },
  {
   "cell_type": "code",
   "execution_count": 27,
   "metadata": {},
   "outputs": [
    {
     "name": "stdout",
     "output_type": "stream",
     "text": [
      "(299, 21)\n",
      "(299, 21)\n"
     ]
    }
   ],
   "source": [
    "test2 = X_test.copy()\n",
    "test2['label'] = y_test\n",
    "print(test2.shape)\n",
    "test2 = test2.drop_duplicates().reset_index(drop=True)\n",
    "print(test2.shape)"
   ]
  },
  {
   "cell_type": "code",
   "execution_count": 28,
   "metadata": {},
   "outputs": [],
   "source": [
    "X_train = train2.iloc[:,:-1].reset_index(drop=True)\n",
    "y_train = train2.iloc[:,-1].reset_index(drop=True)\n",
    "\n",
    "X_test = test2.iloc[:,:-1].reset_index(drop=True)\n",
    "y_test = test2.iloc[:,-1].reset_index(drop=True)"
   ]
  },
  {
   "cell_type": "markdown",
   "metadata": {},
   "source": [
    "# Save data"
   ]
  },
  {
   "cell_type": "code",
   "execution_count": 29,
   "metadata": {},
   "outputs": [],
   "source": [
    "pd.concat([X_train,y_train],axis=1).to_csv('data/TempFour_train_data.csv',index=False)\n",
    "test2.to_csv('data/TempFour_test_data.csv',index=False)"
   ]
  }
 ],
 "metadata": {
  "kernelspec": {
   "display_name": "Python 3 (ipykernel)",
   "language": "python",
   "name": "python3"
  },
  "language_info": {
   "codemirror_mode": {
    "name": "ipython",
    "version": 3
   },
   "file_extension": ".py",
   "mimetype": "text/x-python",
   "name": "python",
   "nbconvert_exporter": "python",
   "pygments_lexer": "ipython3",
   "version": "3.7.0"
  }
 },
 "nbformat": 4,
 "nbformat_minor": 4
}
