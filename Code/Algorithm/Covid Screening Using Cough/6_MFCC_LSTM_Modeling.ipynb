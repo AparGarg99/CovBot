{
 "cells": [
  {
   "cell_type": "markdown",
   "id": "a1c0b48b",
   "metadata": {},
   "source": [
    "# Import Packages"
   ]
  },
  {
   "cell_type": "code",
   "execution_count": 1,
   "id": "fe290f61",
   "metadata": {},
   "outputs": [],
   "source": [
    "from packages import *\n",
    "%matplotlib inline"
   ]
  },
  {
   "cell_type": "markdown",
   "id": "b321383f",
   "metadata": {},
   "source": [
    "# Read Dataset"
   ]
  },
  {
   "cell_type": "code",
   "execution_count": 2,
   "id": "34417070",
   "metadata": {},
   "outputs": [
    {
     "data": {
      "text/html": [
       "<div>\n",
       "<style scoped>\n",
       "    .dataframe tbody tr th:only-of-type {\n",
       "        vertical-align: middle;\n",
       "    }\n",
       "\n",
       "    .dataframe tbody tr th {\n",
       "        vertical-align: top;\n",
       "    }\n",
       "\n",
       "    .dataframe thead th {\n",
       "        text-align: right;\n",
       "    }\n",
       "</style>\n",
       "<table border=\"1\" class=\"dataframe\">\n",
       "  <thead>\n",
       "    <tr style=\"text-align: right;\">\n",
       "      <th></th>\n",
       "      <th>fname</th>\n",
       "      <th>label</th>\n",
       "    </tr>\n",
       "  </thead>\n",
       "  <tbody>\n",
       "    <tr>\n",
       "      <th>0</th>\n",
       "      <td>virufy_clean\\neg-0421-083-cough-m-53-1.wav</td>\n",
       "      <td>neg</td>\n",
       "    </tr>\n",
       "    <tr>\n",
       "      <th>1</th>\n",
       "      <td>virufy_clean\\neg-0421-083-cough-m-53-10.wav</td>\n",
       "      <td>neg</td>\n",
       "    </tr>\n",
       "    <tr>\n",
       "      <th>2</th>\n",
       "      <td>virufy_clean\\neg-0421-083-cough-m-53-11.wav</td>\n",
       "      <td>neg</td>\n",
       "    </tr>\n",
       "    <tr>\n",
       "      <th>3</th>\n",
       "      <td>virufy_clean\\neg-0421-083-cough-m-53-12.wav</td>\n",
       "      <td>neg</td>\n",
       "    </tr>\n",
       "    <tr>\n",
       "      <th>4</th>\n",
       "      <td>virufy_clean\\neg-0421-083-cough-m-53-13.wav</td>\n",
       "      <td>neg</td>\n",
       "    </tr>\n",
       "  </tbody>\n",
       "</table>\n",
       "</div>"
      ],
      "text/plain": [
       "                                         fname label\n",
       "0   virufy_clean\\neg-0421-083-cough-m-53-1.wav   neg\n",
       "1  virufy_clean\\neg-0421-083-cough-m-53-10.wav   neg\n",
       "2  virufy_clean\\neg-0421-083-cough-m-53-11.wav   neg\n",
       "3  virufy_clean\\neg-0421-083-cough-m-53-12.wav   neg\n",
       "4  virufy_clean\\neg-0421-083-cough-m-53-13.wav   neg"
      ]
     },
     "execution_count": 2,
     "metadata": {},
     "output_type": "execute_result"
    }
   ],
   "source": [
    "all_files = glob.glob('virufy_clean/*')\n",
    "l1, l2 = [], []\n",
    "for i in all_files: \n",
    "    l1.append(i)\n",
    "    label = i.split('\\\\')[1][:3].strip()\n",
    "    l2.append(label)\n",
    "df = pd.DataFrame(zip(l1,l2),columns=['fname','label'])\n",
    "df.head()"
   ]
  },
  {
   "cell_type": "markdown",
   "id": "f5a19a77",
   "metadata": {},
   "source": [
    "# Get class distribution"
   ]
  },
  {
   "cell_type": "code",
   "execution_count": 3,
   "id": "bd732f75",
   "metadata": {},
   "outputs": [
    {
     "data": {
      "text/html": [
       "<div>\n",
       "<style scoped>\n",
       "    .dataframe tbody tr th:only-of-type {\n",
       "        vertical-align: middle;\n",
       "    }\n",
       "\n",
       "    .dataframe tbody tr th {\n",
       "        vertical-align: top;\n",
       "    }\n",
       "\n",
       "    .dataframe thead th {\n",
       "        text-align: right;\n",
       "    }\n",
       "</style>\n",
       "<table border=\"1\" class=\"dataframe\">\n",
       "  <thead>\n",
       "    <tr style=\"text-align: right;\">\n",
       "      <th></th>\n",
       "      <th>label</th>\n",
       "      <th>length</th>\n",
       "    </tr>\n",
       "    <tr>\n",
       "      <th>fname</th>\n",
       "      <th></th>\n",
       "      <th></th>\n",
       "    </tr>\n",
       "  </thead>\n",
       "  <tbody>\n",
       "    <tr>\n",
       "      <th>virufy_clean\\neg-0421-083-cough-m-53-1.wav</th>\n",
       "      <td>neg</td>\n",
       "      <td>0.473469</td>\n",
       "    </tr>\n",
       "    <tr>\n",
       "      <th>virufy_clean\\neg-0421-083-cough-m-53-10.wav</th>\n",
       "      <td>neg</td>\n",
       "      <td>0.438277</td>\n",
       "    </tr>\n",
       "    <tr>\n",
       "      <th>virufy_clean\\neg-0421-083-cough-m-53-11.wav</th>\n",
       "      <td>neg</td>\n",
       "      <td>0.511202</td>\n",
       "    </tr>\n",
       "    <tr>\n",
       "      <th>virufy_clean\\neg-0421-083-cough-m-53-12.wav</th>\n",
       "      <td>neg</td>\n",
       "      <td>0.462132</td>\n",
       "    </tr>\n",
       "    <tr>\n",
       "      <th>virufy_clean\\neg-0421-083-cough-m-53-13.wav</th>\n",
       "      <td>neg</td>\n",
       "      <td>0.537914</td>\n",
       "    </tr>\n",
       "  </tbody>\n",
       "</table>\n",
       "</div>"
      ],
      "text/plain": [
       "                                            label    length\n",
       "fname                                                      \n",
       "virufy_clean\\neg-0421-083-cough-m-53-1.wav    neg  0.473469\n",
       "virufy_clean\\neg-0421-083-cough-m-53-10.wav   neg  0.438277\n",
       "virufy_clean\\neg-0421-083-cough-m-53-11.wav   neg  0.511202\n",
       "virufy_clean\\neg-0421-083-cough-m-53-12.wav   neg  0.462132\n",
       "virufy_clean\\neg-0421-083-cough-m-53-13.wav   neg  0.537914"
      ]
     },
     "execution_count": 3,
     "metadata": {},
     "output_type": "execute_result"
    }
   ],
   "source": [
    "df.set_index('fname', inplace=True)\n",
    "\n",
    "for f in df.index:\n",
    "    signal,rate = librosa.load(f)\n",
    "    df.at[f, 'length'] = signal.shape[0]/rate\n",
    "\n",
    "df.head()"
   ]
  },
  {
   "cell_type": "code",
   "execution_count": 4,
   "id": "23d7ce99",
   "metadata": {},
   "outputs": [
    {
     "data": {
      "text/plain": [
       "1494"
      ]
     },
     "execution_count": 4,
     "metadata": {},
     "output_type": "execute_result"
    }
   ],
   "source": [
    "# get class names\n",
    "classes = list(np.unique(df.label))\n",
    "\n",
    "# get probability distribution of classes based on duration of audio files\n",
    "class_dist = df.groupby(['label'])['length'].mean()\n",
    "prob_dist = class_dist/class_dist.sum()\n",
    "\n",
    "# Get 2 * audio samples of duration 1/10 secs taken from all audio files\n",
    "n_samples = int(2 * (1/0.1)* df['length'].sum())\n",
    "n_samples"
   ]
  },
  {
   "cell_type": "markdown",
   "id": "e11b02b1",
   "metadata": {},
   "source": [
    "# Feature Extraction"
   ]
  },
  {
   "cell_type": "code",
   "execution_count": 5,
   "id": "e055575e",
   "metadata": {},
   "outputs": [],
   "source": [
    "# function to load existing model configurations (if exists)\n",
    "def check_data():\n",
    "    if os.path.isfile(config.p_path):\n",
    "        print('Loading existing data for {} model'.format(config.mode))\n",
    "        with open(config.p_path,'rb') as handle:\n",
    "            tmp = pickle.load(handle)\n",
    "            return tmp\n",
    "    else:\n",
    "        return None"
   ]
  },
  {
   "cell_type": "code",
   "execution_count": 6,
   "id": "61b8ae7b",
   "metadata": {},
   "outputs": [],
   "source": [
    "def build_random_feat():\n",
    "    \n",
    "    # if configurations already exit for a model, then load them. If not, then make new configurations.\n",
    "    tmp = check_data()\n",
    "    if tmp:\n",
    "        return tmp.data[0],tmp.data[1]\n",
    "    \n",
    "    X = []\n",
    "    y = []\n",
    "    _min, _max = float('inf'), float('-inf')\n",
    "    \n",
    "    for _ in tqdm(range(n_samples)):\n",
    "        \n",
    "        # choose a random audio sample from dataset according to their probability distribution\n",
    "        rand_class = np.random.choice(class_dist.index,p=prob_dist)\n",
    "        file = np.random.choice(df[df.label==rand_class].index)\n",
    "        rate, wav = wavfile.read(file)\n",
    "        label = df.at[file,'label']\n",
    "        \n",
    "        # crop a random duration of 1/10 sec from chosen audio sample\n",
    "        rand_index = np.random.randint(0,wav.shape[0]-config.step)\n",
    "        sample = wav[rand_index:rand_index+config.step]\n",
    "        \n",
    "        # get MFCC of the cropped duration\n",
    "        X_sample = mfcc(sample, rate,\n",
    "                    numcep=config.nfeat, nfilt=config.nfilt, nfft=config.nfft)\n",
    "        \n",
    "        _min = min(np.amin(X_sample), _min)\n",
    "        _max = max(np.amax(X_sample), _max)\n",
    "        \n",
    "        # save audio sample\n",
    "        X.append(X_sample)\n",
    "        y.append(classes.index(label))\n",
    "        \n",
    "    config.min = _min\n",
    "    config.max = _max\n",
    "    \n",
    "    X, y = np.array(X), np.array(y)\n",
    "    X = (X - _min) / (_max - _min)\n",
    "    \n",
    "    if config.mode=='conv':\n",
    "        X = X.reshape(X.shape[0], X.shape[1], X.shape[2], 1)\n",
    "    elif config.mode=='time':\n",
    "        X = X.reshape(X.shape[0], X.shape[1], X.shape[2])\n",
    "        \n",
    "    config.data = (X,y)\n",
    "    \n",
    "    # save model configurations\n",
    "    with open(config.p_path,'wb') as handle:\n",
    "        pickle.dump(config, handle, protocol=pickle.HIGHEST_PROTOCOL)\n",
    "             \n",
    "    return X,y"
   ]
  },
  {
   "cell_type": "markdown",
   "id": "b1e8db06",
   "metadata": {},
   "source": [
    "# Modeling"
   ]
  },
  {
   "cell_type": "code",
   "execution_count": 8,
   "id": "e3717713",
   "metadata": {},
   "outputs": [],
   "source": [
    "# Define LSTM model architecture\n",
    "\n",
    "def get_recurrent_model():\n",
    "    model = Sequential()\n",
    "    model.add(LSTM(128, return_sequences=True, input_shape=input_shape))\n",
    "    model.add(LSTM(128, return_sequences=True))\n",
    "    model.add(Dropout(0.5))\n",
    "    model.add(TimeDistributed(Dense(64, activation='relu')))\n",
    "    model.add(TimeDistributed(Dense(32, activation='relu')))\n",
    "    model.add(TimeDistributed(Dense(16, activation='relu')))\n",
    "    model.add(TimeDistributed(Dense(8, activation='relu')))\n",
    "    model.add(Flatten())\n",
    "    model.add(Dense(32))\n",
    "    model.add(Dense(1, activation='sigmoid'))\n",
    "    model.summary()\n",
    "    model.compile(loss='binary_crossentropy',\n",
    "                  optimizer='adam',\n",
    "                  metrics=['acc'])    \n",
    "                    \n",
    "    return model"
   ]
  },
  {
   "cell_type": "code",
   "execution_count": 9,
   "id": "c39f7365",
   "metadata": {},
   "outputs": [],
   "source": [
    "# Instantiate LSTM model\n",
    "\n",
    "config = Config(mode='time')"
   ]
  },
  {
   "cell_type": "code",
   "execution_count": 10,
   "id": "7d58c70f",
   "metadata": {},
   "outputs": [
    {
     "name": "stderr",
     "output_type": "stream",
     "text": [
      "100%|█████████████████████████████████████████████████████████████████████████████| 1494/1494 [00:01<00:00, 915.80it/s]\n"
     ]
    },
    {
     "name": "stdout",
     "output_type": "stream",
     "text": [
      "Model: \"sequential\"\n",
      "_________________________________________________________________\n",
      " Layer (type)                Output Shape              Param #   \n",
      "=================================================================\n",
      " lstm (LSTM)                 (None, 9, 128)            72704     \n",
      "                                                                 \n",
      " lstm_1 (LSTM)               (None, 9, 128)            131584    \n",
      "                                                                 \n",
      " dropout (Dropout)           (None, 9, 128)            0         \n",
      "                                                                 \n",
      " time_distributed (TimeDistr  (None, 9, 64)            8256      \n",
      " ibuted)                                                         \n",
      "                                                                 \n",
      " time_distributed_1 (TimeDis  (None, 9, 32)            2080      \n",
      " tributed)                                                       \n",
      "                                                                 \n",
      " time_distributed_2 (TimeDis  (None, 9, 16)            528       \n",
      " tributed)                                                       \n",
      "                                                                 \n",
      " time_distributed_3 (TimeDis  (None, 9, 8)             136       \n",
      " tributed)                                                       \n",
      "                                                                 \n",
      " flatten (Flatten)           (None, 72)                0         \n",
      "                                                                 \n",
      " dense_4 (Dense)             (None, 32)                2336      \n",
      "                                                                 \n",
      " dense_5 (Dense)             (None, 1)                 33        \n",
      "                                                                 \n",
      "=================================================================\n",
      "Total params: 217,657\n",
      "Trainable params: 217,657\n",
      "Non-trainable params: 0\n",
      "_________________________________________________________________\n"
     ]
    }
   ],
   "source": [
    "if config.mode == 'conv':\n",
    "    X, y = build_random_feat()\n",
    "    input_shape = (X.shape[1], X.shape[2], 1)\n",
    "    model = get_conv_model()\n",
    "    model_name = 'MFCC_Conv2D'\n",
    "    \n",
    "elif config.mode == 'time':\n",
    "    X, y = build_random_feat()\n",
    "    input_shape = (X.shape[1], X.shape[2])\n",
    "    model = get_recurrent_model()\n",
    "    model_name = 'MFCC_LSTM'"
   ]
  },
  {
   "cell_type": "code",
   "execution_count": 11,
   "id": "75a18a63",
   "metadata": {},
   "outputs": [
    {
     "data": {
      "text/plain": [
       "Counter({1: 797, 0: 697})"
      ]
     },
     "execution_count": 11,
     "metadata": {},
     "output_type": "execute_result"
    }
   ],
   "source": [
    "Counter(y)"
   ]
  },
  {
   "cell_type": "code",
   "execution_count": 12,
   "id": "cfe74c16",
   "metadata": {},
   "outputs": [
    {
     "data": {
      "text/plain": [
       "{0: 1.0717360114777619, 1: 0.9372647427854455}"
      ]
     },
     "execution_count": 12,
     "metadata": {},
     "output_type": "execute_result"
    }
   ],
   "source": [
    "# class weights to handle class imbalance (if any)\n",
    "\n",
    "class_weights = compute_class_weight(class_weight = \"balanced\", classes = np.unique(y), y = y)\n",
    "class_weights = dict(zip(np.unique(y), class_weights))\n",
    "class_weights"
   ]
  },
  {
   "cell_type": "code",
   "execution_count": 13,
   "id": "9d813048",
   "metadata": {},
   "outputs": [
    {
     "name": "stdout",
     "output_type": "stream",
     "text": [
      "WARNING:tensorflow:`period` argument is deprecated. Please use `save_freq` to specify the frequency in number of batches seen.\n"
     ]
    }
   ],
   "source": [
    "# Callbacks\n",
    "\n",
    "checkpoint      = ModelCheckpoint(config.model_path, \n",
    "                                  monitor='val_acc', \n",
    "                                  verbose=0, \n",
    "                                  save_best_only=True, \n",
    "                                  mode='max',\n",
    "                                 save_weights_only=False,\n",
    "                                 period=1)\n",
    "\n",
    "csv_logger      = CSVLogger('plots/{}.csv'.format(model_name))\n",
    "\n",
    "es = EarlyStopping(monitor='val_loss', mode='min', patience=20)  \n",
    "\n",
    "callbacks_list  = [#checkpoint,\n",
    "                   csv_logger,\n",
    "                   es\n",
    "                  ]"
   ]
  },
  {
   "cell_type": "code",
   "execution_count": 14,
   "id": "bdab216b",
   "metadata": {
    "scrolled": false
   },
   "outputs": [
    {
     "name": "stdout",
     "output_type": "stream",
     "text": [
      "Epoch 1/100\n",
      "38/38 [==============================] - 4s 19ms/step - loss: 0.6956 - acc: 0.4686 - val_loss: 0.6983 - val_acc: 0.4147\n",
      "Epoch 2/100\n",
      "38/38 [==============================] - 0s 7ms/step - loss: 0.6899 - acc: 0.5013 - val_loss: 0.6744 - val_acc: 0.5853\n",
      "Epoch 3/100\n",
      "38/38 [==============================] - 0s 8ms/step - loss: 0.6690 - acc: 0.5799 - val_loss: 0.6162 - val_acc: 0.6622\n",
      "Epoch 4/100\n",
      "38/38 [==============================] - 0s 8ms/step - loss: 0.6614 - acc: 0.6126 - val_loss: 0.6515 - val_acc: 0.5853\n",
      "Epoch 5/100\n",
      "38/38 [==============================] - 0s 8ms/step - loss: 0.6397 - acc: 0.6611 - val_loss: 0.5981 - val_acc: 0.6756\n",
      "Epoch 6/100\n",
      "38/38 [==============================] - 0s 8ms/step - loss: 0.5919 - acc: 0.6745 - val_loss: 0.5786 - val_acc: 0.7023\n",
      "Epoch 7/100\n",
      "38/38 [==============================] - 0s 9ms/step - loss: 0.5668 - acc: 0.7038 - val_loss: 0.5926 - val_acc: 0.6957\n",
      "Epoch 8/100\n",
      "38/38 [==============================] - 0s 8ms/step - loss: 0.5784 - acc: 0.6887 - val_loss: 0.6293 - val_acc: 0.6656\n",
      "Epoch 9/100\n",
      "38/38 [==============================] - 0s 7ms/step - loss: 0.5551 - acc: 0.7038 - val_loss: 0.5619 - val_acc: 0.7157\n",
      "Epoch 10/100\n",
      "38/38 [==============================] - 0s 9ms/step - loss: 0.5578 - acc: 0.6996 - val_loss: 0.6078 - val_acc: 0.6823\n",
      "Epoch 11/100\n",
      "38/38 [==============================] - 0s 8ms/step - loss: 0.5516 - acc: 0.6996 - val_loss: 0.5833 - val_acc: 0.7090\n",
      "Epoch 12/100\n",
      "38/38 [==============================] - 0s 7ms/step - loss: 0.5566 - acc: 0.6946 - val_loss: 0.5709 - val_acc: 0.7224\n",
      "Epoch 13/100\n",
      "38/38 [==============================] - 0s 7ms/step - loss: 0.5316 - acc: 0.7130 - val_loss: 0.5141 - val_acc: 0.7425\n",
      "Epoch 14/100\n",
      "38/38 [==============================] - 0s 7ms/step - loss: 0.5021 - acc: 0.7414 - val_loss: 0.4510 - val_acc: 0.7926\n",
      "Epoch 15/100\n",
      "38/38 [==============================] - 0s 7ms/step - loss: 0.5654 - acc: 0.6762 - val_loss: 0.5434 - val_acc: 0.7023\n",
      "Epoch 16/100\n",
      "38/38 [==============================] - 0s 7ms/step - loss: 0.5277 - acc: 0.6996 - val_loss: 0.5165 - val_acc: 0.7358\n",
      "Epoch 17/100\n",
      "38/38 [==============================] - 0s 7ms/step - loss: 0.4966 - acc: 0.7506 - val_loss: 0.5404 - val_acc: 0.7291\n",
      "Epoch 18/100\n",
      "38/38 [==============================] - 0s 7ms/step - loss: 0.4743 - acc: 0.7674 - val_loss: 0.4411 - val_acc: 0.7926\n",
      "Epoch 19/100\n",
      "38/38 [==============================] - 0s 7ms/step - loss: 0.4462 - acc: 0.7866 - val_loss: 0.4373 - val_acc: 0.7960\n",
      "Epoch 20/100\n",
      "38/38 [==============================] - 0s 7ms/step - loss: 0.4545 - acc: 0.7782 - val_loss: 0.4804 - val_acc: 0.7291\n",
      "Epoch 21/100\n",
      "38/38 [==============================] - 0s 7ms/step - loss: 0.4673 - acc: 0.7556 - val_loss: 0.6517 - val_acc: 0.5920\n",
      "Epoch 22/100\n",
      "38/38 [==============================] - 0s 7ms/step - loss: 0.4848 - acc: 0.7649 - val_loss: 0.5246 - val_acc: 0.7826\n",
      "Epoch 23/100\n",
      "38/38 [==============================] - 0s 7ms/step - loss: 0.4368 - acc: 0.7900 - val_loss: 0.5669 - val_acc: 0.7090\n",
      "Epoch 24/100\n",
      "38/38 [==============================] - 0s 7ms/step - loss: 0.4390 - acc: 0.7799 - val_loss: 0.4777 - val_acc: 0.7793\n",
      "Epoch 25/100\n",
      "38/38 [==============================] - 0s 7ms/step - loss: 0.4634 - acc: 0.7573 - val_loss: 0.4275 - val_acc: 0.7826\n",
      "Epoch 26/100\n",
      "38/38 [==============================] - 0s 7ms/step - loss: 0.4235 - acc: 0.7950 - val_loss: 0.4311 - val_acc: 0.8227\n",
      "Epoch 27/100\n",
      "38/38 [==============================] - 0s 7ms/step - loss: 0.4085 - acc: 0.8033 - val_loss: 0.4393 - val_acc: 0.8027\n",
      "Epoch 28/100\n",
      "38/38 [==============================] - 0s 7ms/step - loss: 0.4236 - acc: 0.8059 - val_loss: 0.5274 - val_acc: 0.7157\n",
      "Epoch 29/100\n",
      "38/38 [==============================] - 0s 7ms/step - loss: 0.4238 - acc: 0.8008 - val_loss: 0.4799 - val_acc: 0.7759\n",
      "Epoch 30/100\n",
      "38/38 [==============================] - 0s 7ms/step - loss: 0.3953 - acc: 0.8033 - val_loss: 0.4175 - val_acc: 0.7826\n",
      "Epoch 31/100\n",
      "38/38 [==============================] - 0s 7ms/step - loss: 0.3733 - acc: 0.8209 - val_loss: 0.4614 - val_acc: 0.7860\n",
      "Epoch 32/100\n",
      "38/38 [==============================] - 0s 8ms/step - loss: 0.4131 - acc: 0.7908 - val_loss: 0.4175 - val_acc: 0.7960\n",
      "Epoch 33/100\n",
      "38/38 [==============================] - 0s 7ms/step - loss: 0.3867 - acc: 0.8184 - val_loss: 0.4442 - val_acc: 0.7793\n",
      "Epoch 34/100\n",
      "38/38 [==============================] - 0s 8ms/step - loss: 0.3955 - acc: 0.8117 - val_loss: 0.3652 - val_acc: 0.8361\n",
      "Epoch 35/100\n",
      "38/38 [==============================] - 0s 7ms/step - loss: 0.3418 - acc: 0.8368 - val_loss: 0.3831 - val_acc: 0.8428\n",
      "Epoch 36/100\n",
      "38/38 [==============================] - 0s 7ms/step - loss: 0.3342 - acc: 0.8351 - val_loss: 0.4047 - val_acc: 0.8227\n",
      "Epoch 37/100\n",
      "38/38 [==============================] - 0s 7ms/step - loss: 0.4790 - acc: 0.7506 - val_loss: 0.3812 - val_acc: 0.8194\n",
      "Epoch 38/100\n",
      "38/38 [==============================] - 0s 7ms/step - loss: 0.4172 - acc: 0.8042 - val_loss: 0.5787 - val_acc: 0.6957\n",
      "Epoch 39/100\n",
      "38/38 [==============================] - 0s 7ms/step - loss: 0.3680 - acc: 0.8184 - val_loss: 0.4496 - val_acc: 0.7793\n",
      "Epoch 40/100\n",
      "38/38 [==============================] - 0s 7ms/step - loss: 0.3570 - acc: 0.8351 - val_loss: 0.4208 - val_acc: 0.8060\n",
      "Epoch 41/100\n",
      "38/38 [==============================] - 0s 7ms/step - loss: 0.3376 - acc: 0.8410 - val_loss: 0.4027 - val_acc: 0.8094\n",
      "Epoch 42/100\n",
      "38/38 [==============================] - 0s 7ms/step - loss: 0.4184 - acc: 0.7983 - val_loss: 0.4275 - val_acc: 0.7592\n",
      "Epoch 43/100\n",
      "38/38 [==============================] - 0s 7ms/step - loss: 0.3571 - acc: 0.8251 - val_loss: 0.3416 - val_acc: 0.8428\n",
      "Epoch 44/100\n",
      "38/38 [==============================] - 0s 8ms/step - loss: 0.3381 - acc: 0.8527 - val_loss: 0.3906 - val_acc: 0.8127\n",
      "Epoch 45/100\n",
      "38/38 [==============================] - 0s 7ms/step - loss: 0.3101 - acc: 0.8628 - val_loss: 0.3708 - val_acc: 0.8194\n",
      "Epoch 46/100\n",
      "38/38 [==============================] - 0s 8ms/step - loss: 0.2858 - acc: 0.8686 - val_loss: 0.3714 - val_acc: 0.8161\n",
      "Epoch 47/100\n",
      "38/38 [==============================] - 0s 7ms/step - loss: 0.3421 - acc: 0.8452 - val_loss: 0.3648 - val_acc: 0.8428\n",
      "Epoch 48/100\n",
      "38/38 [==============================] - 0s 7ms/step - loss: 0.2836 - acc: 0.8778 - val_loss: 0.3160 - val_acc: 0.8729\n",
      "Epoch 49/100\n",
      "38/38 [==============================] - 0s 7ms/step - loss: 0.3018 - acc: 0.8544 - val_loss: 0.4045 - val_acc: 0.7860\n",
      "Epoch 50/100\n",
      "38/38 [==============================] - 0s 7ms/step - loss: 0.2518 - acc: 0.8887 - val_loss: 0.3327 - val_acc: 0.8629\n",
      "Epoch 51/100\n",
      "38/38 [==============================] - 0s 7ms/step - loss: 0.2484 - acc: 0.8962 - val_loss: 0.3266 - val_acc: 0.8595\n",
      "Epoch 52/100\n",
      "38/38 [==============================] - 0s 7ms/step - loss: 0.2355 - acc: 0.9013 - val_loss: 0.2922 - val_acc: 0.8562\n",
      "Epoch 53/100\n",
      "38/38 [==============================] - 0s 7ms/step - loss: 0.3037 - acc: 0.8619 - val_loss: 0.3742 - val_acc: 0.8227\n",
      "Epoch 54/100\n",
      "38/38 [==============================] - 0s 7ms/step - loss: 0.2410 - acc: 0.8987 - val_loss: 0.3230 - val_acc: 0.8428\n",
      "Epoch 55/100\n",
      "38/38 [==============================] - 0s 8ms/step - loss: 0.2574 - acc: 0.8854 - val_loss: 0.2833 - val_acc: 0.8629\n",
      "Epoch 56/100\n",
      "38/38 [==============================] - 0s 7ms/step - loss: 0.2039 - acc: 0.9121 - val_loss: 0.2491 - val_acc: 0.8930\n",
      "Epoch 57/100\n",
      "38/38 [==============================] - 0s 7ms/step - loss: 0.2242 - acc: 0.9105 - val_loss: 0.3416 - val_acc: 0.8227\n",
      "Epoch 58/100\n",
      "38/38 [==============================] - 0s 7ms/step - loss: 0.2427 - acc: 0.8954 - val_loss: 0.2679 - val_acc: 0.8729\n",
      "Epoch 59/100\n",
      "38/38 [==============================] - 0s 7ms/step - loss: 0.2086 - acc: 0.9213 - val_loss: 0.2371 - val_acc: 0.9064\n",
      "Epoch 60/100\n",
      "38/38 [==============================] - 0s 7ms/step - loss: 0.1607 - acc: 0.9339 - val_loss: 0.3932 - val_acc: 0.8328\n",
      "Epoch 61/100\n",
      "38/38 [==============================] - 0s 7ms/step - loss: 0.2127 - acc: 0.9079 - val_loss: 0.4299 - val_acc: 0.8227\n",
      "Epoch 62/100\n",
      "38/38 [==============================] - 0s 7ms/step - loss: 0.2306 - acc: 0.9038 - val_loss: 0.2492 - val_acc: 0.8763\n",
      "Epoch 63/100\n",
      "38/38 [==============================] - 0s 7ms/step - loss: 0.2107 - acc: 0.9155 - val_loss: 0.2730 - val_acc: 0.8629\n",
      "Epoch 64/100\n",
      "38/38 [==============================] - 0s 7ms/step - loss: 0.2069 - acc: 0.9205 - val_loss: 0.2967 - val_acc: 0.8629\n",
      "Epoch 65/100\n",
      "38/38 [==============================] - 0s 7ms/step - loss: 0.2597 - acc: 0.8921 - val_loss: 0.2524 - val_acc: 0.8863\n",
      "Epoch 66/100\n",
      "38/38 [==============================] - 0s 7ms/step - loss: 0.1765 - acc: 0.9188 - val_loss: 0.2646 - val_acc: 0.8829\n",
      "Epoch 67/100\n",
      "38/38 [==============================] - 0s 7ms/step - loss: 0.1716 - acc: 0.9205 - val_loss: 0.3542 - val_acc: 0.8495\n",
      "Epoch 68/100\n",
      "38/38 [==============================] - 0s 7ms/step - loss: 0.1905 - acc: 0.9280 - val_loss: 0.2662 - val_acc: 0.8662\n",
      "Epoch 69/100\n",
      "38/38 [==============================] - 0s 7ms/step - loss: 0.1845 - acc: 0.9255 - val_loss: 0.2803 - val_acc: 0.8729\n",
      "Epoch 70/100\n",
      "38/38 [==============================] - 0s 7ms/step - loss: 0.1837 - acc: 0.9213 - val_loss: 0.2484 - val_acc: 0.8763\n",
      "Epoch 71/100\n",
      "38/38 [==============================] - 0s 7ms/step - loss: 0.2033 - acc: 0.9163 - val_loss: 0.2085 - val_acc: 0.8997\n",
      "Epoch 72/100\n",
      "38/38 [==============================] - 0s 7ms/step - loss: 0.1251 - acc: 0.9598 - val_loss: 0.2139 - val_acc: 0.9064\n",
      "Epoch 73/100\n",
      "38/38 [==============================] - 0s 7ms/step - loss: 0.1270 - acc: 0.9506 - val_loss: 0.2754 - val_acc: 0.8863\n",
      "Epoch 74/100\n",
      "38/38 [==============================] - 0s 7ms/step - loss: 0.1795 - acc: 0.9247 - val_loss: 0.2968 - val_acc: 0.8729\n",
      "Epoch 75/100\n",
      "38/38 [==============================] - 0s 7ms/step - loss: 0.1788 - acc: 0.9272 - val_loss: 0.2176 - val_acc: 0.8896\n",
      "Epoch 76/100\n",
      "38/38 [==============================] - 0s 7ms/step - loss: 0.1456 - acc: 0.9431 - val_loss: 0.2129 - val_acc: 0.8963\n",
      "Epoch 77/100\n",
      "38/38 [==============================] - 0s 7ms/step - loss: 0.1205 - acc: 0.9548 - val_loss: 0.3705 - val_acc: 0.8361\n",
      "Epoch 78/100\n",
      "38/38 [==============================] - 0s 7ms/step - loss: 0.1508 - acc: 0.9406 - val_loss: 0.2319 - val_acc: 0.8997\n",
      "Epoch 79/100\n",
      "38/38 [==============================] - 0s 7ms/step - loss: 0.1259 - acc: 0.9456 - val_loss: 0.2356 - val_acc: 0.8963\n",
      "Epoch 80/100\n",
      "38/38 [==============================] - 0s 7ms/step - loss: 0.1131 - acc: 0.9548 - val_loss: 0.2315 - val_acc: 0.8763\n",
      "Epoch 81/100\n",
      "38/38 [==============================] - 0s 7ms/step - loss: 0.1120 - acc: 0.9515 - val_loss: 0.2126 - val_acc: 0.9298\n",
      "Epoch 82/100\n",
      "38/38 [==============================] - 0s 7ms/step - loss: 0.1689 - acc: 0.9314 - val_loss: 0.2147 - val_acc: 0.9264\n",
      "Epoch 83/100\n",
      "38/38 [==============================] - 0s 7ms/step - loss: 0.1362 - acc: 0.9448 - val_loss: 0.2433 - val_acc: 0.8763\n",
      "Epoch 84/100\n",
      "38/38 [==============================] - 0s 8ms/step - loss: 0.1200 - acc: 0.9556 - val_loss: 0.1816 - val_acc: 0.9298\n",
      "Epoch 85/100\n",
      "38/38 [==============================] - 0s 8ms/step - loss: 0.1159 - acc: 0.9598 - val_loss: 0.2428 - val_acc: 0.8997\n",
      "Epoch 86/100\n",
      "38/38 [==============================] - 0s 8ms/step - loss: 0.1352 - acc: 0.9515 - val_loss: 0.2982 - val_acc: 0.8629\n",
      "Epoch 87/100\n",
      "38/38 [==============================] - 0s 7ms/step - loss: 0.1092 - acc: 0.9573 - val_loss: 0.2063 - val_acc: 0.9264\n",
      "Epoch 88/100\n",
      "38/38 [==============================] - 0s 7ms/step - loss: 0.1023 - acc: 0.9615 - val_loss: 0.4224 - val_acc: 0.8562\n",
      "Epoch 89/100\n",
      "38/38 [==============================] - 0s 7ms/step - loss: 0.2283 - acc: 0.9054 - val_loss: 0.2372 - val_acc: 0.8963\n",
      "Epoch 90/100\n",
      "38/38 [==============================] - 0s 7ms/step - loss: 0.1234 - acc: 0.9540 - val_loss: 0.2458 - val_acc: 0.9097\n",
      "Epoch 91/100\n",
      "38/38 [==============================] - 0s 7ms/step - loss: 0.0829 - acc: 0.9665 - val_loss: 0.2757 - val_acc: 0.8963\n",
      "Epoch 92/100\n",
      "38/38 [==============================] - 0s 7ms/step - loss: 0.1018 - acc: 0.9565 - val_loss: 0.2179 - val_acc: 0.9197\n",
      "Epoch 93/100\n",
      "38/38 [==============================] - 0s 7ms/step - loss: 0.0621 - acc: 0.9724 - val_loss: 0.2966 - val_acc: 0.9030\n",
      "Epoch 94/100\n",
      "38/38 [==============================] - 0s 7ms/step - loss: 0.1680 - acc: 0.9305 - val_loss: 0.2531 - val_acc: 0.8896\n",
      "Epoch 95/100\n",
      "38/38 [==============================] - 0s 7ms/step - loss: 0.1346 - acc: 0.9481 - val_loss: 0.2022 - val_acc: 0.9298\n",
      "Epoch 96/100\n",
      "38/38 [==============================] - 0s 7ms/step - loss: 0.0963 - acc: 0.9607 - val_loss: 0.2439 - val_acc: 0.9097\n",
      "Epoch 97/100\n",
      "38/38 [==============================] - 0s 7ms/step - loss: 0.0638 - acc: 0.9749 - val_loss: 0.3157 - val_acc: 0.8729\n",
      "Epoch 98/100\n",
      "38/38 [==============================] - 0s 7ms/step - loss: 0.1443 - acc: 0.9473 - val_loss: 0.2572 - val_acc: 0.8997\n",
      "Epoch 99/100\n",
      "38/38 [==============================] - 0s 7ms/step - loss: 0.0683 - acc: 0.9766 - val_loss: 0.2338 - val_acc: 0.9197\n",
      "Epoch 100/100\n",
      "38/38 [==============================] - 0s 7ms/step - loss: 0.0783 - acc: 0.9741 - val_loss: 0.3544 - val_acc: 0.8696\n"
     ]
    },
    {
     "data": {
      "text/plain": [
       "<keras.callbacks.History at 0x1d0322b7eb8>"
      ]
     },
     "execution_count": 14,
     "metadata": {},
     "output_type": "execute_result"
    }
   ],
   "source": [
    "# Train model\n",
    "\n",
    "model.fit(X, y, \n",
    "          epochs=100, \n",
    "          batch_size=32,\n",
    "          shuffle=True,\n",
    "          validation_split=0.2,\n",
    "          class_weight=class_weights,\n",
    "          callbacks=callbacks_list)"
   ]
  },
  {
   "cell_type": "code",
   "execution_count": 16,
   "id": "d6d5885e",
   "metadata": {},
   "outputs": [
    {
     "data": {
      "image/png": "[encoded data removed]",
      "text/plain": [
       "<Figure size 432x288 with 2 Axes>"
      ]
     },
     "metadata": {
      "needs_background": "light"
     },
     "output_type": "display_data"
    }
   ],
   "source": [
    "# Plot curves\n",
    "\n",
    "records = pd.read_csv('plots/{}.csv'.format(model_name))\n",
    "plt.figure()\n",
    "\n",
    "plt.subplot(211)\n",
    "plt.plot(records['loss'],label=\"training\")\n",
    "plt.plot(records['val_loss'], label=\"validation\")\n",
    "plt.yticks([0.00,0.50,1.00,1.50])\n",
    "plt.title('Loss value',fontsize=12)\n",
    "\n",
    "ax = plt.gca()\n",
    "ax.set_xticklabels([])\n",
    "\n",
    "plt.subplot(212)\n",
    "plt.plot(records['acc'],label=\"training\")\n",
    "plt.plot(records['val_acc'],label=\"validation\")\n",
    "plt.yticks([0.5,0.6,0.7,0.8])\n",
    "plt.title('Accuracy',fontsize=12)\n",
    "ax.legend()\n",
    "plt.show()"
   ]
  },
  {
   "cell_type": "markdown",
   "id": "bea0dcec",
   "metadata": {},
   "source": [
    "# Save model"
   ]
  },
  {
   "cell_type": "code",
   "execution_count": 15,
   "id": "aa06373e",
   "metadata": {},
   "outputs": [
    {
     "name": "stderr",
     "output_type": "stream",
     "text": [
      "WARNING:absl:Found untraced functions such as lstm_cell_layer_call_fn, lstm_cell_layer_call_and_return_conditional_losses, lstm_cell_1_layer_call_fn, lstm_cell_1_layer_call_and_return_conditional_losses while saving (showing 4 of 4). These functions will not be directly callable after loading.\n"
     ]
    },
    {
     "name": "stdout",
     "output_type": "stream",
     "text": [
      "INFO:tensorflow:Assets written to: models\\time.model\\assets\n"
     ]
    },
    {
     "name": "stderr",
     "output_type": "stream",
     "text": [
      "INFO:tensorflow:Assets written to: models\\time.model\\assets\n",
      "WARNING:absl:<keras.layers.recurrent.LSTMCell object at 0x000001D02A16F518> has the same name 'LSTMCell' as a built-in Keras object. Consider renaming <class 'keras.layers.recurrent.LSTMCell'> to avoid naming conflicts when loading with `tf.keras.models.load_model`. If renaming is not possible, pass the object in the `custom_objects` parameter of the load function.\n",
      "WARNING:absl:<keras.layers.recurrent.LSTMCell object at 0x000001D02A138240> has the same name 'LSTMCell' as a built-in Keras object. Consider renaming <class 'keras.layers.recurrent.LSTMCell'> to avoid naming conflicts when loading with `tf.keras.models.load_model`. If renaming is not possible, pass the object in the `custom_objects` parameter of the load function.\n"
     ]
    }
   ],
   "source": [
    "model.save(config.model_path)"
   ]
  }
 ],
 "metadata": {
  "kernelspec": {
   "display_name": "Python 3 (ipykernel)",
   "language": "python",
   "name": "python3"
  },
  "language_info": {
   "codemirror_mode": {
    "name": "ipython",
    "version": 3
   },
   "file_extension": ".py",
   "mimetype": "text/x-python",
   "name": "python",
   "nbconvert_exporter": "python",
   "pygments_lexer": "ipython3",
   "version": "3.7.0"
  }
 },
 "nbformat": 4,
 "nbformat_minor": 5
}
