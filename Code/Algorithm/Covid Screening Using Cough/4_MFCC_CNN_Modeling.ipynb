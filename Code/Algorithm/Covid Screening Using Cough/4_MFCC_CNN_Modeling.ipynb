{
 "cells": [
  {
   "cell_type": "markdown",
   "id": "62abfc1a",
   "metadata": {},
   "source": [
    "# Import Packages"
   ]
  },
  {
   "cell_type": "code",
   "execution_count": 1,
   "id": "fe290f61",
   "metadata": {},
   "outputs": [],
   "source": [
    "from packages import *\n",
    "%matplotlib inline"
   ]
  },
  {
   "cell_type": "markdown",
   "id": "92c71b9f",
   "metadata": {},
   "source": [
    "# Read Dataset"
   ]
  },
  {
   "cell_type": "code",
   "execution_count": 2,
   "id": "34417070",
   "metadata": {},
   "outputs": [
    {
     "data": {
      "text/html": [
       "<div>\n",
       "<style scoped>\n",
       "    .dataframe tbody tr th:only-of-type {\n",
       "        vertical-align: middle;\n",
       "    }\n",
       "\n",
       "    .dataframe tbody tr th {\n",
       "        vertical-align: top;\n",
       "    }\n",
       "\n",
       "    .dataframe thead th {\n",
       "        text-align: right;\n",
       "    }\n",
       "</style>\n",
       "<table border=\"1\" class=\"dataframe\">\n",
       "  <thead>\n",
       "    <tr style=\"text-align: right;\">\n",
       "      <th></th>\n",
       "      <th>fname</th>\n",
       "      <th>label</th>\n",
       "    </tr>\n",
       "  </thead>\n",
       "  <tbody>\n",
       "    <tr>\n",
       "      <th>0</th>\n",
       "      <td>virufy_clean\\neg-0421-083-cough-m-53-1.wav</td>\n",
       "      <td>neg</td>\n",
       "    </tr>\n",
       "    <tr>\n",
       "      <th>1</th>\n",
       "      <td>virufy_clean\\neg-0421-083-cough-m-53-10.wav</td>\n",
       "      <td>neg</td>\n",
       "    </tr>\n",
       "    <tr>\n",
       "      <th>2</th>\n",
       "      <td>virufy_clean\\neg-0421-083-cough-m-53-11.wav</td>\n",
       "      <td>neg</td>\n",
       "    </tr>\n",
       "    <tr>\n",
       "      <th>3</th>\n",
       "      <td>virufy_clean\\neg-0421-083-cough-m-53-12.wav</td>\n",
       "      <td>neg</td>\n",
       "    </tr>\n",
       "    <tr>\n",
       "      <th>4</th>\n",
       "      <td>virufy_clean\\neg-0421-083-cough-m-53-13.wav</td>\n",
       "      <td>neg</td>\n",
       "    </tr>\n",
       "  </tbody>\n",
       "</table>\n",
       "</div>"
      ],
      "text/plain": [
       "                                         fname label\n",
       "0   virufy_clean\\neg-0421-083-cough-m-53-1.wav   neg\n",
       "1  virufy_clean\\neg-0421-083-cough-m-53-10.wav   neg\n",
       "2  virufy_clean\\neg-0421-083-cough-m-53-11.wav   neg\n",
       "3  virufy_clean\\neg-0421-083-cough-m-53-12.wav   neg\n",
       "4  virufy_clean\\neg-0421-083-cough-m-53-13.wav   neg"
      ]
     },
     "execution_count": 2,
     "metadata": {},
     "output_type": "execute_result"
    }
   ],
   "source": [
    "all_files = glob.glob('virufy_clean/*')\n",
    "l1, l2 = [], []\n",
    "for i in all_files: \n",
    "    l1.append(i)\n",
    "    label = i.split('\\\\')[1][:3].strip()\n",
    "    l2.append(label)\n",
    "df = pd.DataFrame(zip(l1,l2),columns=['fname','label'])\n",
    "df.head()"
   ]
  },
  {
   "cell_type": "markdown",
   "id": "5478812d",
   "metadata": {},
   "source": [
    "# Get class distribution"
   ]
  },
  {
   "cell_type": "code",
   "execution_count": 3,
   "id": "bd732f75",
   "metadata": {},
   "outputs": [
    {
     "data": {
      "text/html": [
       "<div>\n",
       "<style scoped>\n",
       "    .dataframe tbody tr th:only-of-type {\n",
       "        vertical-align: middle;\n",
       "    }\n",
       "\n",
       "    .dataframe tbody tr th {\n",
       "        vertical-align: top;\n",
       "    }\n",
       "\n",
       "    .dataframe thead th {\n",
       "        text-align: right;\n",
       "    }\n",
       "</style>\n",
       "<table border=\"1\" class=\"dataframe\">\n",
       "  <thead>\n",
       "    <tr style=\"text-align: right;\">\n",
       "      <th></th>\n",
       "      <th>label</th>\n",
       "      <th>length</th>\n",
       "    </tr>\n",
       "    <tr>\n",
       "      <th>fname</th>\n",
       "      <th></th>\n",
       "      <th></th>\n",
       "    </tr>\n",
       "  </thead>\n",
       "  <tbody>\n",
       "    <tr>\n",
       "      <th>virufy_clean\\neg-0421-083-cough-m-53-1.wav</th>\n",
       "      <td>neg</td>\n",
       "      <td>0.473469</td>\n",
       "    </tr>\n",
       "    <tr>\n",
       "      <th>virufy_clean\\neg-0421-083-cough-m-53-10.wav</th>\n",
       "      <td>neg</td>\n",
       "      <td>0.438277</td>\n",
       "    </tr>\n",
       "    <tr>\n",
       "      <th>virufy_clean\\neg-0421-083-cough-m-53-11.wav</th>\n",
       "      <td>neg</td>\n",
       "      <td>0.511202</td>\n",
       "    </tr>\n",
       "    <tr>\n",
       "      <th>virufy_clean\\neg-0421-083-cough-m-53-12.wav</th>\n",
       "      <td>neg</td>\n",
       "      <td>0.462132</td>\n",
       "    </tr>\n",
       "    <tr>\n",
       "      <th>virufy_clean\\neg-0421-083-cough-m-53-13.wav</th>\n",
       "      <td>neg</td>\n",
       "      <td>0.537914</td>\n",
       "    </tr>\n",
       "  </tbody>\n",
       "</table>\n",
       "</div>"
      ],
      "text/plain": [
       "                                            label    length\n",
       "fname                                                      \n",
       "virufy_clean\\neg-0421-083-cough-m-53-1.wav    neg  0.473469\n",
       "virufy_clean\\neg-0421-083-cough-m-53-10.wav   neg  0.438277\n",
       "virufy_clean\\neg-0421-083-cough-m-53-11.wav   neg  0.511202\n",
       "virufy_clean\\neg-0421-083-cough-m-53-12.wav   neg  0.462132\n",
       "virufy_clean\\neg-0421-083-cough-m-53-13.wav   neg  0.537914"
      ]
     },
     "execution_count": 3,
     "metadata": {},
     "output_type": "execute_result"
    }
   ],
   "source": [
    "df.set_index('fname', inplace=True)\n",
    "\n",
    "for f in df.index:\n",
    "    signal,rate = librosa.load(f)\n",
    "    df.at[f, 'length'] = signal.shape[0]/rate\n",
    "\n",
    "df.head()"
   ]
  },
  {
   "cell_type": "code",
   "execution_count": 4,
   "id": "23d7ce99",
   "metadata": {},
   "outputs": [
    {
     "data": {
      "text/plain": [
       "1494"
      ]
     },
     "execution_count": 4,
     "metadata": {},
     "output_type": "execute_result"
    }
   ],
   "source": [
    "# get class names\n",
    "classes = list(np.unique(df.label))\n",
    "\n",
    "# get probability distribution of classes based on duration of audio files\n",
    "class_dist = df.groupby(['label'])['length'].mean()\n",
    "prob_dist = class_dist/class_dist.sum()\n",
    "\n",
    "# Get 2 * audio samples of duration 1/10 secs taken from all audio files\n",
    "n_samples = int(2 * (1/0.1)* df['length'].sum())\n",
    "n_samples"
   ]
  },
  {
   "cell_type": "markdown",
   "id": "aa3353a9",
   "metadata": {},
   "source": [
    "# Feature Extraction"
   ]
  },
  {
   "cell_type": "code",
   "execution_count": 5,
   "id": "e055575e",
   "metadata": {},
   "outputs": [],
   "source": [
    "# function to load existing model configurations (if exists)\n",
    "def check_data():\n",
    "    if os.path.isfile(config.p_path):\n",
    "        print('Loading existing data for {} model'.format(config.mode))\n",
    "        with open(config.p_path,'rb') as handle:\n",
    "            tmp = pickle.load(handle)\n",
    "            return tmp\n",
    "    else:\n",
    "        return None"
   ]
  },
  {
   "cell_type": "code",
   "execution_count": 6,
   "id": "61b8ae7b",
   "metadata": {},
   "outputs": [],
   "source": [
    "def build_random_feat():\n",
    "    \n",
    "    # if configurations already exit for a model, then load them. If not, then make new configurations.\n",
    "    tmp = check_data()\n",
    "    if tmp:\n",
    "        return tmp.data[0],tmp.data[1]\n",
    "    \n",
    "    X = []\n",
    "    y = []\n",
    "    _min, _max = float('inf'), float('-inf')\n",
    "    \n",
    "    for _ in tqdm(range(n_samples)):\n",
    "        \n",
    "        # choose a random audio sample from dataset according to their probability distribution\n",
    "        rand_class = np.random.choice(class_dist.index,p=prob_dist)\n",
    "        file = np.random.choice(df[df.label==rand_class].index)\n",
    "        rate, wav = wavfile.read(file)\n",
    "        label = df.at[file,'label']\n",
    "        \n",
    "        # crop a random duration of 1/10 sec from chosen audio sample\n",
    "        rand_index = np.random.randint(0,wav.shape[0]-config.step)\n",
    "        sample = wav[rand_index:rand_index+config.step]\n",
    "        \n",
    "        # get MFCC of the cropped duration\n",
    "        X_sample = mfcc(sample, rate,\n",
    "                    numcep=config.nfeat, nfilt=config.nfilt, nfft=config.nfft)\n",
    "        \n",
    "        _min = min(np.amin(X_sample), _min)\n",
    "        _max = max(np.amax(X_sample), _max)\n",
    "        \n",
    "        # save audio sample\n",
    "        X.append(X_sample)\n",
    "        y.append(classes.index(label))\n",
    "        \n",
    "    config.min = _min\n",
    "    config.max = _max\n",
    "    \n",
    "    X, y = np.array(X), np.array(y)\n",
    "    X = (X - _min) / (_max - _min)\n",
    "    \n",
    "    if config.mode=='conv':\n",
    "        X = X.reshape(X.shape[0], X.shape[1], X.shape[2], 1)\n",
    "    elif config.mode=='time':\n",
    "        X = X.reshape(X.shape[0], X.shape[1], X.shape[2])\n",
    "        \n",
    "    config.data = (X,y)\n",
    "    \n",
    "    # save model configurations\n",
    "    with open(config.p_path,'wb') as handle:\n",
    "        pickle.dump(config, handle, protocol=pickle.HIGHEST_PROTOCOL)\n",
    "             \n",
    "    return X,y"
   ]
  },
  {
   "cell_type": "markdown",
   "id": "43bbdd35",
   "metadata": {},
   "source": [
    "# Modeling"
   ]
  },
  {
   "cell_type": "code",
   "execution_count": 7,
   "id": "e1d84ad7",
   "metadata": {},
   "outputs": [],
   "source": [
    "# Define 2DCNN model architecture\n",
    "\n",
    "def get_conv_model():\n",
    "    model = Sequential()\n",
    "    model.add(Conv2D(16, (5, 5), activation='relu', strides=(2, 2),\n",
    "                     padding='same', input_shape=input_shape))\n",
    "    model.add(Conv2D(32, (3, 3), activation='relu', strides=(1, 1),\n",
    "                     padding='same'))\n",
    "    model.add(Conv2D(64, (3, 3), activation='relu', strides=(1, 1),\n",
    "                     padding='same'))\n",
    "    model.add(MaxPool2D((2,2)))\n",
    "    model.add(Dropout(0.5))\n",
    "    model.add(Flatten())\n",
    "    model.add(Dense(256, activation='relu'))\n",
    "    model.add(Dense(128, activation='relu'))\n",
    "    model.add(Dense(64, activation='relu'))\n",
    "    model.add(Dense(1, activation='sigmoid'))\n",
    "    model.summary()\n",
    "    model.compile(loss='binary_crossentropy',\n",
    "                  optimizer='adam',\n",
    "                  metrics=['acc'])\n",
    "    return model"
   ]
  },
  {
   "cell_type": "code",
   "execution_count": 9,
   "id": "c39f7365",
   "metadata": {},
   "outputs": [],
   "source": [
    "# Instantiate 2DCNN model\n",
    "\n",
    "config = Config(mode='conv')"
   ]
  },
  {
   "cell_type": "code",
   "execution_count": 10,
   "id": "7d58c70f",
   "metadata": {},
   "outputs": [
    {
     "name": "stdout",
     "output_type": "stream",
     "text": [
      "Loading existing data for conv model\n",
      "Model: \"sequential\"\n",
      "_________________________________________________________________\n",
      " Layer (type)                Output Shape              Param #   \n",
      "=================================================================\n",
      " conv2d (Conv2D)             (None, 5, 7, 16)          416       \n",
      "                                                                 \n",
      " conv2d_1 (Conv2D)           (None, 5, 7, 32)          4640      \n",
      "                                                                 \n",
      " conv2d_2 (Conv2D)           (None, 5, 7, 64)          18496     \n",
      "                                                                 \n",
      " max_pooling2d (MaxPooling2D  (None, 2, 3, 64)         0         \n",
      " )                                                               \n",
      "                                                                 \n",
      " dropout (Dropout)           (None, 2, 3, 64)          0         \n",
      "                                                                 \n",
      " flatten (Flatten)           (None, 384)               0         \n",
      "                                                                 \n",
      " dense (Dense)               (None, 256)               98560     \n",
      "                                                                 \n",
      " dense_1 (Dense)             (None, 128)               32896     \n",
      "                                                                 \n",
      " dense_2 (Dense)             (None, 64)                8256      \n",
      "                                                                 \n",
      " dense_3 (Dense)             (None, 1)                 65        \n",
      "                                                                 \n",
      "=================================================================\n",
      "Total params: 163,329\n",
      "Trainable params: 163,329\n",
      "Non-trainable params: 0\n",
      "_________________________________________________________________\n"
     ]
    }
   ],
   "source": [
    "if config.mode == 'conv':\n",
    "    X, y = build_random_feat()\n",
    "    input_shape = (X.shape[1], X.shape[2], 1)\n",
    "    model = get_conv_model()\n",
    "    model_name = 'MFCC_Conv2D'\n",
    "    \n",
    "elif config.mode == 'time':\n",
    "    X, y = build_random_feat()\n",
    "    input_shape = (X.shape[1], X.shape[2])\n",
    "    model = get_recurrent_model()\n",
    "    model_name = 'MFCC_LSTM'"
   ]
  },
  {
   "cell_type": "code",
   "execution_count": 11,
   "id": "75a18a63",
   "metadata": {},
   "outputs": [
    {
     "data": {
      "text/plain": [
       "Counter({0: 652, 1: 842})"
      ]
     },
     "execution_count": 11,
     "metadata": {},
     "output_type": "execute_result"
    }
   ],
   "source": [
    "Counter(y)"
   ]
  },
  {
   "cell_type": "code",
   "execution_count": 12,
   "id": "cfe74c16",
   "metadata": {},
   "outputs": [
    {
     "data": {
      "text/plain": [
       "{0: 1.1457055214723926, 1: 0.8871733966745843}"
      ]
     },
     "execution_count": 12,
     "metadata": {},
     "output_type": "execute_result"
    }
   ],
   "source": [
    "# class weights to handle class imbalance (if any)\n",
    "\n",
    "class_weights = compute_class_weight(class_weight = \"balanced\", classes = np.unique(y), y = y)\n",
    "class_weights = dict(zip(np.unique(y), class_weights))\n",
    "class_weights"
   ]
  },
  {
   "cell_type": "code",
   "execution_count": 13,
   "id": "9d813048",
   "metadata": {},
   "outputs": [
    {
     "name": "stdout",
     "output_type": "stream",
     "text": [
      "WARNING:tensorflow:`period` argument is deprecated. Please use `save_freq` to specify the frequency in number of batches seen.\n"
     ]
    }
   ],
   "source": [
    "# Callbacks\n",
    "\n",
    "checkpoint      = ModelCheckpoint(config.model_path, \n",
    "                                  monitor='val_acc', \n",
    "                                  verbose=0, \n",
    "                                  save_best_only=True, \n",
    "                                  mode='max',\n",
    "                                 save_weights_only=False,\n",
    "                                 period=1)\n",
    "\n",
    "csv_logger      = CSVLogger('plots/{}.csv'.format(model_name))\n",
    "\n",
    "es = EarlyStopping(monitor='val_loss', mode='min', patience=20)  \n",
    "\n",
    "callbacks_list  = [checkpoint,\n",
    "                   csv_logger,\n",
    "                   es\n",
    "                  ]"
   ]
  },
  {
   "cell_type": "code",
   "execution_count": 14,
   "id": "bdab216b",
   "metadata": {
    "scrolled": false
   },
   "outputs": [
    {
     "name": "stdout",
     "output_type": "stream",
     "text": [
      "Epoch 1/100\n",
      "38/38 [==============================] - ETA: 0s - loss: 0.6923 - acc: 0.5464INFO:tensorflow:Assets written to: models\\conv.model\\assets\n",
      "38/38 [==============================] - 4s 26ms/step - loss: 0.6923 - acc: 0.5464 - val_loss: 0.6864 - val_acc: 0.5351\n",
      "Epoch 2/100\n",
      "31/38 [=======================>......] - ETA: 0s - loss: 0.6730 - acc: 0.5938INFO:tensorflow:Assets written to: models\\conv.model\\assets\n",
      "38/38 [==============================] - 1s 23ms/step - loss: 0.6626 - acc: 0.6059 - val_loss: 0.6010 - val_acc: 0.7023\n",
      "Epoch 3/100\n",
      "38/38 [==============================] - 0s 4ms/step - loss: 0.6031 - acc: 0.6820 - val_loss: 0.5931 - val_acc: 0.6756\n",
      "Epoch 4/100\n",
      "26/38 [===================>..........] - ETA: 0s - loss: 0.5705 - acc: 0.7055INFO:tensorflow:Assets written to: models\\conv.model\\assets\n",
      "38/38 [==============================] - 1s 20ms/step - loss: 0.5644 - acc: 0.7205 - val_loss: 0.5295 - val_acc: 0.7625\n",
      "Epoch 5/100\n",
      "38/38 [==============================] - 0s 4ms/step - loss: 0.5130 - acc: 0.7506 - val_loss: 0.4978 - val_acc: 0.7492\n",
      "Epoch 6/100\n",
      "30/38 [======================>.......] - ETA: 0s - loss: 0.4734 - acc: 0.7823INFO:tensorflow:Assets written to: models\\conv.model\\assets\n",
      "38/38 [==============================] - 1s 21ms/step - loss: 0.4709 - acc: 0.7791 - val_loss: 0.4297 - val_acc: 0.7993\n",
      "Epoch 7/100\n",
      "33/38 [=========================>....] - ETA: 0s - loss: 0.4433 - acc: 0.7850INFO:tensorflow:Assets written to: models\\conv.model\\assets\n",
      "38/38 [==============================] - 1s 19ms/step - loss: 0.4393 - acc: 0.7883 - val_loss: 0.3718 - val_acc: 0.8562\n",
      "Epoch 8/100\n",
      "38/38 [==============================] - 0s 5ms/step - loss: 0.4063 - acc: 0.8159 - val_loss: 0.4040 - val_acc: 0.7960\n",
      "Epoch 9/100\n",
      "38/38 [==============================] - 0s 4ms/step - loss: 0.3898 - acc: 0.8268 - val_loss: 0.3440 - val_acc: 0.8428\n",
      "Epoch 10/100\n",
      "38/38 [==============================] - 0s 4ms/step - loss: 0.3746 - acc: 0.8377 - val_loss: 0.3251 - val_acc: 0.8462\n",
      "Epoch 11/100\n",
      "28/38 [=====================>........] - ETA: 0s - loss: 0.3381 - acc: 0.8549INFO:tensorflow:Assets written to: models\\conv.model\\assets\n",
      "38/38 [==============================] - 1s 20ms/step - loss: 0.3358 - acc: 0.8569 - val_loss: 0.3130 - val_acc: 0.8662\n",
      "Epoch 12/100\n",
      "29/38 [=====================>........] - ETA: 0s - loss: 0.3012 - acc: 0.8750INFO:tensorflow:Assets written to: models\\conv.model\\assets\n",
      "38/38 [==============================] - 1s 24ms/step - loss: 0.3187 - acc: 0.8586 - val_loss: 0.2890 - val_acc: 0.8696\n",
      "Epoch 13/100\n",
      "38/38 [==============================] - 0s 5ms/step - loss: 0.3186 - acc: 0.8628 - val_loss: 0.3191 - val_acc: 0.8562\n",
      "Epoch 14/100\n",
      "32/38 [========================>.....] - ETA: 0s - loss: 0.3159 - acc: 0.8662INFO:tensorflow:Assets written to: models\\conv.model\\assets\n",
      "38/38 [==============================] - 1s 19ms/step - loss: 0.3092 - acc: 0.8695 - val_loss: 0.2568 - val_acc: 0.8963\n",
      "Epoch 15/100\n",
      "32/38 [========================>.....] - ETA: 0s - loss: 0.2583 - acc: 0.8936INFO:tensorflow:Assets written to: models\\conv.model\\assets\n",
      "38/38 [==============================] - 1s 19ms/step - loss: 0.2668 - acc: 0.8912 - val_loss: 0.2483 - val_acc: 0.8997\n",
      "Epoch 16/100\n",
      "38/38 [==============================] - 0s 4ms/step - loss: 0.2424 - acc: 0.9130 - val_loss: 0.3108 - val_acc: 0.8796\n",
      "Epoch 17/100\n",
      "38/38 [==============================] - 0s 4ms/step - loss: 0.2748 - acc: 0.8753 - val_loss: 0.2797 - val_acc: 0.8863\n",
      "Epoch 18/100\n",
      "31/38 [=======================>......] - ETA: 0s - loss: 0.2375 - acc: 0.8962INFO:tensorflow:Assets written to: models\\conv.model\\assets\n",
      "38/38 [==============================] - 1s 20ms/step - loss: 0.2498 - acc: 0.8912 - val_loss: 0.2498 - val_acc: 0.9064\n",
      "Epoch 19/100\n",
      "38/38 [==============================] - 0s 5ms/step - loss: 0.2314 - acc: 0.9029 - val_loss: 0.2508 - val_acc: 0.9030\n",
      "Epoch 20/100\n",
      "38/38 [==============================] - 0s 4ms/step - loss: 0.2339 - acc: 0.8971 - val_loss: 0.2548 - val_acc: 0.8930\n",
      "Epoch 21/100\n",
      "28/38 [=====================>........] - ETA: 0s - loss: 0.2100 - acc: 0.9062INFO:tensorflow:Assets written to: models\\conv.model\\assets\n",
      "38/38 [==============================] - 1s 24ms/step - loss: 0.2054 - acc: 0.9105 - val_loss: 0.2118 - val_acc: 0.9331\n",
      "Epoch 22/100\n",
      "38/38 [==============================] - 0s 5ms/step - loss: 0.1931 - acc: 0.9230 - val_loss: 0.2103 - val_acc: 0.9097\n",
      "Epoch 23/100\n",
      "38/38 [==============================] - 0s 6ms/step - loss: 0.1950 - acc: 0.9138 - val_loss: 0.2458 - val_acc: 0.8963\n",
      "Epoch 24/100\n",
      "38/38 [==============================] - 0s 5ms/step - loss: 0.1726 - acc: 0.9289 - val_loss: 0.2500 - val_acc: 0.9097\n",
      "Epoch 25/100\n",
      "38/38 [==============================] - 0s 5ms/step - loss: 0.1602 - acc: 0.9406 - val_loss: 0.2409 - val_acc: 0.9264\n",
      "Epoch 26/100\n",
      "38/38 [==============================] - 0s 7ms/step - loss: 0.1656 - acc: 0.9314 - val_loss: 0.2450 - val_acc: 0.9064\n",
      "Epoch 27/100\n",
      "38/38 [==============================] - 0s 6ms/step - loss: 0.1415 - acc: 0.9464 - val_loss: 0.2062 - val_acc: 0.9097\n",
      "Epoch 28/100\n",
      "27/38 [====================>.........] - ETA: 0s - loss: 0.1412 - acc: 0.9433INFO:tensorflow:Assets written to: models\\conv.model\\assets\n",
      "38/38 [==============================] - 1s 21ms/step - loss: 0.1410 - acc: 0.9464 - val_loss: 0.1377 - val_acc: 0.9565\n",
      "Epoch 29/100\n",
      "38/38 [==============================] - 0s 5ms/step - loss: 0.1152 - acc: 0.9523 - val_loss: 0.2239 - val_acc: 0.9298\n",
      "Epoch 30/100\n",
      "38/38 [==============================] - 0s 5ms/step - loss: 0.1164 - acc: 0.9540 - val_loss: 0.1728 - val_acc: 0.9465\n",
      "Epoch 31/100\n",
      "38/38 [==============================] - 0s 5ms/step - loss: 0.1031 - acc: 0.9582 - val_loss: 0.1803 - val_acc: 0.9365\n",
      "Epoch 32/100\n",
      "38/38 [==============================] - 0s 5ms/step - loss: 0.1348 - acc: 0.9439 - val_loss: 0.1889 - val_acc: 0.9398\n",
      "Epoch 33/100\n",
      "38/38 [==============================] - 0s 5ms/step - loss: 0.1175 - acc: 0.9515 - val_loss: 0.2505 - val_acc: 0.9064\n",
      "Epoch 34/100\n",
      "38/38 [==============================] - 0s 5ms/step - loss: 0.1478 - acc: 0.9406 - val_loss: 0.1813 - val_acc: 0.9431\n",
      "Epoch 35/100\n",
      "38/38 [==============================] - 0s 5ms/step - loss: 0.0953 - acc: 0.9556 - val_loss: 0.2079 - val_acc: 0.9264\n",
      "Epoch 36/100\n",
      "38/38 [==============================] - 0s 4ms/step - loss: 0.1200 - acc: 0.9506 - val_loss: 0.2127 - val_acc: 0.9365\n",
      "Epoch 37/100\n",
      "38/38 [==============================] - 0s 4ms/step - loss: 0.0904 - acc: 0.9640 - val_loss: 0.1695 - val_acc: 0.9431\n",
      "Epoch 38/100\n",
      "38/38 [==============================] - 0s 4ms/step - loss: 0.0967 - acc: 0.9649 - val_loss: 0.1472 - val_acc: 0.9532\n",
      "Epoch 39/100\n",
      "38/38 [==============================] - 0s 4ms/step - loss: 0.0588 - acc: 0.9791 - val_loss: 0.1507 - val_acc: 0.9532\n",
      "Epoch 40/100\n",
      "38/38 [==============================] - 0s 4ms/step - loss: 0.0863 - acc: 0.9707 - val_loss: 0.1916 - val_acc: 0.9431\n",
      "Epoch 41/100\n",
      "32/38 [========================>.....] - ETA: 0s - loss: 0.1073 - acc: 0.9609INFO:tensorflow:Assets written to: models\\conv.model\\assets\n",
      "38/38 [==============================] - 1s 21ms/step - loss: 0.1091 - acc: 0.9590 - val_loss: 0.1663 - val_acc: 0.9599\n",
      "Epoch 42/100\n",
      "38/38 [==============================] - 0s 4ms/step - loss: 0.0717 - acc: 0.9766 - val_loss: 0.1553 - val_acc: 0.9465\n",
      "Epoch 43/100\n",
      "38/38 [==============================] - 0s 4ms/step - loss: 0.0562 - acc: 0.9782 - val_loss: 0.2475 - val_acc: 0.9231\n",
      "Epoch 44/100\n",
      "32/38 [========================>.....] - ETA: 0s - loss: 0.0914 - acc: 0.9639INFO:tensorflow:Assets written to: models\\conv.model\\assets\n",
      "38/38 [==============================] - 1s 20ms/step - loss: 0.0887 - acc: 0.9665 - val_loss: 0.1290 - val_acc: 0.9632\n",
      "Epoch 45/100\n",
      "38/38 [==============================] - 0s 4ms/step - loss: 0.0458 - acc: 0.9799 - val_loss: 0.1814 - val_acc: 0.9498\n",
      "Epoch 46/100\n",
      "38/38 [==============================] - 0s 4ms/step - loss: 0.0453 - acc: 0.9858 - val_loss: 0.1816 - val_acc: 0.9498\n",
      "Epoch 47/100\n",
      "38/38 [==============================] - 0s 4ms/step - loss: 0.1123 - acc: 0.9531 - val_loss: 0.1865 - val_acc: 0.9498\n",
      "Epoch 48/100\n",
      "38/38 [==============================] - 0s 4ms/step - loss: 0.0792 - acc: 0.9715 - val_loss: 0.1895 - val_acc: 0.9398\n",
      "Epoch 49/100\n",
      "38/38 [==============================] - 0s 4ms/step - loss: 0.0613 - acc: 0.9799 - val_loss: 0.1812 - val_acc: 0.9599\n",
      "Epoch 50/100\n",
      "38/38 [==============================] - 0s 4ms/step - loss: 0.0489 - acc: 0.9799 - val_loss: 0.2103 - val_acc: 0.9498\n",
      "Epoch 51/100\n",
      "38/38 [==============================] - 0s 5ms/step - loss: 0.0470 - acc: 0.9808 - val_loss: 0.1691 - val_acc: 0.9532\n",
      "Epoch 52/100\n",
      "38/38 [==============================] - 0s 5ms/step - loss: 0.0740 - acc: 0.9766 - val_loss: 0.1526 - val_acc: 0.9532\n",
      "Epoch 53/100\n",
      "38/38 [==============================] - 0s 5ms/step - loss: 0.0442 - acc: 0.9849 - val_loss: 0.1644 - val_acc: 0.9599\n",
      "Epoch 54/100\n",
      "38/38 [==============================] - 0s 4ms/step - loss: 0.0274 - acc: 0.9900 - val_loss: 0.1987 - val_acc: 0.9532\n",
      "Epoch 55/100\n",
      "38/38 [==============================] - 0s 4ms/step - loss: 0.0695 - acc: 0.9749 - val_loss: 0.1879 - val_acc: 0.9532\n",
      "Epoch 56/100\n",
      "38/38 [==============================] - 0s 4ms/step - loss: 0.0719 - acc: 0.9732 - val_loss: 0.1610 - val_acc: 0.9565\n",
      "Epoch 57/100\n",
      "38/38 [==============================] - 0s 4ms/step - loss: 0.0438 - acc: 0.9858 - val_loss: 0.1799 - val_acc: 0.9599\n",
      "Epoch 58/100\n",
      "38/38 [==============================] - 0s 5ms/step - loss: 0.0721 - acc: 0.9808 - val_loss: 0.1860 - val_acc: 0.9532\n",
      "Epoch 59/100\n",
      "38/38 [==============================] - 0s 5ms/step - loss: 0.0329 - acc: 0.9858 - val_loss: 0.2124 - val_acc: 0.9498\n",
      "Epoch 60/100\n",
      "38/38 [==============================] - 0s 4ms/step - loss: 0.0387 - acc: 0.9891 - val_loss: 0.1756 - val_acc: 0.9599\n",
      "Epoch 61/100\n",
      "38/38 [==============================] - 0s 4ms/step - loss: 0.0392 - acc: 0.9849 - val_loss: 0.1967 - val_acc: 0.9599\n",
      "Epoch 62/100\n",
      "34/38 [=========================>....] - ETA: 0s - loss: 0.0560 - acc: 0.9761INFO:tensorflow:Assets written to: models\\conv.model\\assets\n",
      "38/38 [==============================] - 1s 24ms/step - loss: 0.0554 - acc: 0.9766 - val_loss: 0.1600 - val_acc: 0.9732\n",
      "Epoch 63/100\n",
      "38/38 [==============================] - 0s 4ms/step - loss: 0.0422 - acc: 0.9816 - val_loss: 0.1499 - val_acc: 0.9732\n",
      "Epoch 64/100\n",
      "38/38 [==============================] - 0s 4ms/step - loss: 0.0385 - acc: 0.9866 - val_loss: 0.2287 - val_acc: 0.9398\n"
     ]
    },
    {
     "data": {
      "text/plain": [
       "<keras.callbacks.History at 0x224824efb70>"
      ]
     },
     "execution_count": 14,
     "metadata": {},
     "output_type": "execute_result"
    }
   ],
   "source": [
    "# Train model\n",
    "\n",
    "model.fit(X, y, \n",
    "          epochs=100, \n",
    "          batch_size=32,\n",
    "          shuffle=True,\n",
    "          validation_split=0.2,\n",
    "          class_weight=class_weights,\n",
    "          callbacks=callbacks_list)"
   ]
  },
  {
   "cell_type": "code",
   "execution_count": 16,
   "id": "d6d5885e",
   "metadata": {},
   "outputs": [
    {
     "data": {
      "image/png": "[encoded data removed]",
      "text/plain": [
       "<Figure size 432x288 with 2 Axes>"
      ]
     },
     "metadata": {
      "needs_background": "light"
     },
     "output_type": "display_data"
    }
   ],
   "source": [
    "# Plot curves\n",
    "\n",
    "records = pd.read_csv('plots/{}.csv'.format(model_name))\n",
    "plt.figure()\n",
    "\n",
    "plt.subplot(211)\n",
    "plt.plot(records['loss'],label=\"training\")\n",
    "plt.plot(records['val_loss'], label=\"validation\")\n",
    "plt.yticks([0.00,0.50,1.00,1.50])\n",
    "plt.title('Loss value',fontsize=12)\n",
    "\n",
    "ax = plt.gca()\n",
    "ax.set_xticklabels([])\n",
    "\n",
    "plt.subplot(212)\n",
    "plt.plot(records['acc'],label=\"training\")\n",
    "plt.plot(records['val_acc'],label=\"validation\")\n",
    "plt.yticks([0.5,0.6,0.7,0.8])\n",
    "plt.title('Accuracy',fontsize=12)\n",
    "ax.legend()\n",
    "plt.show()"
   ]
  },
  {
   "cell_type": "markdown",
   "id": "5c4526f5",
   "metadata": {},
   "source": [
    "# Save model"
   ]
  },
  {
   "cell_type": "code",
   "execution_count": 15,
   "id": "aa06373e",
   "metadata": {},
   "outputs": [
    {
     "name": "stdout",
     "output_type": "stream",
     "text": [
      "INFO:tensorflow:Assets written to: models\\conv.model\\assets\n"
     ]
    }
   ],
   "source": [
    "model.save(config.model_path)"
   ]
  }
 ],
 "metadata": {
  "kernelspec": {
   "display_name": "Python 3 (ipykernel)",
   "language": "python",
   "name": "python3"
  },
  "language_info": {
   "codemirror_mode": {
    "name": "ipython",
    "version": 3
   },
   "file_extension": ".py",
   "mimetype": "text/x-python",
   "name": "python",
   "nbconvert_exporter": "python",
   "pygments_lexer": "ipython3",
   "version": "3.7.0"
  }
 },
 "nbformat": 4,
 "nbformat_minor": 5
}
